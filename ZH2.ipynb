{
    "metadata": {
        "kernelspec": {
            "name": "SQL",
            "display_name": "SQL",
            "language": "sql"
        },
        "language_info": {
            "name": "sql",
            "version": ""
        }
    },
    "nbformat_minor": 2,
    "nbformat": 4,
    "cells": [
        {
            "cell_type": "markdown",
            "source": [
                "1."
            ],
            "metadata": {
                "azdata_cell_guid": "98cf9eb0-d3e7-46d9-a9f6-e76d51939292"
            },
            "attachments": {}
        },
        {
            "cell_type": "code",
            "source": [
                ""
            ],
            "metadata": {
                "azdata_cell_guid": "8df05709-ee8f-4aad-aae5-21cc325eb982",
                "language": "sql"
            },
            "outputs": [],
            "execution_count": null
        },
        {
            "cell_type": "markdown",
            "source": [
                "2."
            ],
            "metadata": {
                "azdata_cell_guid": "460daf84-6458-4ffa-b9f8-9010624a5135"
            },
            "attachments": {}
        },
        {
            "cell_type": "code",
            "source": [
                ""
            ],
            "metadata": {
                "azdata_cell_guid": "a8454c94-4d94-43e9-8036-9921fe752bc6",
                "language": "sql"
            },
            "outputs": [],
            "execution_count": null
        },
        {
            "cell_type": "markdown",
            "source": [
                "3."
            ],
            "metadata": {
                "azdata_cell_guid": "0a75bb5d-05fd-49f8-9112-69d31e9c4248"
            },
            "attachments": {}
        },
        {
            "cell_type": "code",
            "source": [
                ""
            ],
            "metadata": {
                "azdata_cell_guid": "646e967c-3b2c-4782-b850-4344b3c265dc",
                "language": "sql"
            },
            "outputs": [],
            "execution_count": null
        }
    ]
}