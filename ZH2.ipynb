{
    "metadata": {
        "kernelspec": {
            "name": "SQL",
            "display_name": "SQL",
            "language": "sql"
        },
        "language_info": {
            "name": "sql",
            "version": ""
        }
    },
    "nbformat_minor": 2,
    "nbformat": 4,
    "cells": [
        {
            "cell_type": "markdown",
            "source": [
                "1. Készítsen lekérdezést, amely megjeleníti, hogy szobánként (SZOBA\\_FK) hány olyan foglalás történt, ahol a felnőttek száma nagyobb volt a gyermekek számánál!\n",
                "    \n",
                "    a. A lekérdezés jelenítse meg a végösszeget is megfelelően jelölve!"
            ],
            "metadata": {
                "azdata_cell_guid": "98cf9eb0-d3e7-46d9-a9f6-e76d51939292"
            },
            "attachments": {}
        },
        {
            "cell_type": "code",
            "source": [
                "SELECT\r\n",
                "    IIF(SZOBA_FK IS NULL, 'Végösszeg', CAST(SZOBA_FK AS nvarchar(9))) AS 'Szobaszám',\r\n",
                "    COUNT(*) AS 'Foglalások száma (ahol több a felnőtt mint gyerek)'\r\n",
                "FROM Foglalas\r\n",
                "WHERE FELNOTT_SZAM > GYERMEK_SZAM\r\n",
                "GROUP BY ROLLUP(SZOBA_FK)"
            ],
            "metadata": {
                "azdata_cell_guid": "8df05709-ee8f-4aad-aae5-21cc325eb982",
                "language": "sql"
            },
            "outputs": [],
            "execution_count": null
        },
        {
            "cell_type": "markdown",
            "source": [
                "2. Rangsoroljuk az egyes szobákat a foglalások száma, azon belül férőhely szerint!\n",
                "    \n",
                "    - Holtverseny esetén a sorszámok sűrűn kövessék egymást\n",
                "    - Az 1-es számot a legtöbbet foglalt, azon belül legkevesebb férőhelyű szoba kapja\n",
                "    - Csak a szoba azonosítója, a férőhely és a helyezés jelenjen meg"
            ],
            "metadata": {
                "azdata_cell_guid": "460daf84-6458-4ffa-b9f8-9010624a5135"
            },
            "attachments": {}
        },
        {
            "cell_type": "code",
            "source": [
                "SELECT\r\n",
                "    f.SZOBA_FK AS 'Szoba azonosítója',\r\n",
                "    sz.FEROHELY AS 'Férőhely',\r\n",
                "    DENSE_RANK() OVER (ORDER BY COUNT(f.FOGLALAS_PK) DESC, sz.FEROHELY ASC) AS 'Helyezés'\r\n",
                "FROM Szoba sz JOIN Foglalas f ON f.SZOBA_FK = sz.SZOBA_ID\r\n",
                "GROUP BY f.SZOBA_FK, sz.FEROHELY"
            ],
            "metadata": {
                "azdata_cell_guid": "a8454c94-4d94-43e9-8036-9921fe752bc6",
                "language": "sql"
            },
            "outputs": [],
            "execution_count": null
        },
        {
            "cell_type": "markdown",
            "source": [
                "3.  Jelenítsük meg, hogy az egyes szálláshelyeken összesen hány foglalás történt!\n",
                "    \n",
                "    a. Csak a szálláshely neve és a foglalásszám jelenjen meg\n",
                "    \n",
                "    b. A listát szűrjük azon szálláshelyekre, ahol több foglalás történt, mint a Fortuna panzióban!"
            ],
            "metadata": {
                "azdata_cell_guid": "0a75bb5d-05fd-49f8-9112-69d31e9c4248"
            },
            "attachments": {}
        },
        {
            "cell_type": "code",
            "source": [
                "SELECT\n",
                "    szh.SZALLAS_NEV AS 'Szálláshely neve',\n",
                "    COUNT(f.FOGLALAS_PK) AS 'Foglalásszám'\n",
                "FROM Szallashely szh JOIN Szoba sz ON szh.SZALLAS_ID=sz.SZALLAS_FK\n",
                "                     JOIN Foglalas f ON sz.SZOBA_ID=f.SZOBA_FK\n",
                "HAVING COUNT(f.FOGLALAS_PK) >\n",
                "    (SELECT\n",
                "        COUNT(*)\n",
                "    FROM Szallashely szh2 JOIN Szoba sz2 ON szh2.SZALLAS_ID=sz2.SZALLAS_FK\n",
                "                          JOIN Foglalas f2 ON sz2.SZOBA_ID=f2.SZOBA_FK\n",
                "    WHERE szh2.SZALLAS_NEV LIKE '%Fortuna%'\n",
                "    GROUP BY szh2.SZALLAS_NEV)\n",
                "GROUP BY szh.SZALLAS_NEV"
            ],
            "metadata": {
                "azdata_cell_guid": "646e967c-3b2c-4782-b850-4344b3c265dc",
                "language": "sql"
            },
            "outputs": [
                {
                    "output_type": "error",
                    "ename": "",
                    "evalue": "Msg 156, Level 15, State 1, Line 13\r\nIncorrect syntax near the keyword 'GROUP'.",
                    "traceback": []
                },
                {
                    "output_type": "display_data",
                    "data": {
                        "text/html": "Total execution time: 00:00:00.001"
                    },
                    "metadata": {}
                }
            ],
            "execution_count": 4
        }
    ]
}