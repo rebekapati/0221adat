{
    "metadata": {
        "kernelspec": {
            "name": "SQL",
            "display_name": "SQL",
            "language": "sql"
        },
        "language_info": {
            "name": "sql",
            "version": ""
        }
    },
    "nbformat_minor": 2,
    "nbformat": 4,
    "cells": [
        {
            "cell_type": "markdown",
            "source": [
                "1. Készítsen lekérdezést, amely megjeleníti, hogy szobánként (SZOBA\\_FK) hány olyan foglalás történt, ahol a felnőttek száma nagyobb volt a gyermekek számánál!\n",
                "    \n",
                "    a. A lekérdezés jelenítse meg a végösszeget is megfelelően jelölve!"
            ],
            "metadata": {
                "azdata_cell_guid": "98cf9eb0-d3e7-46d9-a9f6-e76d51939292"
            },
            "attachments": {}
        },
        {
            "cell_type": "code",
            "source": [
                "SELECT\r\n",
                "    IIF(SZOBA_FK IS NULL, 'Végösszeg', CAST(SZOBA_FK AS nvarchar(9))) AS 'Szobaszam',\r\n",
                "    COUNT(*) AS 'Foglalások száma (több felnőtt mint gyerek)'\r\n",
                "FROM Foglalas\r\n",
                "WHERE FELNOTT_SZAM > GYERMEK_SZAM\r\n",
                "GROUP BY ROLLUP(SZOBA_FK)"
            ],
            "metadata": {
                "azdata_cell_guid": "8df05709-ee8f-4aad-aae5-21cc325eb982",
                "language": "sql"
            },
            "outputs": [
                {
                    "output_type": "display_data",
                    "data": {
                        "text/html": "(190 rows affected)"
                    },
                    "metadata": {}
                },
                {
                    "output_type": "display_data",
                    "data": {
                        "text/html": "Total execution time: 00:00:00.006"
                    },
                    "metadata": {}
                },
                {
                    "output_type": "execute_result",
                    "metadata": {},
                    "execution_count": 1,
                    "data": {
                        "application/vnd.dataresource+json": {
                            "schema": {
                                "fields": [
                                    {
                                        "name": "Szobaszam"
                                    },
                                    {
                                        "name": "Foglalások száma ahol több a felnőtt mint gyerek"
                                    }
                                ]
                            },
                            "data": [
                                {
                                    "Szobaszam": "1",
                                    "Foglalások száma ahol több a felnőtt mint gyerek": "7"
                                },
                                {
                                    "Szobaszam": "2",
                                    "Foglalások száma ahol több a felnőtt mint gyerek": "2"
                                },
                                {
                                    "Szobaszam": "3",
                                    "Foglalások száma ahol több a felnőtt mint gyerek": "3"
                                },
                                {
                                    "Szobaszam": "4",
                                    "Foglalások száma ahol több a felnőtt mint gyerek": "5"
                                },
                                {
                                    "Szobaszam": "5",
                                    "Foglalások száma ahol több a felnőtt mint gyerek": "2"
                                },
                                {
                                    "Szobaszam": "6",
                                    "Foglalások száma ahol több a felnőtt mint gyerek": "5"
                                },
                                {
                                    "Szobaszam": "7",
                                    "Foglalások száma ahol több a felnőtt mint gyerek": "6"
                                },
                                {
                                    "Szobaszam": "8",
                                    "Foglalások száma ahol több a felnőtt mint gyerek": "5"
                                },
                                {
                                    "Szobaszam": "9",
                                    "Foglalások száma ahol több a felnőtt mint gyerek": "4"
                                },
                                {
                                    "Szobaszam": "10",
                                    "Foglalások száma ahol több a felnőtt mint gyerek": "4"
                                },
                                {
                                    "Szobaszam": "11",
                                    "Foglalások száma ahol több a felnőtt mint gyerek": "4"
                                },
                                {
                                    "Szobaszam": "12",
                                    "Foglalások száma ahol több a felnőtt mint gyerek": "7"
                                },
                                {
                                    "Szobaszam": "13",
                                    "Foglalások száma ahol több a felnőtt mint gyerek": "4"
                                },
                                {
                                    "Szobaszam": "14",
                                    "Foglalások száma ahol több a felnőtt mint gyerek": "3"
                                },
                                {
                                    "Szobaszam": "15",
                                    "Foglalások száma ahol több a felnőtt mint gyerek": "4"
                                },
                                {
                                    "Szobaszam": "16",
                                    "Foglalások száma ahol több a felnőtt mint gyerek": "1"
                                },
                                {
                                    "Szobaszam": "17",
                                    "Foglalások száma ahol több a felnőtt mint gyerek": "2"
                                },
                                {
                                    "Szobaszam": "18",
                                    "Foglalások száma ahol több a felnőtt mint gyerek": "3"
                                },
                                {
                                    "Szobaszam": "19",
                                    "Foglalások száma ahol több a felnőtt mint gyerek": "4"
                                },
                                {
                                    "Szobaszam": "20",
                                    "Foglalások száma ahol több a felnőtt mint gyerek": "5"
                                },
                                {
                                    "Szobaszam": "21",
                                    "Foglalások száma ahol több a felnőtt mint gyerek": "1"
                                },
                                {
                                    "Szobaszam": "22",
                                    "Foglalások száma ahol több a felnőtt mint gyerek": "2"
                                },
                                {
                                    "Szobaszam": "23",
                                    "Foglalások száma ahol több a felnőtt mint gyerek": "3"
                                },
                                {
                                    "Szobaszam": "24",
                                    "Foglalások száma ahol több a felnőtt mint gyerek": "3"
                                },
                                {
                                    "Szobaszam": "25",
                                    "Foglalások száma ahol több a felnőtt mint gyerek": "1"
                                },
                                {
                                    "Szobaszam": "27",
                                    "Foglalások száma ahol több a felnőtt mint gyerek": "5"
                                },
                                {
                                    "Szobaszam": "28",
                                    "Foglalások száma ahol több a felnőtt mint gyerek": "5"
                                },
                                {
                                    "Szobaszam": "29",
                                    "Foglalások száma ahol több a felnőtt mint gyerek": "3"
                                },
                                {
                                    "Szobaszam": "30",
                                    "Foglalások száma ahol több a felnőtt mint gyerek": "2"
                                },
                                {
                                    "Szobaszam": "31",
                                    "Foglalások száma ahol több a felnőtt mint gyerek": "1"
                                },
                                {
                                    "Szobaszam": "32",
                                    "Foglalások száma ahol több a felnőtt mint gyerek": "1"
                                },
                                {
                                    "Szobaszam": "33",
                                    "Foglalások száma ahol több a felnőtt mint gyerek": "3"
                                },
                                {
                                    "Szobaszam": "34",
                                    "Foglalások száma ahol több a felnőtt mint gyerek": "3"
                                },
                                {
                                    "Szobaszam": "35",
                                    "Foglalások száma ahol több a felnőtt mint gyerek": "6"
                                },
                                {
                                    "Szobaszam": "36",
                                    "Foglalások száma ahol több a felnőtt mint gyerek": "4"
                                },
                                {
                                    "Szobaszam": "37",
                                    "Foglalások száma ahol több a felnőtt mint gyerek": "2"
                                },
                                {
                                    "Szobaszam": "38",
                                    "Foglalások száma ahol több a felnőtt mint gyerek": "5"
                                },
                                {
                                    "Szobaszam": "39",
                                    "Foglalások száma ahol több a felnőtt mint gyerek": "4"
                                },
                                {
                                    "Szobaszam": "40",
                                    "Foglalások száma ahol több a felnőtt mint gyerek": "3"
                                },
                                {
                                    "Szobaszam": "41",
                                    "Foglalások száma ahol több a felnőtt mint gyerek": "1"
                                },
                                {
                                    "Szobaszam": "42",
                                    "Foglalások száma ahol több a felnőtt mint gyerek": "5"
                                },
                                {
                                    "Szobaszam": "43",
                                    "Foglalások száma ahol több a felnőtt mint gyerek": "4"
                                },
                                {
                                    "Szobaszam": "44",
                                    "Foglalások száma ahol több a felnőtt mint gyerek": "6"
                                },
                                {
                                    "Szobaszam": "45",
                                    "Foglalások száma ahol több a felnőtt mint gyerek": "4"
                                },
                                {
                                    "Szobaszam": "46",
                                    "Foglalások száma ahol több a felnőtt mint gyerek": "3"
                                },
                                {
                                    "Szobaszam": "47",
                                    "Foglalások száma ahol több a felnőtt mint gyerek": "2"
                                },
                                {
                                    "Szobaszam": "48",
                                    "Foglalások száma ahol több a felnőtt mint gyerek": "6"
                                },
                                {
                                    "Szobaszam": "49",
                                    "Foglalások száma ahol több a felnőtt mint gyerek": "5"
                                },
                                {
                                    "Szobaszam": "50",
                                    "Foglalások száma ahol több a felnőtt mint gyerek": "3"
                                },
                                {
                                    "Szobaszam": "51",
                                    "Foglalások száma ahol több a felnőtt mint gyerek": "3"
                                },
                                {
                                    "Szobaszam": "52",
                                    "Foglalások száma ahol több a felnőtt mint gyerek": "5"
                                },
                                {
                                    "Szobaszam": "54",
                                    "Foglalások száma ahol több a felnőtt mint gyerek": "4"
                                },
                                {
                                    "Szobaszam": "55",
                                    "Foglalások száma ahol több a felnőtt mint gyerek": "3"
                                },
                                {
                                    "Szobaszam": "56",
                                    "Foglalások száma ahol több a felnőtt mint gyerek": "1"
                                },
                                {
                                    "Szobaszam": "57",
                                    "Foglalások száma ahol több a felnőtt mint gyerek": "3"
                                },
                                {
                                    "Szobaszam": "58",
                                    "Foglalások száma ahol több a felnőtt mint gyerek": "8"
                                },
                                {
                                    "Szobaszam": "59",
                                    "Foglalások száma ahol több a felnőtt mint gyerek": "4"
                                },
                                {
                                    "Szobaszam": "60",
                                    "Foglalások száma ahol több a felnőtt mint gyerek": "1"
                                },
                                {
                                    "Szobaszam": "61",
                                    "Foglalások száma ahol több a felnőtt mint gyerek": "4"
                                },
                                {
                                    "Szobaszam": "62",
                                    "Foglalások száma ahol több a felnőtt mint gyerek": "3"
                                },
                                {
                                    "Szobaszam": "63",
                                    "Foglalások száma ahol több a felnőtt mint gyerek": "3"
                                },
                                {
                                    "Szobaszam": "64",
                                    "Foglalások száma ahol több a felnőtt mint gyerek": "5"
                                },
                                {
                                    "Szobaszam": "66",
                                    "Foglalások száma ahol több a felnőtt mint gyerek": "3"
                                },
                                {
                                    "Szobaszam": "67",
                                    "Foglalások száma ahol több a felnőtt mint gyerek": "2"
                                },
                                {
                                    "Szobaszam": "69",
                                    "Foglalások száma ahol több a felnőtt mint gyerek": "2"
                                },
                                {
                                    "Szobaszam": "70",
                                    "Foglalások száma ahol több a felnőtt mint gyerek": "8"
                                },
                                {
                                    "Szobaszam": "71",
                                    "Foglalások száma ahol több a felnőtt mint gyerek": "2"
                                },
                                {
                                    "Szobaszam": "72",
                                    "Foglalások száma ahol több a felnőtt mint gyerek": "2"
                                },
                                {
                                    "Szobaszam": "73",
                                    "Foglalások száma ahol több a felnőtt mint gyerek": "4"
                                },
                                {
                                    "Szobaszam": "74",
                                    "Foglalások száma ahol több a felnőtt mint gyerek": "8"
                                },
                                {
                                    "Szobaszam": "75",
                                    "Foglalások száma ahol több a felnőtt mint gyerek": "2"
                                },
                                {
                                    "Szobaszam": "76",
                                    "Foglalások száma ahol több a felnőtt mint gyerek": "2"
                                },
                                {
                                    "Szobaszam": "77",
                                    "Foglalások száma ahol több a felnőtt mint gyerek": "3"
                                },
                                {
                                    "Szobaszam": "78",
                                    "Foglalások száma ahol több a felnőtt mint gyerek": "3"
                                },
                                {
                                    "Szobaszam": "79",
                                    "Foglalások száma ahol több a felnőtt mint gyerek": "4"
                                },
                                {
                                    "Szobaszam": "80",
                                    "Foglalások száma ahol több a felnőtt mint gyerek": "5"
                                },
                                {
                                    "Szobaszam": "81",
                                    "Foglalások száma ahol több a felnőtt mint gyerek": "3"
                                },
                                {
                                    "Szobaszam": "82",
                                    "Foglalások száma ahol több a felnőtt mint gyerek": "5"
                                },
                                {
                                    "Szobaszam": "83",
                                    "Foglalások száma ahol több a felnőtt mint gyerek": "5"
                                },
                                {
                                    "Szobaszam": "84",
                                    "Foglalások száma ahol több a felnőtt mint gyerek": "3"
                                },
                                {
                                    "Szobaszam": "85",
                                    "Foglalások száma ahol több a felnőtt mint gyerek": "2"
                                },
                                {
                                    "Szobaszam": "86",
                                    "Foglalások száma ahol több a felnőtt mint gyerek": "4"
                                },
                                {
                                    "Szobaszam": "87",
                                    "Foglalások száma ahol több a felnőtt mint gyerek": "5"
                                },
                                {
                                    "Szobaszam": "88",
                                    "Foglalások száma ahol több a felnőtt mint gyerek": "5"
                                },
                                {
                                    "Szobaszam": "89",
                                    "Foglalások száma ahol több a felnőtt mint gyerek": "8"
                                },
                                {
                                    "Szobaszam": "90",
                                    "Foglalások száma ahol több a felnőtt mint gyerek": "3"
                                },
                                {
                                    "Szobaszam": "91",
                                    "Foglalások száma ahol több a felnőtt mint gyerek": "2"
                                },
                                {
                                    "Szobaszam": "92",
                                    "Foglalások száma ahol több a felnőtt mint gyerek": "5"
                                },
                                {
                                    "Szobaszam": "93",
                                    "Foglalások száma ahol több a felnőtt mint gyerek": "3"
                                },
                                {
                                    "Szobaszam": "94",
                                    "Foglalások száma ahol több a felnőtt mint gyerek": "6"
                                },
                                {
                                    "Szobaszam": "95",
                                    "Foglalások száma ahol több a felnőtt mint gyerek": "3"
                                },
                                {
                                    "Szobaszam": "96",
                                    "Foglalások száma ahol több a felnőtt mint gyerek": "6"
                                },
                                {
                                    "Szobaszam": "97",
                                    "Foglalások száma ahol több a felnőtt mint gyerek": "5"
                                },
                                {
                                    "Szobaszam": "98",
                                    "Foglalások száma ahol több a felnőtt mint gyerek": "4"
                                },
                                {
                                    "Szobaszam": "99",
                                    "Foglalások száma ahol több a felnőtt mint gyerek": "4"
                                },
                                {
                                    "Szobaszam": "100",
                                    "Foglalások száma ahol több a felnőtt mint gyerek": "2"
                                },
                                {
                                    "Szobaszam": "101",
                                    "Foglalások száma ahol több a felnőtt mint gyerek": "1"
                                },
                                {
                                    "Szobaszam": "102",
                                    "Foglalások száma ahol több a felnőtt mint gyerek": "1"
                                },
                                {
                                    "Szobaszam": "103",
                                    "Foglalások száma ahol több a felnőtt mint gyerek": "1"
                                },
                                {
                                    "Szobaszam": "104",
                                    "Foglalások száma ahol több a felnőtt mint gyerek": "3"
                                },
                                {
                                    "Szobaszam": "106",
                                    "Foglalások száma ahol több a felnőtt mint gyerek": "4"
                                },
                                {
                                    "Szobaszam": "107",
                                    "Foglalások száma ahol több a felnőtt mint gyerek": "4"
                                },
                                {
                                    "Szobaszam": "108",
                                    "Foglalások száma ahol több a felnőtt mint gyerek": "1"
                                },
                                {
                                    "Szobaszam": "109",
                                    "Foglalások száma ahol több a felnőtt mint gyerek": "2"
                                },
                                {
                                    "Szobaszam": "110",
                                    "Foglalások száma ahol több a felnőtt mint gyerek": "5"
                                },
                                {
                                    "Szobaszam": "111",
                                    "Foglalások száma ahol több a felnőtt mint gyerek": "1"
                                },
                                {
                                    "Szobaszam": "112",
                                    "Foglalások száma ahol több a felnőtt mint gyerek": "4"
                                },
                                {
                                    "Szobaszam": "113",
                                    "Foglalások száma ahol több a felnőtt mint gyerek": "2"
                                },
                                {
                                    "Szobaszam": "114",
                                    "Foglalások száma ahol több a felnőtt mint gyerek": "1"
                                },
                                {
                                    "Szobaszam": "115",
                                    "Foglalások száma ahol több a felnőtt mint gyerek": "5"
                                },
                                {
                                    "Szobaszam": "117",
                                    "Foglalások száma ahol több a felnőtt mint gyerek": "4"
                                },
                                {
                                    "Szobaszam": "118",
                                    "Foglalások száma ahol több a felnőtt mint gyerek": "2"
                                },
                                {
                                    "Szobaszam": "119",
                                    "Foglalások száma ahol több a felnőtt mint gyerek": "4"
                                },
                                {
                                    "Szobaszam": "120",
                                    "Foglalások száma ahol több a felnőtt mint gyerek": "2"
                                },
                                {
                                    "Szobaszam": "121",
                                    "Foglalások száma ahol több a felnőtt mint gyerek": "5"
                                },
                                {
                                    "Szobaszam": "122",
                                    "Foglalások száma ahol több a felnőtt mint gyerek": "3"
                                },
                                {
                                    "Szobaszam": "123",
                                    "Foglalások száma ahol több a felnőtt mint gyerek": "5"
                                },
                                {
                                    "Szobaszam": "124",
                                    "Foglalások száma ahol több a felnőtt mint gyerek": "4"
                                },
                                {
                                    "Szobaszam": "126",
                                    "Foglalások száma ahol több a felnőtt mint gyerek": "4"
                                },
                                {
                                    "Szobaszam": "127",
                                    "Foglalások száma ahol több a felnőtt mint gyerek": "5"
                                },
                                {
                                    "Szobaszam": "129",
                                    "Foglalások száma ahol több a felnőtt mint gyerek": "3"
                                },
                                {
                                    "Szobaszam": "130",
                                    "Foglalások száma ahol több a felnőtt mint gyerek": "5"
                                },
                                {
                                    "Szobaszam": "131",
                                    "Foglalások száma ahol több a felnőtt mint gyerek": "4"
                                },
                                {
                                    "Szobaszam": "132",
                                    "Foglalások száma ahol több a felnőtt mint gyerek": "4"
                                },
                                {
                                    "Szobaszam": "133",
                                    "Foglalások száma ahol több a felnőtt mint gyerek": "4"
                                },
                                {
                                    "Szobaszam": "134",
                                    "Foglalások száma ahol több a felnőtt mint gyerek": "4"
                                },
                                {
                                    "Szobaszam": "135",
                                    "Foglalások száma ahol több a felnőtt mint gyerek": "3"
                                },
                                {
                                    "Szobaszam": "136",
                                    "Foglalások száma ahol több a felnőtt mint gyerek": "2"
                                },
                                {
                                    "Szobaszam": "137",
                                    "Foglalások száma ahol több a felnőtt mint gyerek": "2"
                                },
                                {
                                    "Szobaszam": "138",
                                    "Foglalások száma ahol több a felnőtt mint gyerek": "5"
                                },
                                {
                                    "Szobaszam": "139",
                                    "Foglalások száma ahol több a felnőtt mint gyerek": "6"
                                },
                                {
                                    "Szobaszam": "140",
                                    "Foglalások száma ahol több a felnőtt mint gyerek": "5"
                                },
                                {
                                    "Szobaszam": "141",
                                    "Foglalások száma ahol több a felnőtt mint gyerek": "4"
                                },
                                {
                                    "Szobaszam": "142",
                                    "Foglalások száma ahol több a felnőtt mint gyerek": "1"
                                },
                                {
                                    "Szobaszam": "143",
                                    "Foglalások száma ahol több a felnőtt mint gyerek": "5"
                                },
                                {
                                    "Szobaszam": "144",
                                    "Foglalások száma ahol több a felnőtt mint gyerek": "2"
                                },
                                {
                                    "Szobaszam": "145",
                                    "Foglalások száma ahol több a felnőtt mint gyerek": "2"
                                },
                                {
                                    "Szobaszam": "146",
                                    "Foglalások száma ahol több a felnőtt mint gyerek": "3"
                                },
                                {
                                    "Szobaszam": "147",
                                    "Foglalások száma ahol több a felnőtt mint gyerek": "1"
                                },
                                {
                                    "Szobaszam": "148",
                                    "Foglalások száma ahol több a felnőtt mint gyerek": "5"
                                },
                                {
                                    "Szobaszam": "149",
                                    "Foglalások száma ahol több a felnőtt mint gyerek": "5"
                                },
                                {
                                    "Szobaszam": "150",
                                    "Foglalások száma ahol több a felnőtt mint gyerek": "6"
                                },
                                {
                                    "Szobaszam": "151",
                                    "Foglalások száma ahol több a felnőtt mint gyerek": "2"
                                },
                                {
                                    "Szobaszam": "152",
                                    "Foglalások száma ahol több a felnőtt mint gyerek": "3"
                                },
                                {
                                    "Szobaszam": "153",
                                    "Foglalások száma ahol több a felnőtt mint gyerek": "4"
                                },
                                {
                                    "Szobaszam": "154",
                                    "Foglalások száma ahol több a felnőtt mint gyerek": "3"
                                },
                                {
                                    "Szobaszam": "155",
                                    "Foglalások száma ahol több a felnőtt mint gyerek": "3"
                                },
                                {
                                    "Szobaszam": "156",
                                    "Foglalások száma ahol több a felnőtt mint gyerek": "2"
                                },
                                {
                                    "Szobaszam": "157",
                                    "Foglalások száma ahol több a felnőtt mint gyerek": "2"
                                },
                                {
                                    "Szobaszam": "158",
                                    "Foglalások száma ahol több a felnőtt mint gyerek": "3"
                                },
                                {
                                    "Szobaszam": "160",
                                    "Foglalások száma ahol több a felnőtt mint gyerek": "2"
                                },
                                {
                                    "Szobaszam": "161",
                                    "Foglalások száma ahol több a felnőtt mint gyerek": "3"
                                },
                                {
                                    "Szobaszam": "162",
                                    "Foglalások száma ahol több a felnőtt mint gyerek": "2"
                                },
                                {
                                    "Szobaszam": "163",
                                    "Foglalások száma ahol több a felnőtt mint gyerek": "5"
                                },
                                {
                                    "Szobaszam": "164",
                                    "Foglalások száma ahol több a felnőtt mint gyerek": "4"
                                },
                                {
                                    "Szobaszam": "165",
                                    "Foglalások száma ahol több a felnőtt mint gyerek": "5"
                                },
                                {
                                    "Szobaszam": "166",
                                    "Foglalások száma ahol több a felnőtt mint gyerek": "3"
                                },
                                {
                                    "Szobaszam": "167",
                                    "Foglalások száma ahol több a felnőtt mint gyerek": "2"
                                },
                                {
                                    "Szobaszam": "168",
                                    "Foglalások száma ahol több a felnőtt mint gyerek": "1"
                                },
                                {
                                    "Szobaszam": "169",
                                    "Foglalások száma ahol több a felnőtt mint gyerek": "3"
                                },
                                {
                                    "Szobaszam": "170",
                                    "Foglalások száma ahol több a felnőtt mint gyerek": "3"
                                },
                                {
                                    "Szobaszam": "171",
                                    "Foglalások száma ahol több a felnőtt mint gyerek": "5"
                                },
                                {
                                    "Szobaszam": "172",
                                    "Foglalások száma ahol több a felnőtt mint gyerek": "6"
                                },
                                {
                                    "Szobaszam": "173",
                                    "Foglalások száma ahol több a felnőtt mint gyerek": "3"
                                },
                                {
                                    "Szobaszam": "174",
                                    "Foglalások száma ahol több a felnőtt mint gyerek": "4"
                                },
                                {
                                    "Szobaszam": "175",
                                    "Foglalások száma ahol több a felnőtt mint gyerek": "3"
                                },
                                {
                                    "Szobaszam": "176",
                                    "Foglalások száma ahol több a felnőtt mint gyerek": "2"
                                },
                                {
                                    "Szobaszam": "177",
                                    "Foglalások száma ahol több a felnőtt mint gyerek": "1"
                                },
                                {
                                    "Szobaszam": "178",
                                    "Foglalások száma ahol több a felnőtt mint gyerek": "1"
                                },
                                {
                                    "Szobaszam": "179",
                                    "Foglalások száma ahol több a felnőtt mint gyerek": "2"
                                },
                                {
                                    "Szobaszam": "180",
                                    "Foglalások száma ahol több a felnőtt mint gyerek": "1"
                                },
                                {
                                    "Szobaszam": "181",
                                    "Foglalások száma ahol több a felnőtt mint gyerek": "5"
                                },
                                {
                                    "Szobaszam": "182",
                                    "Foglalások száma ahol több a felnőtt mint gyerek": "11"
                                },
                                {
                                    "Szobaszam": "183",
                                    "Foglalások száma ahol több a felnőtt mint gyerek": "3"
                                },
                                {
                                    "Szobaszam": "184",
                                    "Foglalások száma ahol több a felnőtt mint gyerek": "4"
                                },
                                {
                                    "Szobaszam": "185",
                                    "Foglalások száma ahol több a felnőtt mint gyerek": "10"
                                },
                                {
                                    "Szobaszam": "186",
                                    "Foglalások száma ahol több a felnőtt mint gyerek": "1"
                                },
                                {
                                    "Szobaszam": "187",
                                    "Foglalások száma ahol több a felnőtt mint gyerek": "6"
                                },
                                {
                                    "Szobaszam": "188",
                                    "Foglalások száma ahol több a felnőtt mint gyerek": "2"
                                },
                                {
                                    "Szobaszam": "189",
                                    "Foglalások száma ahol több a felnőtt mint gyerek": "1"
                                },
                                {
                                    "Szobaszam": "190",
                                    "Foglalások száma ahol több a felnőtt mint gyerek": "5"
                                },
                                {
                                    "Szobaszam": "191",
                                    "Foglalások száma ahol több a felnőtt mint gyerek": "3"
                                },
                                {
                                    "Szobaszam": "192",
                                    "Foglalások száma ahol több a felnőtt mint gyerek": "1"
                                },
                                {
                                    "Szobaszam": "193",
                                    "Foglalások száma ahol több a felnőtt mint gyerek": "2"
                                },
                                {
                                    "Szobaszam": "194",
                                    "Foglalások száma ahol több a felnőtt mint gyerek": "1"
                                },
                                {
                                    "Szobaszam": "195",
                                    "Foglalások száma ahol több a felnőtt mint gyerek": "5"
                                },
                                {
                                    "Szobaszam": "196",
                                    "Foglalások száma ahol több a felnőtt mint gyerek": "2"
                                },
                                {
                                    "Szobaszam": "197",
                                    "Foglalások száma ahol több a felnőtt mint gyerek": "6"
                                },
                                {
                                    "Szobaszam": "198",
                                    "Foglalások száma ahol több a felnőtt mint gyerek": "7"
                                },
                                {
                                    "Szobaszam": "Végösszeg",
                                    "Foglalások száma ahol több a felnőtt mint gyerek": "668"
                                }
                            ]
                        },
                        "text/html": [
                            "<table>",
                            "<tr><th>Szobaszam</th><th>Foglalások száma ahol több a felnőtt mint gyerek</th></tr>",
                            "<tr><td>1</td><td>7</td></tr>",
                            "<tr><td>2</td><td>2</td></tr>",
                            "<tr><td>3</td><td>3</td></tr>",
                            "<tr><td>4</td><td>5</td></tr>",
                            "<tr><td>5</td><td>2</td></tr>",
                            "<tr><td>6</td><td>5</td></tr>",
                            "<tr><td>7</td><td>6</td></tr>",
                            "<tr><td>8</td><td>5</td></tr>",
                            "<tr><td>9</td><td>4</td></tr>",
                            "<tr><td>10</td><td>4</td></tr>",
                            "<tr><td>11</td><td>4</td></tr>",
                            "<tr><td>12</td><td>7</td></tr>",
                            "<tr><td>13</td><td>4</td></tr>",
                            "<tr><td>14</td><td>3</td></tr>",
                            "<tr><td>15</td><td>4</td></tr>",
                            "<tr><td>16</td><td>1</td></tr>",
                            "<tr><td>17</td><td>2</td></tr>",
                            "<tr><td>18</td><td>3</td></tr>",
                            "<tr><td>19</td><td>4</td></tr>",
                            "<tr><td>20</td><td>5</td></tr>",
                            "<tr><td>21</td><td>1</td></tr>",
                            "<tr><td>22</td><td>2</td></tr>",
                            "<tr><td>23</td><td>3</td></tr>",
                            "<tr><td>24</td><td>3</td></tr>",
                            "<tr><td>25</td><td>1</td></tr>",
                            "<tr><td>27</td><td>5</td></tr>",
                            "<tr><td>28</td><td>5</td></tr>",
                            "<tr><td>29</td><td>3</td></tr>",
                            "<tr><td>30</td><td>2</td></tr>",
                            "<tr><td>31</td><td>1</td></tr>",
                            "<tr><td>32</td><td>1</td></tr>",
                            "<tr><td>33</td><td>3</td></tr>",
                            "<tr><td>34</td><td>3</td></tr>",
                            "<tr><td>35</td><td>6</td></tr>",
                            "<tr><td>36</td><td>4</td></tr>",
                            "<tr><td>37</td><td>2</td></tr>",
                            "<tr><td>38</td><td>5</td></tr>",
                            "<tr><td>39</td><td>4</td></tr>",
                            "<tr><td>40</td><td>3</td></tr>",
                            "<tr><td>41</td><td>1</td></tr>",
                            "<tr><td>42</td><td>5</td></tr>",
                            "<tr><td>43</td><td>4</td></tr>",
                            "<tr><td>44</td><td>6</td></tr>",
                            "<tr><td>45</td><td>4</td></tr>",
                            "<tr><td>46</td><td>3</td></tr>",
                            "<tr><td>47</td><td>2</td></tr>",
                            "<tr><td>48</td><td>6</td></tr>",
                            "<tr><td>49</td><td>5</td></tr>",
                            "<tr><td>50</td><td>3</td></tr>",
                            "<tr><td>51</td><td>3</td></tr>",
                            "<tr><td>52</td><td>5</td></tr>",
                            "<tr><td>54</td><td>4</td></tr>",
                            "<tr><td>55</td><td>3</td></tr>",
                            "<tr><td>56</td><td>1</td></tr>",
                            "<tr><td>57</td><td>3</td></tr>",
                            "<tr><td>58</td><td>8</td></tr>",
                            "<tr><td>59</td><td>4</td></tr>",
                            "<tr><td>60</td><td>1</td></tr>",
                            "<tr><td>61</td><td>4</td></tr>",
                            "<tr><td>62</td><td>3</td></tr>",
                            "<tr><td>63</td><td>3</td></tr>",
                            "<tr><td>64</td><td>5</td></tr>",
                            "<tr><td>66</td><td>3</td></tr>",
                            "<tr><td>67</td><td>2</td></tr>",
                            "<tr><td>69</td><td>2</td></tr>",
                            "<tr><td>70</td><td>8</td></tr>",
                            "<tr><td>71</td><td>2</td></tr>",
                            "<tr><td>72</td><td>2</td></tr>",
                            "<tr><td>73</td><td>4</td></tr>",
                            "<tr><td>74</td><td>8</td></tr>",
                            "<tr><td>75</td><td>2</td></tr>",
                            "<tr><td>76</td><td>2</td></tr>",
                            "<tr><td>77</td><td>3</td></tr>",
                            "<tr><td>78</td><td>3</td></tr>",
                            "<tr><td>79</td><td>4</td></tr>",
                            "<tr><td>80</td><td>5</td></tr>",
                            "<tr><td>81</td><td>3</td></tr>",
                            "<tr><td>82</td><td>5</td></tr>",
                            "<tr><td>83</td><td>5</td></tr>",
                            "<tr><td>84</td><td>3</td></tr>",
                            "<tr><td>85</td><td>2</td></tr>",
                            "<tr><td>86</td><td>4</td></tr>",
                            "<tr><td>87</td><td>5</td></tr>",
                            "<tr><td>88</td><td>5</td></tr>",
                            "<tr><td>89</td><td>8</td></tr>",
                            "<tr><td>90</td><td>3</td></tr>",
                            "<tr><td>91</td><td>2</td></tr>",
                            "<tr><td>92</td><td>5</td></tr>",
                            "<tr><td>93</td><td>3</td></tr>",
                            "<tr><td>94</td><td>6</td></tr>",
                            "<tr><td>95</td><td>3</td></tr>",
                            "<tr><td>96</td><td>6</td></tr>",
                            "<tr><td>97</td><td>5</td></tr>",
                            "<tr><td>98</td><td>4</td></tr>",
                            "<tr><td>99</td><td>4</td></tr>",
                            "<tr><td>100</td><td>2</td></tr>",
                            "<tr><td>101</td><td>1</td></tr>",
                            "<tr><td>102</td><td>1</td></tr>",
                            "<tr><td>103</td><td>1</td></tr>",
                            "<tr><td>104</td><td>3</td></tr>",
                            "<tr><td>106</td><td>4</td></tr>",
                            "<tr><td>107</td><td>4</td></tr>",
                            "<tr><td>108</td><td>1</td></tr>",
                            "<tr><td>109</td><td>2</td></tr>",
                            "<tr><td>110</td><td>5</td></tr>",
                            "<tr><td>111</td><td>1</td></tr>",
                            "<tr><td>112</td><td>4</td></tr>",
                            "<tr><td>113</td><td>2</td></tr>",
                            "<tr><td>114</td><td>1</td></tr>",
                            "<tr><td>115</td><td>5</td></tr>",
                            "<tr><td>117</td><td>4</td></tr>",
                            "<tr><td>118</td><td>2</td></tr>",
                            "<tr><td>119</td><td>4</td></tr>",
                            "<tr><td>120</td><td>2</td></tr>",
                            "<tr><td>121</td><td>5</td></tr>",
                            "<tr><td>122</td><td>3</td></tr>",
                            "<tr><td>123</td><td>5</td></tr>",
                            "<tr><td>124</td><td>4</td></tr>",
                            "<tr><td>126</td><td>4</td></tr>",
                            "<tr><td>127</td><td>5</td></tr>",
                            "<tr><td>129</td><td>3</td></tr>",
                            "<tr><td>130</td><td>5</td></tr>",
                            "<tr><td>131</td><td>4</td></tr>",
                            "<tr><td>132</td><td>4</td></tr>",
                            "<tr><td>133</td><td>4</td></tr>",
                            "<tr><td>134</td><td>4</td></tr>",
                            "<tr><td>135</td><td>3</td></tr>",
                            "<tr><td>136</td><td>2</td></tr>",
                            "<tr><td>137</td><td>2</td></tr>",
                            "<tr><td>138</td><td>5</td></tr>",
                            "<tr><td>139</td><td>6</td></tr>",
                            "<tr><td>140</td><td>5</td></tr>",
                            "<tr><td>141</td><td>4</td></tr>",
                            "<tr><td>142</td><td>1</td></tr>",
                            "<tr><td>143</td><td>5</td></tr>",
                            "<tr><td>144</td><td>2</td></tr>",
                            "<tr><td>145</td><td>2</td></tr>",
                            "<tr><td>146</td><td>3</td></tr>",
                            "<tr><td>147</td><td>1</td></tr>",
                            "<tr><td>148</td><td>5</td></tr>",
                            "<tr><td>149</td><td>5</td></tr>",
                            "<tr><td>150</td><td>6</td></tr>",
                            "<tr><td>151</td><td>2</td></tr>",
                            "<tr><td>152</td><td>3</td></tr>",
                            "<tr><td>153</td><td>4</td></tr>",
                            "<tr><td>154</td><td>3</td></tr>",
                            "<tr><td>155</td><td>3</td></tr>",
                            "<tr><td>156</td><td>2</td></tr>",
                            "<tr><td>157</td><td>2</td></tr>",
                            "<tr><td>158</td><td>3</td></tr>",
                            "<tr><td>160</td><td>2</td></tr>",
                            "<tr><td>161</td><td>3</td></tr>",
                            "<tr><td>162</td><td>2</td></tr>",
                            "<tr><td>163</td><td>5</td></tr>",
                            "<tr><td>164</td><td>4</td></tr>",
                            "<tr><td>165</td><td>5</td></tr>",
                            "<tr><td>166</td><td>3</td></tr>",
                            "<tr><td>167</td><td>2</td></tr>",
                            "<tr><td>168</td><td>1</td></tr>",
                            "<tr><td>169</td><td>3</td></tr>",
                            "<tr><td>170</td><td>3</td></tr>",
                            "<tr><td>171</td><td>5</td></tr>",
                            "<tr><td>172</td><td>6</td></tr>",
                            "<tr><td>173</td><td>3</td></tr>",
                            "<tr><td>174</td><td>4</td></tr>",
                            "<tr><td>175</td><td>3</td></tr>",
                            "<tr><td>176</td><td>2</td></tr>",
                            "<tr><td>177</td><td>1</td></tr>",
                            "<tr><td>178</td><td>1</td></tr>",
                            "<tr><td>179</td><td>2</td></tr>",
                            "<tr><td>180</td><td>1</td></tr>",
                            "<tr><td>181</td><td>5</td></tr>",
                            "<tr><td>182</td><td>11</td></tr>",
                            "<tr><td>183</td><td>3</td></tr>",
                            "<tr><td>184</td><td>4</td></tr>",
                            "<tr><td>185</td><td>10</td></tr>",
                            "<tr><td>186</td><td>1</td></tr>",
                            "<tr><td>187</td><td>6</td></tr>",
                            "<tr><td>188</td><td>2</td></tr>",
                            "<tr><td>189</td><td>1</td></tr>",
                            "<tr><td>190</td><td>5</td></tr>",
                            "<tr><td>191</td><td>3</td></tr>",
                            "<tr><td>192</td><td>1</td></tr>",
                            "<tr><td>193</td><td>2</td></tr>",
                            "<tr><td>194</td><td>1</td></tr>",
                            "<tr><td>195</td><td>5</td></tr>",
                            "<tr><td>196</td><td>2</td></tr>",
                            "<tr><td>197</td><td>6</td></tr>",
                            "<tr><td>198</td><td>7</td></tr>",
                            "<tr><td>Végösszeg</td><td>668</td></tr>",
                            "</table>"
                        ]
                    }
                }
            ],
            "execution_count": 1
        },
        {
            "cell_type": "markdown",
            "source": [
                "2."
            ],
            "metadata": {
                "azdata_cell_guid": "460daf84-6458-4ffa-b9f8-9010624a5135"
            },
            "attachments": {}
        },
        {
            "cell_type": "code",
            "source": [
                ""
            ],
            "metadata": {
                "azdata_cell_guid": "a8454c94-4d94-43e9-8036-9921fe752bc6",
                "language": "sql"
            },
            "outputs": [],
            "execution_count": null
        },
        {
            "cell_type": "markdown",
            "source": [
                "3."
            ],
            "metadata": {
                "azdata_cell_guid": "0a75bb5d-05fd-49f8-9112-69d31e9c4248"
            },
            "attachments": {}
        },
        {
            "cell_type": "code",
            "source": [
                ""
            ],
            "metadata": {
                "azdata_cell_guid": "646e967c-3b2c-4782-b850-4344b3c265dc",
                "language": "sql"
            },
            "outputs": [],
            "execution_count": null
        }
    ]
}