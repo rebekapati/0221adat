{
    "metadata": {
        "kernelspec": {
            "name": "SQL",
            "display_name": "SQL",
            "language": "sql"
        },
        "language_info": {
            "name": "sql",
            "version": ""
        }
    },
    "nbformat_minor": 2,
    "nbformat": 4,
    "cells": [
        {
            "cell_type": "markdown",
            "source": [
                "1. Készítsen lekérdezést, amely megjeleníti, hogy szobánként (SZOBA\\_FK) hány olyan foglalás történt, ahol a felnőttek száma nagyobb volt a gyermekek számánál!\n",
                "    \n",
                "    a. A lekérdezés jelenítse meg a végösszeget is megfelelően jelölve!"
            ],
            "metadata": {
                "azdata_cell_guid": "98cf9eb0-d3e7-46d9-a9f6-e76d51939292"
            },
            "attachments": {}
        },
        {
            "cell_type": "code",
            "source": [
                "SELECT\r\n",
                "    IIF(SZOBA_FK IS NULL, 'Végösszeg', CAST(SZOBA_FK AS nvarchar(9))) AS 'Szobaszám',\r\n",
                "    COUNT(*) AS 'Foglalások száma (ahol több a felnőtt mint gyerek)'\r\n",
                "FROM Foglalas\r\n",
                "WHERE FELNOTT_SZAM > GYERMEK_SZAM\r\n",
                "GROUP BY ROLLUP(SZOBA_FK)"
            ],
            "metadata": {
                "azdata_cell_guid": "8df05709-ee8f-4aad-aae5-21cc325eb982",
                "language": "sql"
            },
            "outputs": [],
            "execution_count": null
        },
        {
            "cell_type": "markdown",
            "source": [
                "2. Rangsoroljuk az egyes szobákat a foglalások száma, azon belül férőhely szerint!\n",
                "    \n",
                "    - Holtverseny esetén a sorszámok sűrűn kövessék egymást\n",
                "    - Az 1-es számot a legtöbbet foglalt, azon belül legkevesebb férőhelyű szoba kapja\n",
                "    - Csak a szoba azonosítója, a férőhely és a helyezés jelenjen meg"
            ],
            "metadata": {
                "azdata_cell_guid": "460daf84-6458-4ffa-b9f8-9010624a5135"
            },
            "attachments": {}
        },
        {
            "cell_type": "code",
            "source": [
                "SELECT\r\n",
                "    f.SZOBA_FK AS 'Szoba azonosítója',\r\n",
                "    sz.FEROHELY AS 'Férőhely',\r\n",
                "    DENSE_RANK() OVER (ORDER BY COUNT(f.FOGLALAS_PK) DESC, sz.FEROHELY ASC) AS 'Helyezés'\r\n",
                "FROM Szoba sz JOIN Foglalas f ON f.SZOBA_FK = sz.SZOBA_ID\r\n",
                "GROUP BY f.SZOBA_FK, sz.FEROHELY"
            ],
            "metadata": {
                "azdata_cell_guid": "a8454c94-4d94-43e9-8036-9921fe752bc6",
                "language": "sql"
            },
            "outputs": [
                {
                    "output_type": "display_data",
                    "data": {
                        "text/html": "(197 rows affected)"
                    },
                    "metadata": {}
                },
                {
                    "output_type": "display_data",
                    "data": {
                        "text/html": "Total execution time: 00:00:00.013"
                    },
                    "metadata": {}
                },
                {
                    "output_type": "execute_result",
                    "metadata": {},
                    "execution_count": 12,
                    "data": {
                        "application/vnd.dataresource+json": {
                            "schema": {
                                "fields": [
                                    {
                                        "name": "Szoba azonosítója"
                                    },
                                    {
                                        "name": "Férőhely"
                                    },
                                    {
                                        "name": "Helyezés"
                                    }
                                ]
                            },
                            "data": [
                                {
                                    "Szoba azonosítója": "58",
                                    "Férőhely": "2",
                                    "Helyezés": "1"
                                },
                                {
                                    "Szoba azonosítója": "182",
                                    "Férőhely": "2",
                                    "Helyezés": "2"
                                },
                                {
                                    "Szoba azonosítója": "185",
                                    "Férőhely": "3",
                                    "Helyezés": "3"
                                },
                                {
                                    "Szoba azonosítója": "70",
                                    "Férőhely": "2",
                                    "Helyezés": "4"
                                },
                                {
                                    "Szoba azonosítója": "94",
                                    "Férőhely": "2",
                                    "Helyezés": "5"
                                },
                                {
                                    "Szoba azonosítója": "12",
                                    "Férőhely": "2",
                                    "Helyezés": "6"
                                },
                                {
                                    "Szoba azonosítója": "172",
                                    "Férőhely": "2",
                                    "Helyezés": "6"
                                },
                                {
                                    "Szoba azonosítója": "35",
                                    "Férőhely": "3",
                                    "Helyezés": "7"
                                },
                                {
                                    "Szoba azonosítója": "48",
                                    "Férőhely": "3",
                                    "Helyezés": "7"
                                },
                                {
                                    "Szoba azonosítója": "74",
                                    "Férőhely": "3",
                                    "Helyezés": "7"
                                },
                                {
                                    "Szoba azonosítója": "122",
                                    "Férőhely": "3",
                                    "Helyezés": "7"
                                },
                                {
                                    "Szoba azonosítója": "121",
                                    "Férőhely": "2",
                                    "Helyezés": "8"
                                },
                                {
                                    "Szoba azonosítója": "140",
                                    "Férőhely": "2",
                                    "Helyezés": "8"
                                },
                                {
                                    "Szoba azonosítója": "110",
                                    "Férőhely": "2",
                                    "Helyezés": "8"
                                },
                                {
                                    "Szoba azonosítója": "55",
                                    "Férőhely": "2",
                                    "Helyezés": "8"
                                },
                                {
                                    "Szoba azonosítója": "38",
                                    "Férőhely": "2",
                                    "Helyezés": "8"
                                },
                                {
                                    "Szoba azonosítója": "1",
                                    "Férőhely": "3",
                                    "Helyezés": "9"
                                },
                                {
                                    "Szoba azonosítója": "3",
                                    "Férőhely": "3",
                                    "Helyezés": "9"
                                },
                                {
                                    "Szoba azonosítója": "43",
                                    "Férőhely": "3",
                                    "Helyezés": "9"
                                },
                                {
                                    "Szoba azonosítója": "83",
                                    "Férőhely": "3",
                                    "Helyezés": "9"
                                },
                                {
                                    "Szoba azonosítója": "88",
                                    "Férőhely": "3",
                                    "Helyezés": "9"
                                },
                                {
                                    "Szoba azonosítója": "89",
                                    "Férőhely": "3",
                                    "Helyezés": "9"
                                },
                                {
                                    "Szoba azonosítója": "117",
                                    "Férőhely": "3",
                                    "Helyezés": "9"
                                },
                                {
                                    "Szoba azonosítója": "198",
                                    "Férőhely": "3",
                                    "Helyezés": "9"
                                },
                                {
                                    "Szoba azonosítója": "149",
                                    "Férőhely": "2",
                                    "Helyezés": "10"
                                },
                                {
                                    "Szoba azonosítója": "156",
                                    "Férőhely": "2",
                                    "Helyezés": "10"
                                },
                                {
                                    "Szoba azonosítója": "163",
                                    "Férőhely": "2",
                                    "Helyezés": "10"
                                },
                                {
                                    "Szoba azonosítója": "165",
                                    "Férőhely": "2",
                                    "Helyezés": "10"
                                },
                                {
                                    "Szoba azonosítója": "118",
                                    "Férőhely": "2",
                                    "Helyezés": "10"
                                },
                                {
                                    "Szoba azonosítója": "109",
                                    "Férőhely": "2",
                                    "Helyezés": "10"
                                },
                                {
                                    "Szoba azonosítója": "127",
                                    "Férőhely": "2",
                                    "Helyezés": "10"
                                },
                                {
                                    "Szoba azonosítója": "139",
                                    "Férőhely": "2",
                                    "Helyezés": "10"
                                },
                                {
                                    "Szoba azonosítója": "80",
                                    "Férőhely": "2",
                                    "Helyezés": "10"
                                },
                                {
                                    "Szoba azonosítója": "59",
                                    "Férőhely": "2",
                                    "Helyezés": "10"
                                },
                                {
                                    "Szoba azonosítója": "39",
                                    "Férőhely": "2",
                                    "Helyezés": "10"
                                },
                                {
                                    "Szoba azonosítója": "27",
                                    "Férőhely": "3",
                                    "Helyezés": "11"
                                },
                                {
                                    "Szoba azonosítója": "49",
                                    "Férőhely": "3",
                                    "Helyezés": "11"
                                },
                                {
                                    "Szoba azonosítója": "96",
                                    "Férőhely": "3",
                                    "Helyezés": "11"
                                },
                                {
                                    "Szoba azonosítója": "97",
                                    "Férőhely": "3",
                                    "Helyezés": "11"
                                },
                                {
                                    "Szoba azonosítója": "138",
                                    "Férőhely": "3",
                                    "Helyezés": "11"
                                },
                                {
                                    "Szoba azonosítója": "143",
                                    "Férőhely": "3",
                                    "Helyezés": "11"
                                },
                                {
                                    "Szoba azonosítója": "115",
                                    "Férőhely": "3",
                                    "Helyezés": "11"
                                },
                                {
                                    "Szoba azonosítója": "187",
                                    "Férőhely": "3",
                                    "Helyezés": "11"
                                },
                                {
                                    "Szoba azonosítója": "193",
                                    "Férőhely": "3",
                                    "Helyezés": "11"
                                },
                                {
                                    "Szoba azonosítója": "195",
                                    "Férőhely": "2",
                                    "Helyezés": "12"
                                },
                                {
                                    "Szoba azonosítója": "161",
                                    "Férőhely": "2",
                                    "Helyezés": "12"
                                },
                                {
                                    "Szoba azonosítója": "150",
                                    "Férőhely": "2",
                                    "Helyezés": "12"
                                },
                                {
                                    "Szoba azonosítója": "148",
                                    "Férőhely": "2",
                                    "Helyezés": "12"
                                },
                                {
                                    "Szoba azonosítója": "169",
                                    "Férőhely": "2",
                                    "Helyezés": "12"
                                },
                                {
                                    "Szoba azonosítója": "106",
                                    "Férőhely": "2",
                                    "Helyezés": "12"
                                },
                                {
                                    "Szoba azonosítója": "126",
                                    "Férőhely": "2",
                                    "Helyezés": "12"
                                },
                                {
                                    "Szoba azonosítója": "145",
                                    "Férőhely": "2",
                                    "Helyezés": "12"
                                },
                                {
                                    "Szoba azonosítója": "141",
                                    "Férőhely": "2",
                                    "Helyezés": "12"
                                },
                                {
                                    "Szoba azonosítója": "130",
                                    "Férőhely": "2",
                                    "Helyezés": "12"
                                },
                                {
                                    "Szoba azonosítója": "137",
                                    "Férőhely": "2",
                                    "Helyezés": "12"
                                },
                                {
                                    "Szoba azonosítója": "78",
                                    "Férőhely": "2",
                                    "Helyezés": "12"
                                },
                                {
                                    "Szoba azonosítója": "42",
                                    "Férőhely": "2",
                                    "Helyezés": "12"
                                },
                                {
                                    "Szoba azonosítója": "64",
                                    "Férőhely": "2",
                                    "Helyezés": "12"
                                },
                                {
                                    "Szoba azonosítója": "67",
                                    "Férőhely": "2",
                                    "Helyezés": "12"
                                },
                                {
                                    "Szoba azonosítója": "28",
                                    "Férőhely": "2",
                                    "Helyezés": "12"
                                },
                                {
                                    "Szoba azonosítója": "29",
                                    "Férőhely": "2",
                                    "Helyezés": "12"
                                },
                                {
                                    "Szoba azonosítója": "19",
                                    "Férőhely": "2",
                                    "Helyezés": "12"
                                },
                                {
                                    "Szoba azonosítója": "33",
                                    "Férőhely": "2",
                                    "Helyezés": "12"
                                },
                                {
                                    "Szoba azonosítója": "4",
                                    "Férőhely": "2",
                                    "Helyezés": "12"
                                },
                                {
                                    "Szoba azonosítója": "7",
                                    "Férőhely": "2",
                                    "Helyezés": "12"
                                },
                                {
                                    "Szoba azonosítója": "15",
                                    "Férőhely": "2",
                                    "Helyezés": "12"
                                },
                                {
                                    "Szoba azonosítója": "17",
                                    "Férőhely": "3",
                                    "Helyezés": "13"
                                },
                                {
                                    "Szoba azonosítója": "18",
                                    "Férőhely": "3",
                                    "Helyezés": "13"
                                },
                                {
                                    "Szoba azonosítója": "6",
                                    "Férőhely": "3",
                                    "Helyezés": "13"
                                },
                                {
                                    "Szoba azonosítója": "9",
                                    "Férőhely": "3",
                                    "Helyezés": "13"
                                },
                                {
                                    "Szoba azonosítója": "22",
                                    "Férőhely": "3",
                                    "Helyezés": "13"
                                },
                                {
                                    "Szoba azonosítója": "36",
                                    "Férőhely": "3",
                                    "Helyezés": "13"
                                },
                                {
                                    "Szoba azonosítója": "44",
                                    "Férőhely": "3",
                                    "Helyezés": "13"
                                },
                                {
                                    "Szoba azonosítója": "54",
                                    "Férőhely": "3",
                                    "Helyezés": "13"
                                },
                                {
                                    "Szoba azonosítója": "77",
                                    "Férőhely": "3",
                                    "Helyezés": "13"
                                },
                                {
                                    "Szoba azonosítója": "82",
                                    "Férőhely": "3",
                                    "Helyezés": "13"
                                },
                                {
                                    "Szoba azonosítója": "92",
                                    "Férőhely": "3",
                                    "Helyezés": "13"
                                },
                                {
                                    "Szoba azonosítója": "132",
                                    "Férőhely": "3",
                                    "Helyezés": "13"
                                },
                                {
                                    "Szoba azonosítója": "133",
                                    "Férőhely": "3",
                                    "Helyezés": "13"
                                },
                                {
                                    "Szoba azonosítója": "134",
                                    "Férőhely": "3",
                                    "Helyezés": "13"
                                },
                                {
                                    "Szoba azonosítója": "146",
                                    "Férőhely": "3",
                                    "Helyezés": "13"
                                },
                                {
                                    "Szoba azonosítója": "124",
                                    "Férőhely": "3",
                                    "Helyezés": "13"
                                },
                                {
                                    "Szoba azonosítója": "120",
                                    "Férőhely": "3",
                                    "Helyezés": "13"
                                },
                                {
                                    "Szoba azonosítója": "176",
                                    "Férőhely": "3",
                                    "Helyezés": "13"
                                },
                                {
                                    "Szoba azonosítója": "181",
                                    "Férőhely": "3",
                                    "Helyezés": "13"
                                },
                                {
                                    "Szoba azonosítója": "188",
                                    "Férőhely": "3",
                                    "Helyezés": "13"
                                },
                                {
                                    "Szoba azonosítója": "197",
                                    "Férőhely": "3",
                                    "Helyezés": "13"
                                },
                                {
                                    "Szoba azonosítója": "189",
                                    "Férőhely": "2",
                                    "Helyezés": "14"
                                },
                                {
                                    "Szoba azonosítója": "190",
                                    "Férőhely": "2",
                                    "Helyezés": "14"
                                },
                                {
                                    "Szoba azonosítója": "191",
                                    "Férőhely": "2",
                                    "Helyezés": "14"
                                },
                                {
                                    "Szoba azonosítója": "168",
                                    "Férőhely": "2",
                                    "Helyezés": "14"
                                },
                                {
                                    "Szoba azonosítója": "175",
                                    "Férőhely": "2",
                                    "Helyezés": "14"
                                },
                                {
                                    "Szoba azonosítója": "170",
                                    "Férőhely": "2",
                                    "Helyezés": "14"
                                },
                                {
                                    "Szoba azonosítója": "171",
                                    "Férőhely": "2",
                                    "Helyezés": "14"
                                },
                                {
                                    "Szoba azonosítója": "157",
                                    "Férőhely": "2",
                                    "Helyezés": "14"
                                },
                                {
                                    "Szoba azonosítója": "154",
                                    "Férőhely": "2",
                                    "Helyezés": "14"
                                },
                                {
                                    "Szoba azonosítója": "164",
                                    "Férőhely": "2",
                                    "Helyezés": "14"
                                },
                                {
                                    "Szoba azonosítója": "119",
                                    "Férőhely": "2",
                                    "Helyezés": "14"
                                },
                                {
                                    "Szoba azonosítója": "107",
                                    "Férőhely": "2",
                                    "Helyezés": "14"
                                },
                                {
                                    "Szoba azonosítója": "128",
                                    "Férőhely": "2",
                                    "Helyezés": "14"
                                },
                                {
                                    "Szoba azonosítója": "131",
                                    "Férőhely": "2",
                                    "Helyezés": "14"
                                },
                                {
                                    "Szoba azonosítója": "99",
                                    "Férőhely": "2",
                                    "Helyezés": "14"
                                },
                                {
                                    "Szoba azonosítója": "111",
                                    "Férőhely": "2",
                                    "Helyezés": "14"
                                },
                                {
                                    "Szoba azonosítója": "81",
                                    "Férőhely": "2",
                                    "Helyezés": "14"
                                },
                                {
                                    "Szoba azonosítója": "86",
                                    "Férőhely": "2",
                                    "Helyezés": "14"
                                },
                                {
                                    "Szoba azonosítója": "52",
                                    "Férőhely": "2",
                                    "Helyezés": "14"
                                },
                                {
                                    "Szoba azonosítója": "45",
                                    "Férőhely": "2",
                                    "Helyezés": "14"
                                },
                                {
                                    "Szoba azonosítója": "62",
                                    "Férőhely": "2",
                                    "Helyezés": "14"
                                },
                                {
                                    "Szoba azonosítója": "61",
                                    "Férőhely": "3",
                                    "Helyezés": "15"
                                },
                                {
                                    "Szoba azonosítója": "51",
                                    "Férőhely": "3",
                                    "Helyezés": "15"
                                },
                                {
                                    "Szoba azonosítója": "20",
                                    "Férőhely": "3",
                                    "Helyezés": "15"
                                },
                                {
                                    "Szoba azonosítója": "8",
                                    "Férőhely": "3",
                                    "Helyezés": "15"
                                },
                                {
                                    "Szoba azonosítója": "16",
                                    "Férőhely": "3",
                                    "Helyezés": "15"
                                },
                                {
                                    "Szoba azonosítója": "87",
                                    "Férőhely": "3",
                                    "Helyezés": "15"
                                },
                                {
                                    "Szoba azonosítója": "79",
                                    "Férőhely": "3",
                                    "Helyezés": "15"
                                },
                                {
                                    "Szoba azonosítója": "112",
                                    "Férőhely": "3",
                                    "Helyezés": "15"
                                },
                                {
                                    "Szoba azonosítója": "113",
                                    "Férőhely": "3",
                                    "Helyezés": "15"
                                },
                                {
                                    "Szoba azonosítója": "93",
                                    "Férőhely": "3",
                                    "Helyezés": "15"
                                },
                                {
                                    "Szoba azonosítója": "144",
                                    "Férőhely": "3",
                                    "Helyezés": "15"
                                },
                                {
                                    "Szoba azonosítója": "123",
                                    "Férőhely": "3",
                                    "Helyezés": "15"
                                },
                                {
                                    "Szoba azonosítója": "153",
                                    "Férőhely": "3",
                                    "Helyezés": "15"
                                },
                                {
                                    "Szoba azonosítója": "160",
                                    "Férőhely": "3",
                                    "Helyezés": "15"
                                },
                                {
                                    "Szoba azonosítója": "155",
                                    "Férőhely": "3",
                                    "Helyezés": "15"
                                },
                                {
                                    "Szoba azonosítója": "152",
                                    "Férőhely": "2",
                                    "Helyezés": "16"
                                },
                                {
                                    "Szoba azonosítója": "173",
                                    "Férőhely": "2",
                                    "Helyezés": "16"
                                },
                                {
                                    "Szoba azonosítója": "174",
                                    "Férőhely": "2",
                                    "Helyezés": "16"
                                },
                                {
                                    "Szoba azonosítója": "186",
                                    "Férőhely": "2",
                                    "Helyezés": "16"
                                },
                                {
                                    "Szoba azonosítója": "196",
                                    "Férőhely": "2",
                                    "Helyezés": "16"
                                },
                                {
                                    "Szoba azonosítója": "184",
                                    "Férőhely": "2",
                                    "Helyezés": "16"
                                },
                                {
                                    "Szoba azonosítója": "129",
                                    "Férőhely": "2",
                                    "Helyezés": "16"
                                },
                                {
                                    "Szoba azonosítója": "100",
                                    "Férőhely": "2",
                                    "Helyezés": "16"
                                },
                                {
                                    "Szoba azonosítója": "114",
                                    "Férőhely": "2",
                                    "Helyezés": "16"
                                },
                                {
                                    "Szoba azonosítója": "98",
                                    "Férőhely": "2",
                                    "Helyezés": "16"
                                },
                                {
                                    "Szoba azonosítója": "103",
                                    "Férőhely": "2",
                                    "Helyezés": "16"
                                },
                                {
                                    "Szoba azonosítója": "85",
                                    "Férőhely": "2",
                                    "Helyezés": "16"
                                },
                                {
                                    "Szoba azonosítója": "91",
                                    "Férőhely": "2",
                                    "Helyezés": "16"
                                },
                                {
                                    "Szoba azonosítója": "11",
                                    "Férőhely": "2",
                                    "Helyezés": "16"
                                },
                                {
                                    "Szoba azonosítója": "5",
                                    "Férőhely": "2",
                                    "Helyezés": "16"
                                },
                                {
                                    "Szoba azonosítója": "21",
                                    "Férőhely": "2",
                                    "Helyezés": "16"
                                },
                                {
                                    "Szoba azonosítója": "50",
                                    "Férőhely": "2",
                                    "Helyezés": "16"
                                },
                                {
                                    "Szoba azonosítója": "57",
                                    "Férőhely": "2",
                                    "Helyezés": "16"
                                },
                                {
                                    "Szoba azonosítója": "63",
                                    "Férőhely": "2",
                                    "Helyezés": "16"
                                },
                                {
                                    "Szoba azonosítója": "72",
                                    "Férőhely": "2",
                                    "Helyezés": "16"
                                },
                                {
                                    "Szoba azonosítója": "73",
                                    "Férőhely": "2",
                                    "Helyezés": "16"
                                },
                                {
                                    "Szoba azonosítója": "66",
                                    "Férőhely": "3",
                                    "Helyezés": "17"
                                },
                                {
                                    "Szoba azonosítója": "69",
                                    "Férőhely": "3",
                                    "Helyezés": "17"
                                },
                                {
                                    "Szoba azonosítója": "46",
                                    "Férőhely": "3",
                                    "Helyezés": "17"
                                },
                                {
                                    "Szoba azonosítója": "34",
                                    "Férőhely": "3",
                                    "Helyezés": "17"
                                },
                                {
                                    "Szoba azonosítója": "40",
                                    "Férőhely": "3",
                                    "Helyezés": "17"
                                },
                                {
                                    "Szoba azonosítója": "2",
                                    "Férőhely": "3",
                                    "Helyezés": "17"
                                },
                                {
                                    "Szoba azonosítója": "10",
                                    "Férőhely": "3",
                                    "Helyezés": "17"
                                },
                                {
                                    "Szoba azonosítója": "13",
                                    "Férőhely": "3",
                                    "Helyezés": "17"
                                },
                                {
                                    "Szoba azonosítója": "90",
                                    "Férőhely": "3",
                                    "Helyezés": "17"
                                },
                                {
                                    "Szoba azonosítója": "84",
                                    "Férőhely": "3",
                                    "Helyezés": "17"
                                },
                                {
                                    "Szoba azonosítója": "104",
                                    "Férőhely": "3",
                                    "Helyezés": "17"
                                },
                                {
                                    "Szoba azonosítója": "95",
                                    "Férőhely": "3",
                                    "Helyezés": "17"
                                },
                                {
                                    "Szoba azonosítója": "183",
                                    "Férőhely": "3",
                                    "Helyezés": "17"
                                },
                                {
                                    "Szoba azonosítója": "177",
                                    "Férőhely": "3",
                                    "Helyezés": "17"
                                },
                                {
                                    "Szoba azonosítója": "178",
                                    "Férőhely": "3",
                                    "Helyezés": "17"
                                },
                                {
                                    "Szoba azonosítója": "180",
                                    "Férőhely": "2",
                                    "Helyezés": "18"
                                },
                                {
                                    "Szoba azonosítója": "151",
                                    "Férőhely": "2",
                                    "Helyezés": "18"
                                },
                                {
                                    "Szoba azonosítója": "158",
                                    "Férőhely": "2",
                                    "Helyezés": "18"
                                },
                                {
                                    "Szoba azonosítója": "166",
                                    "Férőhely": "2",
                                    "Helyezés": "18"
                                },
                                {
                                    "Szoba azonosítója": "101",
                                    "Férőhely": "2",
                                    "Helyezés": "18"
                                },
                                {
                                    "Szoba azonosítója": "75",
                                    "Férőhely": "2",
                                    "Helyezés": "18"
                                },
                                {
                                    "Szoba azonosítója": "76",
                                    "Férőhely": "2",
                                    "Helyezés": "18"
                                },
                                {
                                    "Szoba azonosítója": "136",
                                    "Férőhely": "2",
                                    "Helyezés": "18"
                                },
                                {
                                    "Szoba azonosítója": "23",
                                    "Férőhely": "2",
                                    "Helyezés": "18"
                                },
                                {
                                    "Szoba azonosítója": "37",
                                    "Férőhely": "2",
                                    "Helyezés": "18"
                                },
                                {
                                    "Szoba azonosítója": "68",
                                    "Férőhely": "2",
                                    "Helyezés": "18"
                                },
                                {
                                    "Szoba azonosítója": "71",
                                    "Férőhely": "3",
                                    "Helyezés": "19"
                                },
                                {
                                    "Szoba azonosítója": "30",
                                    "Férőhely": "3",
                                    "Helyezés": "19"
                                },
                                {
                                    "Szoba azonosítója": "31",
                                    "Férőhely": "3",
                                    "Helyezés": "19"
                                },
                                {
                                    "Szoba azonosítója": "14",
                                    "Férőhely": "3",
                                    "Helyezés": "19"
                                },
                                {
                                    "Szoba azonosítója": "135",
                                    "Férőhely": "3",
                                    "Helyezés": "19"
                                },
                                {
                                    "Szoba azonosítója": "162",
                                    "Férőhely": "3",
                                    "Helyezés": "19"
                                },
                                {
                                    "Szoba azonosítója": "179",
                                    "Férőhely": "3",
                                    "Helyezés": "19"
                                },
                                {
                                    "Szoba azonosítója": "24",
                                    "Férőhely": "4",
                                    "Helyezés": "20"
                                },
                                {
                                    "Szoba azonosítója": "26",
                                    "Férőhely": "2",
                                    "Helyezés": "21"
                                },
                                {
                                    "Szoba azonosítója": "47",
                                    "Férőhely": "2",
                                    "Helyezés": "21"
                                },
                                {
                                    "Szoba azonosítója": "53",
                                    "Férőhely": "2",
                                    "Helyezés": "21"
                                },
                                {
                                    "Szoba azonosítója": "56",
                                    "Férőhely": "2",
                                    "Helyezés": "21"
                                },
                                {
                                    "Szoba azonosítója": "108",
                                    "Férőhely": "2",
                                    "Helyezés": "21"
                                },
                                {
                                    "Szoba azonosítója": "102",
                                    "Férőhely": "2",
                                    "Helyezés": "21"
                                },
                                {
                                    "Szoba azonosítója": "105",
                                    "Férőhely": "2",
                                    "Helyezés": "21"
                                },
                                {
                                    "Szoba azonosítója": "192",
                                    "Férőhely": "2",
                                    "Helyezés": "21"
                                },
                                {
                                    "Szoba azonosítója": "167",
                                    "Férőhely": "3",
                                    "Helyezés": "22"
                                },
                                {
                                    "Szoba azonosítója": "116",
                                    "Férőhely": "3",
                                    "Helyezés": "22"
                                },
                                {
                                    "Szoba azonosítója": "142",
                                    "Férőhely": "3",
                                    "Helyezés": "22"
                                },
                                {
                                    "Szoba azonosítója": "25",
                                    "Férőhely": "3",
                                    "Helyezés": "22"
                                },
                                {
                                    "Szoba azonosítója": "41",
                                    "Férőhely": "3",
                                    "Helyezés": "22"
                                },
                                {
                                    "Szoba azonosítója": "32",
                                    "Férőhely": "2",
                                    "Helyezés": "23"
                                },
                                {
                                    "Szoba azonosítója": "65",
                                    "Férőhely": "2",
                                    "Helyezés": "23"
                                },
                                {
                                    "Szoba azonosítója": "147",
                                    "Férőhely": "2",
                                    "Helyezés": "23"
                                },
                                {
                                    "Szoba azonosítója": "125",
                                    "Férőhely": "2",
                                    "Helyezés": "23"
                                },
                                {
                                    "Szoba azonosítója": "194",
                                    "Férőhely": "2",
                                    "Helyezés": "23"
                                },
                                {
                                    "Szoba azonosítója": "60",
                                    "Férőhely": "3",
                                    "Helyezés": "24"
                                }
                            ]
                        },
                        "text/html": [
                            "<table>",
                            "<tr><th>Szoba azonosítója</th><th>Férőhely</th><th>Helyezés</th></tr>",
                            "<tr><td>58</td><td>2</td><td>1</td></tr>",
                            "<tr><td>182</td><td>2</td><td>2</td></tr>",
                            "<tr><td>185</td><td>3</td><td>3</td></tr>",
                            "<tr><td>70</td><td>2</td><td>4</td></tr>",
                            "<tr><td>94</td><td>2</td><td>5</td></tr>",
                            "<tr><td>12</td><td>2</td><td>6</td></tr>",
                            "<tr><td>172</td><td>2</td><td>6</td></tr>",
                            "<tr><td>35</td><td>3</td><td>7</td></tr>",
                            "<tr><td>48</td><td>3</td><td>7</td></tr>",
                            "<tr><td>74</td><td>3</td><td>7</td></tr>",
                            "<tr><td>122</td><td>3</td><td>7</td></tr>",
                            "<tr><td>121</td><td>2</td><td>8</td></tr>",
                            "<tr><td>140</td><td>2</td><td>8</td></tr>",
                            "<tr><td>110</td><td>2</td><td>8</td></tr>",
                            "<tr><td>55</td><td>2</td><td>8</td></tr>",
                            "<tr><td>38</td><td>2</td><td>8</td></tr>",
                            "<tr><td>1</td><td>3</td><td>9</td></tr>",
                            "<tr><td>3</td><td>3</td><td>9</td></tr>",
                            "<tr><td>43</td><td>3</td><td>9</td></tr>",
                            "<tr><td>83</td><td>3</td><td>9</td></tr>",
                            "<tr><td>88</td><td>3</td><td>9</td></tr>",
                            "<tr><td>89</td><td>3</td><td>9</td></tr>",
                            "<tr><td>117</td><td>3</td><td>9</td></tr>",
                            "<tr><td>198</td><td>3</td><td>9</td></tr>",
                            "<tr><td>149</td><td>2</td><td>10</td></tr>",
                            "<tr><td>156</td><td>2</td><td>10</td></tr>",
                            "<tr><td>163</td><td>2</td><td>10</td></tr>",
                            "<tr><td>165</td><td>2</td><td>10</td></tr>",
                            "<tr><td>118</td><td>2</td><td>10</td></tr>",
                            "<tr><td>109</td><td>2</td><td>10</td></tr>",
                            "<tr><td>127</td><td>2</td><td>10</td></tr>",
                            "<tr><td>139</td><td>2</td><td>10</td></tr>",
                            "<tr><td>80</td><td>2</td><td>10</td></tr>",
                            "<tr><td>59</td><td>2</td><td>10</td></tr>",
                            "<tr><td>39</td><td>2</td><td>10</td></tr>",
                            "<tr><td>27</td><td>3</td><td>11</td></tr>",
                            "<tr><td>49</td><td>3</td><td>11</td></tr>",
                            "<tr><td>96</td><td>3</td><td>11</td></tr>",
                            "<tr><td>97</td><td>3</td><td>11</td></tr>",
                            "<tr><td>138</td><td>3</td><td>11</td></tr>",
                            "<tr><td>143</td><td>3</td><td>11</td></tr>",
                            "<tr><td>115</td><td>3</td><td>11</td></tr>",
                            "<tr><td>187</td><td>3</td><td>11</td></tr>",
                            "<tr><td>193</td><td>3</td><td>11</td></tr>",
                            "<tr><td>195</td><td>2</td><td>12</td></tr>",
                            "<tr><td>161</td><td>2</td><td>12</td></tr>",
                            "<tr><td>150</td><td>2</td><td>12</td></tr>",
                            "<tr><td>148</td><td>2</td><td>12</td></tr>",
                            "<tr><td>169</td><td>2</td><td>12</td></tr>",
                            "<tr><td>106</td><td>2</td><td>12</td></tr>",
                            "<tr><td>126</td><td>2</td><td>12</td></tr>",
                            "<tr><td>145</td><td>2</td><td>12</td></tr>",
                            "<tr><td>141</td><td>2</td><td>12</td></tr>",
                            "<tr><td>130</td><td>2</td><td>12</td></tr>",
                            "<tr><td>137</td><td>2</td><td>12</td></tr>",
                            "<tr><td>78</td><td>2</td><td>12</td></tr>",
                            "<tr><td>42</td><td>2</td><td>12</td></tr>",
                            "<tr><td>64</td><td>2</td><td>12</td></tr>",
                            "<tr><td>67</td><td>2</td><td>12</td></tr>",
                            "<tr><td>28</td><td>2</td><td>12</td></tr>",
                            "<tr><td>29</td><td>2</td><td>12</td></tr>",
                            "<tr><td>19</td><td>2</td><td>12</td></tr>",
                            "<tr><td>33</td><td>2</td><td>12</td></tr>",
                            "<tr><td>4</td><td>2</td><td>12</td></tr>",
                            "<tr><td>7</td><td>2</td><td>12</td></tr>",
                            "<tr><td>15</td><td>2</td><td>12</td></tr>",
                            "<tr><td>17</td><td>3</td><td>13</td></tr>",
                            "<tr><td>18</td><td>3</td><td>13</td></tr>",
                            "<tr><td>6</td><td>3</td><td>13</td></tr>",
                            "<tr><td>9</td><td>3</td><td>13</td></tr>",
                            "<tr><td>22</td><td>3</td><td>13</td></tr>",
                            "<tr><td>36</td><td>3</td><td>13</td></tr>",
                            "<tr><td>44</td><td>3</td><td>13</td></tr>",
                            "<tr><td>54</td><td>3</td><td>13</td></tr>",
                            "<tr><td>77</td><td>3</td><td>13</td></tr>",
                            "<tr><td>82</td><td>3</td><td>13</td></tr>",
                            "<tr><td>92</td><td>3</td><td>13</td></tr>",
                            "<tr><td>132</td><td>3</td><td>13</td></tr>",
                            "<tr><td>133</td><td>3</td><td>13</td></tr>",
                            "<tr><td>134</td><td>3</td><td>13</td></tr>",
                            "<tr><td>146</td><td>3</td><td>13</td></tr>",
                            "<tr><td>124</td><td>3</td><td>13</td></tr>",
                            "<tr><td>120</td><td>3</td><td>13</td></tr>",
                            "<tr><td>176</td><td>3</td><td>13</td></tr>",
                            "<tr><td>181</td><td>3</td><td>13</td></tr>",
                            "<tr><td>188</td><td>3</td><td>13</td></tr>",
                            "<tr><td>197</td><td>3</td><td>13</td></tr>",
                            "<tr><td>189</td><td>2</td><td>14</td></tr>",
                            "<tr><td>190</td><td>2</td><td>14</td></tr>",
                            "<tr><td>191</td><td>2</td><td>14</td></tr>",
                            "<tr><td>168</td><td>2</td><td>14</td></tr>",
                            "<tr><td>175</td><td>2</td><td>14</td></tr>",
                            "<tr><td>170</td><td>2</td><td>14</td></tr>",
                            "<tr><td>171</td><td>2</td><td>14</td></tr>",
                            "<tr><td>157</td><td>2</td><td>14</td></tr>",
                            "<tr><td>154</td><td>2</td><td>14</td></tr>",
                            "<tr><td>164</td><td>2</td><td>14</td></tr>",
                            "<tr><td>119</td><td>2</td><td>14</td></tr>",
                            "<tr><td>107</td><td>2</td><td>14</td></tr>",
                            "<tr><td>128</td><td>2</td><td>14</td></tr>",
                            "<tr><td>131</td><td>2</td><td>14</td></tr>",
                            "<tr><td>99</td><td>2</td><td>14</td></tr>",
                            "<tr><td>111</td><td>2</td><td>14</td></tr>",
                            "<tr><td>81</td><td>2</td><td>14</td></tr>",
                            "<tr><td>86</td><td>2</td><td>14</td></tr>",
                            "<tr><td>52</td><td>2</td><td>14</td></tr>",
                            "<tr><td>45</td><td>2</td><td>14</td></tr>",
                            "<tr><td>62</td><td>2</td><td>14</td></tr>",
                            "<tr><td>61</td><td>3</td><td>15</td></tr>",
                            "<tr><td>51</td><td>3</td><td>15</td></tr>",
                            "<tr><td>20</td><td>3</td><td>15</td></tr>",
                            "<tr><td>8</td><td>3</td><td>15</td></tr>",
                            "<tr><td>16</td><td>3</td><td>15</td></tr>",
                            "<tr><td>87</td><td>3</td><td>15</td></tr>",
                            "<tr><td>79</td><td>3</td><td>15</td></tr>",
                            "<tr><td>112</td><td>3</td><td>15</td></tr>",
                            "<tr><td>113</td><td>3</td><td>15</td></tr>",
                            "<tr><td>93</td><td>3</td><td>15</td></tr>",
                            "<tr><td>144</td><td>3</td><td>15</td></tr>",
                            "<tr><td>123</td><td>3</td><td>15</td></tr>",
                            "<tr><td>153</td><td>3</td><td>15</td></tr>",
                            "<tr><td>160</td><td>3</td><td>15</td></tr>",
                            "<tr><td>155</td><td>3</td><td>15</td></tr>",
                            "<tr><td>152</td><td>2</td><td>16</td></tr>",
                            "<tr><td>173</td><td>2</td><td>16</td></tr>",
                            "<tr><td>174</td><td>2</td><td>16</td></tr>",
                            "<tr><td>186</td><td>2</td><td>16</td></tr>",
                            "<tr><td>196</td><td>2</td><td>16</td></tr>",
                            "<tr><td>184</td><td>2</td><td>16</td></tr>",
                            "<tr><td>129</td><td>2</td><td>16</td></tr>",
                            "<tr><td>100</td><td>2</td><td>16</td></tr>",
                            "<tr><td>114</td><td>2</td><td>16</td></tr>",
                            "<tr><td>98</td><td>2</td><td>16</td></tr>",
                            "<tr><td>103</td><td>2</td><td>16</td></tr>",
                            "<tr><td>85</td><td>2</td><td>16</td></tr>",
                            "<tr><td>91</td><td>2</td><td>16</td></tr>",
                            "<tr><td>11</td><td>2</td><td>16</td></tr>",
                            "<tr><td>5</td><td>2</td><td>16</td></tr>",
                            "<tr><td>21</td><td>2</td><td>16</td></tr>",
                            "<tr><td>50</td><td>2</td><td>16</td></tr>",
                            "<tr><td>57</td><td>2</td><td>16</td></tr>",
                            "<tr><td>63</td><td>2</td><td>16</td></tr>",
                            "<tr><td>72</td><td>2</td><td>16</td></tr>",
                            "<tr><td>73</td><td>2</td><td>16</td></tr>",
                            "<tr><td>66</td><td>3</td><td>17</td></tr>",
                            "<tr><td>69</td><td>3</td><td>17</td></tr>",
                            "<tr><td>46</td><td>3</td><td>17</td></tr>",
                            "<tr><td>34</td><td>3</td><td>17</td></tr>",
                            "<tr><td>40</td><td>3</td><td>17</td></tr>",
                            "<tr><td>2</td><td>3</td><td>17</td></tr>",
                            "<tr><td>10</td><td>3</td><td>17</td></tr>",
                            "<tr><td>13</td><td>3</td><td>17</td></tr>",
                            "<tr><td>90</td><td>3</td><td>17</td></tr>",
                            "<tr><td>84</td><td>3</td><td>17</td></tr>",
                            "<tr><td>104</td><td>3</td><td>17</td></tr>",
                            "<tr><td>95</td><td>3</td><td>17</td></tr>",
                            "<tr><td>183</td><td>3</td><td>17</td></tr>",
                            "<tr><td>177</td><td>3</td><td>17</td></tr>",
                            "<tr><td>178</td><td>3</td><td>17</td></tr>",
                            "<tr><td>180</td><td>2</td><td>18</td></tr>",
                            "<tr><td>151</td><td>2</td><td>18</td></tr>",
                            "<tr><td>158</td><td>2</td><td>18</td></tr>",
                            "<tr><td>166</td><td>2</td><td>18</td></tr>",
                            "<tr><td>101</td><td>2</td><td>18</td></tr>",
                            "<tr><td>75</td><td>2</td><td>18</td></tr>",
                            "<tr><td>76</td><td>2</td><td>18</td></tr>",
                            "<tr><td>136</td><td>2</td><td>18</td></tr>",
                            "<tr><td>23</td><td>2</td><td>18</td></tr>",
                            "<tr><td>37</td><td>2</td><td>18</td></tr>",
                            "<tr><td>68</td><td>2</td><td>18</td></tr>",
                            "<tr><td>71</td><td>3</td><td>19</td></tr>",
                            "<tr><td>30</td><td>3</td><td>19</td></tr>",
                            "<tr><td>31</td><td>3</td><td>19</td></tr>",
                            "<tr><td>14</td><td>3</td><td>19</td></tr>",
                            "<tr><td>135</td><td>3</td><td>19</td></tr>",
                            "<tr><td>162</td><td>3</td><td>19</td></tr>",
                            "<tr><td>179</td><td>3</td><td>19</td></tr>",
                            "<tr><td>24</td><td>4</td><td>20</td></tr>",
                            "<tr><td>26</td><td>2</td><td>21</td></tr>",
                            "<tr><td>47</td><td>2</td><td>21</td></tr>",
                            "<tr><td>53</td><td>2</td><td>21</td></tr>",
                            "<tr><td>56</td><td>2</td><td>21</td></tr>",
                            "<tr><td>108</td><td>2</td><td>21</td></tr>",
                            "<tr><td>102</td><td>2</td><td>21</td></tr>",
                            "<tr><td>105</td><td>2</td><td>21</td></tr>",
                            "<tr><td>192</td><td>2</td><td>21</td></tr>",
                            "<tr><td>167</td><td>3</td><td>22</td></tr>",
                            "<tr><td>116</td><td>3</td><td>22</td></tr>",
                            "<tr><td>142</td><td>3</td><td>22</td></tr>",
                            "<tr><td>25</td><td>3</td><td>22</td></tr>",
                            "<tr><td>41</td><td>3</td><td>22</td></tr>",
                            "<tr><td>32</td><td>2</td><td>23</td></tr>",
                            "<tr><td>65</td><td>2</td><td>23</td></tr>",
                            "<tr><td>147</td><td>2</td><td>23</td></tr>",
                            "<tr><td>125</td><td>2</td><td>23</td></tr>",
                            "<tr><td>194</td><td>2</td><td>23</td></tr>",
                            "<tr><td>60</td><td>3</td><td>24</td></tr>",
                            "</table>"
                        ]
                    }
                }
            ],
            "execution_count": 12
        },
        {
            "cell_type": "markdown",
            "source": [
                "3."
            ],
            "metadata": {
                "azdata_cell_guid": "0a75bb5d-05fd-49f8-9112-69d31e9c4248"
            },
            "attachments": {}
        },
        {
            "cell_type": "code",
            "source": [
                ""
            ],
            "metadata": {
                "azdata_cell_guid": "646e967c-3b2c-4782-b850-4344b3c265dc",
                "language": "sql"
            },
            "outputs": [],
            "execution_count": null
        }
    ]
}