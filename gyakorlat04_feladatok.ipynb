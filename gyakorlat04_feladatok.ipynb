{
    "metadata": {
        "kernelspec": {
            "name": "SQL",
            "display_name": "SQL",
            "language": "sql"
        },
        "language_info": {
            "name": "sql",
            "version": ""
        }
    },
    "nbformat_minor": 2,
    "nbformat": 4,
    "cells": [
        {
            "cell_type": "markdown",
            "source": [
                "1. <span style=\"background-color: rgb(255, 255, 255); color: rgb(0, 0, 0); font-family: &quot;Open Sans&quot;, sans-serif; font-size: 14.44px;\">Készítsünk listát arról, hogy ügyfelenként (LOGIN), azon belül szállítási módonként hány megrendelés történt!&nbsp;</span> \n",
                "\n",
                "a. A lista tartalmazza a részösszegeket és a végösszeget is!  \n",
                "b. Használjuk a ROLLUP záradékot!"
            ],
            "metadata": {
                "azdata_cell_guid": "363cd270-6577-449b-9c89-d4b7c7972d52"
            },
            "attachments": {}
        },
        {
            "cell_type": "code",
            "source": [
                "SELECT\r\n",
                "    [LOGIN],\r\n",
                "    SZALL_MOD,\r\n",
                "    COUNT(*)\r\n",
                "FROM Rendeles\r\n",
                "GROUP BY ROLLUP([LOGIN], SZALL_MOD) --groupby eredménysorainak megnövelése részösszegekkel és végösszegekkel, /ROLLUP, CUBE"
            ],
            "metadata": {
                "azdata_cell_guid": "6ab9f633-a3b5-48c9-a1dc-4fb8235ae85b",
                "language": "sql"
            },
            "outputs": [],
            "execution_count": null
        },
        {
            "cell_type": "markdown",
            "source": [
                "2. <span style=\"background-color: rgb(255, 255, 255); color: rgb(0, 0, 0); font-family: &quot;Open Sans&quot;, sans-serif; font-size: 14.44px;\">Készítsünk listát a termékek számáról a következő csoportosítási szempontok szerint:<br>kategória azonosító, raktárkód, raktárkód+mennyiségi egység!</span>\n",
                "\n",
                "a. A listát szűrjük azokra a csoportokra, ahol a termékek száma legalább 6!"
            ],
            "metadata": {
                "azdata_cell_guid": "ea75c103-911f-41a3-a32c-3d40fb3e4e4a"
            },
            "attachments": {}
        },
        {
            "cell_type": "code",
            "source": [
                "SELECT\r\n",
                "    KAT_ID,\r\n",
                "    RAKTAR_KOD,\r\n",
                "    MEGYS,\r\n",
                "    COUNT(*)\r\n",
                "FROM Termek\r\n",
                "GROUP BY GROUPING SETS(KAT_ID, RAKTAR_KOD, (RAKTAR_KOD, MEGYS)) --GROUPING SETS"
            ],
            "metadata": {
                "azdata_cell_guid": "222b9618-a8e8-42b4-a8e8-d002257122b7",
                "language": "sql"
            },
            "outputs": [],
            "execution_count": null
        },
        {
            "cell_type": "markdown",
            "source": [
                "```\n",
                "3. Készítsünk listát az egyes termékkategóriákban lévő termékek számáról! \n",
                "\n",
                "```\n",
                "\n",
                "a. Elég megjeleníteni a kategóriák azonosítóit és a darabszámokat!   \n",
                "<span style=\"color: var(--vscode-foreground);\">b. A lista megfelelően jelölve tartalmazza a végösszeget is!&nbsp;<br></span> <span style=\"color: var(--vscode-foreground);\">c. Az oszlopokat nevezzük el értelemszerűen!&nbsp;<br></span> <span style=\"color: var(--vscode-foreground);\">d. A listát rendezzük a darabszám szerint növekvő sorrendbe!</span>\n",
                "\n",
                "  \n",
                "\n",
                "![](https://moodle.uni-corvinus.hu/theme/image.php/adaptable/atto_h5p/1709548862/icon)"
            ],
            "metadata": {
                "azdata_cell_guid": "d7876bb9-76d0-4d07-baed-3cb17b2f96c3"
            },
            "attachments": {}
        },
        {
            "cell_type": "code",
            "source": [
                "SELECT\r\n",
                "    IIF(GROUPING_ID(KAT_ID) = 1, --GROUPING_ID: összes olyan sor ahol nincs összegzés ott 0 lesz, kivéve a végösszegnél 1 >> IIF elágazás\r\n",
                "        'Összesen',\r\n",
                "        CAST(KAT_ID AS nvarchar(5))) AS 'Azonosító', --CAST: azonos típusú legyen a két elágazásvég!\r\n",
                "    COUNT(TERMEKKOD) AS 'Darabszám'\r\n",
                "FROM Termek\r\n",
                "GROUP BY CUBE(KAT_ID)\r\n",
                "ORDER BY Darabszám"
            ],
            "metadata": {
                "azdata_cell_guid": "56ec19ce-e249-4551-b2a8-f17569765acc",
                "language": "sql"
            },
            "outputs": [
                {
                    "output_type": "display_data",
                    "data": {
                        "text/html": "(144 rows affected)"
                    },
                    "metadata": {}
                },
                {
                    "output_type": "display_data",
                    "data": {
                        "text/html": "Total execution time: 00:00:00.053"
                    },
                    "metadata": {}
                },
                {
                    "output_type": "execute_result",
                    "metadata": {},
                    "execution_count": 7,
                    "data": {
                        "application/vnd.dataresource+json": {
                            "schema": {
                                "fields": [
                                    {
                                        "name": "Azonosító"
                                    },
                                    {
                                        "name": "Darabszám"
                                    }
                                ]
                            },
                            "data": [
                                {
                                    "Azonosító": "10",
                                    "Darabszám": "1"
                                },
                                {
                                    "Azonosító": "11",
                                    "Darabszám": "1"
                                },
                                {
                                    "Azonosító": "12",
                                    "Darabszám": "1"
                                },
                                {
                                    "Azonosító": "15",
                                    "Darabszám": "1"
                                },
                                {
                                    "Azonosító": "17",
                                    "Darabszám": "1"
                                },
                                {
                                    "Azonosító": "26",
                                    "Darabszám": "1"
                                },
                                {
                                    "Azonosító": "29",
                                    "Darabszám": "1"
                                },
                                {
                                    "Azonosító": "31",
                                    "Darabszám": "1"
                                },
                                {
                                    "Azonosító": "33",
                                    "Darabszám": "1"
                                },
                                {
                                    "Azonosító": "34",
                                    "Darabszám": "1"
                                },
                                {
                                    "Azonosító": "37",
                                    "Darabszám": "1"
                                },
                                {
                                    "Azonosító": "38",
                                    "Darabszám": "1"
                                },
                                {
                                    "Azonosító": "40",
                                    "Darabszám": "1"
                                },
                                {
                                    "Azonosító": "42",
                                    "Darabszám": "1"
                                },
                                {
                                    "Azonosító": "44",
                                    "Darabszám": "1"
                                },
                                {
                                    "Azonosító": "50",
                                    "Darabszám": "1"
                                },
                                {
                                    "Azonosító": "53",
                                    "Darabszám": "1"
                                },
                                {
                                    "Azonosító": "61",
                                    "Darabszám": "1"
                                },
                                {
                                    "Azonosító": "74",
                                    "Darabszám": "1"
                                },
                                {
                                    "Azonosító": "80",
                                    "Darabszám": "1"
                                },
                                {
                                    "Azonosító": "82",
                                    "Darabszám": "1"
                                },
                                {
                                    "Azonosító": "84",
                                    "Darabszám": "1"
                                },
                                {
                                    "Azonosító": "86",
                                    "Darabszám": "1"
                                },
                                {
                                    "Azonosító": "99",
                                    "Darabszám": "1"
                                },
                                {
                                    "Azonosító": "101",
                                    "Darabszám": "1"
                                },
                                {
                                    "Azonosító": "103",
                                    "Darabszám": "1"
                                },
                                {
                                    "Azonosító": "105",
                                    "Darabszám": "1"
                                },
                                {
                                    "Azonosító": "107",
                                    "Darabszám": "1"
                                },
                                {
                                    "Azonosító": "108",
                                    "Darabszám": "1"
                                },
                                {
                                    "Azonosító": "109",
                                    "Darabszám": "1"
                                },
                                {
                                    "Azonosító": "114",
                                    "Darabszám": "1"
                                },
                                {
                                    "Azonosító": "115",
                                    "Darabszám": "1"
                                },
                                {
                                    "Azonosító": "126",
                                    "Darabszám": "1"
                                },
                                {
                                    "Azonosító": "130",
                                    "Darabszám": "1"
                                },
                                {
                                    "Azonosító": "131",
                                    "Darabszám": "1"
                                },
                                {
                                    "Azonosító": "132",
                                    "Darabszám": "1"
                                },
                                {
                                    "Azonosító": "135",
                                    "Darabszám": "1"
                                },
                                {
                                    "Azonosító": "139",
                                    "Darabszám": "1"
                                },
                                {
                                    "Azonosító": "140",
                                    "Darabszám": "1"
                                },
                                {
                                    "Azonosító": "142",
                                    "Darabszám": "1"
                                },
                                {
                                    "Azonosító": "147",
                                    "Darabszám": "1"
                                },
                                {
                                    "Azonosító": "148",
                                    "Darabszám": "1"
                                },
                                {
                                    "Azonosító": "153",
                                    "Darabszám": "1"
                                },
                                {
                                    "Azonosító": "155",
                                    "Darabszám": "1"
                                },
                                {
                                    "Azonosító": "150",
                                    "Darabszám": "2"
                                },
                                {
                                    "Azonosító": "144",
                                    "Darabszám": "2"
                                },
                                {
                                    "Azonosító": "141",
                                    "Darabszám": "2"
                                },
                                {
                                    "Azonosító": "136",
                                    "Darabszám": "2"
                                },
                                {
                                    "Azonosító": "123",
                                    "Darabszám": "2"
                                },
                                {
                                    "Azonosító": "134",
                                    "Darabszám": "2"
                                },
                                {
                                    "Azonosító": "127",
                                    "Darabszám": "2"
                                },
                                {
                                    "Azonosító": "128",
                                    "Darabszám": "2"
                                },
                                {
                                    "Azonosító": "129",
                                    "Darabszám": "2"
                                },
                                {
                                    "Azonosító": "116",
                                    "Darabszám": "2"
                                },
                                {
                                    "Azonosító": "117",
                                    "Darabszám": "2"
                                },
                                {
                                    "Azonosító": "112",
                                    "Darabszám": "2"
                                },
                                {
                                    "Azonosító": "121",
                                    "Darabszám": "2"
                                },
                                {
                                    "Azonosító": "110",
                                    "Darabszám": "2"
                                },
                                {
                                    "Azonosító": "104",
                                    "Darabszám": "2"
                                },
                                {
                                    "Azonosító": "94",
                                    "Darabszám": "2"
                                },
                                {
                                    "Azonosító": "95",
                                    "Darabszám": "2"
                                },
                                {
                                    "Azonosító": "88",
                                    "Darabszám": "2"
                                },
                                {
                                    "Azonosító": "90",
                                    "Darabszám": "2"
                                },
                                {
                                    "Azonosító": "92",
                                    "Darabszám": "2"
                                },
                                {
                                    "Azonosító": "71",
                                    "Darabszám": "2"
                                },
                                {
                                    "Azonosító": "72",
                                    "Darabszám": "2"
                                },
                                {
                                    "Azonosító": "73",
                                    "Darabszám": "2"
                                },
                                {
                                    "Azonosító": "75",
                                    "Darabszám": "2"
                                },
                                {
                                    "Azonosító": "62",
                                    "Darabszám": "2"
                                },
                                {
                                    "Azonosító": "55",
                                    "Darabszám": "2"
                                },
                                {
                                    "Azonosító": "65",
                                    "Darabszám": "2"
                                },
                                {
                                    "Azonosító": "67",
                                    "Darabszám": "2"
                                },
                                {
                                    "Azonosító": "68",
                                    "Darabszám": "2"
                                },
                                {
                                    "Azonosító": "57",
                                    "Darabszám": "2"
                                },
                                {
                                    "Azonosító": "48",
                                    "Darabszám": "2"
                                },
                                {
                                    "Azonosító": "49",
                                    "Darabszám": "2"
                                },
                                {
                                    "Azonosító": "39",
                                    "Darabszám": "2"
                                },
                                {
                                    "Azonosító": "22",
                                    "Darabszám": "2"
                                },
                                {
                                    "Azonosító": "18",
                                    "Darabszám": "2"
                                },
                                {
                                    "Azonosító": "9",
                                    "Darabszám": "2"
                                },
                                {
                                    "Azonosító": "13",
                                    "Darabszám": "2"
                                },
                                {
                                    "Azonosító": "5",
                                    "Darabszám": "3"
                                },
                                {
                                    "Azonosító": "7",
                                    "Darabszám": "3"
                                },
                                {
                                    "Azonosító": "8",
                                    "Darabszám": "3"
                                },
                                {
                                    "Azonosító": "20",
                                    "Darabszám": "3"
                                },
                                {
                                    "Azonosító": "27",
                                    "Darabszám": "3"
                                },
                                {
                                    "Azonosító": "32",
                                    "Darabszám": "3"
                                },
                                {
                                    "Azonosító": "43",
                                    "Darabszám": "3"
                                },
                                {
                                    "Azonosító": "58",
                                    "Darabszám": "3"
                                },
                                {
                                    "Azonosító": "51",
                                    "Darabszám": "3"
                                },
                                {
                                    "Azonosító": "70",
                                    "Darabszám": "3"
                                },
                                {
                                    "Azonosító": "89",
                                    "Darabszám": "3"
                                },
                                {
                                    "Azonosító": "111",
                                    "Darabszám": "3"
                                },
                                {
                                    "Azonosító": "119",
                                    "Darabszám": "3"
                                },
                                {
                                    "Azonosító": "137",
                                    "Darabszám": "3"
                                },
                                {
                                    "Azonosító": "143",
                                    "Darabszám": "3"
                                },
                                {
                                    "Azonosító": "151",
                                    "Darabszám": "4"
                                },
                                {
                                    "Azonosító": "154",
                                    "Darabszám": "4"
                                },
                                {
                                    "Azonosító": "125",
                                    "Darabszám": "4"
                                },
                                {
                                    "Azonosító": "79",
                                    "Darabszám": "4"
                                },
                                {
                                    "Azonosító": "98",
                                    "Darabszám": "4"
                                },
                                {
                                    "Azonosító": "56",
                                    "Darabszám": "4"
                                },
                                {
                                    "Azonosító": "64",
                                    "Darabszám": "4"
                                },
                                {
                                    "Azonosító": "59",
                                    "Darabszám": "4"
                                },
                                {
                                    "Azonosító": "47",
                                    "Darabszám": "4"
                                },
                                {
                                    "Azonosító": "25",
                                    "Darabszám": "4"
                                },
                                {
                                    "Azonosító": "14",
                                    "Darabszám": "4"
                                },
                                {
                                    "Azonosító": "21",
                                    "Darabszám": "5"
                                },
                                {
                                    "Azonosító": "36",
                                    "Darabszám": "5"
                                },
                                {
                                    "Azonosító": "28",
                                    "Darabszám": "5"
                                },
                                {
                                    "Azonosító": "60",
                                    "Darabszám": "5"
                                },
                                {
                                    "Azonosító": "76",
                                    "Darabszám": "5"
                                },
                                {
                                    "Azonosító": "106",
                                    "Darabszám": "5"
                                },
                                {
                                    "Azonosító": "138",
                                    "Darabszám": "5"
                                },
                                {
                                    "Azonosító": "133",
                                    "Darabszám": "6"
                                },
                                {
                                    "Azonosító": "152",
                                    "Darabszám": "6"
                                },
                                {
                                    "Azonosító": "149",
                                    "Darabszám": "6"
                                },
                                {
                                    "Azonosító": "83",
                                    "Darabszám": "6"
                                },
                                {
                                    "Azonosító": "54",
                                    "Darabszám": "6"
                                },
                                {
                                    "Azonosító": "46",
                                    "Darabszám": "7"
                                },
                                {
                                    "Azonosító": "66",
                                    "Darabszám": "7"
                                },
                                {
                                    "Azonosító": "24",
                                    "Darabszám": "7"
                                },
                                {
                                    "Azonosító": "30",
                                    "Darabszám": "7"
                                },
                                {
                                    "Azonosító": "35",
                                    "Darabszám": "7"
                                },
                                {
                                    "Azonosító": "16",
                                    "Darabszám": "7"
                                },
                                {
                                    "Azonosító": "146",
                                    "Darabszám": "7"
                                },
                                {
                                    "Azonosító": "122",
                                    "Darabszám": "7"
                                },
                                {
                                    "Azonosító": "93",
                                    "Darabszám": "7"
                                },
                                {
                                    "Azonosító": "91",
                                    "Darabszám": "7"
                                },
                                {
                                    "Azonosító": "100",
                                    "Darabszám": "9"
                                },
                                {
                                    "Azonosító": "96",
                                    "Darabszám": "9"
                                },
                                {
                                    "Azonosító": "118",
                                    "Darabszám": "9"
                                },
                                {
                                    "Azonosító": "97",
                                    "Darabszám": "10"
                                },
                                {
                                    "Azonosító": "124",
                                    "Darabszám": "10"
                                },
                                {
                                    "Azonosító": "45",
                                    "Darabszám": "11"
                                },
                                {
                                    "Azonosító": "41",
                                    "Darabszám": "13"
                                },
                                {
                                    "Azonosító": "4",
                                    "Darabszám": "15"
                                },
                                {
                                    "Azonosító": "85",
                                    "Darabszám": "16"
                                },
                                {
                                    "Azonosító": "145",
                                    "Darabszám": "18"
                                },
                                {
                                    "Azonosító": "19",
                                    "Darabszám": "19"
                                },
                                {
                                    "Azonosító": "6",
                                    "Darabszám": "20"
                                },
                                {
                                    "Azonosító": "78",
                                    "Darabszám": "24"
                                },
                                {
                                    "Azonosító": "52",
                                    "Darabszám": "26"
                                },
                                {
                                    "Azonosító": "Összesen",
                                    "Darabszám": "551"
                                }
                            ]
                        },
                        "text/html": [
                            "<table>",
                            "<tr><th>Azonosító</th><th>Darabszám</th></tr>",
                            "<tr><td>10</td><td>1</td></tr>",
                            "<tr><td>11</td><td>1</td></tr>",
                            "<tr><td>12</td><td>1</td></tr>",
                            "<tr><td>15</td><td>1</td></tr>",
                            "<tr><td>17</td><td>1</td></tr>",
                            "<tr><td>26</td><td>1</td></tr>",
                            "<tr><td>29</td><td>1</td></tr>",
                            "<tr><td>31</td><td>1</td></tr>",
                            "<tr><td>33</td><td>1</td></tr>",
                            "<tr><td>34</td><td>1</td></tr>",
                            "<tr><td>37</td><td>1</td></tr>",
                            "<tr><td>38</td><td>1</td></tr>",
                            "<tr><td>40</td><td>1</td></tr>",
                            "<tr><td>42</td><td>1</td></tr>",
                            "<tr><td>44</td><td>1</td></tr>",
                            "<tr><td>50</td><td>1</td></tr>",
                            "<tr><td>53</td><td>1</td></tr>",
                            "<tr><td>61</td><td>1</td></tr>",
                            "<tr><td>74</td><td>1</td></tr>",
                            "<tr><td>80</td><td>1</td></tr>",
                            "<tr><td>82</td><td>1</td></tr>",
                            "<tr><td>84</td><td>1</td></tr>",
                            "<tr><td>86</td><td>1</td></tr>",
                            "<tr><td>99</td><td>1</td></tr>",
                            "<tr><td>101</td><td>1</td></tr>",
                            "<tr><td>103</td><td>1</td></tr>",
                            "<tr><td>105</td><td>1</td></tr>",
                            "<tr><td>107</td><td>1</td></tr>",
                            "<tr><td>108</td><td>1</td></tr>",
                            "<tr><td>109</td><td>1</td></tr>",
                            "<tr><td>114</td><td>1</td></tr>",
                            "<tr><td>115</td><td>1</td></tr>",
                            "<tr><td>126</td><td>1</td></tr>",
                            "<tr><td>130</td><td>1</td></tr>",
                            "<tr><td>131</td><td>1</td></tr>",
                            "<tr><td>132</td><td>1</td></tr>",
                            "<tr><td>135</td><td>1</td></tr>",
                            "<tr><td>139</td><td>1</td></tr>",
                            "<tr><td>140</td><td>1</td></tr>",
                            "<tr><td>142</td><td>1</td></tr>",
                            "<tr><td>147</td><td>1</td></tr>",
                            "<tr><td>148</td><td>1</td></tr>",
                            "<tr><td>153</td><td>1</td></tr>",
                            "<tr><td>155</td><td>1</td></tr>",
                            "<tr><td>150</td><td>2</td></tr>",
                            "<tr><td>144</td><td>2</td></tr>",
                            "<tr><td>141</td><td>2</td></tr>",
                            "<tr><td>136</td><td>2</td></tr>",
                            "<tr><td>123</td><td>2</td></tr>",
                            "<tr><td>134</td><td>2</td></tr>",
                            "<tr><td>127</td><td>2</td></tr>",
                            "<tr><td>128</td><td>2</td></tr>",
                            "<tr><td>129</td><td>2</td></tr>",
                            "<tr><td>116</td><td>2</td></tr>",
                            "<tr><td>117</td><td>2</td></tr>",
                            "<tr><td>112</td><td>2</td></tr>",
                            "<tr><td>121</td><td>2</td></tr>",
                            "<tr><td>110</td><td>2</td></tr>",
                            "<tr><td>104</td><td>2</td></tr>",
                            "<tr><td>94</td><td>2</td></tr>",
                            "<tr><td>95</td><td>2</td></tr>",
                            "<tr><td>88</td><td>2</td></tr>",
                            "<tr><td>90</td><td>2</td></tr>",
                            "<tr><td>92</td><td>2</td></tr>",
                            "<tr><td>71</td><td>2</td></tr>",
                            "<tr><td>72</td><td>2</td></tr>",
                            "<tr><td>73</td><td>2</td></tr>",
                            "<tr><td>75</td><td>2</td></tr>",
                            "<tr><td>62</td><td>2</td></tr>",
                            "<tr><td>55</td><td>2</td></tr>",
                            "<tr><td>65</td><td>2</td></tr>",
                            "<tr><td>67</td><td>2</td></tr>",
                            "<tr><td>68</td><td>2</td></tr>",
                            "<tr><td>57</td><td>2</td></tr>",
                            "<tr><td>48</td><td>2</td></tr>",
                            "<tr><td>49</td><td>2</td></tr>",
                            "<tr><td>39</td><td>2</td></tr>",
                            "<tr><td>22</td><td>2</td></tr>",
                            "<tr><td>18</td><td>2</td></tr>",
                            "<tr><td>9</td><td>2</td></tr>",
                            "<tr><td>13</td><td>2</td></tr>",
                            "<tr><td>5</td><td>3</td></tr>",
                            "<tr><td>7</td><td>3</td></tr>",
                            "<tr><td>8</td><td>3</td></tr>",
                            "<tr><td>20</td><td>3</td></tr>",
                            "<tr><td>27</td><td>3</td></tr>",
                            "<tr><td>32</td><td>3</td></tr>",
                            "<tr><td>43</td><td>3</td></tr>",
                            "<tr><td>58</td><td>3</td></tr>",
                            "<tr><td>51</td><td>3</td></tr>",
                            "<tr><td>70</td><td>3</td></tr>",
                            "<tr><td>89</td><td>3</td></tr>",
                            "<tr><td>111</td><td>3</td></tr>",
                            "<tr><td>119</td><td>3</td></tr>",
                            "<tr><td>137</td><td>3</td></tr>",
                            "<tr><td>143</td><td>3</td></tr>",
                            "<tr><td>151</td><td>4</td></tr>",
                            "<tr><td>154</td><td>4</td></tr>",
                            "<tr><td>125</td><td>4</td></tr>",
                            "<tr><td>79</td><td>4</td></tr>",
                            "<tr><td>98</td><td>4</td></tr>",
                            "<tr><td>56</td><td>4</td></tr>",
                            "<tr><td>64</td><td>4</td></tr>",
                            "<tr><td>59</td><td>4</td></tr>",
                            "<tr><td>47</td><td>4</td></tr>",
                            "<tr><td>25</td><td>4</td></tr>",
                            "<tr><td>14</td><td>4</td></tr>",
                            "<tr><td>21</td><td>5</td></tr>",
                            "<tr><td>36</td><td>5</td></tr>",
                            "<tr><td>28</td><td>5</td></tr>",
                            "<tr><td>60</td><td>5</td></tr>",
                            "<tr><td>76</td><td>5</td></tr>",
                            "<tr><td>106</td><td>5</td></tr>",
                            "<tr><td>138</td><td>5</td></tr>",
                            "<tr><td>133</td><td>6</td></tr>",
                            "<tr><td>152</td><td>6</td></tr>",
                            "<tr><td>149</td><td>6</td></tr>",
                            "<tr><td>83</td><td>6</td></tr>",
                            "<tr><td>54</td><td>6</td></tr>",
                            "<tr><td>46</td><td>7</td></tr>",
                            "<tr><td>66</td><td>7</td></tr>",
                            "<tr><td>24</td><td>7</td></tr>",
                            "<tr><td>30</td><td>7</td></tr>",
                            "<tr><td>35</td><td>7</td></tr>",
                            "<tr><td>16</td><td>7</td></tr>",
                            "<tr><td>146</td><td>7</td></tr>",
                            "<tr><td>122</td><td>7</td></tr>",
                            "<tr><td>93</td><td>7</td></tr>",
                            "<tr><td>91</td><td>7</td></tr>",
                            "<tr><td>100</td><td>9</td></tr>",
                            "<tr><td>96</td><td>9</td></tr>",
                            "<tr><td>118</td><td>9</td></tr>",
                            "<tr><td>97</td><td>10</td></tr>",
                            "<tr><td>124</td><td>10</td></tr>",
                            "<tr><td>45</td><td>11</td></tr>",
                            "<tr><td>41</td><td>13</td></tr>",
                            "<tr><td>4</td><td>15</td></tr>",
                            "<tr><td>85</td><td>16</td></tr>",
                            "<tr><td>145</td><td>18</td></tr>",
                            "<tr><td>19</td><td>19</td></tr>",
                            "<tr><td>6</td><td>20</td></tr>",
                            "<tr><td>78</td><td>24</td></tr>",
                            "<tr><td>52</td><td>26</td></tr>",
                            "<tr><td>Összesen</td><td>551</td></tr>",
                            "</table>"
                        ]
                    }
                }
            ],
            "execution_count": 7
        },
        {
            "cell_type": "markdown",
            "source": [
                "4. <span style=\"background-color: rgb(255, 255, 255); color: rgb(0, 0, 0); font-family: &quot;Open Sans&quot;, sans-serif; font-size: 14.44px;\">Készítsünk listát az ügyfelek számáról születési év szerint, azon belül nem szerinti bontásban!&nbsp;</span> \n",
                "\n",
                "a. A lista megfelelően jelölve tartalmazza a részösszegeket és a végösszeget is!  \n",
                "b. Az oszlopoknak adjunk nevet értelemszerűen!"
            ],
            "metadata": {
                "azdata_cell_guid": "8e7fef82-8022-49a0-8255-fc2846c2134b"
            },
            "attachments": {}
        },
        {
            "cell_type": "code",
            "source": [
                ""
            ],
            "metadata": {
                "azdata_cell_guid": "36f7b396-4a1f-45e5-8720-2302537c91bc",
                "language": "sql"
            },
            "outputs": [],
            "execution_count": null
        },
        {
            "cell_type": "markdown",
            "source": [
                "5. <span style=\"background-color: rgb(255, 255, 255); color: rgb(0, 0, 0); font-family: &quot;Open Sans&quot;, sans-serif; font-size: 14.44px;\">Készítsünk listát a termékek számáról a felvitel hónapja, azon belül napja szerint csoportosítva.&nbsp;</span> \n",
                "\n",
                "a. A lista csak a részösszegeket és a végösszeget tartalmazza!  \n",
                "b. Az oszlopoknak adjunk megfelelő nevet!  \n",
                "c. Ötlet: HAVING + GROUPING\\_ID fv együttes használata"
            ],
            "metadata": {
                "azdata_cell_guid": "84239ca2-6b5e-49f5-9860-d44c11d6de32"
            },
            "attachments": {}
        },
        {
            "cell_type": "code",
            "source": [
                ""
            ],
            "metadata": {
                "azdata_cell_guid": "06d9a62b-9430-424b-a135-d80e675f0eb3",
                "language": "sql"
            },
            "outputs": [],
            "execution_count": null
        }
    ]
}