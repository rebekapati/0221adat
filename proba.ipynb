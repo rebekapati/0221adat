{
    "metadata": {
        "kernelspec": {
            "name": "SQL",
            "display_name": "SQL",
            "language": "sql"
        },
        "language_info": {
            "name": "sql",
            "version": ""
        }
    },
    "nbformat_minor": 2,
    "nbformat": 4,
    "cells": [
        {
            "cell_type": "markdown",
            "source": [
                "lkxdfoixudh"
            ],
            "metadata": {
                "azdata_cell_guid": "15025eb9-1613-443e-9227-4840a3c188d0"
            },
            "attachments": {}
        },
        {
            "cell_type": "code",
            "source": [
                ""
            ],
            "metadata": {
                "azdata_cell_guid": "2ac645b8-742b-4d1e-96ea-aca460890476",
                "language": "sql"
            },
            "outputs": [],
            "execution_count": null
        }
    ]
}