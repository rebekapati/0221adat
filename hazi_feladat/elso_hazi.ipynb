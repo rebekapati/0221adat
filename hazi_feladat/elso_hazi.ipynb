{
    "metadata": {
        "kernelspec": {
            "name": "SQL",
            "display_name": "SQL",
            "language": "sql"
        },
        "language_info": {
            "name": "sql",
            "version": ""
        }
    },
    "nbformat_minor": 2,
    "nbformat": 4,
    "cells": [
        {
            "cell_type": "markdown",
            "source": [
                "<mark>1\\. Price oszlop</mark>"
            ],
            "metadata": {
                "azdata_cell_guid": "2e5fe45e-9b7b-41e2-b257-13073ca14fa2"
            },
            "attachments": {}
        },
        {
            "cell_type": "markdown",
            "source": [
                "1.1. Koktél árak elemzése"
            ],
            "metadata": {
                "azdata_cell_guid": "ef31c731-d623-44c5-9cce-a0294ac07735"
            },
            "attachments": {}
        },
        {
            "cell_type": "code",
            "source": [
                "SELECT *\n",
                "FROM Cocktail"
            ],
            "metadata": {
                "azdata_cell_guid": "4a16debc-2b00-4993-a63e-03edc0a0e4f4",
                "language": "sql"
            },
            "outputs": [
                {
                    "output_type": "display_data",
                    "data": {
                        "text/html": "(19 rows affected)"
                    },
                    "metadata": {}
                },
                {
                    "output_type": "display_data",
                    "data": {
                        "text/html": "Total execution time: 00:00:00.012"
                    },
                    "metadata": {}
                },
                {
                    "output_type": "execute_result",
                    "metadata": {},
                    "execution_count": 59,
                    "data": {
                        "application/vnd.dataresource+json": {
                            "schema": {
                                "fields": [
                                    {
                                        "name": "CocktailSK"
                                    },
                                    {
                                        "name": "Name"
                                    },
                                    {
                                        "name": "TypeFK"
                                    },
                                    {
                                        "name": "Price"
                                    }
                                ]
                            },
                            "data": [
                                {
                                    "CocktailSK": "1",
                                    "Name": "Alexander",
                                    "TypeFK": "1",
                                    "Price": "760,00"
                                },
                                {
                                    "CocktailSK": "2",
                                    "Name": "Alexandra koktél",
                                    "TypeFK": "4",
                                    "Price": "800,00"
                                },
                                {
                                    "CocktailSK": "3",
                                    "Name": "Americano",
                                    "TypeFK": "1",
                                    "Price": "690,00"
                                },
                                {
                                    "CocktailSK": "4",
                                    "Name": "Angel's face",
                                    "TypeFK": "4",
                                    "Price": "780,00"
                                },
                                {
                                    "CocktailSK": "5",
                                    "Name": "Aphotheke",
                                    "TypeFK": "9",
                                    "Price": "820,00"
                                },
                                {
                                    "CocktailSK": "6",
                                    "Name": "B and B",
                                    "TypeFK": "1",
                                    "Price": "590,00"
                                },
                                {
                                    "CocktailSK": "7",
                                    "Name": "Between the Sheets",
                                    "TypeFK": "1",
                                    "Price": "660,00"
                                },
                                {
                                    "CocktailSK": "8",
                                    "Name": "Black Russian",
                                    "TypeFK": "3",
                                    "Price": "700,00"
                                },
                                {
                                    "CocktailSK": "9",
                                    "Name": "Bloody Mary",
                                    "TypeFK": "3",
                                    "Price": "666,00"
                                },
                                {
                                    "CocktailSK": "10",
                                    "Name": "Brandy Flip",
                                    "TypeFK": "1",
                                    "Price": "820,00"
                                },
                                {
                                    "CocktailSK": "11",
                                    "Name": "Breakfast Egg-Nog",
                                    "TypeFK": "1",
                                    "Price": "890,00"
                                },
                                {
                                    "CocktailSK": "12",
                                    "Name": "Bronx",
                                    "TypeFK": "4",
                                    "Price": "890,00"
                                },
                                {
                                    "CocktailSK": "13",
                                    "Name": "Bull's Eye",
                                    "TypeFK": "1",
                                    "Price": "780,00"
                                },
                                {
                                    "CocktailSK": "14",
                                    "Name": "Pezsgős koktél",
                                    "TypeFK": "6",
                                    "Price": "490,00"
                                },
                                {
                                    "CocktailSK": "15",
                                    "Name": "Créme de Menthe Frappé",
                                    "TypeFK": "7",
                                    "Price": "700,00"
                                },
                                {
                                    "CocktailSK": "16",
                                    "Name": "Cuba Libre",
                                    "TypeFK": "5",
                                    "Price": "890,00"
                                },
                                {
                                    "CocktailSK": "17",
                                    "Name": "Daiquiri",
                                    "TypeFK": "5",
                                    "Price": "890,00"
                                },
                                {
                                    "CocktailSK": "18",
                                    "Name": "Mojito",
                                    "TypeFK": "1",
                                    "Price": "860,00"
                                },
                                {
                                    "CocktailSK": "100",
                                    "Name": "Corvin Dreams",
                                    "TypeFK": "1",
                                    "Price": "900,00"
                                }
                            ]
                        },
                        "text/html": [
                            "<table>",
                            "<tr><th>CocktailSK</th><th>Name</th><th>TypeFK</th><th>Price</th></tr>",
                            "<tr><td>1</td><td>Alexander</td><td>1</td><td>760,00</td></tr>",
                            "<tr><td>2</td><td>Alexandra koktél</td><td>4</td><td>800,00</td></tr>",
                            "<tr><td>3</td><td>Americano</td><td>1</td><td>690,00</td></tr>",
                            "<tr><td>4</td><td>Angel&#39;s face</td><td>4</td><td>780,00</td></tr>",
                            "<tr><td>5</td><td>Aphotheke</td><td>9</td><td>820,00</td></tr>",
                            "<tr><td>6</td><td>B and B</td><td>1</td><td>590,00</td></tr>",
                            "<tr><td>7</td><td>Between the Sheets</td><td>1</td><td>660,00</td></tr>",
                            "<tr><td>8</td><td>Black Russian</td><td>3</td><td>700,00</td></tr>",
                            "<tr><td>9</td><td>Bloody Mary</td><td>3</td><td>666,00</td></tr>",
                            "<tr><td>10</td><td>Brandy Flip</td><td>1</td><td>820,00</td></tr>",
                            "<tr><td>11</td><td>Breakfast Egg-Nog</td><td>1</td><td>890,00</td></tr>",
                            "<tr><td>12</td><td>Bronx</td><td>4</td><td>890,00</td></tr>",
                            "<tr><td>13</td><td>Bull&#39;s Eye</td><td>1</td><td>780,00</td></tr>",
                            "<tr><td>14</td><td>Pezsgős koktél</td><td>6</td><td>490,00</td></tr>",
                            "<tr><td>15</td><td>Créme de Menthe Frappé</td><td>7</td><td>700,00</td></tr>",
                            "<tr><td>16</td><td>Cuba Libre</td><td>5</td><td>890,00</td></tr>",
                            "<tr><td>17</td><td>Daiquiri</td><td>5</td><td>890,00</td></tr>",
                            "<tr><td>18</td><td>Mojito</td><td>1</td><td>860,00</td></tr>",
                            "<tr><td>100</td><td>Corvin Dreams</td><td>1</td><td>900,00</td></tr>",
                            "</table>"
                        ]
                    }
                }
            ],
            "execution_count": 59
        },
        {
            "cell_type": "markdown",
            "source": [
                "1.2. Árak szerinti csoportosítás"
            ],
            "metadata": {
                "azdata_cell_guid": "76a2af93-ec36-4006-99ae-87907bd528bb"
            },
            "attachments": {}
        },
        {
            "cell_type": "code",
            "source": [
                "DECLARE \n",
                "@min int = 700,\n",
                "@max int = 850;   \n",
                "\n",
                "SELECT \n",
                "    SUM(CASE WHEN Price < @min THEN 1 ELSE 0 end) AS 'Olcsó',\n",
                "    SUM(CASE WHEN Price BETWEEN @min and @max THEN 1 ELSE 0 end) AS 'Átlagos',\n",
                "    SUM(CASE WHEN PRice > @max THEN 1 ELSE 0 end) AS 'Drága'\n",
                "FROM Cocktail"
            ],
            "metadata": {
                "azdata_cell_guid": "d8f9fe4a-c7db-4b70-8a58-9b74091b5c6f",
                "language": "sql"
            },
            "outputs": [
                {
                    "output_type": "display_data",
                    "data": {
                        "text/html": "(1 row affected)"
                    },
                    "metadata": {}
                },
                {
                    "output_type": "display_data",
                    "data": {
                        "text/html": "Total execution time: 00:00:00.020"
                    },
                    "metadata": {}
                },
                {
                    "output_type": "execute_result",
                    "metadata": {},
                    "execution_count": 61,
                    "data": {
                        "application/vnd.dataresource+json": {
                            "schema": {
                                "fields": [
                                    {
                                        "name": "Olcsó"
                                    },
                                    {
                                        "name": "Átlagos"
                                    },
                                    {
                                        "name": "Drága"
                                    }
                                ]
                            },
                            "data": [
                                {
                                    "Olcsó": "5",
                                    "Átlagos": "8",
                                    "Drága": "6"
                                }
                            ]
                        },
                        "text/html": [
                            "<table>",
                            "<tr><th>Olcsó</th><th>Átlagos</th><th>Drága</th></tr>",
                            "<tr><td>5</td><td>8</td><td>6</td></tr>",
                            "</table>"
                        ]
                    }
                }
            ],
            "execution_count": 61
        },
        {
            "cell_type": "markdown",
            "source": [
                "1.3."
            ],
            "metadata": {
                "azdata_cell_guid": "3c0dbeb9-c5a4-4e49-8ce4-4fd6994ecdf6"
            },
            "attachments": {}
        },
        {
            "cell_type": "code",
            "source": [
                ""
            ],
            "metadata": {
                "azdata_cell_guid": "7eb4e627-bc70-4039-b057-758b46809c7a",
                "language": "sql"
            },
            "outputs": [],
            "execution_count": null
        },
        {
            "cell_type": "code",
            "source": [
                "SELECT\n",
                "    MIN(Price) AS 'Legolcsóbb koktél',\n",
                "    MAX(Price) AS 'Legdrágább koktél',\n",
                "    AVG(Price) AS 'Átlag ár'\n",
                "FROM Cocktail"
            ],
            "metadata": {
                "language": "sql",
                "azdata_cell_guid": "adc0e233-2127-4977-8726-396c3f110d1e"
            },
            "outputs": [
                {
                    "output_type": "display_data",
                    "data": {
                        "text/html": "(1 row affected)"
                    },
                    "metadata": {}
                },
                {
                    "output_type": "display_data",
                    "data": {
                        "text/html": "Total execution time: 00:00:00.017"
                    },
                    "metadata": {}
                },
                {
                    "output_type": "execute_result",
                    "metadata": {},
                    "execution_count": 60,
                    "data": {
                        "application/vnd.dataresource+json": {
                            "schema": {
                                "fields": [
                                    {
                                        "name": "Legolcsóbb koktél"
                                    },
                                    {
                                        "name": "Legdrágább koktél"
                                    },
                                    {
                                        "name": "Átlag ár"
                                    }
                                ]
                            },
                            "data": [
                                {
                                    "Legolcsóbb koktél": "490,00",
                                    "Legdrágább koktél": "900,00",
                                    "Átlag ár": "767,1578"
                                }
                            ]
                        },
                        "text/html": [
                            "<table>",
                            "<tr><th>Legolcsóbb koktél</th><th>Legdrágább koktél</th><th>Átlag ár</th></tr>",
                            "<tr><td>490,00</td><td>900,00</td><td>767,1578</td></tr>",
                            "</table>"
                        ]
                    }
                }
            ],
            "execution_count": 60
        },
        {
            "cell_type": "markdown",
            "source": [
                "![](data:image/png;base64,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)"
            ],
            "metadata": {
                "language": "sql",
                "azdata_cell_guid": "85652e3b-f052-465c-ba55-18aa5a48f8bb"
            },
            "attachments": {}
        },
        {
            "cell_type": "markdown",
            "source": [
                "1.2."
            ],
            "metadata": {
                "language": "sql",
                "azdata_cell_guid": "cfe1fc16-577a-4b51-89ac-a1f892a5cc69"
            },
            "attachments": {}
        },
        {
            "cell_type": "markdown",
            "source": [
                "<mark>**2\\. Name oszlop**</mark>"
            ],
            "metadata": {
                "azdata_cell_guid": "188d8c4c-7040-4db9-a5e6-97f8bfcac767"
            },
            "attachments": {}
        },
        {
            "cell_type": "code",
            "source": [
                "SELECT *\n",
                "FROM Cocktail"
            ],
            "metadata": {
                "azdata_cell_guid": "b92a600c-b5be-4497-b843-3b54bea91e1c",
                "language": "sql"
            },
            "outputs": [
                {
                    "output_type": "display_data",
                    "data": {
                        "text/html": "(19 rows affected)"
                    },
                    "metadata": {}
                },
                {
                    "output_type": "display_data",
                    "data": {
                        "text/html": "Total execution time: 00:00:00.009"
                    },
                    "metadata": {}
                },
                {
                    "output_type": "execute_result",
                    "metadata": {},
                    "execution_count": 57,
                    "data": {
                        "application/vnd.dataresource+json": {
                            "schema": {
                                "fields": [
                                    {
                                        "name": "CocktailSK"
                                    },
                                    {
                                        "name": "Name"
                                    },
                                    {
                                        "name": "TypeFK"
                                    },
                                    {
                                        "name": "Price"
                                    }
                                ]
                            },
                            "data": [
                                {
                                    "CocktailSK": "1",
                                    "Name": "Alexander",
                                    "TypeFK": "1",
                                    "Price": "760,00"
                                },
                                {
                                    "CocktailSK": "2",
                                    "Name": "Alexandra koktél",
                                    "TypeFK": "4",
                                    "Price": "800,00"
                                },
                                {
                                    "CocktailSK": "3",
                                    "Name": "Americano",
                                    "TypeFK": "1",
                                    "Price": "690,00"
                                },
                                {
                                    "CocktailSK": "4",
                                    "Name": "Angel's face",
                                    "TypeFK": "4",
                                    "Price": "780,00"
                                },
                                {
                                    "CocktailSK": "5",
                                    "Name": "Aphotheke",
                                    "TypeFK": "9",
                                    "Price": "820,00"
                                },
                                {
                                    "CocktailSK": "6",
                                    "Name": "B and B",
                                    "TypeFK": "1",
                                    "Price": "590,00"
                                },
                                {
                                    "CocktailSK": "7",
                                    "Name": "Between the Sheets",
                                    "TypeFK": "1",
                                    "Price": "660,00"
                                },
                                {
                                    "CocktailSK": "8",
                                    "Name": "Black Russian",
                                    "TypeFK": "3",
                                    "Price": "700,00"
                                },
                                {
                                    "CocktailSK": "9",
                                    "Name": "Bloody Mary",
                                    "TypeFK": "3",
                                    "Price": "666,00"
                                },
                                {
                                    "CocktailSK": "10",
                                    "Name": "Brandy Flip",
                                    "TypeFK": "1",
                                    "Price": "820,00"
                                },
                                {
                                    "CocktailSK": "11",
                                    "Name": "Breakfast Egg-Nog",
                                    "TypeFK": "1",
                                    "Price": "890,00"
                                },
                                {
                                    "CocktailSK": "12",
                                    "Name": "Bronx",
                                    "TypeFK": "4",
                                    "Price": "890,00"
                                },
                                {
                                    "CocktailSK": "13",
                                    "Name": "Bull's Eye",
                                    "TypeFK": "1",
                                    "Price": "780,00"
                                },
                                {
                                    "CocktailSK": "14",
                                    "Name": "Pezsgős koktél",
                                    "TypeFK": "6",
                                    "Price": "490,00"
                                },
                                {
                                    "CocktailSK": "15",
                                    "Name": "Créme de Menthe Frappé",
                                    "TypeFK": "7",
                                    "Price": "700,00"
                                },
                                {
                                    "CocktailSK": "16",
                                    "Name": "Cuba Libre",
                                    "TypeFK": "5",
                                    "Price": "890,00"
                                },
                                {
                                    "CocktailSK": "17",
                                    "Name": "Daiquiri",
                                    "TypeFK": "5",
                                    "Price": "890,00"
                                },
                                {
                                    "CocktailSK": "18",
                                    "Name": "Mojito",
                                    "TypeFK": "1",
                                    "Price": "860,00"
                                },
                                {
                                    "CocktailSK": "100",
                                    "Name": "Corvin Dreams",
                                    "TypeFK": "1",
                                    "Price": "900,00"
                                }
                            ]
                        },
                        "text/html": [
                            "<table>",
                            "<tr><th>CocktailSK</th><th>Name</th><th>TypeFK</th><th>Price</th></tr>",
                            "<tr><td>1</td><td>Alexander</td><td>1</td><td>760,00</td></tr>",
                            "<tr><td>2</td><td>Alexandra koktél</td><td>4</td><td>800,00</td></tr>",
                            "<tr><td>3</td><td>Americano</td><td>1</td><td>690,00</td></tr>",
                            "<tr><td>4</td><td>Angel&#39;s face</td><td>4</td><td>780,00</td></tr>",
                            "<tr><td>5</td><td>Aphotheke</td><td>9</td><td>820,00</td></tr>",
                            "<tr><td>6</td><td>B and B</td><td>1</td><td>590,00</td></tr>",
                            "<tr><td>7</td><td>Between the Sheets</td><td>1</td><td>660,00</td></tr>",
                            "<tr><td>8</td><td>Black Russian</td><td>3</td><td>700,00</td></tr>",
                            "<tr><td>9</td><td>Bloody Mary</td><td>3</td><td>666,00</td></tr>",
                            "<tr><td>10</td><td>Brandy Flip</td><td>1</td><td>820,00</td></tr>",
                            "<tr><td>11</td><td>Breakfast Egg-Nog</td><td>1</td><td>890,00</td></tr>",
                            "<tr><td>12</td><td>Bronx</td><td>4</td><td>890,00</td></tr>",
                            "<tr><td>13</td><td>Bull&#39;s Eye</td><td>1</td><td>780,00</td></tr>",
                            "<tr><td>14</td><td>Pezsgős koktél</td><td>6</td><td>490,00</td></tr>",
                            "<tr><td>15</td><td>Créme de Menthe Frappé</td><td>7</td><td>700,00</td></tr>",
                            "<tr><td>16</td><td>Cuba Libre</td><td>5</td><td>890,00</td></tr>",
                            "<tr><td>17</td><td>Daiquiri</td><td>5</td><td>890,00</td></tr>",
                            "<tr><td>18</td><td>Mojito</td><td>1</td><td>860,00</td></tr>",
                            "<tr><td>100</td><td>Corvin Dreams</td><td>1</td><td>900,00</td></tr>",
                            "</table>"
                        ]
                    }
                }
            ],
            "execution_count": 57
        },
        {
            "cell_type": "markdown",
            "source": [
                "2.1. Leghosszabb nevű koktél + karakterszám"
            ],
            "metadata": {
                "azdata_cell_guid": "07922fe5-88eb-4c6e-827a-04fc5c1cd094"
            },
            "attachments": {}
        },
        {
            "cell_type": "code",
            "source": [
                "SELECT TOP 1 Name AS 'Leghosszabb név',\n",
                "    LEN(Name) AS 'karakterszám'\n",
                "FROM Cocktail\n",
                "GROUP BY Name\n",
                "ORDER BY 2 DESC"
            ],
            "metadata": {
                "language": "sql",
                "azdata_cell_guid": "be681305-6bdf-4e81-86cc-a0131e8a0f3a"
            },
            "outputs": [],
            "execution_count": null
        },
        {
            "cell_type": "markdown",
            "source": [
                "2.2. Legrövidebb nevű koktél + karakterszám"
            ],
            "metadata": {
                "azdata_cell_guid": "040019d6-c955-40ef-a35f-de6a14768ffd"
            },
            "attachments": {}
        },
        {
            "cell_type": "code",
            "source": [
                "SELECT TOP 1 Name AS 'Legrövidebb név',\n",
                "    LEN(Name) AS 'karakterszám'\n",
                "FROM Cocktail\n",
                "GROUP BY Name\n",
                "ORDER BY 2"
            ],
            "metadata": {
                "azdata_cell_guid": "f992c322-91d3-49b3-8f30-43c42fbd7299",
                "language": "sql"
            },
            "outputs": [],
            "execution_count": null
        },
        {
            "cell_type": "markdown",
            "source": [
                "2.3. Összes koktélszám (név)"
            ],
            "metadata": {
                "language": "sql",
                "azdata_cell_guid": "f710409a-3325-4b4b-8c6d-551d854b22ab"
            },
            "attachments": {}
        },
        {
            "cell_type": "code",
            "source": [
                "SELECT COUNT(*) AS 'Koktélok száma'\n",
                "FROM Cocktail"
            ],
            "metadata": {
                "language": "sql",
                "azdata_cell_guid": "730b6875-c62b-49d0-82cd-65fb78c32202"
            },
            "outputs": [],
            "execution_count": null
        },
        {
            "cell_type": "markdown",
            "source": [
                "+1: top 3 legnépszerűbb koktél típus"
            ],
            "metadata": {
                "azdata_cell_guid": "53d22b8a-9a13-4fc8-a46e-8716847f1fa8"
            },
            "attachments": {}
        },
        {
            "cell_type": "code",
            "source": [
                "SELECT TOP 3\n",
                "    t.Name AS 'Kategória',\n",
                "    COUNT(*) Darab\n",
                "FROM Cocktail c JOIN [Type] t ON c.TypeFK = t.TypeID\n",
                "WHERE TypeFK IS not null\n",
                "GROUP BY t.Name, c.TypeFK\n",
                "ORDER BY COUNT(*) desc"
            ],
            "metadata": {
                "azdata_cell_guid": "6c1bd83d-647f-409d-92dc-394bbb6e7a00",
                "language": "sql"
            },
            "outputs": [
                {
                    "output_type": "display_data",
                    "data": {
                        "text/html": "(3 rows affected)"
                    },
                    "metadata": {}
                },
                {
                    "output_type": "display_data",
                    "data": {
                        "text/html": "Total execution time: 00:00:00.011"
                    },
                    "metadata": {}
                },
                {
                    "output_type": "execute_result",
                    "metadata": {},
                    "execution_count": 58,
                    "data": {
                        "application/vnd.dataresource+json": {
                            "schema": {
                                "fields": [
                                    {
                                        "name": "Kategória"
                                    },
                                    {
                                        "name": "Darab"
                                    }
                                ]
                            },
                            "data": [
                                {
                                    "Kategória": "Brandyvel",
                                    "Darab": "9"
                                },
                                {
                                    "Kategória": "Ginnel",
                                    "Darab": "3"
                                },
                                {
                                    "Kategória": "Rummal",
                                    "Darab": "2"
                                }
                            ]
                        },
                        "text/html": [
                            "<table>",
                            "<tr><th>Kategória</th><th>Darab</th></tr>",
                            "<tr><td>Brandyvel</td><td>9</td></tr>",
                            "<tr><td>Ginnel</td><td>3</td></tr>",
                            "<tr><td>Rummal</td><td>2</td></tr>",
                            "</table>"
                        ]
                    }
                }
            ],
            "execution_count": 58
        }
    ]
}