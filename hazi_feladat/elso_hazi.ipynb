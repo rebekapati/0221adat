{
    "metadata": {
        "kernelspec": {
            "name": "SQL",
            "display_name": "SQL",
            "language": "sql"
        },
        "language_info": {
            "name": "sql",
            "version": ""
        }
    },
    "nbformat_minor": 2,
    "nbformat": 4,
    "cells": [
        {
            "cell_type": "markdown",
            "source": [
                "proba"
            ],
            "metadata": {
                "azdata_cell_guid": "49aab0fe-f11e-4238-b2fe-0e2878b5bdcc"
            }
        }
    ]
}