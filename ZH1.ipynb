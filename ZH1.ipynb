{
    "metadata": {
        "kernelspec": {
            "name": "SQL",
            "display_name": "SQL",
            "language": "sql"
        },
        "language_info": {
            "name": "sql",
            "version": ""
        }
    },
    "nbformat_minor": 2,
    "nbformat": 4,
    "cells": [
        {
            "cell_type": "markdown",
            "source": [
                "1\\. feladat Kérdezze le, március hónapban ki rögzített Balaton környéki szálláshelyet! \n",
                "\n",
                "a. A listában jelenjen meg a rögzítő neve, a szállás neve és címe!\n",
                "\n",
                "b. A listát rendezzük csillagok száma szerint csökkenő sorba!"
            ],
            "metadata": {
                "azdata_cell_guid": "f6bff172-9c3d-4b6f-9c20-f65b20b1b251"
            },
            "attachments": {}
        },
        {
            "cell_type": "code",
            "source": [
                "SELECT \n",
                "    ROGZITETTE AS 'Rögzítő neve',\n",
                "    SZALLAS_NEV AS 'Szállás neve',\n",
                "    CIM AS 'Szállás címe'\n",
                "FROM Szallashely\n",
                "WHERE MONTH(ROGZ_IDO) = '03' AND HELY LIKE '%Balaton%'\n",
                "ORDER BY CSILLAGOK_SZAMA DESC"
            ],
            "metadata": {
                "azdata_cell_guid": "464b9054-f505-4654-bf50-545a8312c914",
                "language": "sql"
            },
            "outputs": [],
            "execution_count": null
        },
        {
            "cell_type": "markdown",
            "source": [
                "2\\. feladat\n",
                "\n",
                "Egészítse ki a megkezdett lekérdezést, amely megjeleníti, hogy hány klímás szobája van az egyes szálláshelyeknek! \n",
                "\n",
                "a. A listában a szálláshely azonosítója mellett jelenjen meg a szálláshely neve és a klímás szobák száma!"
            ],
            "metadata": {
                "azdata_cell_guid": "61abeec4-474e-4e0e-a028-2840c78c10d3"
            },
            "attachments": {}
        },
        {
            "cell_type": "code",
            "source": [
                "SELECT\r\n",
                "    szh.SZALLAS_ID AS 'Szállás ID',\r\n",
                "    szh.SZALLAS_NEV AS 'Szállás neve', \r\n",
                "    COUNT(*) AS 'Klimatizált szobák száma'\r\n",
                "FROM Szallashely szh JOIN Szoba sz ON szh.SZALLAS_ID = sz.SZALLAS_FK\r\n",
                "WHERE sz.KLIMAS = 'i'\r\n",
                "GROUP BY szh.SZALLAS_ID, szh.SZALLAS_NEV"
            ],
            "metadata": {
                "azdata_cell_guid": "f1e6e583-7d57-447d-b816-fd979b2caf28",
                "language": "sql"
            },
            "outputs": [],
            "execution_count": null
        },
        {
            "cell_type": "markdown",
            "source": [
                "3\\. feladat\n",
                "\n",
                "Készítsen lekérdezést, amely az ügyfeleket születési idejük alapján kategóriákba sorolja (1985-ben vagy utána születettek: fiatal, 1970 előtt születettek: idős, a többiek: középkorú), majd megjeleníti, hogy melyik kategóriában hány foglalás történt!\n",
                "\n",
                "a. Csak a kategória neve és a foglalásszám jelenjen meg\n",
                "\n",
                "b. A számolás során csak azokat a foglalásokat vegyük figyelembe, amelyek legalább 2 főre történtek!"
            ],
            "metadata": {
                "azdata_cell_guid": "52b1f69b-5dd7-4cd7-a01f-b3b99820ea9d"
            },
            "attachments": {}
        },
        {
            "cell_type": "code",
            "source": [
                "SELECT\r\n",
                "    CASE\r\n",
                "        WHEN YEAR(SZUL_DAT) < '1970' THEN 'idős'\r\n",
                "        WHEN YEAR(SZUL_DAT) >= '1985' THEN 'fiatal'\r\n",
                "        ELSE 'középkorú'\r\n",
                "    END AS 'Vendég korcsoportja',\r\n",
                "    COUNT(*) AS 'Foglalások száma'\r\n",
                "FROM Vendeg v JOIN Foglalas f ON v.USERNEV = f.UGYFEL_FK\r\n",
                "GROUP by v.SZUL_DAT\r\n",
                "HAVING COUNT(*) >= '2'"
            ],
            "metadata": {
                "azdata_cell_guid": "889d76c6-f589-44c5-bbfc-3403302b0fe2",
                "language": "sql"
            },
            "outputs": [
                {
                    "output_type": "display_data",
                    "data": {
                        "text/html": "(184 rows affected)"
                    },
                    "metadata": {}
                },
                {
                    "output_type": "display_data",
                    "data": {
                        "text/html": "Total execution time: 00:00:00.015"
                    },
                    "metadata": {}
                },
                {
                    "output_type": "execute_result",
                    "metadata": {},
                    "execution_count": 13,
                    "data": {
                        "application/vnd.dataresource+json": {
                            "schema": {
                                "fields": [
                                    {
                                        "name": "Vendég korcsoportja"
                                    },
                                    {
                                        "name": "Foglalások száma"
                                    }
                                ]
                            },
                            "data": [
                                {
                                    "Vendég korcsoportja": "idős",
                                    "Foglalások száma": "5"
                                },
                                {
                                    "Vendég korcsoportja": "fiatal",
                                    "Foglalások száma": "3"
                                },
                                {
                                    "Vendég korcsoportja": "fiatal",
                                    "Foglalások száma": "5"
                                },
                                {
                                    "Vendég korcsoportja": "fiatal",
                                    "Foglalások száma": "3"
                                },
                                {
                                    "Vendég korcsoportja": "fiatal",
                                    "Foglalások száma": "7"
                                },
                                {
                                    "Vendég korcsoportja": "fiatal",
                                    "Foglalások száma": "6"
                                },
                                {
                                    "Vendég korcsoportja": "fiatal",
                                    "Foglalások száma": "6"
                                },
                                {
                                    "Vendég korcsoportja": "középkorú",
                                    "Foglalások száma": "4"
                                },
                                {
                                    "Vendég korcsoportja": "idős",
                                    "Foglalások száma": "5"
                                },
                                {
                                    "Vendég korcsoportja": "fiatal",
                                    "Foglalások száma": "12"
                                },
                                {
                                    "Vendég korcsoportja": "középkorú",
                                    "Foglalások száma": "6"
                                },
                                {
                                    "Vendég korcsoportja": "fiatal",
                                    "Foglalások száma": "4"
                                },
                                {
                                    "Vendég korcsoportja": "középkorú",
                                    "Foglalások száma": "4"
                                },
                                {
                                    "Vendég korcsoportja": "fiatal",
                                    "Foglalások száma": "7"
                                },
                                {
                                    "Vendég korcsoportja": "fiatal",
                                    "Foglalások száma": "4"
                                },
                                {
                                    "Vendég korcsoportja": "középkorú",
                                    "Foglalások száma": "6"
                                },
                                {
                                    "Vendég korcsoportja": "középkorú",
                                    "Foglalások száma": "7"
                                },
                                {
                                    "Vendég korcsoportja": "középkorú",
                                    "Foglalások száma": "3"
                                },
                                {
                                    "Vendég korcsoportja": "középkorú",
                                    "Foglalások száma": "4"
                                },
                                {
                                    "Vendég korcsoportja": "középkorú",
                                    "Foglalások száma": "3"
                                },
                                {
                                    "Vendég korcsoportja": "fiatal",
                                    "Foglalások száma": "3"
                                },
                                {
                                    "Vendég korcsoportja": "fiatal",
                                    "Foglalások száma": "4"
                                },
                                {
                                    "Vendég korcsoportja": "középkorú",
                                    "Foglalások száma": "4"
                                },
                                {
                                    "Vendég korcsoportja": "fiatal",
                                    "Foglalások száma": "9"
                                },
                                {
                                    "Vendég korcsoportja": "fiatal",
                                    "Foglalások száma": "6"
                                },
                                {
                                    "Vendég korcsoportja": "fiatal",
                                    "Foglalások száma": "9"
                                },
                                {
                                    "Vendég korcsoportja": "középkorú",
                                    "Foglalások száma": "8"
                                },
                                {
                                    "Vendég korcsoportja": "középkorú",
                                    "Foglalások száma": "5"
                                },
                                {
                                    "Vendég korcsoportja": "középkorú",
                                    "Foglalások száma": "3"
                                },
                                {
                                    "Vendég korcsoportja": "fiatal",
                                    "Foglalások száma": "6"
                                },
                                {
                                    "Vendég korcsoportja": "fiatal",
                                    "Foglalások száma": "3"
                                },
                                {
                                    "Vendég korcsoportja": "középkorú",
                                    "Foglalások száma": "9"
                                },
                                {
                                    "Vendég korcsoportja": "fiatal",
                                    "Foglalások száma": "3"
                                },
                                {
                                    "Vendég korcsoportja": "fiatal",
                                    "Foglalások száma": "6"
                                },
                                {
                                    "Vendég korcsoportja": "idős",
                                    "Foglalások száma": "5"
                                },
                                {
                                    "Vendég korcsoportja": "fiatal",
                                    "Foglalások száma": "7"
                                },
                                {
                                    "Vendég korcsoportja": "középkorú",
                                    "Foglalások száma": "6"
                                },
                                {
                                    "Vendég korcsoportja": "középkorú",
                                    "Foglalások száma": "3"
                                },
                                {
                                    "Vendég korcsoportja": "fiatal",
                                    "Foglalások száma": "6"
                                },
                                {
                                    "Vendég korcsoportja": "fiatal",
                                    "Foglalások száma": "7"
                                },
                                {
                                    "Vendég korcsoportja": "fiatal",
                                    "Foglalások száma": "6"
                                },
                                {
                                    "Vendég korcsoportja": "fiatal",
                                    "Foglalások száma": "5"
                                },
                                {
                                    "Vendég korcsoportja": "fiatal",
                                    "Foglalások száma": "10"
                                },
                                {
                                    "Vendég korcsoportja": "középkorú",
                                    "Foglalások száma": "4"
                                },
                                {
                                    "Vendég korcsoportja": "fiatal",
                                    "Foglalások száma": "4"
                                },
                                {
                                    "Vendég korcsoportja": "középkorú",
                                    "Foglalások száma": "7"
                                },
                                {
                                    "Vendég korcsoportja": "középkorú",
                                    "Foglalások száma": "3"
                                },
                                {
                                    "Vendég korcsoportja": "középkorú",
                                    "Foglalások száma": "8"
                                },
                                {
                                    "Vendég korcsoportja": "középkorú",
                                    "Foglalások száma": "6"
                                },
                                {
                                    "Vendég korcsoportja": "középkorú",
                                    "Foglalások száma": "4"
                                },
                                {
                                    "Vendég korcsoportja": "középkorú",
                                    "Foglalások száma": "4"
                                },
                                {
                                    "Vendég korcsoportja": "fiatal",
                                    "Foglalások száma": "4"
                                },
                                {
                                    "Vendég korcsoportja": "középkorú",
                                    "Foglalások száma": "9"
                                },
                                {
                                    "Vendég korcsoportja": "fiatal",
                                    "Foglalások száma": "5"
                                },
                                {
                                    "Vendég korcsoportja": "középkorú",
                                    "Foglalások száma": "5"
                                },
                                {
                                    "Vendég korcsoportja": "fiatal",
                                    "Foglalások száma": "4"
                                },
                                {
                                    "Vendég korcsoportja": "középkorú",
                                    "Foglalások száma": "2"
                                },
                                {
                                    "Vendég korcsoportja": "fiatal",
                                    "Foglalások száma": "9"
                                },
                                {
                                    "Vendég korcsoportja": "középkorú",
                                    "Foglalások száma": "6"
                                },
                                {
                                    "Vendég korcsoportja": "középkorú",
                                    "Foglalások száma": "6"
                                },
                                {
                                    "Vendég korcsoportja": "középkorú",
                                    "Foglalások száma": "8"
                                },
                                {
                                    "Vendég korcsoportja": "idős",
                                    "Foglalások száma": "9"
                                },
                                {
                                    "Vendég korcsoportja": "középkorú",
                                    "Foglalások száma": "6"
                                },
                                {
                                    "Vendég korcsoportja": "fiatal",
                                    "Foglalások száma": "3"
                                },
                                {
                                    "Vendég korcsoportja": "középkorú",
                                    "Foglalások száma": "8"
                                },
                                {
                                    "Vendég korcsoportja": "középkorú",
                                    "Foglalások száma": "4"
                                },
                                {
                                    "Vendég korcsoportja": "középkorú",
                                    "Foglalások száma": "6"
                                },
                                {
                                    "Vendég korcsoportja": "fiatal",
                                    "Foglalások száma": "2"
                                },
                                {
                                    "Vendég korcsoportja": "fiatal",
                                    "Foglalások száma": "6"
                                },
                                {
                                    "Vendég korcsoportja": "idős",
                                    "Foglalások száma": "5"
                                },
                                {
                                    "Vendég korcsoportja": "fiatal",
                                    "Foglalások száma": "8"
                                },
                                {
                                    "Vendég korcsoportja": "fiatal",
                                    "Foglalások száma": "2"
                                },
                                {
                                    "Vendég korcsoportja": "fiatal",
                                    "Foglalások száma": "4"
                                },
                                {
                                    "Vendég korcsoportja": "fiatal",
                                    "Foglalások száma": "3"
                                },
                                {
                                    "Vendég korcsoportja": "idős",
                                    "Foglalások száma": "4"
                                },
                                {
                                    "Vendég korcsoportja": "középkorú",
                                    "Foglalások száma": "5"
                                },
                                {
                                    "Vendég korcsoportja": "fiatal",
                                    "Foglalások száma": "5"
                                },
                                {
                                    "Vendég korcsoportja": "középkorú",
                                    "Foglalások száma": "10"
                                },
                                {
                                    "Vendég korcsoportja": "középkorú",
                                    "Foglalások száma": "6"
                                },
                                {
                                    "Vendég korcsoportja": "fiatal",
                                    "Foglalások száma": "3"
                                },
                                {
                                    "Vendég korcsoportja": "fiatal",
                                    "Foglalások száma": "10"
                                },
                                {
                                    "Vendég korcsoportja": "középkorú",
                                    "Foglalások száma": "9"
                                },
                                {
                                    "Vendég korcsoportja": "idős",
                                    "Foglalások száma": "7"
                                },
                                {
                                    "Vendég korcsoportja": "középkorú",
                                    "Foglalások száma": "7"
                                },
                                {
                                    "Vendég korcsoportja": "középkorú",
                                    "Foglalások száma": "2"
                                },
                                {
                                    "Vendég korcsoportja": "fiatal",
                                    "Foglalások száma": "8"
                                },
                                {
                                    "Vendég korcsoportja": "középkorú",
                                    "Foglalások száma": "7"
                                },
                                {
                                    "Vendég korcsoportja": "fiatal",
                                    "Foglalások száma": "20"
                                },
                                {
                                    "Vendég korcsoportja": "középkorú",
                                    "Foglalások száma": "5"
                                },
                                {
                                    "Vendég korcsoportja": "középkorú",
                                    "Foglalások száma": "3"
                                },
                                {
                                    "Vendég korcsoportja": "középkorú",
                                    "Foglalások száma": "3"
                                },
                                {
                                    "Vendég korcsoportja": "középkorú",
                                    "Foglalások száma": "4"
                                },
                                {
                                    "Vendég korcsoportja": "fiatal",
                                    "Foglalások száma": "5"
                                },
                                {
                                    "Vendég korcsoportja": "középkorú",
                                    "Foglalások száma": "3"
                                },
                                {
                                    "Vendég korcsoportja": "fiatal",
                                    "Foglalások száma": "2"
                                },
                                {
                                    "Vendég korcsoportja": "fiatal",
                                    "Foglalások száma": "3"
                                },
                                {
                                    "Vendég korcsoportja": "középkorú",
                                    "Foglalások száma": "6"
                                },
                                {
                                    "Vendég korcsoportja": "idős",
                                    "Foglalások száma": "6"
                                },
                                {
                                    "Vendég korcsoportja": "fiatal",
                                    "Foglalások száma": "5"
                                },
                                {
                                    "Vendég korcsoportja": "középkorú",
                                    "Foglalások száma": "2"
                                },
                                {
                                    "Vendég korcsoportja": "középkorú",
                                    "Foglalások száma": "6"
                                },
                                {
                                    "Vendég korcsoportja": "középkorú",
                                    "Foglalások száma": "9"
                                },
                                {
                                    "Vendég korcsoportja": "fiatal",
                                    "Foglalások száma": "4"
                                },
                                {
                                    "Vendég korcsoportja": "idős",
                                    "Foglalások száma": "5"
                                },
                                {
                                    "Vendég korcsoportja": "középkorú",
                                    "Foglalások száma": "9"
                                },
                                {
                                    "Vendég korcsoportja": "középkorú",
                                    "Foglalások száma": "7"
                                },
                                {
                                    "Vendég korcsoportja": "középkorú",
                                    "Foglalások száma": "4"
                                },
                                {
                                    "Vendég korcsoportja": "középkorú",
                                    "Foglalások száma": "5"
                                },
                                {
                                    "Vendég korcsoportja": "középkorú",
                                    "Foglalások száma": "12"
                                },
                                {
                                    "Vendég korcsoportja": "középkorú",
                                    "Foglalások száma": "4"
                                },
                                {
                                    "Vendég korcsoportja": "fiatal",
                                    "Foglalások száma": "3"
                                },
                                {
                                    "Vendég korcsoportja": "középkorú",
                                    "Foglalások száma": "4"
                                },
                                {
                                    "Vendég korcsoportja": "középkorú",
                                    "Foglalások száma": "2"
                                },
                                {
                                    "Vendég korcsoportja": "fiatal",
                                    "Foglalások száma": "3"
                                },
                                {
                                    "Vendég korcsoportja": "idős",
                                    "Foglalások száma": "8"
                                },
                                {
                                    "Vendég korcsoportja": "fiatal",
                                    "Foglalások száma": "6"
                                },
                                {
                                    "Vendég korcsoportja": "fiatal",
                                    "Foglalások száma": "7"
                                },
                                {
                                    "Vendég korcsoportja": "fiatal",
                                    "Foglalások száma": "4"
                                },
                                {
                                    "Vendég korcsoportja": "középkorú",
                                    "Foglalások száma": "6"
                                },
                                {
                                    "Vendég korcsoportja": "fiatal",
                                    "Foglalások száma": "6"
                                },
                                {
                                    "Vendég korcsoportja": "középkorú",
                                    "Foglalások száma": "4"
                                },
                                {
                                    "Vendég korcsoportja": "fiatal",
                                    "Foglalások száma": "7"
                                },
                                {
                                    "Vendég korcsoportja": "fiatal",
                                    "Foglalások száma": "6"
                                },
                                {
                                    "Vendég korcsoportja": "fiatal",
                                    "Foglalások száma": "2"
                                },
                                {
                                    "Vendég korcsoportja": "fiatal",
                                    "Foglalások száma": "4"
                                },
                                {
                                    "Vendég korcsoportja": "középkorú",
                                    "Foglalások száma": "8"
                                },
                                {
                                    "Vendég korcsoportja": "középkorú",
                                    "Foglalások száma": "8"
                                },
                                {
                                    "Vendég korcsoportja": "fiatal",
                                    "Foglalások száma": "4"
                                },
                                {
                                    "Vendég korcsoportja": "középkorú",
                                    "Foglalások száma": "10"
                                },
                                {
                                    "Vendég korcsoportja": "idős",
                                    "Foglalások száma": "8"
                                },
                                {
                                    "Vendég korcsoportja": "idős",
                                    "Foglalások száma": "5"
                                },
                                {
                                    "Vendég korcsoportja": "fiatal",
                                    "Foglalások száma": "2"
                                },
                                {
                                    "Vendég korcsoportja": "fiatal",
                                    "Foglalások száma": "4"
                                },
                                {
                                    "Vendég korcsoportja": "középkorú",
                                    "Foglalások száma": "6"
                                },
                                {
                                    "Vendég korcsoportja": "középkorú",
                                    "Foglalások száma": "3"
                                },
                                {
                                    "Vendég korcsoportja": "fiatal",
                                    "Foglalások száma": "5"
                                },
                                {
                                    "Vendég korcsoportja": "középkorú",
                                    "Foglalások száma": "4"
                                },
                                {
                                    "Vendég korcsoportja": "fiatal",
                                    "Foglalások száma": "7"
                                },
                                {
                                    "Vendég korcsoportja": "középkorú",
                                    "Foglalások száma": "4"
                                },
                                {
                                    "Vendég korcsoportja": "fiatal",
                                    "Foglalások száma": "2"
                                },
                                {
                                    "Vendég korcsoportja": "középkorú",
                                    "Foglalások száma": "7"
                                },
                                {
                                    "Vendég korcsoportja": "középkorú",
                                    "Foglalások száma": "6"
                                },
                                {
                                    "Vendég korcsoportja": "középkorú",
                                    "Foglalások száma": "12"
                                },
                                {
                                    "Vendég korcsoportja": "középkorú",
                                    "Foglalások száma": "5"
                                },
                                {
                                    "Vendég korcsoportja": "fiatal",
                                    "Foglalások száma": "4"
                                },
                                {
                                    "Vendég korcsoportja": "fiatal",
                                    "Foglalások száma": "3"
                                },
                                {
                                    "Vendég korcsoportja": "középkorú",
                                    "Foglalások száma": "4"
                                },
                                {
                                    "Vendég korcsoportja": "középkorú",
                                    "Foglalások száma": "7"
                                },
                                {
                                    "Vendég korcsoportja": "idős",
                                    "Foglalások száma": "5"
                                },
                                {
                                    "Vendég korcsoportja": "idős",
                                    "Foglalások száma": "10"
                                },
                                {
                                    "Vendég korcsoportja": "középkorú",
                                    "Foglalások száma": "3"
                                },
                                {
                                    "Vendég korcsoportja": "középkorú",
                                    "Foglalások száma": "2"
                                },
                                {
                                    "Vendég korcsoportja": "idős",
                                    "Foglalások száma": "3"
                                },
                                {
                                    "Vendég korcsoportja": "fiatal",
                                    "Foglalások száma": "12"
                                },
                                {
                                    "Vendég korcsoportja": "idős",
                                    "Foglalások száma": "6"
                                },
                                {
                                    "Vendég korcsoportja": "középkorú",
                                    "Foglalások száma": "3"
                                },
                                {
                                    "Vendég korcsoportja": "idős",
                                    "Foglalások száma": "4"
                                },
                                {
                                    "Vendég korcsoportja": "fiatal",
                                    "Foglalások száma": "2"
                                },
                                {
                                    "Vendég korcsoportja": "fiatal",
                                    "Foglalások száma": "9"
                                },
                                {
                                    "Vendég korcsoportja": "idős",
                                    "Foglalások száma": "6"
                                },
                                {
                                    "Vendég korcsoportja": "fiatal",
                                    "Foglalások száma": "7"
                                },
                                {
                                    "Vendég korcsoportja": "fiatal",
                                    "Foglalások száma": "4"
                                },
                                {
                                    "Vendég korcsoportja": "idős",
                                    "Foglalások száma": "7"
                                },
                                {
                                    "Vendég korcsoportja": "idős",
                                    "Foglalások száma": "3"
                                },
                                {
                                    "Vendég korcsoportja": "középkorú",
                                    "Foglalások száma": "9"
                                },
                                {
                                    "Vendég korcsoportja": "középkorú",
                                    "Foglalások száma": "6"
                                },
                                {
                                    "Vendég korcsoportja": "fiatal",
                                    "Foglalások száma": "5"
                                },
                                {
                                    "Vendég korcsoportja": "középkorú",
                                    "Foglalások száma": "9"
                                },
                                {
                                    "Vendég korcsoportja": "fiatal",
                                    "Foglalások száma": "8"
                                },
                                {
                                    "Vendég korcsoportja": "középkorú",
                                    "Foglalások száma": "6"
                                },
                                {
                                    "Vendég korcsoportja": "fiatal",
                                    "Foglalások száma": "3"
                                },
                                {
                                    "Vendég korcsoportja": "fiatal",
                                    "Foglalások száma": "4"
                                },
                                {
                                    "Vendég korcsoportja": "fiatal",
                                    "Foglalások száma": "5"
                                },
                                {
                                    "Vendég korcsoportja": "középkorú",
                                    "Foglalások száma": "6"
                                },
                                {
                                    "Vendég korcsoportja": "középkorú",
                                    "Foglalások száma": "6"
                                },
                                {
                                    "Vendég korcsoportja": "fiatal",
                                    "Foglalások száma": "5"
                                },
                                {
                                    "Vendég korcsoportja": "fiatal",
                                    "Foglalások száma": "13"
                                },
                                {
                                    "Vendég korcsoportja": "középkorú",
                                    "Foglalások száma": "8"
                                },
                                {
                                    "Vendég korcsoportja": "fiatal",
                                    "Foglalások száma": "5"
                                },
                                {
                                    "Vendég korcsoportja": "idős",
                                    "Foglalások száma": "2"
                                },
                                {
                                    "Vendég korcsoportja": "középkorú",
                                    "Foglalások száma": "2"
                                },
                                {
                                    "Vendég korcsoportja": "középkorú",
                                    "Foglalások száma": "3"
                                },
                                {
                                    "Vendég korcsoportja": "középkorú",
                                    "Foglalások száma": "5"
                                },
                                {
                                    "Vendég korcsoportja": "középkorú",
                                    "Foglalások száma": "7"
                                }
                            ]
                        },
                        "text/html": [
                            "<table>",
                            "<tr><th>Vendég korcsoportja</th><th>Foglalások száma</th></tr>",
                            "<tr><td>idős</td><td>5</td></tr>",
                            "<tr><td>fiatal</td><td>3</td></tr>",
                            "<tr><td>fiatal</td><td>5</td></tr>",
                            "<tr><td>fiatal</td><td>3</td></tr>",
                            "<tr><td>fiatal</td><td>7</td></tr>",
                            "<tr><td>fiatal</td><td>6</td></tr>",
                            "<tr><td>fiatal</td><td>6</td></tr>",
                            "<tr><td>középkorú</td><td>4</td></tr>",
                            "<tr><td>idős</td><td>5</td></tr>",
                            "<tr><td>fiatal</td><td>12</td></tr>",
                            "<tr><td>középkorú</td><td>6</td></tr>",
                            "<tr><td>fiatal</td><td>4</td></tr>",
                            "<tr><td>középkorú</td><td>4</td></tr>",
                            "<tr><td>fiatal</td><td>7</td></tr>",
                            "<tr><td>fiatal</td><td>4</td></tr>",
                            "<tr><td>középkorú</td><td>6</td></tr>",
                            "<tr><td>középkorú</td><td>7</td></tr>",
                            "<tr><td>középkorú</td><td>3</td></tr>",
                            "<tr><td>középkorú</td><td>4</td></tr>",
                            "<tr><td>középkorú</td><td>3</td></tr>",
                            "<tr><td>fiatal</td><td>3</td></tr>",
                            "<tr><td>fiatal</td><td>4</td></tr>",
                            "<tr><td>középkorú</td><td>4</td></tr>",
                            "<tr><td>fiatal</td><td>9</td></tr>",
                            "<tr><td>fiatal</td><td>6</td></tr>",
                            "<tr><td>fiatal</td><td>9</td></tr>",
                            "<tr><td>középkorú</td><td>8</td></tr>",
                            "<tr><td>középkorú</td><td>5</td></tr>",
                            "<tr><td>középkorú</td><td>3</td></tr>",
                            "<tr><td>fiatal</td><td>6</td></tr>",
                            "<tr><td>fiatal</td><td>3</td></tr>",
                            "<tr><td>középkorú</td><td>9</td></tr>",
                            "<tr><td>fiatal</td><td>3</td></tr>",
                            "<tr><td>fiatal</td><td>6</td></tr>",
                            "<tr><td>idős</td><td>5</td></tr>",
                            "<tr><td>fiatal</td><td>7</td></tr>",
                            "<tr><td>középkorú</td><td>6</td></tr>",
                            "<tr><td>középkorú</td><td>3</td></tr>",
                            "<tr><td>fiatal</td><td>6</td></tr>",
                            "<tr><td>fiatal</td><td>7</td></tr>",
                            "<tr><td>fiatal</td><td>6</td></tr>",
                            "<tr><td>fiatal</td><td>5</td></tr>",
                            "<tr><td>fiatal</td><td>10</td></tr>",
                            "<tr><td>középkorú</td><td>4</td></tr>",
                            "<tr><td>fiatal</td><td>4</td></tr>",
                            "<tr><td>középkorú</td><td>7</td></tr>",
                            "<tr><td>középkorú</td><td>3</td></tr>",
                            "<tr><td>középkorú</td><td>8</td></tr>",
                            "<tr><td>középkorú</td><td>6</td></tr>",
                            "<tr><td>középkorú</td><td>4</td></tr>",
                            "<tr><td>középkorú</td><td>4</td></tr>",
                            "<tr><td>fiatal</td><td>4</td></tr>",
                            "<tr><td>középkorú</td><td>9</td></tr>",
                            "<tr><td>fiatal</td><td>5</td></tr>",
                            "<tr><td>középkorú</td><td>5</td></tr>",
                            "<tr><td>fiatal</td><td>4</td></tr>",
                            "<tr><td>középkorú</td><td>2</td></tr>",
                            "<tr><td>fiatal</td><td>9</td></tr>",
                            "<tr><td>középkorú</td><td>6</td></tr>",
                            "<tr><td>középkorú</td><td>6</td></tr>",
                            "<tr><td>középkorú</td><td>8</td></tr>",
                            "<tr><td>idős</td><td>9</td></tr>",
                            "<tr><td>középkorú</td><td>6</td></tr>",
                            "<tr><td>fiatal</td><td>3</td></tr>",
                            "<tr><td>középkorú</td><td>8</td></tr>",
                            "<tr><td>középkorú</td><td>4</td></tr>",
                            "<tr><td>középkorú</td><td>6</td></tr>",
                            "<tr><td>fiatal</td><td>2</td></tr>",
                            "<tr><td>fiatal</td><td>6</td></tr>",
                            "<tr><td>idős</td><td>5</td></tr>",
                            "<tr><td>fiatal</td><td>8</td></tr>",
                            "<tr><td>fiatal</td><td>2</td></tr>",
                            "<tr><td>fiatal</td><td>4</td></tr>",
                            "<tr><td>fiatal</td><td>3</td></tr>",
                            "<tr><td>idős</td><td>4</td></tr>",
                            "<tr><td>középkorú</td><td>5</td></tr>",
                            "<tr><td>fiatal</td><td>5</td></tr>",
                            "<tr><td>középkorú</td><td>10</td></tr>",
                            "<tr><td>középkorú</td><td>6</td></tr>",
                            "<tr><td>fiatal</td><td>3</td></tr>",
                            "<tr><td>fiatal</td><td>10</td></tr>",
                            "<tr><td>középkorú</td><td>9</td></tr>",
                            "<tr><td>idős</td><td>7</td></tr>",
                            "<tr><td>középkorú</td><td>7</td></tr>",
                            "<tr><td>középkorú</td><td>2</td></tr>",
                            "<tr><td>fiatal</td><td>8</td></tr>",
                            "<tr><td>középkorú</td><td>7</td></tr>",
                            "<tr><td>fiatal</td><td>20</td></tr>",
                            "<tr><td>középkorú</td><td>5</td></tr>",
                            "<tr><td>középkorú</td><td>3</td></tr>",
                            "<tr><td>középkorú</td><td>3</td></tr>",
                            "<tr><td>középkorú</td><td>4</td></tr>",
                            "<tr><td>fiatal</td><td>5</td></tr>",
                            "<tr><td>középkorú</td><td>3</td></tr>",
                            "<tr><td>fiatal</td><td>2</td></tr>",
                            "<tr><td>fiatal</td><td>3</td></tr>",
                            "<tr><td>középkorú</td><td>6</td></tr>",
                            "<tr><td>idős</td><td>6</td></tr>",
                            "<tr><td>fiatal</td><td>5</td></tr>",
                            "<tr><td>középkorú</td><td>2</td></tr>",
                            "<tr><td>középkorú</td><td>6</td></tr>",
                            "<tr><td>középkorú</td><td>9</td></tr>",
                            "<tr><td>fiatal</td><td>4</td></tr>",
                            "<tr><td>idős</td><td>5</td></tr>",
                            "<tr><td>középkorú</td><td>9</td></tr>",
                            "<tr><td>középkorú</td><td>7</td></tr>",
                            "<tr><td>középkorú</td><td>4</td></tr>",
                            "<tr><td>középkorú</td><td>5</td></tr>",
                            "<tr><td>középkorú</td><td>12</td></tr>",
                            "<tr><td>középkorú</td><td>4</td></tr>",
                            "<tr><td>fiatal</td><td>3</td></tr>",
                            "<tr><td>középkorú</td><td>4</td></tr>",
                            "<tr><td>középkorú</td><td>2</td></tr>",
                            "<tr><td>fiatal</td><td>3</td></tr>",
                            "<tr><td>idős</td><td>8</td></tr>",
                            "<tr><td>fiatal</td><td>6</td></tr>",
                            "<tr><td>fiatal</td><td>7</td></tr>",
                            "<tr><td>fiatal</td><td>4</td></tr>",
                            "<tr><td>középkorú</td><td>6</td></tr>",
                            "<tr><td>fiatal</td><td>6</td></tr>",
                            "<tr><td>középkorú</td><td>4</td></tr>",
                            "<tr><td>fiatal</td><td>7</td></tr>",
                            "<tr><td>fiatal</td><td>6</td></tr>",
                            "<tr><td>fiatal</td><td>2</td></tr>",
                            "<tr><td>fiatal</td><td>4</td></tr>",
                            "<tr><td>középkorú</td><td>8</td></tr>",
                            "<tr><td>középkorú</td><td>8</td></tr>",
                            "<tr><td>fiatal</td><td>4</td></tr>",
                            "<tr><td>középkorú</td><td>10</td></tr>",
                            "<tr><td>idős</td><td>8</td></tr>",
                            "<tr><td>idős</td><td>5</td></tr>",
                            "<tr><td>fiatal</td><td>2</td></tr>",
                            "<tr><td>fiatal</td><td>4</td></tr>",
                            "<tr><td>középkorú</td><td>6</td></tr>",
                            "<tr><td>középkorú</td><td>3</td></tr>",
                            "<tr><td>fiatal</td><td>5</td></tr>",
                            "<tr><td>középkorú</td><td>4</td></tr>",
                            "<tr><td>fiatal</td><td>7</td></tr>",
                            "<tr><td>középkorú</td><td>4</td></tr>",
                            "<tr><td>fiatal</td><td>2</td></tr>",
                            "<tr><td>középkorú</td><td>7</td></tr>",
                            "<tr><td>középkorú</td><td>6</td></tr>",
                            "<tr><td>középkorú</td><td>12</td></tr>",
                            "<tr><td>középkorú</td><td>5</td></tr>",
                            "<tr><td>fiatal</td><td>4</td></tr>",
                            "<tr><td>fiatal</td><td>3</td></tr>",
                            "<tr><td>középkorú</td><td>4</td></tr>",
                            "<tr><td>középkorú</td><td>7</td></tr>",
                            "<tr><td>idős</td><td>5</td></tr>",
                            "<tr><td>idős</td><td>10</td></tr>",
                            "<tr><td>középkorú</td><td>3</td></tr>",
                            "<tr><td>középkorú</td><td>2</td></tr>",
                            "<tr><td>idős</td><td>3</td></tr>",
                            "<tr><td>fiatal</td><td>12</td></tr>",
                            "<tr><td>idős</td><td>6</td></tr>",
                            "<tr><td>középkorú</td><td>3</td></tr>",
                            "<tr><td>idős</td><td>4</td></tr>",
                            "<tr><td>fiatal</td><td>2</td></tr>",
                            "<tr><td>fiatal</td><td>9</td></tr>",
                            "<tr><td>idős</td><td>6</td></tr>",
                            "<tr><td>fiatal</td><td>7</td></tr>",
                            "<tr><td>fiatal</td><td>4</td></tr>",
                            "<tr><td>idős</td><td>7</td></tr>",
                            "<tr><td>idős</td><td>3</td></tr>",
                            "<tr><td>középkorú</td><td>9</td></tr>",
                            "<tr><td>középkorú</td><td>6</td></tr>",
                            "<tr><td>fiatal</td><td>5</td></tr>",
                            "<tr><td>középkorú</td><td>9</td></tr>",
                            "<tr><td>fiatal</td><td>8</td></tr>",
                            "<tr><td>középkorú</td><td>6</td></tr>",
                            "<tr><td>fiatal</td><td>3</td></tr>",
                            "<tr><td>fiatal</td><td>4</td></tr>",
                            "<tr><td>fiatal</td><td>5</td></tr>",
                            "<tr><td>középkorú</td><td>6</td></tr>",
                            "<tr><td>középkorú</td><td>6</td></tr>",
                            "<tr><td>fiatal</td><td>5</td></tr>",
                            "<tr><td>fiatal</td><td>13</td></tr>",
                            "<tr><td>középkorú</td><td>8</td></tr>",
                            "<tr><td>fiatal</td><td>5</td></tr>",
                            "<tr><td>idős</td><td>2</td></tr>",
                            "<tr><td>középkorú</td><td>2</td></tr>",
                            "<tr><td>középkorú</td><td>3</td></tr>",
                            "<tr><td>középkorú</td><td>5</td></tr>",
                            "<tr><td>középkorú</td><td>7</td></tr>",
                            "</table>"
                        ]
                    }
                }
            ],
            "execution_count": 13
        }
    ]
}