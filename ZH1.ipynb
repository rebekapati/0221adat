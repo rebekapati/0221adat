{
    "metadata": {
        "kernelspec": {
            "name": "SQL",
            "display_name": "SQL",
            "language": "sql"
        },
        "language_info": {
            "name": "sql",
            "version": ""
        }
    },
    "nbformat_minor": 2,
    "nbformat": 4,
    "cells": [
        {
            "cell_type": "markdown",
            "source": [
                ""
            ],
            "metadata": {
                "azdata_cell_guid": "f6bff172-9c3d-4b6f-9c20-f65b20b1b251"
            }
        },
        {
            "cell_type": "code",
            "source": [
                ""
            ],
            "metadata": {
                "azdata_cell_guid": "464b9054-f505-4654-bf50-545a8312c914",
                "language": "sql"
            },
            "outputs": [],
            "execution_count": null
        }
    ]
}