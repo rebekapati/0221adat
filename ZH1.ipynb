{
    "metadata": {
        "kernelspec": {
            "name": "SQL",
            "display_name": "SQL",
            "language": "sql"
        },
        "language_info": {
            "name": "sql",
            "version": ""
        }
    },
    "nbformat_minor": 2,
    "nbformat": 4,
    "cells": [
        {
            "cell_type": "markdown",
            "source": [
                "1\\. feladat Kérdezze le, március hónapban ki rögzített Balaton környéki szálláshelyet! \n",
                "\n",
                "a. A listában jelenjen meg a rögzítő neve, a szállás neve és címe!\n",
                "\n",
                "b. A listát rendezzük csillagok száma szerint csökkenő sorba!"
            ],
            "metadata": {
                "azdata_cell_guid": "f6bff172-9c3d-4b6f-9c20-f65b20b1b251"
            },
            "attachments": {}
        },
        {
            "cell_type": "code",
            "source": [
                "SELECT \n",
                "    ROGZITETTE AS 'Rögzítő neve',\n",
                "    SZALLAS_NEV AS 'Szállás neve',\n",
                "    CIM AS 'Szállás címe'\n",
                "FROM Szallashely\n",
                "WHERE MONTH(ROGZ_IDO) = '03' AND HELY LIKE '%Balaton%'\n",
                "ORDER BY CSILLAGOK_SZAMA DESC"
            ],
            "metadata": {
                "azdata_cell_guid": "464b9054-f505-4654-bf50-545a8312c914",
                "language": "sql"
            },
            "outputs": [
                {
                    "output_type": "display_data",
                    "data": {
                        "text/html": "(7 rows affected)"
                    },
                    "metadata": {}
                },
                {
                    "output_type": "display_data",
                    "data": {
                        "text/html": "Total execution time: 00:00:00.004"
                    },
                    "metadata": {}
                },
                {
                    "output_type": "execute_result",
                    "metadata": {},
                    "execution_count": 8,
                    "data": {
                        "application/vnd.dataresource+json": {
                            "schema": {
                                "fields": [
                                    {
                                        "name": "Rögzítő neve"
                                    },
                                    {
                                        "name": "Szállás neve"
                                    },
                                    {
                                        "name": "Szállás címe"
                                    }
                                ]
                            },
                            "data": [
                                {
                                    "Rögzítő neve": "Béla",
                                    "Szállás neve": "Hotel Három Hattyú",
                                    "Szállás címe": "8623 Balatonföldvár, Rákóczi Ferenc út 45."
                                },
                                {
                                    "Rögzítő neve": "Mari",
                                    "Szállás neve": "Jáde panzió",
                                    "Szállás címe": "8624 Balatonföldvár, Kiss u.2."
                                },
                                {
                                    "Rögzítő neve": "Béla",
                                    "Szállás neve": "Kentaur Hotel",
                                    "Szállás címe": "8600 Siófok (Széplak), Akácfa utca 1"
                                },
                                {
                                    "Rögzítő neve": "Béla",
                                    "Szállás neve": "Tímárház Panzió",
                                    "Szállás címe": "8600 Siófok, Virág utca 1"
                                },
                                {
                                    "Rögzítő neve": "Béla",
                                    "Szállás neve": "Családi Ház",
                                    "Szállás címe": "8630 Balatonboglár, József Attila utca 25"
                                },
                                {
                                    "Rögzítő neve": "Mari",
                                    "Szállás neve": "Szieszta Apartmanház",
                                    "Szállás címe": "8630 Balatonboglár, Dózsa György utca 108"
                                },
                                {
                                    "Rögzítő neve": "Béla",
                                    "Szállás neve": "Partiszél Vendégház",
                                    "Szállás címe": "8220 Balatonalmádi Neptun u. 23."
                                }
                            ]
                        },
                        "text/html": [
                            "<table>",
                            "<tr><th>Rögzítő neve</th><th>Szállás neve</th><th>Szállás címe</th></tr>",
                            "<tr><td>Béla</td><td>Hotel Három Hattyú</td><td>8623 Balatonföldvár, Rákóczi Ferenc út 45.</td></tr>",
                            "<tr><td>Mari</td><td>Jáde panzió</td><td>8624 Balatonföldvár, Kiss u.2.</td></tr>",
                            "<tr><td>Béla</td><td>Kentaur Hotel</td><td>8600 Siófok (Széplak), Akácfa utca 1</td></tr>",
                            "<tr><td>Béla</td><td>Tímárház Panzió</td><td>8600 Siófok, Virág utca 1</td></tr>",
                            "<tr><td>Béla</td><td>Családi Ház</td><td>8630 Balatonboglár, József Attila utca 25</td></tr>",
                            "<tr><td>Mari</td><td>Szieszta Apartmanház</td><td>8630 Balatonboglár, Dózsa György utca 108</td></tr>",
                            "<tr><td>Béla</td><td>Partiszél Vendégház</td><td>8220 Balatonalmádi Neptun u. 23.</td></tr>",
                            "</table>"
                        ]
                    }
                }
            ],
            "execution_count": 8
        },
        {
            "cell_type": "markdown",
            "source": [
                "2\\. feladat"
            ],
            "metadata": {
                "azdata_cell_guid": "61abeec4-474e-4e0e-a028-2840c78c10d3"
            },
            "attachments": {}
        },
        {
            "cell_type": "code",
            "source": [
                ""
            ],
            "metadata": {
                "azdata_cell_guid": "f1e6e583-7d57-447d-b816-fd979b2caf28",
                "language": "sql"
            },
            "outputs": [],
            "execution_count": null
        },
        {
            "cell_type": "markdown",
            "source": [
                "3\\. feladat"
            ],
            "metadata": {
                "azdata_cell_guid": "52b1f69b-5dd7-4cd7-a01f-b3b99820ea9d"
            },
            "attachments": {}
        },
        {
            "cell_type": "code",
            "source": [
                ""
            ],
            "metadata": {
                "azdata_cell_guid": "889d76c6-f589-44c5-bbfc-3403302b0fe2",
                "language": "sql"
            },
            "outputs": [],
            "execution_count": null
        }
    ]
}