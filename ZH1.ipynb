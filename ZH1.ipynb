{
    "metadata": {
        "kernelspec": {
            "name": "SQL",
            "display_name": "SQL",
            "language": "sql"
        },
        "language_info": {
            "name": "sql",
            "version": ""
        }
    },
    "nbformat_minor": 2,
    "nbformat": 4,
    "cells": [
        {
            "cell_type": "markdown",
            "source": [
                "1\\. feladat Kérdezze le, március hónapban ki rögzített Balaton környéki szálláshelyet! \n",
                "\n",
                "a. A listában jelenjen meg a rögzítő neve, a szállás neve és címe!\n",
                "\n",
                "b. A listát rendezzük csillagok száma szerint csökkenő sorba!"
            ],
            "metadata": {
                "azdata_cell_guid": "f6bff172-9c3d-4b6f-9c20-f65b20b1b251"
            },
            "attachments": {}
        },
        {
            "cell_type": "code",
            "source": [
                "SELECT \n",
                "    ROGZITETTE AS 'Rögzítő neve',\n",
                "    SZALLAS_NEV AS 'Szállás neve',\n",
                "    CIM AS 'Szállás címe'\n",
                "FROM Szallashely\n",
                "WHERE MONTH(ROGZ_IDO) = '03' AND HELY LIKE '%Balaton%'\n",
                "ORDER BY CSILLAGOK_SZAMA DESC"
            ],
            "metadata": {
                "azdata_cell_guid": "464b9054-f505-4654-bf50-545a8312c914",
                "language": "sql"
            },
            "outputs": [
                {
                    "output_type": "display_data",
                    "data": {
                        "text/html": "(7 rows affected)"
                    },
                    "metadata": {}
                },
                {
                    "output_type": "display_data",
                    "data": {
                        "text/html": "Total execution time: 00:00:00.004"
                    },
                    "metadata": {}
                },
                {
                    "output_type": "execute_result",
                    "metadata": {},
                    "execution_count": 8,
                    "data": {
                        "application/vnd.dataresource+json": {
                            "schema": {
                                "fields": [
                                    {
                                        "name": "Rögzítő neve"
                                    },
                                    {
                                        "name": "Szállás neve"
                                    },
                                    {
                                        "name": "Szállás címe"
                                    }
                                ]
                            },
                            "data": [
                                {
                                    "Rögzítő neve": "Béla",
                                    "Szállás neve": "Hotel Három Hattyú",
                                    "Szállás címe": "8623 Balatonföldvár, Rákóczi Ferenc út 45."
                                },
                                {
                                    "Rögzítő neve": "Mari",
                                    "Szállás neve": "Jáde panzió",
                                    "Szállás címe": "8624 Balatonföldvár, Kiss u.2."
                                },
                                {
                                    "Rögzítő neve": "Béla",
                                    "Szállás neve": "Kentaur Hotel",
                                    "Szállás címe": "8600 Siófok (Széplak), Akácfa utca 1"
                                },
                                {
                                    "Rögzítő neve": "Béla",
                                    "Szállás neve": "Tímárház Panzió",
                                    "Szállás címe": "8600 Siófok, Virág utca 1"
                                },
                                {
                                    "Rögzítő neve": "Béla",
                                    "Szállás neve": "Családi Ház",
                                    "Szállás címe": "8630 Balatonboglár, József Attila utca 25"
                                },
                                {
                                    "Rögzítő neve": "Mari",
                                    "Szállás neve": "Szieszta Apartmanház",
                                    "Szállás címe": "8630 Balatonboglár, Dózsa György utca 108"
                                },
                                {
                                    "Rögzítő neve": "Béla",
                                    "Szállás neve": "Partiszél Vendégház",
                                    "Szállás címe": "8220 Balatonalmádi Neptun u. 23."
                                }
                            ]
                        },
                        "text/html": [
                            "<table>",
                            "<tr><th>Rögzítő neve</th><th>Szállás neve</th><th>Szállás címe</th></tr>",
                            "<tr><td>Béla</td><td>Hotel Három Hattyú</td><td>8623 Balatonföldvár, Rákóczi Ferenc út 45.</td></tr>",
                            "<tr><td>Mari</td><td>Jáde panzió</td><td>8624 Balatonföldvár, Kiss u.2.</td></tr>",
                            "<tr><td>Béla</td><td>Kentaur Hotel</td><td>8600 Siófok (Széplak), Akácfa utca 1</td></tr>",
                            "<tr><td>Béla</td><td>Tímárház Panzió</td><td>8600 Siófok, Virág utca 1</td></tr>",
                            "<tr><td>Béla</td><td>Családi Ház</td><td>8630 Balatonboglár, József Attila utca 25</td></tr>",
                            "<tr><td>Mari</td><td>Szieszta Apartmanház</td><td>8630 Balatonboglár, Dózsa György utca 108</td></tr>",
                            "<tr><td>Béla</td><td>Partiszél Vendégház</td><td>8220 Balatonalmádi Neptun u. 23.</td></tr>",
                            "</table>"
                        ]
                    }
                }
            ],
            "execution_count": 8
        },
        {
            "cell_type": "markdown",
            "source": [
                "2\\. feladat\n",
                "\n",
                "Egészítse ki a megkezdett lekérdezést, amely megjeleníti, hogy hány klímás szobája van az egyes szálláshelyeknek! \n",
                "\n",
                "a. A listában a szálláshely azonosítója mellett jelenjen meg a szálláshely neve és a klímás szobák száma!"
            ],
            "metadata": {
                "azdata_cell_guid": "61abeec4-474e-4e0e-a028-2840c78c10d3"
            },
            "attachments": {}
        },
        {
            "cell_type": "code",
            "source": [
                "SELECT\r\n",
                "    szh.SZALLAS_ID AS 'Szállás ID',\r\n",
                "    szh.SZALLAS_NEV AS 'Szállás neve', \r\n",
                "    COUNT(*) AS 'Klimatizált szobák száma'\r\n",
                "FROM Szallashely szh JOIN Szoba sz ON szh.SZALLAS_ID = sz.SZALLAS_FK\r\n",
                "WHERE sz.KLIMAS = 'i'\r\n",
                "GROUP BY szh.SZALLAS_ID, szh.SZALLAS_NEV"
            ],
            "metadata": {
                "azdata_cell_guid": "f1e6e583-7d57-447d-b816-fd979b2caf28",
                "language": "sql"
            },
            "outputs": [
                {
                    "output_type": "display_data",
                    "data": {
                        "text/html": "(20 rows affected)"
                    },
                    "metadata": {}
                },
                {
                    "output_type": "display_data",
                    "data": {
                        "text/html": "Total execution time: 00:00:00.013"
                    },
                    "metadata": {}
                },
                {
                    "output_type": "execute_result",
                    "metadata": {},
                    "execution_count": 10,
                    "data": {
                        "application/vnd.dataresource+json": {
                            "schema": {
                                "fields": [
                                    {
                                        "name": "Szállás ID"
                                    },
                                    {
                                        "name": "Szállás neve"
                                    },
                                    {
                                        "name": "Klimatizált szobák száma"
                                    }
                                ]
                            },
                            "data": [
                                {
                                    "Szállás ID": "1",
                                    "Szállás neve": "Sába-Ház",
                                    "Klimatizált szobák száma": "10"
                                },
                                {
                                    "Szállás ID": "2",
                                    "Szállás neve": "Családi Ház",
                                    "Klimatizált szobák száma": "4"
                                },
                                {
                                    "Szállás ID": "3",
                                    "Szállás neve": "Fortuna Apartman",
                                    "Klimatizált szobák száma": "5"
                                },
                                {
                                    "Szállás ID": "4",
                                    "Szállás neve": "Fortuna panzió",
                                    "Klimatizált szobák száma": "12"
                                },
                                {
                                    "Szállás ID": "5",
                                    "Szállás neve": "Fortuna Panzió",
                                    "Klimatizált szobák száma": "8"
                                },
                                {
                                    "Szállás ID": "6",
                                    "Szállás neve": "Kentaur Hotel",
                                    "Klimatizált szobák száma": "22"
                                },
                                {
                                    "Szállás ID": "7",
                                    "Szállás neve": "Szieszta Apartmanház",
                                    "Klimatizált szobák száma": "4"
                                },
                                {
                                    "Szállás ID": "8",
                                    "Szállás neve": "Hotel Három Hattyú",
                                    "Klimatizált szobák száma": "28"
                                },
                                {
                                    "Szállás ID": "9",
                                    "Szállás neve": "Jáde panzió",
                                    "Klimatizált szobák száma": "2"
                                },
                                {
                                    "Szállás ID": "10",
                                    "Szállás neve": "Lagúna Hotel",
                                    "Klimatizált szobák száma": "15"
                                },
                                {
                                    "Szállás ID": "11",
                                    "Szállás neve": "Partiszél Vendégház",
                                    "Klimatizált szobák száma": "4"
                                },
                                {
                                    "Szállás ID": "12",
                                    "Szállás neve": "Gold Hotel",
                                    "Klimatizált szobák száma": "42"
                                },
                                {
                                    "Szállás ID": "13",
                                    "Szállás neve": "Riviéra Panzió",
                                    "Klimatizált szobák száma": "8"
                                },
                                {
                                    "Szállás ID": "14",
                                    "Szállás neve": "Nyárfás Vendégház",
                                    "Klimatizált szobák száma": "4"
                                },
                                {
                                    "Szállás ID": "15",
                                    "Szállás neve": "Tímárház Panzió",
                                    "Klimatizált szobák száma": "9"
                                },
                                {
                                    "Szállás ID": "16",
                                    "Szállás neve": "Bagoly Hotel",
                                    "Klimatizált szobák száma": "14"
                                },
                                {
                                    "Szállás ID": "17",
                                    "Szállás neve": "Szarvas Hotel",
                                    "Klimatizált szobák száma": "11"
                                },
                                {
                                    "Szállás ID": "18",
                                    "Szállás neve": "Fortuna Apartman",
                                    "Klimatizált szobák száma": "2"
                                },
                                {
                                    "Szállás ID": "19",
                                    "Szállás neve": "Nyárfás Vendégház",
                                    "Klimatizált szobák száma": "2"
                                },
                                {
                                    "Szállás ID": "20",
                                    "Szállás neve": "Kollégium",
                                    "Klimatizált szobák száma": "9"
                                }
                            ]
                        },
                        "text/html": [
                            "<table>",
                            "<tr><th>Szállás ID</th><th>Szállás neve</th><th>Klimatizált szobák száma</th></tr>",
                            "<tr><td>1</td><td>Sába-Ház</td><td>10</td></tr>",
                            "<tr><td>2</td><td>Családi Ház</td><td>4</td></tr>",
                            "<tr><td>3</td><td>Fortuna Apartman</td><td>5</td></tr>",
                            "<tr><td>4</td><td>Fortuna panzió</td><td>12</td></tr>",
                            "<tr><td>5</td><td>Fortuna Panzió</td><td>8</td></tr>",
                            "<tr><td>6</td><td>Kentaur Hotel</td><td>22</td></tr>",
                            "<tr><td>7</td><td>Szieszta Apartmanház</td><td>4</td></tr>",
                            "<tr><td>8</td><td>Hotel Három Hattyú</td><td>28</td></tr>",
                            "<tr><td>9</td><td>Jáde panzió</td><td>2</td></tr>",
                            "<tr><td>10</td><td>Lagúna Hotel</td><td>15</td></tr>",
                            "<tr><td>11</td><td>Partiszél Vendégház</td><td>4</td></tr>",
                            "<tr><td>12</td><td>Gold Hotel</td><td>42</td></tr>",
                            "<tr><td>13</td><td>Riviéra Panzió</td><td>8</td></tr>",
                            "<tr><td>14</td><td>Nyárfás Vendégház</td><td>4</td></tr>",
                            "<tr><td>15</td><td>Tímárház Panzió</td><td>9</td></tr>",
                            "<tr><td>16</td><td>Bagoly Hotel</td><td>14</td></tr>",
                            "<tr><td>17</td><td>Szarvas Hotel</td><td>11</td></tr>",
                            "<tr><td>18</td><td>Fortuna Apartman</td><td>2</td></tr>",
                            "<tr><td>19</td><td>Nyárfás Vendégház</td><td>2</td></tr>",
                            "<tr><td>20</td><td>Kollégium</td><td>9</td></tr>",
                            "</table>"
                        ]
                    }
                }
            ],
            "execution_count": 10
        },
        {
            "cell_type": "markdown",
            "source": [
                "3\\. feladat"
            ],
            "metadata": {
                "azdata_cell_guid": "52b1f69b-5dd7-4cd7-a01f-b3b99820ea9d"
            },
            "attachments": {}
        },
        {
            "cell_type": "code",
            "source": [
                ""
            ],
            "metadata": {
                "azdata_cell_guid": "889d76c6-f589-44c5-bbfc-3403302b0fe2",
                "language": "sql"
            },
            "outputs": [],
            "execution_count": null
        }
    ]
}