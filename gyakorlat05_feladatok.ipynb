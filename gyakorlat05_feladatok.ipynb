{
    "metadata": {
        "kernelspec": {
            "name": "SQL",
            "display_name": "SQL",
            "language": "sql"
        },
        "language_info": {
            "name": "sql",
            "version": ""
        }
    },
    "nbformat_minor": 2,
    "nbformat": 4,
    "cells": [
        {
            "cell_type": "markdown",
            "source": [
                "1. <span style=\"color: rgb(36, 41, 47); font-family: -apple-system, BlinkMacSystemFont, &quot;Segoe UI&quot;, Helvetica, Arial, sans-serif, &quot;Apple Color Emoji&quot;, &quot;Segoe UI Emoji&quot;; font-size: 16px;\">Készítsünk listát éves bontásban norbert2 azonosítójú ügyfél rendeléseinek értékéről!</span>\n",
                "\n",
                "1. A lista megfelelően jelölve tartalmazza a végösszeget is!"
            ],
            "metadata": {
                "azdata_cell_guid": "363cd270-6577-449b-9c89-d4b7c7972d52"
            },
            "attachments": {}
        },
        {
            "cell_type": "code",
            "source": [
                "SELECT \r\n",
                "    IIF(GROUPING_ID(YEAR(r.REND_DATUM)) = 1, \r\n",
                "        'Összesen',\r\n",
                "        CAST(YEAR(r.REND_DATUM) AS nvarchar(4))),\r\n",
                "    SUM(rt.EGYSEGAR*rt.MENNYISEG) --rendelés értéke, nem számoljuk mert agregál\r\n",
                "FROM Rendeles r\r\n",
                "        JOIN Rendeles_tetel rt ON r.sorszam = rt.sorszam\r\n",
                "WHERE LOGIN = 'norbert2'\r\n",
                "GROUP BY ROLLUP(YEAR(r.REND_DATUM))"
            ],
            "metadata": {
                "azdata_cell_guid": "6ab9f633-a3b5-48c9-a1dc-4fb8235ae85b",
                "language": "sql"
            },
            "outputs": [],
            "execution_count": null
        },
        {
            "cell_type": "code",
            "source": [
                "SELECT *\r\n",
                "FROM Rendeles\r\n",
                "\r\n",
                "SELECT *\r\n",
                "FROM Rendeles_tetel"
            ],
            "metadata": {
                "azdata_cell_guid": "46f3fd6f-2439-4424-a521-643995497bdd",
                "language": "sql"
            },
            "outputs": [],
            "execution_count": null
        },
        {
            "cell_type": "markdown",
            "source": [
                "2. <span style=\"color: rgb(36, 41, 47); font-family: -apple-system, BlinkMacSystemFont, &quot;Segoe UI&quot;, Helvetica, Arial, sans-serif, &quot;Apple Color Emoji&quot;, &quot;Segoe UI Emoji&quot;; font-size: 16px;\">Készítsünk listát szállítási dátumonként, azon belül szállítási módonként az egyes rendelések összmennyiségéről!</span>\n",
                "\n",
                "1. Csak azokat a termékeket vegyük figyelembe, amelyek mennyiségi egysége db!\n",
                "2. A listát szűrjük úgy, hogy az csak a részösszeg sorokat és a végösszeget tartalmazza!"
            ],
            "metadata": {
                "azdata_cell_guid": "ea75c103-911f-41a3-a32c-3d40fb3e4e4a"
            },
            "attachments": {}
        },
        {
            "cell_type": "code",
            "source": [
                "SELECT\r\n",
                "    r.SZALL_DATUM,\r\n",
                "    r.SZALL_MOD,\r\n",
                "    SUM(rt.MENNYISEG)\r\n",
                "FROM Rendeles r JOIN Rendeles_tetel rt ON r.SORSZAM = rt.SORSZAM\r\n",
                "                JOIN Termek t ON rt.TERMEKKOD = t.TERMEKKOD\r\n",
                "WHERE t.MEGYS = 'db'\r\n",
                "GROUP BY ROLLUP(r.SZALL_DATUM, r.SZALL_MOD)\r\n",
                "HAVING r.SZALL_MOD IS NULL OR r.SZALL_DATUM IS NULL\r\n",
                "--Having grouping_id(r.szall_datum, r.szall_mod) > 0"
            ],
            "metadata": {
                "azdata_cell_guid": "222b9618-a8e8-42b4-a8e8-d002257122b7",
                "language": "sql"
            },
            "outputs": [],
            "execution_count": null
        },
        {
            "cell_type": "markdown",
            "source": [
                "```\n",
                "3. Hány olyan ügyfél van, aki még nem rendelt semmit?\n",
                "```\n",
                "\n",
                "1. Csoportosítsuk őket nem szerint, azon belül életkor szerint!\n",
                "2. A lista tartalmazza a részösszegeket és a végösszeget is!\n",
                "\n",
                "![](https://moodle.uni-corvinus.hu/theme/image.php/adaptable/atto_h5p/1709548862/icon)"
            ],
            "metadata": {
                "azdata_cell_guid": "d7876bb9-76d0-4d07-baed-3cb17b2f96c3"
            },
            "attachments": {}
        },
        {
            "cell_type": "code",
            "source": [
                ""
            ],
            "metadata": {
                "azdata_cell_guid": "56ec19ce-e249-4551-b2a8-f17569765acc",
                "language": "sql"
            },
            "outputs": [],
            "execution_count": null
        },
        {
            "cell_type": "markdown",
            "source": [
                "4. <span style=\"color: rgb(36, 41, 47); font-family: -apple-system, BlinkMacSystemFont, &quot;Segoe UI&quot;, Helvetica, Arial, sans-serif, &quot;Apple Color Emoji&quot;, &quot;Segoe UI Emoji&quot;; font-size: 16px;\">Készítsünk listát a megrendelt termékek legkisebb és legnagyobb egységáráról szállítási dátum, azon belül szállítási mód szerinti bontásban!</span>\n",
                "\n",
                "1. A lista csak a 2015 májusi szállításokat tartalmazza!\n",
                "2. Jelenítsük meg a részösszegeket és a végösszeget is!"
            ],
            "metadata": {
                "azdata_cell_guid": "8e7fef82-8022-49a0-8255-fc2846c2134b"
            },
            "attachments": {}
        },
        {
            "cell_type": "code",
            "source": [
                ""
            ],
            "metadata": {
                "azdata_cell_guid": "36f7b396-4a1f-45e5-8720-2302537c91bc",
                "language": "sql"
            },
            "outputs": [],
            "execution_count": null
        },
        {
            "cell_type": "markdown",
            "source": [
                "5. <span style=\"color: rgb(36, 41, 47); font-family: -apple-system, BlinkMacSystemFont, &quot;Segoe UI&quot;, Helvetica, Arial, sans-serif, &quot;Apple Color Emoji&quot;, &quot;Segoe UI Emoji&quot;; font-size: 16px;\">Készítsünk csoportot a termékek listaára alapján a következők szerint:&nbsp;<br></span> <span style=\"color: rgb(36, 41, 47); font-family: -apple-system, BlinkMacSystemFont, &quot;Segoe UI&quot;, Helvetica, Arial, sans-serif, &quot;Apple Color Emoji&quot;, &quot;Segoe UI Emoji&quot;; font-size: 16px;\">Az \"olcsó\" termékek legyenek azok, amelyek listaára 3000 alatt van.<br>&nbsp;A \"drága\" termékek legyenek az 5000 felettiek, a többi legyen \"közepes\".</span>\n",
                "\n",
                "1. Listázzuk az egyes csoportokat, és a csoportokba tartozó termékek darabszámát!\n",
                "2. A lista jelenítse meg a végösszeget is!"
            ],
            "metadata": {
                "azdata_cell_guid": "84239ca2-6b5e-49f5-9860-d44c11d6de32"
            },
            "attachments": {}
        },
        {
            "cell_type": "code",
            "source": [
                ""
            ],
            "metadata": {
                "azdata_cell_guid": "06d9a62b-9430-424b-a135-d80e675f0eb3",
                "language": "sql"
            },
            "outputs": [],
            "execution_count": null
        },
        {
            "cell_type": "markdown",
            "source": [
                "6. <span style=\"font-weight: 600; color: rgb(36, 41, 47); font-family: -apple-system, BlinkMacSystemFont, &quot;Segoe UI&quot;, Helvetica, Arial, sans-serif, &quot;Apple Color Emoji&quot;, &quot;Segoe UI Emoji&quot;; font-size: 16px;\">Készítsünk listát az ügyfelek adatairól név szerinti sorrendben.</span>\n",
                "\n",
                "1. Minden sorban jelenjen meg a sorrend szerint előző, illetve következő ügyfél neve is.\n",
                "2. Ha nincs előző vagy következő ügyfél, akkor a 'Nincs' jelenjen meg!"
            ],
            "metadata": {
                "azdata_cell_guid": "b0d15045-3c43-4f3a-b8d4-76b4f24e5546"
            },
            "attachments": {}
        },
        {
            "cell_type": "code",
            "source": [
                "SELECT\r\n",
                "    NEV AS 'név',\r\n",
                "    LAG(NEV, 1, 'Nincs előző') OVER(ORDER BY NEV) AS 'előtte', --előtte lévő érték, mennyivel előtte, opcionális: ne null legyen ha nincs érték\r\n",
                "    LEAD(NEV, 1, 'Nincs következő') OVER(ORDER BY NEV) AS 'utána' --utána lévő érték\r\n",
                "FROM Ugyfel\r\n",
                "GROUP BY NEV"
            ],
            "metadata": {
                "azdata_cell_guid": "f2b7400d-1255-40ac-9250-4d57f9da5357",
                "language": "sql"
            },
            "outputs": [
                {
                    "output_type": "display_data",
                    "data": {
                        "text/html": "(200 rows affected)"
                    },
                    "metadata": {}
                },
                {
                    "output_type": "display_data",
                    "data": {
                        "text/html": "Total execution time: 00:00:00.010"
                    },
                    "metadata": {}
                },
                {
                    "output_type": "execute_result",
                    "metadata": {},
                    "execution_count": 37,
                    "data": {
                        "application/vnd.dataresource+json": {
                            "schema": {
                                "fields": [
                                    {
                                        "name": "név"
                                    },
                                    {
                                        "name": "előtte"
                                    },
                                    {
                                        "name": "utána"
                                    }
                                ]
                            },
                            "data": [
                                {
                                    "név": "Ambrus Dávid",
                                    "előtte": "Nincs előző",
                                    "utána": "Andor Ibolya"
                                },
                                {
                                    "név": "Andor Ibolya",
                                    "előtte": "Ambrus Dávid",
                                    "utána": "Antal László"
                                },
                                {
                                    "név": "Antal László",
                                    "előtte": "Andor Ibolya",
                                    "utána": "Antal Tamás"
                                },
                                {
                                    "név": "Antal Tamás",
                                    "előtte": "Antal László",
                                    "utána": "Back András"
                                },
                                {
                                    "név": "Back András",
                                    "előtte": "Antal Tamás",
                                    "utána": "Bagi Beáta"
                                },
                                {
                                    "név": "Bagi Beáta",
                                    "előtte": "Back András",
                                    "utána": "Bagóczki Alexandra"
                                },
                                {
                                    "név": "Bagóczki Alexandra",
                                    "előtte": "Bagi Beáta",
                                    "utána": "Bajusz Bence"
                                },
                                {
                                    "név": "Bajusz Bence",
                                    "előtte": "Bagóczki Alexandra",
                                    "utána": "Bakó Klaudia"
                                },
                                {
                                    "név": "Bakó Klaudia",
                                    "előtte": "Bajusz Bence",
                                    "utána": "Bakódy Balázs"
                                },
                                {
                                    "név": "Bakódy Balázs",
                                    "előtte": "Bakó Klaudia",
                                    "utána": "Balla Miklós"
                                },
                                {
                                    "név": "Balla Miklós",
                                    "előtte": "Bakódy Balázs",
                                    "utána": "Balogh Eszter"
                                },
                                {
                                    "név": "Balogh Eszter",
                                    "előtte": "Balla Miklós",
                                    "utána": "Barabás Pál"
                                },
                                {
                                    "név": "Barabás Pál",
                                    "előtte": "Balogh Eszter",
                                    "utána": "Baráth Mária"
                                },
                                {
                                    "név": "Baráth Mária",
                                    "előtte": "Barabás Pál",
                                    "utána": "Bárci Gusztáv"
                                },
                                {
                                    "név": "Bárci Gusztáv",
                                    "előtte": "Baráth Mária",
                                    "utána": "Barkóci Ádám"
                                },
                                {
                                    "név": "Barkóci Ádám",
                                    "előtte": "Bárci Gusztáv",
                                    "utána": "Barna Debóra"
                                },
                                {
                                    "név": "Barna Debóra",
                                    "előtte": "Barkóci Ádám",
                                    "utána": "Barna Zoltán"
                                },
                                {
                                    "név": "Barna Zoltán",
                                    "előtte": "Barna Debóra",
                                    "utána": "Baróti Attila"
                                },
                                {
                                    "név": "Baróti Attila",
                                    "előtte": "Barna Zoltán",
                                    "utána": "Barta Zsuzsanna"
                                },
                                {
                                    "név": "Barta Zsuzsanna",
                                    "előtte": "Baróti Attila",
                                    "utána": "Berendi Péter"
                                },
                                {
                                    "név": "Berendi Péter",
                                    "előtte": "Barta Zsuzsanna",
                                    "utána": "Béres Norbert"
                                },
                                {
                                    "név": "Béres Norbert",
                                    "előtte": "Berendi Péter",
                                    "utána": "Berta Dávid"
                                },
                                {
                                    "név": "Berta Dávid",
                                    "előtte": "Béres Norbert",
                                    "utána": "Bieniek Ádám"
                                },
                                {
                                    "név": "Bieniek Ádám",
                                    "előtte": "Berta Dávid",
                                    "utána": "Bíró Ákos"
                                },
                                {
                                    "név": "Bíró Ákos",
                                    "előtte": "Bieniek Ádám",
                                    "utána": "Biró Alexander"
                                },
                                {
                                    "név": "Biró Alexander",
                                    "előtte": "Bíró Ákos",
                                    "utána": "Bíró Péter"
                                },
                                {
                                    "név": "Bíró Péter",
                                    "előtte": "Biró Alexander",
                                    "utána": "Bittmann Edit"
                                },
                                {
                                    "név": "Bittmann Edit",
                                    "előtte": "Bíró Péter",
                                    "utána": "Bodor Szabolcs"
                                },
                                {
                                    "név": "Bodor Szabolcs",
                                    "előtte": "Bittmann Edit",
                                    "utána": "Bori Krisztina"
                                },
                                {
                                    "név": "Bori Krisztina",
                                    "előtte": "Bodor Szabolcs",
                                    "utána": "Boros Vivien"
                                },
                                {
                                    "név": "Boros Vivien",
                                    "előtte": "Bori Krisztina",
                                    "utána": "Bosnyák Ilona"
                                },
                                {
                                    "név": "Bosnyák Ilona",
                                    "előtte": "Boros Vivien",
                                    "utána": "Botka Mátyás"
                                },
                                {
                                    "név": "Botka Mátyás",
                                    "előtte": "Bosnyák Ilona",
                                    "utána": "Bozsik Balázs"
                                },
                                {
                                    "név": "Bozsik Balázs",
                                    "előtte": "Botka Mátyás",
                                    "utána": "Bozsó Péter"
                                },
                                {
                                    "név": "Bozsó Péter",
                                    "előtte": "Bozsik Balázs",
                                    "utána": "Böröcz Anikó"
                                },
                                {
                                    "név": "Böröcz Anikó",
                                    "előtte": "Bozsó Péter",
                                    "utána": "Bucskó Róza"
                                },
                                {
                                    "név": "Bucskó Róza",
                                    "előtte": "Böröcz Anikó",
                                    "utána": "Búza Imre"
                                },
                                {
                                    "név": "Búza Imre",
                                    "előtte": "Bucskó Róza",
                                    "utána": "Czérna Krisztián"
                                },
                                {
                                    "név": "Czérna Krisztián",
                                    "előtte": "Búza Imre",
                                    "utána": "Csiger Bertalan"
                                },
                                {
                                    "név": "Csiger Bertalan",
                                    "előtte": "Czérna Krisztián",
                                    "utána": "Csóti Attila"
                                },
                                {
                                    "név": "Csóti Attila",
                                    "előtte": "Csiger Bertalan",
                                    "utána": "Dániel Tibor"
                                },
                                {
                                    "név": "Dániel Tibor",
                                    "előtte": "Csóti Attila",
                                    "utána": "Dunai Aladár"
                                },
                                {
                                    "név": "Dunai Aladár",
                                    "előtte": "Dániel Tibor",
                                    "utána": "Dusha Tímea"
                                },
                                {
                                    "név": "Dusha Tímea",
                                    "előtte": "Dunai Aladár",
                                    "utána": "Endresz Bálint"
                                },
                                {
                                    "név": "Endresz Bálint",
                                    "előtte": "Dusha Tímea",
                                    "utána": "Enyedi Éva"
                                },
                                {
                                    "név": "Enyedi Éva",
                                    "előtte": "Endresz Bálint",
                                    "utána": "Erdei András"
                                },
                                {
                                    "név": "Erdei András",
                                    "előtte": "Enyedi Éva",
                                    "utána": "Érsek Eszter"
                                },
                                {
                                    "név": "Érsek Eszter",
                                    "előtte": "Erdei András",
                                    "utána": "Farkas Béla"
                                },
                                {
                                    "név": "Farkas Béla",
                                    "előtte": "Érsek Eszter",
                                    "utána": "Farkas László"
                                },
                                {
                                    "név": "Farkas László",
                                    "előtte": "Farkas Béla",
                                    "utána": "Farkas Sándor"
                                },
                                {
                                    "név": "Farkas Sándor",
                                    "előtte": "Farkas László",
                                    "utána": "Farkas Sára"
                                },
                                {
                                    "név": "Farkas Sára",
                                    "előtte": "Farkas Sándor",
                                    "utána": "Fényes Tamás"
                                },
                                {
                                    "név": "Fényes Tamás",
                                    "előtte": "Farkas Sára",
                                    "utána": "Ferencz Roland"
                                },
                                {
                                    "név": "Ferencz Roland",
                                    "előtte": "Fényes Tamás",
                                    "utána": "Feró Valentin"
                                },
                                {
                                    "név": "Feró Valentin",
                                    "előtte": "Ferencz Roland",
                                    "utána": "Fodor Zoltán"
                                },
                                {
                                    "név": "Fodor Zoltán",
                                    "előtte": "Feró Valentin",
                                    "utána": "Foltényi Sebastián"
                                },
                                {
                                    "név": "Foltényi Sebastián",
                                    "előtte": "Fodor Zoltán",
                                    "utána": "Fő Nándor"
                                },
                                {
                                    "név": "Fő Nándor",
                                    "előtte": "Foltényi Sebastián",
                                    "utána": "Frank Fruzsina"
                                },
                                {
                                    "név": "Frank Fruzsina",
                                    "előtte": "Fő Nándor",
                                    "utána": "Fülöp Eszter"
                                },
                                {
                                    "név": "Fülöp Eszter",
                                    "előtte": "Frank Fruzsina",
                                    "utána": "Gergely József"
                                },
                                {
                                    "név": "Gergely József",
                                    "előtte": "Fülöp Eszter",
                                    "utána": "Giliga János"
                                },
                                {
                                    "név": "Giliga János",
                                    "előtte": "Gergely József",
                                    "utána": "Gombos Tibor"
                                },
                                {
                                    "név": "Gombos Tibor",
                                    "előtte": "Giliga János",
                                    "utána": "Gondos Katalin"
                                },
                                {
                                    "név": "Gondos Katalin",
                                    "előtte": "Gombos Tibor",
                                    "utána": "Gondos Miklós"
                                },
                                {
                                    "név": "Gondos Miklós",
                                    "előtte": "Gondos Katalin",
                                    "utána": "Gulyás Attila"
                                },
                                {
                                    "név": "Gulyás Attila",
                                    "előtte": "Gondos Miklós",
                                    "utána": "Gyárfás Krisztina"
                                },
                                {
                                    "név": "Gyárfás Krisztina",
                                    "előtte": "Gulyás Attila",
                                    "utána": "Győrffy Bence"
                                },
                                {
                                    "név": "Győrffy Bence",
                                    "előtte": "Gyárfás Krisztina",
                                    "utána": "Gyuris József"
                                },
                                {
                                    "név": "Gyuris József",
                                    "előtte": "Győrffy Bence",
                                    "utána": "Hamvay-Kovács Anita"
                                },
                                {
                                    "név": "Hamvay-Kovács Anita",
                                    "előtte": "Gyuris József",
                                    "utána": "Harangozó János"
                                },
                                {
                                    "név": "Harangozó János",
                                    "előtte": "Hamvay-Kovács Anita",
                                    "utána": "Hartyánszky Ágnes"
                                },
                                {
                                    "név": "Hartyánszky Ágnes",
                                    "előtte": "Harangozó János",
                                    "utána": "Hegedűs Norbert"
                                },
                                {
                                    "név": "Hegedűs Norbert",
                                    "előtte": "Hartyánszky Ágnes",
                                    "utána": "Hídasi Judit"
                                },
                                {
                                    "név": "Hídasi Judit",
                                    "előtte": "Hegedűs Norbert",
                                    "utána": "Horváth Ágnes"
                                },
                                {
                                    "név": "Horváth Ágnes",
                                    "előtte": "Hídasi Judit",
                                    "utána": "Horváth Árpád"
                                },
                                {
                                    "név": "Horváth Árpád",
                                    "előtte": "Horváth Ágnes",
                                    "utána": "Horváth Bálint"
                                },
                                {
                                    "név": "Horváth Bálint",
                                    "előtte": "Horváth Árpád",
                                    "utána": "Horváth Katalin"
                                },
                                {
                                    "név": "Horváth Katalin",
                                    "előtte": "Horváth Bálint",
                                    "utána": "Horváth Krisztina"
                                },
                                {
                                    "név": "Horváth Krisztina",
                                    "előtte": "Horváth Katalin",
                                    "utána": "Horváth Márk"
                                },
                                {
                                    "név": "Horváth Márk",
                                    "előtte": "Horváth Krisztina",
                                    "utána": "Horváth Nikolett"
                                },
                                {
                                    "név": "Horváth Nikolett",
                                    "előtte": "Horváth Márk",
                                    "utána": "Iván Róbert"
                                },
                                {
                                    "név": "Iván Róbert",
                                    "előtte": "Horváth Nikolett",
                                    "utána": "Jakab Áron"
                                },
                                {
                                    "név": "Jakab Áron",
                                    "előtte": "Iván Róbert",
                                    "utána": "Józsa Zsolt"
                                },
                                {
                                    "név": "Józsa Zsolt",
                                    "előtte": "Jakab Áron",
                                    "utána": "Juhász Mihály"
                                },
                                {
                                    "név": "Juhász Mihály",
                                    "előtte": "Józsa Zsolt",
                                    "utána": "Kalacsi Márton"
                                },
                                {
                                    "név": "Kalacsi Márton",
                                    "előtte": "Juhász Mihály",
                                    "utána": "Karasz Sándor"
                                },
                                {
                                    "név": "Karasz Sándor",
                                    "előtte": "Kalacsi Márton",
                                    "utána": "Kardos Renáta"
                                },
                                {
                                    "név": "Kardos Renáta",
                                    "előtte": "Karasz Sándor",
                                    "utána": "Kazy Tihamér"
                                },
                                {
                                    "név": "Kazy Tihamér",
                                    "előtte": "Kardos Renáta",
                                    "utána": "Kelemen Áron"
                                },
                                {
                                    "név": "Kelemen Áron",
                                    "előtte": "Kazy Tihamér",
                                    "utána": "Kerényi Beatrix"
                                },
                                {
                                    "név": "Kerényi Beatrix",
                                    "előtte": "Kelemen Áron",
                                    "utána": "Keresztúri Viktor"
                                },
                                {
                                    "név": "Keresztúri Viktor",
                                    "előtte": "Kerényi Beatrix",
                                    "utána": "Kertész Katalin"
                                },
                                {
                                    "név": "Kertész Katalin",
                                    "előtte": "Keresztúri Viktor",
                                    "utána": "Keszler Dániel"
                                },
                                {
                                    "név": "Keszler Dániel",
                                    "előtte": "Kertész Katalin",
                                    "utána": "Kispál Márk"
                                },
                                {
                                    "név": "Kispál Márk",
                                    "előtte": "Keszler Dániel",
                                    "utána": "Kiss Ádám"
                                },
                                {
                                    "név": "Kiss Ádám",
                                    "előtte": "Kispál Márk",
                                    "utána": "Kiss Andrea"
                                },
                                {
                                    "név": "Kiss Andrea",
                                    "előtte": "Kiss Ádám",
                                    "utána": "Kiss Anita"
                                },
                                {
                                    "név": "Kiss Anita",
                                    "előtte": "Kiss Andrea",
                                    "utána": "Kiss Lajos"
                                },
                                {
                                    "név": "Kiss Lajos",
                                    "előtte": "Kiss Anita",
                                    "utána": "Komjáti András"
                                },
                                {
                                    "név": "Komjáti András",
                                    "előtte": "Kiss Lajos",
                                    "utána": "Kornseé Gyöngyi"
                                },
                                {
                                    "név": "Kornseé Gyöngyi",
                                    "előtte": "Komjáti András",
                                    "utána": "Kovács Ágnes"
                                },
                                {
                                    "név": "Kovács Ágnes",
                                    "előtte": "Kornseé Gyöngyi",
                                    "utána": "Kovács Bernadett"
                                },
                                {
                                    "név": "Kovács Bernadett",
                                    "előtte": "Kovács Ágnes",
                                    "utána": "Kovács Katalin"
                                },
                                {
                                    "név": "Kovács Katalin",
                                    "előtte": "Kovács Bernadett",
                                    "utána": "Koza Máté"
                                },
                                {
                                    "név": "Koza Máté",
                                    "előtte": "Kovács Katalin",
                                    "utána": "Kozma Péter"
                                },
                                {
                                    "név": "Kozma Péter",
                                    "előtte": "Koza Máté",
                                    "utána": "Kő Nikoletta"
                                },
                                {
                                    "név": "Kő Nikoletta",
                                    "előtte": "Kozma Péter",
                                    "utána": "Köves Gábor"
                                },
                                {
                                    "név": "Köves Gábor",
                                    "előtte": "Kő Nikoletta",
                                    "utána": "Kuruc Emese"
                                },
                                {
                                    "név": "Kuruc Emese",
                                    "előtte": "Köves Gábor",
                                    "utána": "Lengyel Ágnes"
                                },
                                {
                                    "név": "Lengyel Ágnes",
                                    "előtte": "Kuruc Emese",
                                    "utána": "Lukács Kornél"
                                },
                                {
                                    "név": "Lukács Kornél",
                                    "előtte": "Lengyel Ágnes",
                                    "utána": "Maródi Andrea"
                                },
                                {
                                    "név": "Maródi Andrea",
                                    "előtte": "Lukács Kornél",
                                    "utána": "Miklós Szabolcs"
                                },
                                {
                                    "név": "Miklós Szabolcs",
                                    "előtte": "Maródi Andrea",
                                    "utána": "Miklós Tamara"
                                },
                                {
                                    "név": "Miklós Tamara",
                                    "előtte": "Miklós Szabolcs",
                                    "utána": "Mile Norbert"
                                },
                                {
                                    "név": "Mile Norbert",
                                    "előtte": "Miklós Tamara",
                                    "utána": "Mogyródi Krisztián"
                                },
                                {
                                    "név": "Mogyródi Krisztián",
                                    "előtte": "Mile Norbert",
                                    "utána": "Mohos Mónika"
                                },
                                {
                                    "név": "Mohos Mónika",
                                    "előtte": "Mogyródi Krisztián",
                                    "utána": "Molnár András"
                                },
                                {
                                    "név": "Molnár András",
                                    "előtte": "Mohos Mónika",
                                    "utána": "Molnár Bálint"
                                },
                                {
                                    "név": "Molnár Bálint",
                                    "előtte": "Molnár András",
                                    "utána": "Molnár Eszter"
                                },
                                {
                                    "név": "Molnár Eszter",
                                    "előtte": "Molnár Bálint",
                                    "utána": "Molnár Zsófi"
                                },
                                {
                                    "név": "Molnár Zsófi",
                                    "előtte": "Molnár Eszter",
                                    "utána": "Mór Ottó"
                                },
                                {
                                    "név": "Mór Ottó",
                                    "előtte": "Molnár Zsófi",
                                    "utána": "Móra László"
                                },
                                {
                                    "név": "Móra László",
                                    "előtte": "Mór Ottó",
                                    "utána": "Móricz Árpád"
                                },
                                {
                                    "név": "Móricz Árpád",
                                    "előtte": "Móra László",
                                    "utána": "Nádudvari Henrik"
                                },
                                {
                                    "név": "Nádudvari Henrik",
                                    "előtte": "Móricz Árpád",
                                    "utána": "Nagy András"
                                },
                                {
                                    "név": "Nagy András",
                                    "előtte": "Nádudvari Henrik",
                                    "utána": "Nagy Gabriella"
                                },
                                {
                                    "név": "Nagy Gabriella",
                                    "előtte": "Nagy András",
                                    "utána": "Nagy Júlia"
                                },
                                {
                                    "név": "Nagy Júlia",
                                    "előtte": "Nagy Gabriella",
                                    "utána": "Nagy László"
                                },
                                {
                                    "név": "Nagy László",
                                    "előtte": "Nagy Júlia",
                                    "utána": "Nagy Péter"
                                },
                                {
                                    "név": "Nagy Péter",
                                    "előtte": "Nagy László",
                                    "utána": "Nagy Sándor"
                                },
                                {
                                    "név": "Nagy Sándor",
                                    "előtte": "Nagy Péter",
                                    "utána": "Nagymihály Csongor"
                                },
                                {
                                    "név": "Nagymihály Csongor",
                                    "előtte": "Nagy Sándor",
                                    "utána": "Nagymihály Lajos"
                                },
                                {
                                    "név": "Nagymihály Lajos",
                                    "előtte": "Nagymihály Csongor",
                                    "utána": "Neizer Andrea"
                                },
                                {
                                    "név": "Neizer Andrea",
                                    "előtte": "Nagymihály Lajos",
                                    "utána": "Nyíri Georgij"
                                },
                                {
                                    "név": "Nyíri Georgij",
                                    "előtte": "Neizer Andrea",
                                    "utána": "Opra Attila"
                                },
                                {
                                    "név": "Opra Attila",
                                    "előtte": "Nyíri Georgij",
                                    "utána": "Orbán Bernadett"
                                },
                                {
                                    "név": "Orbán Bernadett",
                                    "előtte": "Opra Attila",
                                    "utána": "Orosz Ferenc"
                                },
                                {
                                    "név": "Orosz Ferenc",
                                    "előtte": "Orbán Bernadett",
                                    "utána": "Oroszi György"
                                },
                                {
                                    "név": "Oroszi György",
                                    "előtte": "Orosz Ferenc",
                                    "utána": "Ötvös Árpád"
                                },
                                {
                                    "név": "Ötvös Árpád",
                                    "előtte": "Oroszi György",
                                    "utána": "Palágyi Polla"
                                },
                                {
                                    "név": "Palágyi Polla",
                                    "előtte": "Ötvös Árpád",
                                    "utána": "Pálinkás János"
                                },
                                {
                                    "név": "Pálinkás János",
                                    "előtte": "Palágyi Polla",
                                    "utána": "Papós Tímea"
                                },
                                {
                                    "név": "Papós Tímea",
                                    "előtte": "Pálinkás János",
                                    "utána": "Papp Imre"
                                },
                                {
                                    "név": "Papp Imre",
                                    "előtte": "Papós Tímea",
                                    "utána": "Pásztor Róbert"
                                },
                                {
                                    "név": "Pásztor Róbert",
                                    "előtte": "Papp Imre",
                                    "utána": "Pataki Brigitta"
                                },
                                {
                                    "név": "Pataki Brigitta",
                                    "előtte": "Pásztor Róbert",
                                    "utána": "Patay Róbert"
                                },
                                {
                                    "név": "Patay Róbert",
                                    "előtte": "Pataki Brigitta",
                                    "utána": "Perlinger Éva"
                                },
                                {
                                    "név": "Perlinger Éva",
                                    "előtte": "Patay Róbert",
                                    "utána": "Pintér Zoltán"
                                },
                                {
                                    "név": "Pintér Zoltán",
                                    "előtte": "Perlinger Éva",
                                    "utána": "Pivarcsi Anett"
                                },
                                {
                                    "név": "Pivarcsi Anett",
                                    "előtte": "Pintér Zoltán",
                                    "utána": "Poprádi Kristóf"
                                },
                                {
                                    "név": "Poprádi Kristóf",
                                    "előtte": "Pivarcsi Anett",
                                    "utána": "Pulai Zsolt"
                                },
                                {
                                    "név": "Pulai Zsolt",
                                    "előtte": "Poprádi Kristóf",
                                    "utána": "Pusztai Zsuzsanna"
                                },
                                {
                                    "név": "Pusztai Zsuzsanna",
                                    "előtte": "Pulai Zsolt",
                                    "utána": "Rab Sebestyén"
                                },
                                {
                                    "név": "Rab Sebestyén",
                                    "előtte": "Pusztai Zsuzsanna",
                                    "utána": "Rácz Dániel"
                                },
                                {
                                    "név": "Rácz Dániel",
                                    "előtte": "Rab Sebestyén",
                                    "utána": "Rácz Rajmond"
                                },
                                {
                                    "név": "Rácz Rajmond",
                                    "előtte": "Rácz Dániel",
                                    "utána": "Regős Annamária"
                                },
                                {
                                    "név": "Regős Annamária",
                                    "előtte": "Rácz Rajmond",
                                    "utána": "Sarodi Dóra"
                                },
                                {
                                    "név": "Sarodi Dóra",
                                    "előtte": "Regős Annamária",
                                    "utána": "Simon Anikó"
                                },
                                {
                                    "név": "Simon Anikó",
                                    "előtte": "Sarodi Dóra",
                                    "utána": "Simon Bernadett"
                                },
                                {
                                    "név": "Simon Bernadett",
                                    "előtte": "Simon Anikó",
                                    "utána": "Sobják Dávid"
                                },
                                {
                                    "név": "Sobják Dávid",
                                    "előtte": "Simon Bernadett",
                                    "utána": "Soós István"
                                },
                                {
                                    "név": "Soós István",
                                    "előtte": "Sobják Dávid",
                                    "utána": "Szabó Julianna"
                                },
                                {
                                    "név": "Szabó Julianna",
                                    "előtte": "Soós István",
                                    "utána": "Szalai Péter"
                                },
                                {
                                    "név": "Szalai Péter",
                                    "előtte": "Szabó Julianna",
                                    "utána": "Szalai Szilárd"
                                },
                                {
                                    "név": "Szalai Szilárd",
                                    "előtte": "Szalai Péter",
                                    "utána": "Szedlár Krisztina"
                                },
                                {
                                    "név": "Szedlár Krisztina",
                                    "előtte": "Szalai Szilárd",
                                    "utána": "Székely Brigitta"
                                },
                                {
                                    "név": "Székely Brigitta",
                                    "előtte": "Szedlár Krisztina",
                                    "utána": "Szekendi Beatrix"
                                },
                                {
                                    "név": "Szekendi Beatrix",
                                    "előtte": "Székely Brigitta",
                                    "utána": "Szikszai Réka"
                                },
                                {
                                    "név": "Szikszai Réka",
                                    "előtte": "Szekendi Beatrix",
                                    "utána": "Szilágyi Mátyás"
                                },
                                {
                                    "név": "Szilágyi Mátyás",
                                    "előtte": "Szikszai Réka",
                                    "utána": "Szirmai Renáta"
                                },
                                {
                                    "név": "Szirmai Renáta",
                                    "előtte": "Szilágyi Mátyás",
                                    "utána": "Szomor Andrea"
                                },
                                {
                                    "név": "Szomor Andrea",
                                    "előtte": "Szirmai Renáta",
                                    "utána": "Szöllősi Gábor"
                                },
                                {
                                    "név": "Szöllősi Gábor",
                                    "előtte": "Szomor Andrea",
                                    "utána": "Szűcs Annamária"
                                },
                                {
                                    "név": "Szűcs Annamária",
                                    "előtte": "Szöllősi Gábor",
                                    "utána": "Szűcs Balázs"
                                },
                                {
                                    "név": "Szűcs Balázs",
                                    "előtte": "Szűcs Annamária",
                                    "utána": "Szűcs Norbert"
                                },
                                {
                                    "név": "Szűcs Norbert",
                                    "előtte": "Szűcs Balázs",
                                    "utána": "Tankó Veronika"
                                },
                                {
                                    "név": "Tankó Veronika",
                                    "előtte": "Szűcs Norbert",
                                    "utána": "Tari Szilvia"
                                },
                                {
                                    "név": "Tari Szilvia",
                                    "előtte": "Tankó Veronika",
                                    "utána": "Tatár Nikoletta"
                                },
                                {
                                    "név": "Tatár Nikoletta",
                                    "előtte": "Tari Szilvia",
                                    "utána": "Telek Gábor"
                                },
                                {
                                    "név": "Telek Gábor",
                                    "előtte": "Tatár Nikoletta",
                                    "utána": "Tornyos Andrea"
                                },
                                {
                                    "név": "Tornyos Andrea",
                                    "előtte": "Telek Gábor",
                                    "utána": "Tóth András"
                                },
                                {
                                    "név": "Tóth András",
                                    "előtte": "Tornyos Andrea",
                                    "utána": "Tóth Anikó"
                                },
                                {
                                    "név": "Tóth Anikó",
                                    "előtte": "Tóth András",
                                    "utána": "Tóth Júlia"
                                },
                                {
                                    "név": "Tóth Júlia",
                                    "előtte": "Tóth Anikó",
                                    "utána": "Tóth Roland"
                                },
                                {
                                    "név": "Tóth Roland",
                                    "előtte": "Tóth Júlia",
                                    "utána": "Tóth Zoltán"
                                },
                                {
                                    "név": "Tóth Zoltán",
                                    "előtte": "Tóth Roland",
                                    "utána": "Tömböly Dénes"
                                },
                                {
                                    "név": "Tömböly Dénes",
                                    "előtte": "Tóth Zoltán",
                                    "utána": "Turcsik Tünde"
                                },
                                {
                                    "név": "Turcsik Tünde",
                                    "előtte": "Tömböly Dénes",
                                    "utána": "Urbán Viktoria"
                                },
                                {
                                    "név": "Urbán Viktoria",
                                    "előtte": "Turcsik Tünde",
                                    "utána": "Vajda József"
                                },
                                {
                                    "név": "Vajda József",
                                    "előtte": "Urbán Viktoria",
                                    "utána": "Vajda Zsuzsa"
                                },
                                {
                                    "név": "Vajda Zsuzsa",
                                    "előtte": "Vajda József",
                                    "utána": "Varga István"
                                },
                                {
                                    "név": "Varga István",
                                    "előtte": "Vajda Zsuzsa",
                                    "utána": "Varsányi Zsuzsa"
                                },
                                {
                                    "név": "Varsányi Zsuzsa",
                                    "előtte": "Varga István",
                                    "utána": "Vida Gabriella"
                                },
                                {
                                    "név": "Vida Gabriella",
                                    "előtte": "Varsányi Zsuzsa",
                                    "utána": "Vígh András"
                                },
                                {
                                    "név": "Vígh András",
                                    "előtte": "Vida Gabriella",
                                    "utána": "Viktor Éva"
                                },
                                {
                                    "név": "Viktor Éva",
                                    "előtte": "Vígh András",
                                    "utána": "Vizi István"
                                },
                                {
                                    "név": "Vizi István",
                                    "előtte": "Viktor Éva",
                                    "utána": "Vörös Dániel"
                                },
                                {
                                    "név": "Vörös Dániel",
                                    "előtte": "Vizi István",
                                    "utána": "Vukasinovity Bálint"
                                },
                                {
                                    "név": "Vukasinovity Bálint",
                                    "előtte": "Vörös Dániel",
                                    "utána": "Zatykó Katalin"
                                },
                                {
                                    "név": "Zatykó Katalin",
                                    "előtte": "Vukasinovity Bálint",
                                    "utána": "Nincs következő"
                                }
                            ]
                        },
                        "text/html": [
                            "<table>",
                            "<tr><th>név</th><th>előtte</th><th>utána</th></tr>",
                            "<tr><td>Ambrus Dávid</td><td>Nincs előző</td><td>Andor Ibolya</td></tr>",
                            "<tr><td>Andor Ibolya</td><td>Ambrus Dávid</td><td>Antal László</td></tr>",
                            "<tr><td>Antal László</td><td>Andor Ibolya</td><td>Antal Tamás</td></tr>",
                            "<tr><td>Antal Tamás</td><td>Antal László</td><td>Back András</td></tr>",
                            "<tr><td>Back András</td><td>Antal Tamás</td><td>Bagi Beáta</td></tr>",
                            "<tr><td>Bagi Beáta</td><td>Back András</td><td>Bagóczki Alexandra</td></tr>",
                            "<tr><td>Bagóczki Alexandra</td><td>Bagi Beáta</td><td>Bajusz Bence</td></tr>",
                            "<tr><td>Bajusz Bence</td><td>Bagóczki Alexandra</td><td>Bakó Klaudia</td></tr>",
                            "<tr><td>Bakó Klaudia</td><td>Bajusz Bence</td><td>Bakódy Balázs</td></tr>",
                            "<tr><td>Bakódy Balázs</td><td>Bakó Klaudia</td><td>Balla Miklós</td></tr>",
                            "<tr><td>Balla Miklós</td><td>Bakódy Balázs</td><td>Balogh Eszter</td></tr>",
                            "<tr><td>Balogh Eszter</td><td>Balla Miklós</td><td>Barabás Pál</td></tr>",
                            "<tr><td>Barabás Pál</td><td>Balogh Eszter</td><td>Baráth Mária</td></tr>",
                            "<tr><td>Baráth Mária</td><td>Barabás Pál</td><td>Bárci Gusztáv</td></tr>",
                            "<tr><td>Bárci Gusztáv</td><td>Baráth Mária</td><td>Barkóci Ádám</td></tr>",
                            "<tr><td>Barkóci Ádám</td><td>Bárci Gusztáv</td><td>Barna Debóra</td></tr>",
                            "<tr><td>Barna Debóra</td><td>Barkóci Ádám</td><td>Barna Zoltán</td></tr>",
                            "<tr><td>Barna Zoltán</td><td>Barna Debóra</td><td>Baróti Attila</td></tr>",
                            "<tr><td>Baróti Attila</td><td>Barna Zoltán</td><td>Barta Zsuzsanna</td></tr>",
                            "<tr><td>Barta Zsuzsanna</td><td>Baróti Attila</td><td>Berendi Péter</td></tr>",
                            "<tr><td>Berendi Péter</td><td>Barta Zsuzsanna</td><td>Béres Norbert</td></tr>",
                            "<tr><td>Béres Norbert</td><td>Berendi Péter</td><td>Berta Dávid</td></tr>",
                            "<tr><td>Berta Dávid</td><td>Béres Norbert</td><td>Bieniek Ádám</td></tr>",
                            "<tr><td>Bieniek Ádám</td><td>Berta Dávid</td><td>Bíró Ákos</td></tr>",
                            "<tr><td>Bíró Ákos</td><td>Bieniek Ádám</td><td>Biró Alexander</td></tr>",
                            "<tr><td>Biró Alexander</td><td>Bíró Ákos</td><td>Bíró Péter</td></tr>",
                            "<tr><td>Bíró Péter</td><td>Biró Alexander</td><td>Bittmann Edit</td></tr>",
                            "<tr><td>Bittmann Edit</td><td>Bíró Péter</td><td>Bodor Szabolcs</td></tr>",
                            "<tr><td>Bodor Szabolcs</td><td>Bittmann Edit</td><td>Bori Krisztina</td></tr>",
                            "<tr><td>Bori Krisztina</td><td>Bodor Szabolcs</td><td>Boros Vivien</td></tr>",
                            "<tr><td>Boros Vivien</td><td>Bori Krisztina</td><td>Bosnyák Ilona</td></tr>",
                            "<tr><td>Bosnyák Ilona</td><td>Boros Vivien</td><td>Botka Mátyás</td></tr>",
                            "<tr><td>Botka Mátyás</td><td>Bosnyák Ilona</td><td>Bozsik Balázs</td></tr>",
                            "<tr><td>Bozsik Balázs</td><td>Botka Mátyás</td><td>Bozsó Péter</td></tr>",
                            "<tr><td>Bozsó Péter</td><td>Bozsik Balázs</td><td>Böröcz Anikó</td></tr>",
                            "<tr><td>Böröcz Anikó</td><td>Bozsó Péter</td><td>Bucskó Róza</td></tr>",
                            "<tr><td>Bucskó Róza</td><td>Böröcz Anikó</td><td>Búza Imre</td></tr>",
                            "<tr><td>Búza Imre</td><td>Bucskó Róza</td><td>Czérna Krisztián</td></tr>",
                            "<tr><td>Czérna Krisztián</td><td>Búza Imre</td><td>Csiger Bertalan</td></tr>",
                            "<tr><td>Csiger Bertalan</td><td>Czérna Krisztián</td><td>Csóti Attila</td></tr>",
                            "<tr><td>Csóti Attila</td><td>Csiger Bertalan</td><td>Dániel Tibor</td></tr>",
                            "<tr><td>Dániel Tibor</td><td>Csóti Attila</td><td>Dunai Aladár</td></tr>",
                            "<tr><td>Dunai Aladár</td><td>Dániel Tibor</td><td>Dusha Tímea</td></tr>",
                            "<tr><td>Dusha Tímea</td><td>Dunai Aladár</td><td>Endresz Bálint</td></tr>",
                            "<tr><td>Endresz Bálint</td><td>Dusha Tímea</td><td>Enyedi Éva</td></tr>",
                            "<tr><td>Enyedi Éva</td><td>Endresz Bálint</td><td>Erdei András</td></tr>",
                            "<tr><td>Erdei András</td><td>Enyedi Éva</td><td>Érsek Eszter</td></tr>",
                            "<tr><td>Érsek Eszter</td><td>Erdei András</td><td>Farkas Béla</td></tr>",
                            "<tr><td>Farkas Béla</td><td>Érsek Eszter</td><td>Farkas László</td></tr>",
                            "<tr><td>Farkas László</td><td>Farkas Béla</td><td>Farkas Sándor</td></tr>",
                            "<tr><td>Farkas Sándor</td><td>Farkas László</td><td>Farkas Sára</td></tr>",
                            "<tr><td>Farkas Sára</td><td>Farkas Sándor</td><td>Fényes Tamás</td></tr>",
                            "<tr><td>Fényes Tamás</td><td>Farkas Sára</td><td>Ferencz Roland</td></tr>",
                            "<tr><td>Ferencz Roland</td><td>Fényes Tamás</td><td>Feró Valentin</td></tr>",
                            "<tr><td>Feró Valentin</td><td>Ferencz Roland</td><td>Fodor Zoltán</td></tr>",
                            "<tr><td>Fodor Zoltán</td><td>Feró Valentin</td><td>Foltényi Sebastián</td></tr>",
                            "<tr><td>Foltényi Sebastián</td><td>Fodor Zoltán</td><td>Fő Nándor</td></tr>",
                            "<tr><td>Fő Nándor</td><td>Foltényi Sebastián</td><td>Frank Fruzsina</td></tr>",
                            "<tr><td>Frank Fruzsina</td><td>Fő Nándor</td><td>Fülöp Eszter</td></tr>",
                            "<tr><td>Fülöp Eszter</td><td>Frank Fruzsina</td><td>Gergely József</td></tr>",
                            "<tr><td>Gergely József</td><td>Fülöp Eszter</td><td>Giliga János</td></tr>",
                            "<tr><td>Giliga János</td><td>Gergely József</td><td>Gombos Tibor</td></tr>",
                            "<tr><td>Gombos Tibor</td><td>Giliga János</td><td>Gondos Katalin</td></tr>",
                            "<tr><td>Gondos Katalin</td><td>Gombos Tibor</td><td>Gondos Miklós</td></tr>",
                            "<tr><td>Gondos Miklós</td><td>Gondos Katalin</td><td>Gulyás Attila</td></tr>",
                            "<tr><td>Gulyás Attila</td><td>Gondos Miklós</td><td>Gyárfás Krisztina</td></tr>",
                            "<tr><td>Gyárfás Krisztina</td><td>Gulyás Attila</td><td>Győrffy Bence</td></tr>",
                            "<tr><td>Győrffy Bence</td><td>Gyárfás Krisztina</td><td>Gyuris József</td></tr>",
                            "<tr><td>Gyuris József</td><td>Győrffy Bence</td><td>Hamvay-Kovács Anita</td></tr>",
                            "<tr><td>Hamvay-Kovács Anita</td><td>Gyuris József</td><td>Harangozó János</td></tr>",
                            "<tr><td>Harangozó János</td><td>Hamvay-Kovács Anita</td><td>Hartyánszky Ágnes</td></tr>",
                            "<tr><td>Hartyánszky Ágnes</td><td>Harangozó János</td><td>Hegedűs Norbert</td></tr>",
                            "<tr><td>Hegedűs Norbert</td><td>Hartyánszky Ágnes</td><td>Hídasi Judit</td></tr>",
                            "<tr><td>Hídasi Judit</td><td>Hegedűs Norbert</td><td>Horváth Ágnes</td></tr>",
                            "<tr><td>Horváth Ágnes</td><td>Hídasi Judit</td><td>Horváth Árpád</td></tr>",
                            "<tr><td>Horváth Árpád</td><td>Horváth Ágnes</td><td>Horváth Bálint</td></tr>",
                            "<tr><td>Horváth Bálint</td><td>Horváth Árpád</td><td>Horváth Katalin</td></tr>",
                            "<tr><td>Horváth Katalin</td><td>Horváth Bálint</td><td>Horváth Krisztina</td></tr>",
                            "<tr><td>Horváth Krisztina</td><td>Horváth Katalin</td><td>Horváth Márk</td></tr>",
                            "<tr><td>Horváth Márk</td><td>Horváth Krisztina</td><td>Horváth Nikolett</td></tr>",
                            "<tr><td>Horváth Nikolett</td><td>Horváth Márk</td><td>Iván Róbert</td></tr>",
                            "<tr><td>Iván Róbert</td><td>Horváth Nikolett</td><td>Jakab Áron</td></tr>",
                            "<tr><td>Jakab Áron</td><td>Iván Róbert</td><td>Józsa Zsolt</td></tr>",
                            "<tr><td>Józsa Zsolt</td><td>Jakab Áron</td><td>Juhász Mihály</td></tr>",
                            "<tr><td>Juhász Mihály</td><td>Józsa Zsolt</td><td>Kalacsi Márton</td></tr>",
                            "<tr><td>Kalacsi Márton</td><td>Juhász Mihály</td><td>Karasz Sándor</td></tr>",
                            "<tr><td>Karasz Sándor</td><td>Kalacsi Márton</td><td>Kardos Renáta</td></tr>",
                            "<tr><td>Kardos Renáta</td><td>Karasz Sándor</td><td>Kazy Tihamér</td></tr>",
                            "<tr><td>Kazy Tihamér</td><td>Kardos Renáta</td><td>Kelemen Áron</td></tr>",
                            "<tr><td>Kelemen Áron</td><td>Kazy Tihamér</td><td>Kerényi Beatrix</td></tr>",
                            "<tr><td>Kerényi Beatrix</td><td>Kelemen Áron</td><td>Keresztúri Viktor</td></tr>",
                            "<tr><td>Keresztúri Viktor</td><td>Kerényi Beatrix</td><td>Kertész Katalin</td></tr>",
                            "<tr><td>Kertész Katalin</td><td>Keresztúri Viktor</td><td>Keszler Dániel</td></tr>",
                            "<tr><td>Keszler Dániel</td><td>Kertész Katalin</td><td>Kispál Márk</td></tr>",
                            "<tr><td>Kispál Márk</td><td>Keszler Dániel</td><td>Kiss Ádám</td></tr>",
                            "<tr><td>Kiss Ádám</td><td>Kispál Márk</td><td>Kiss Andrea</td></tr>",
                            "<tr><td>Kiss Andrea</td><td>Kiss Ádám</td><td>Kiss Anita</td></tr>",
                            "<tr><td>Kiss Anita</td><td>Kiss Andrea</td><td>Kiss Lajos</td></tr>",
                            "<tr><td>Kiss Lajos</td><td>Kiss Anita</td><td>Komjáti András</td></tr>",
                            "<tr><td>Komjáti András</td><td>Kiss Lajos</td><td>Kornseé Gyöngyi</td></tr>",
                            "<tr><td>Kornseé Gyöngyi</td><td>Komjáti András</td><td>Kovács Ágnes</td></tr>",
                            "<tr><td>Kovács Ágnes</td><td>Kornseé Gyöngyi</td><td>Kovács Bernadett</td></tr>",
                            "<tr><td>Kovács Bernadett</td><td>Kovács Ágnes</td><td>Kovács Katalin</td></tr>",
                            "<tr><td>Kovács Katalin</td><td>Kovács Bernadett</td><td>Koza Máté</td></tr>",
                            "<tr><td>Koza Máté</td><td>Kovács Katalin</td><td>Kozma Péter</td></tr>",
                            "<tr><td>Kozma Péter</td><td>Koza Máté</td><td>Kő Nikoletta</td></tr>",
                            "<tr><td>Kő Nikoletta</td><td>Kozma Péter</td><td>Köves Gábor</td></tr>",
                            "<tr><td>Köves Gábor</td><td>Kő Nikoletta</td><td>Kuruc Emese</td></tr>",
                            "<tr><td>Kuruc Emese</td><td>Köves Gábor</td><td>Lengyel Ágnes</td></tr>",
                            "<tr><td>Lengyel Ágnes</td><td>Kuruc Emese</td><td>Lukács Kornél</td></tr>",
                            "<tr><td>Lukács Kornél</td><td>Lengyel Ágnes</td><td>Maródi Andrea</td></tr>",
                            "<tr><td>Maródi Andrea</td><td>Lukács Kornél</td><td>Miklós Szabolcs</td></tr>",
                            "<tr><td>Miklós Szabolcs</td><td>Maródi Andrea</td><td>Miklós Tamara</td></tr>",
                            "<tr><td>Miklós Tamara</td><td>Miklós Szabolcs</td><td>Mile Norbert</td></tr>",
                            "<tr><td>Mile Norbert</td><td>Miklós Tamara</td><td>Mogyródi Krisztián</td></tr>",
                            "<tr><td>Mogyródi Krisztián</td><td>Mile Norbert</td><td>Mohos Mónika</td></tr>",
                            "<tr><td>Mohos Mónika</td><td>Mogyródi Krisztián</td><td>Molnár András</td></tr>",
                            "<tr><td>Molnár András</td><td>Mohos Mónika</td><td>Molnár Bálint</td></tr>",
                            "<tr><td>Molnár Bálint</td><td>Molnár András</td><td>Molnár Eszter</td></tr>",
                            "<tr><td>Molnár Eszter</td><td>Molnár Bálint</td><td>Molnár Zsófi</td></tr>",
                            "<tr><td>Molnár Zsófi</td><td>Molnár Eszter</td><td>Mór Ottó</td></tr>",
                            "<tr><td>Mór Ottó</td><td>Molnár Zsófi</td><td>Móra László</td></tr>",
                            "<tr><td>Móra László</td><td>Mór Ottó</td><td>Móricz Árpád</td></tr>",
                            "<tr><td>Móricz Árpád</td><td>Móra László</td><td>Nádudvari Henrik</td></tr>",
                            "<tr><td>Nádudvari Henrik</td><td>Móricz Árpád</td><td>Nagy András</td></tr>",
                            "<tr><td>Nagy András</td><td>Nádudvari Henrik</td><td>Nagy Gabriella</td></tr>",
                            "<tr><td>Nagy Gabriella</td><td>Nagy András</td><td>Nagy Júlia</td></tr>",
                            "<tr><td>Nagy Júlia</td><td>Nagy Gabriella</td><td>Nagy László</td></tr>",
                            "<tr><td>Nagy László</td><td>Nagy Júlia</td><td>Nagy Péter</td></tr>",
                            "<tr><td>Nagy Péter</td><td>Nagy László</td><td>Nagy Sándor</td></tr>",
                            "<tr><td>Nagy Sándor</td><td>Nagy Péter</td><td>Nagymihály Csongor</td></tr>",
                            "<tr><td>Nagymihály Csongor</td><td>Nagy Sándor</td><td>Nagymihály Lajos</td></tr>",
                            "<tr><td>Nagymihály Lajos</td><td>Nagymihály Csongor</td><td>Neizer Andrea</td></tr>",
                            "<tr><td>Neizer Andrea</td><td>Nagymihály Lajos</td><td>Nyíri Georgij</td></tr>",
                            "<tr><td>Nyíri Georgij</td><td>Neizer Andrea</td><td>Opra Attila</td></tr>",
                            "<tr><td>Opra Attila</td><td>Nyíri Georgij</td><td>Orbán Bernadett</td></tr>",
                            "<tr><td>Orbán Bernadett</td><td>Opra Attila</td><td>Orosz Ferenc</td></tr>",
                            "<tr><td>Orosz Ferenc</td><td>Orbán Bernadett</td><td>Oroszi György</td></tr>",
                            "<tr><td>Oroszi György</td><td>Orosz Ferenc</td><td>Ötvös Árpád</td></tr>",
                            "<tr><td>Ötvös Árpád</td><td>Oroszi György</td><td>Palágyi Polla</td></tr>",
                            "<tr><td>Palágyi Polla</td><td>Ötvös Árpád</td><td>Pálinkás János</td></tr>",
                            "<tr><td>Pálinkás János</td><td>Palágyi Polla</td><td>Papós Tímea</td></tr>",
                            "<tr><td>Papós Tímea</td><td>Pálinkás János</td><td>Papp Imre</td></tr>",
                            "<tr><td>Papp Imre</td><td>Papós Tímea</td><td>Pásztor Róbert</td></tr>",
                            "<tr><td>Pásztor Róbert</td><td>Papp Imre</td><td>Pataki Brigitta</td></tr>",
                            "<tr><td>Pataki Brigitta</td><td>Pásztor Róbert</td><td>Patay Róbert</td></tr>",
                            "<tr><td>Patay Róbert</td><td>Pataki Brigitta</td><td>Perlinger Éva</td></tr>",
                            "<tr><td>Perlinger Éva</td><td>Patay Róbert</td><td>Pintér Zoltán</td></tr>",
                            "<tr><td>Pintér Zoltán</td><td>Perlinger Éva</td><td>Pivarcsi Anett</td></tr>",
                            "<tr><td>Pivarcsi Anett</td><td>Pintér Zoltán</td><td>Poprádi Kristóf</td></tr>",
                            "<tr><td>Poprádi Kristóf</td><td>Pivarcsi Anett</td><td>Pulai Zsolt</td></tr>",
                            "<tr><td>Pulai Zsolt</td><td>Poprádi Kristóf</td><td>Pusztai Zsuzsanna</td></tr>",
                            "<tr><td>Pusztai Zsuzsanna</td><td>Pulai Zsolt</td><td>Rab Sebestyén</td></tr>",
                            "<tr><td>Rab Sebestyén</td><td>Pusztai Zsuzsanna</td><td>Rácz Dániel</td></tr>",
                            "<tr><td>Rácz Dániel</td><td>Rab Sebestyén</td><td>Rácz Rajmond</td></tr>",
                            "<tr><td>Rácz Rajmond</td><td>Rácz Dániel</td><td>Regős Annamária</td></tr>",
                            "<tr><td>Regős Annamária</td><td>Rácz Rajmond</td><td>Sarodi Dóra</td></tr>",
                            "<tr><td>Sarodi Dóra</td><td>Regős Annamária</td><td>Simon Anikó</td></tr>",
                            "<tr><td>Simon Anikó</td><td>Sarodi Dóra</td><td>Simon Bernadett</td></tr>",
                            "<tr><td>Simon Bernadett</td><td>Simon Anikó</td><td>Sobják Dávid</td></tr>",
                            "<tr><td>Sobják Dávid</td><td>Simon Bernadett</td><td>Soós István</td></tr>",
                            "<tr><td>Soós István</td><td>Sobják Dávid</td><td>Szabó Julianna</td></tr>",
                            "<tr><td>Szabó Julianna</td><td>Soós István</td><td>Szalai Péter</td></tr>",
                            "<tr><td>Szalai Péter</td><td>Szabó Julianna</td><td>Szalai Szilárd</td></tr>",
                            "<tr><td>Szalai Szilárd</td><td>Szalai Péter</td><td>Szedlár Krisztina</td></tr>",
                            "<tr><td>Szedlár Krisztina</td><td>Szalai Szilárd</td><td>Székely Brigitta</td></tr>",
                            "<tr><td>Székely Brigitta</td><td>Szedlár Krisztina</td><td>Szekendi Beatrix</td></tr>",
                            "<tr><td>Szekendi Beatrix</td><td>Székely Brigitta</td><td>Szikszai Réka</td></tr>",
                            "<tr><td>Szikszai Réka</td><td>Szekendi Beatrix</td><td>Szilágyi Mátyás</td></tr>",
                            "<tr><td>Szilágyi Mátyás</td><td>Szikszai Réka</td><td>Szirmai Renáta</td></tr>",
                            "<tr><td>Szirmai Renáta</td><td>Szilágyi Mátyás</td><td>Szomor Andrea</td></tr>",
                            "<tr><td>Szomor Andrea</td><td>Szirmai Renáta</td><td>Szöllősi Gábor</td></tr>",
                            "<tr><td>Szöllősi Gábor</td><td>Szomor Andrea</td><td>Szűcs Annamária</td></tr>",
                            "<tr><td>Szűcs Annamária</td><td>Szöllősi Gábor</td><td>Szűcs Balázs</td></tr>",
                            "<tr><td>Szűcs Balázs</td><td>Szűcs Annamária</td><td>Szűcs Norbert</td></tr>",
                            "<tr><td>Szűcs Norbert</td><td>Szűcs Balázs</td><td>Tankó Veronika</td></tr>",
                            "<tr><td>Tankó Veronika</td><td>Szűcs Norbert</td><td>Tari Szilvia</td></tr>",
                            "<tr><td>Tari Szilvia</td><td>Tankó Veronika</td><td>Tatár Nikoletta</td></tr>",
                            "<tr><td>Tatár Nikoletta</td><td>Tari Szilvia</td><td>Telek Gábor</td></tr>",
                            "<tr><td>Telek Gábor</td><td>Tatár Nikoletta</td><td>Tornyos Andrea</td></tr>",
                            "<tr><td>Tornyos Andrea</td><td>Telek Gábor</td><td>Tóth András</td></tr>",
                            "<tr><td>Tóth András</td><td>Tornyos Andrea</td><td>Tóth Anikó</td></tr>",
                            "<tr><td>Tóth Anikó</td><td>Tóth András</td><td>Tóth Júlia</td></tr>",
                            "<tr><td>Tóth Júlia</td><td>Tóth Anikó</td><td>Tóth Roland</td></tr>",
                            "<tr><td>Tóth Roland</td><td>Tóth Júlia</td><td>Tóth Zoltán</td></tr>",
                            "<tr><td>Tóth Zoltán</td><td>Tóth Roland</td><td>Tömböly Dénes</td></tr>",
                            "<tr><td>Tömböly Dénes</td><td>Tóth Zoltán</td><td>Turcsik Tünde</td></tr>",
                            "<tr><td>Turcsik Tünde</td><td>Tömböly Dénes</td><td>Urbán Viktoria</td></tr>",
                            "<tr><td>Urbán Viktoria</td><td>Turcsik Tünde</td><td>Vajda József</td></tr>",
                            "<tr><td>Vajda József</td><td>Urbán Viktoria</td><td>Vajda Zsuzsa</td></tr>",
                            "<tr><td>Vajda Zsuzsa</td><td>Vajda József</td><td>Varga István</td></tr>",
                            "<tr><td>Varga István</td><td>Vajda Zsuzsa</td><td>Varsányi Zsuzsa</td></tr>",
                            "<tr><td>Varsányi Zsuzsa</td><td>Varga István</td><td>Vida Gabriella</td></tr>",
                            "<tr><td>Vida Gabriella</td><td>Varsányi Zsuzsa</td><td>Vígh András</td></tr>",
                            "<tr><td>Vígh András</td><td>Vida Gabriella</td><td>Viktor Éva</td></tr>",
                            "<tr><td>Viktor Éva</td><td>Vígh András</td><td>Vizi István</td></tr>",
                            "<tr><td>Vizi István</td><td>Viktor Éva</td><td>Vörös Dániel</td></tr>",
                            "<tr><td>Vörös Dániel</td><td>Vizi István</td><td>Vukasinovity Bálint</td></tr>",
                            "<tr><td>Vukasinovity Bálint</td><td>Vörös Dániel</td><td>Zatykó Katalin</td></tr>",
                            "<tr><td>Zatykó Katalin</td><td>Vukasinovity Bálint</td><td>Nincs következő</td></tr>",
                            "</table>"
                        ]
                    }
                }
            ],
            "execution_count": 37
        },
        {
            "cell_type": "markdown",
            "source": [
                "7. <span style=\"font-weight: 600; color: rgb(36, 41, 47); font-family: -apple-system, BlinkMacSystemFont, &quot;Segoe UI&quot;, Helvetica, Arial, sans-serif, &quot;Apple Color Emoji&quot;, &quot;Segoe UI Emoji&quot;; font-size: 16px;\">Készítsünk lekérdezést, amely megmutatja, hogy melyik termékkategóriába hány termék tartozik. A lista a kategória nevét és a darabszámot jelenítse meg.</span>\n",
                "\n",
                "1. A lista ne tartalmazzon duplikált sorokat.\n",
                "2. A feladatot partíciók segítségével oldjuk meg!"
            ],
            "metadata": {
                "azdata_cell_guid": "7ebf7ddd-1bd2-4246-815a-be8ae37e3b5b"
            },
            "attachments": {}
        },
        {
            "cell_type": "code",
            "source": [
                "SELECT DISTINCT\r\n",
                "    tk.KAT_NEV,\r\n",
                "    t.MEGYS,\r\n",
                "    COUNT(*) /*nullokat is beleszámolja*/ OVER(PARTITION BY tk.KAT_NEV), --csoportosítás szempontja, így bármit beírhatunk a selectbe és a groupby-ba nem\r\n",
                "    AVG(t.LISTAAR) OVER(PARTITION BY t.RAKTAR_KOD) --bármennyi írható\r\n",
                "FROM Termek t JOIN Termekkategoria tk ON t.KAT_ID = tk.KAT_ID\r\n",
                "--GROUP BY tk.KAT_NEV"
            ],
            "metadata": {
                "azdata_cell_guid": "84b7e896-f36e-4985-88f5-e0f706494fef",
                "language": "sql"
            },
            "outputs": [
                {
                    "output_type": "display_data",
                    "data": {
                        "text/html": "(335 rows affected)"
                    },
                    "metadata": {}
                },
                {
                    "output_type": "display_data",
                    "data": {
                        "text/html": "Total execution time: 00:00:00.024"
                    },
                    "metadata": {}
                },
                {
                    "output_type": "execute_result",
                    "metadata": {},
                    "execution_count": 27,
                    "data": {
                        "application/vnd.dataresource+json": {
                            "schema": {
                                "fields": [
                                    {
                                        "name": "KAT_NEV"
                                    },
                                    {
                                        "name": "MEGYS"
                                    },
                                    {
                                        "name": "(No column name)"
                                    },
                                    {
                                        "name": "(No column name)"
                                    }
                                ]
                            },
                            "data": [
                                {
                                    "KAT_NEV": "ajándék tárgy",
                                    "MEGYS": "db",
                                    "(No column name)": "169,14705882352942"
                                },
                                {
                                    "KAT_NEV": "ajándék tárgy",
                                    "MEGYS": "db",
                                    "(No column name)": "262,48837209302326"
                                },
                                {
                                    "KAT_NEV": "ajándék tasak",
                                    "MEGYS": "db",
                                    "(No column name)": "159,25"
                                },
                                {
                                    "KAT_NEV": "ajándék tasak",
                                    "MEGYS": "db",
                                    "(No column name)": "169,14705882352942"
                                },
                                {
                                    "KAT_NEV": "ajándék tasak",
                                    "MEGYS": "db",
                                    "(No column name)": "215,22641509433961"
                                },
                                {
                                    "KAT_NEV": "ajándék tasak",
                                    "MEGYS": "db",
                                    "(No column name)": "273,219512195122"
                                },
                                {
                                    "KAT_NEV": "ajándék tasak",
                                    "MEGYS": "tekercs",
                                    "(No column name)": "159,25"
                                },
                                {
                                    "KAT_NEV": "álarc",
                                    "MEGYS": "db",
                                    "(No column name)": "159,25"
                                },
                                {
                                    "KAT_NEV": "álarc",
                                    "MEGYS": "db",
                                    "(No column name)": "273,219512195122"
                                },
                                {
                                    "KAT_NEV": "alkalmi",
                                    "MEGYS": "db",
                                    "(No column name)": "7716,428571428572"
                                },
                                {
                                    "KAT_NEV": "alkalmi",
                                    "MEGYS": "db",
                                    "(No column name)": "12345"
                                },
                                {
                                    "KAT_NEV": "alufólia",
                                    "MEGYS": "db",
                                    "(No column name)": "169,14705882352942"
                                },
                                {
                                    "KAT_NEV": "alufólia",
                                    "MEGYS": "db",
                                    "(No column name)": "215,22641509433961"
                                },
                                {
                                    "KAT_NEV": "árazószalag",
                                    "MEGYS": "db",
                                    "(No column name)": "169,14705882352942"
                                },
                                {
                                    "KAT_NEV": "átírótömb",
                                    "MEGYS": "db",
                                    "(No column name)": "273,219512195122"
                                },
                                {
                                    "KAT_NEV": "beíró",
                                    "MEGYS": "db",
                                    "(No column name)": "262,48837209302326"
                                },
                                {
                                    "KAT_NEV": "beírókönyv",
                                    "MEGYS": "db",
                                    "(No column name)": "262,48837209302326"
                                },
                                {
                                    "KAT_NEV": "beírókönyv",
                                    "MEGYS": "db",
                                    "(No column name)": "273,219512195122"
                                },
                                {
                                    "KAT_NEV": "bélyegző",
                                    "MEGYS": "db",
                                    "(No column name)": "159,25"
                                },
                                {
                                    "KAT_NEV": "bélyegző",
                                    "MEGYS": "db",
                                    "(No column name)": "215,22641509433961"
                                },
                                {
                                    "KAT_NEV": "bélyegző",
                                    "MEGYS": "db",
                                    "(No column name)": "273,219512195122"
                                },
                                {
                                    "KAT_NEV": "bélyegzőfesték",
                                    "MEGYS": "db",
                                    "(No column name)": "169,14705882352942"
                                },
                                {
                                    "KAT_NEV": "boríték",
                                    "MEGYS": "db",
                                    "(No column name)": "159,25"
                                },
                                {
                                    "KAT_NEV": "boríték",
                                    "MEGYS": "db",
                                    "(No column name)": "169,14705882352942"
                                },
                                {
                                    "KAT_NEV": "boríték",
                                    "MEGYS": "db",
                                    "(No column name)": "215,22641509433961"
                                },
                                {
                                    "KAT_NEV": "boríték",
                                    "MEGYS": "db",
                                    "(No column name)": "262,48837209302326"
                                },
                                {
                                    "KAT_NEV": "boríték",
                                    "MEGYS": "db",
                                    "(No column name)": "273,219512195122"
                                },
                                {
                                    "KAT_NEV": "cd tok",
                                    "MEGYS": "db",
                                    "(No column name)": "273,219512195122"
                                },
                                {
                                    "KAT_NEV": "celofán",
                                    "MEGYS": "csomag",
                                    "(No column name)": "273,219512195122"
                                },
                                {
                                    "KAT_NEV": "celofán",
                                    "MEGYS": "db",
                                    "(No column name)": "273,219512195122"
                                },
                                {
                                    "KAT_NEV": "ceruza",
                                    "MEGYS": "db",
                                    "(No column name)": "159,25"
                                },
                                {
                                    "KAT_NEV": "ceruza",
                                    "MEGYS": "db",
                                    "(No column name)": "169,14705882352942"
                                },
                                {
                                    "KAT_NEV": "ceruza",
                                    "MEGYS": "db",
                                    "(No column name)": "215,22641509433961"
                                },
                                {
                                    "KAT_NEV": "ceruza",
                                    "MEGYS": "db",
                                    "(No column name)": "262,48837209302326"
                                },
                                {
                                    "KAT_NEV": "ceruza",
                                    "MEGYS": "db",
                                    "(No column name)": "273,219512195122"
                                },
                                {
                                    "KAT_NEV": "címke",
                                    "MEGYS": "db",
                                    "(No column name)": "159,25"
                                },
                                {
                                    "KAT_NEV": "címke",
                                    "MEGYS": "db",
                                    "(No column name)": "169,14705882352942"
                                },
                                {
                                    "KAT_NEV": "color copy",
                                    "MEGYS": "csomag",
                                    "(No column name)": "262,48837209302326"
                                },
                                {
                                    "KAT_NEV": "color copy",
                                    "MEGYS": "Ív",
                                    "(No column name)": "169,14705882352942"
                                },
                                {
                                    "KAT_NEV": "color copy",
                                    "MEGYS": "ív",
                                    "(No column name)": "215,22641509433961"
                                },
                                {
                                    "KAT_NEV": "color copy",
                                    "MEGYS": "ív",
                                    "(No column name)": "262,48837209302326"
                                },
                                {
                                    "KAT_NEV": "csomagoló",
                                    "MEGYS": "csomag",
                                    "(No column name)": "273,219512195122"
                                },
                                {
                                    "KAT_NEV": "csomagoló",
                                    "MEGYS": "db",
                                    "(No column name)": "159,25"
                                },
                                {
                                    "KAT_NEV": "csomagoló papír",
                                    "MEGYS": "db",
                                    "(No column name)": "159,25"
                                },
                                {
                                    "KAT_NEV": "csomagoló papír",
                                    "MEGYS": "db",
                                    "(No column name)": "169,14705882352942"
                                },
                                {
                                    "KAT_NEV": "csomagoló papír",
                                    "MEGYS": "db",
                                    "(No column name)": "215,22641509433961"
                                },
                                {
                                    "KAT_NEV": "csomagoló papír",
                                    "MEGYS": "db",
                                    "(No column name)": "262,48837209302326"
                                },
                                {
                                    "KAT_NEV": "csomagoló papír",
                                    "MEGYS": "ív",
                                    "(No column name)": "169,14705882352942"
                                },
                                {
                                    "KAT_NEV": "csomagoló papír",
                                    "MEGYS": "ív",
                                    "(No column name)": "262,48837209302326"
                                },
                                {
                                    "KAT_NEV": "dekor",
                                    "MEGYS": "db",
                                    "(No column name)": "159,25"
                                },
                                {
                                    "KAT_NEV": "dekor",
                                    "MEGYS": "db",
                                    "(No column name)": "215,22641509433961"
                                },
                                {
                                    "KAT_NEV": "dekor",
                                    "MEGYS": "db",
                                    "(No column name)": "262,48837209302326"
                                },
                                {
                                    "KAT_NEV": "dekor",
                                    "MEGYS": "db",
                                    "(No column name)": "273,219512195122"
                                },
                                {
                                    "KAT_NEV": "dipa",
                                    "MEGYS": "ív",
                                    "(No column name)": "169,14705882352942"
                                },
                                {
                                    "KAT_NEV": "díszdoboz",
                                    "MEGYS": "db",
                                    "(No column name)": "159,25"
                                },
                                {
                                    "KAT_NEV": "díszdoboz",
                                    "MEGYS": "db",
                                    "(No column name)": "169,14705882352942"
                                },
                                {
                                    "KAT_NEV": "díszdoboz",
                                    "MEGYS": "db",
                                    "(No column name)": "262,48837209302326"
                                },
                                {
                                    "KAT_NEV": "díszkötöző",
                                    "MEGYS": "db",
                                    "(No column name)": "215,22641509433961"
                                },
                                {
                                    "KAT_NEV": "díszkötöző",
                                    "MEGYS": "db",
                                    "(No column name)": "273,219512195122"
                                },
                                {
                                    "KAT_NEV": "dvd",
                                    "MEGYS": "db",
                                    "(No column name)": "169,14705882352942"
                                },
                                {
                                    "KAT_NEV": "ecset",
                                    "MEGYS": "db",
                                    "(No column name)": "159,25"
                                },
                                {
                                    "KAT_NEV": "ecset",
                                    "MEGYS": "db",
                                    "(No column name)": "169,14705882352942"
                                },
                                {
                                    "KAT_NEV": "ecset",
                                    "MEGYS": "db",
                                    "(No column name)": "215,22641509433961"
                                },
                                {
                                    "KAT_NEV": "ecset",
                                    "MEGYS": "db",
                                    "(No column name)": "262,48837209302326"
                                },
                                {
                                    "KAT_NEV": "ecset",
                                    "MEGYS": "db",
                                    "(No column name)": "273,219512195122"
                                },
                                {
                                    "KAT_NEV": "előlap",
                                    "MEGYS": "db",
                                    "(No column name)": "262,48837209302326"
                                },
                                {
                                    "KAT_NEV": "emlékkönyv",
                                    "MEGYS": "db",
                                    "(No column name)": "159,25"
                                },
                                {
                                    "KAT_NEV": "emlékkönyv",
                                    "MEGYS": "db",
                                    "(No column name)": "215,22641509433961"
                                },
                                {
                                    "KAT_NEV": "emléklap",
                                    "MEGYS": "db",
                                    "(No column name)": "159,25"
                                },
                                {
                                    "KAT_NEV": "fax papír",
                                    "MEGYS": "db",
                                    "(No column name)": "169,14705882352942"
                                },
                                {
                                    "KAT_NEV": "fehérnemű",
                                    "MEGYS": "db",
                                    "(No column name)": "7716,428571428572"
                                },
                                {
                                    "KAT_NEV": "fehérnemű",
                                    "MEGYS": "db",
                                    "(No column name)": "9160"
                                },
                                {
                                    "KAT_NEV": "fehérnemű",
                                    "MEGYS": "db",
                                    "(No column name)": "12345"
                                },
                                {
                                    "KAT_NEV": "fehérnemű",
                                    "MEGYS": "db",
                                    "(No column name)": "12579,8"
                                },
                                {
                                    "KAT_NEV": "fénymásoló papír",
                                    "MEGYS": "csomag",
                                    "(No column name)": "169,14705882352942"
                                },
                                {
                                    "KAT_NEV": "fénymásoló papír",
                                    "MEGYS": "csomag",
                                    "(No column name)": "215,22641509433961"
                                },
                                {
                                    "KAT_NEV": "fénymásoló papír",
                                    "MEGYS": "csomag",
                                    "(No column name)": "262,48837209302326"
                                },
                                {
                                    "KAT_NEV": "férfi ing",
                                    "MEGYS": "db",
                                    "(No column name)": "9160"
                                },
                                {
                                    "KAT_NEV": "férfi kabát",
                                    "MEGYS": "db",
                                    "(No column name)": "9160"
                                },
                                {
                                    "KAT_NEV": "férfi nadrág",
                                    "MEGYS": "db",
                                    "(No column name)": "7716,428571428572"
                                },
                                {
                                    "KAT_NEV": "férfi nadrág",
                                    "MEGYS": "db",
                                    "(No column name)": "9160"
                                },
                                {
                                    "KAT_NEV": "festékpatron",
                                    "MEGYS": "db",
                                    "(No column name)": "215,22641509433961"
                                },
                                {
                                    "KAT_NEV": "filctoll",
                                    "MEGYS": "csomag",
                                    "(No column name)": "169,14705882352942"
                                },
                                {
                                    "KAT_NEV": "filctoll",
                                    "MEGYS": "db",
                                    "(No column name)": "159,25"
                                },
                                {
                                    "KAT_NEV": "filctoll",
                                    "MEGYS": "db",
                                    "(No column name)": "169,14705882352942"
                                },
                                {
                                    "KAT_NEV": "filctoll",
                                    "MEGYS": "db",
                                    "(No column name)": "262,48837209302326"
                                },
                                {
                                    "KAT_NEV": "filctoll",
                                    "MEGYS": "db",
                                    "(No column name)": "273,219512195122"
                                },
                                {
                                    "KAT_NEV": "floppy",
                                    "MEGYS": "db",
                                    "(No column name)": "159,25"
                                },
                                {
                                    "KAT_NEV": "fólia",
                                    "MEGYS": "ív",
                                    "(No column name)": "169,14705882352942"
                                },
                                {
                                    "KAT_NEV": "fólia",
                                    "MEGYS": "ív",
                                    "(No column name)": "273,219512195122"
                                },
                                {
                                    "KAT_NEV": "fotópapír",
                                    "MEGYS": "db",
                                    "(No column name)": "169,14705882352942"
                                },
                                {
                                    "KAT_NEV": "füzet",
                                    "MEGYS": "db",
                                    "(No column name)": "159,25"
                                },
                                {
                                    "KAT_NEV": "füzet",
                                    "MEGYS": "db",
                                    "(No column name)": "169,14705882352942"
                                },
                                {
                                    "KAT_NEV": "füzet",
                                    "MEGYS": "db",
                                    "(No column name)": "215,22641509433961"
                                },
                                {
                                    "KAT_NEV": "füzet",
                                    "MEGYS": "db",
                                    "(No column name)": "262,48837209302326"
                                },
                                {
                                    "KAT_NEV": "füzet",
                                    "MEGYS": "db",
                                    "(No column name)": "273,219512195122"
                                },
                                {
                                    "KAT_NEV": "füzetborító",
                                    "MEGYS": "csomag",
                                    "(No column name)": "159,25"
                                },
                                {
                                    "KAT_NEV": "füzetborító",
                                    "MEGYS": "db",
                                    "(No column name)": "159,25"
                                },
                                {
                                    "KAT_NEV": "füzetborító",
                                    "MEGYS": "db",
                                    "(No column name)": "169,14705882352942"
                                },
                                {
                                    "KAT_NEV": "füzetborító",
                                    "MEGYS": "db",
                                    "(No column name)": "215,22641509433961"
                                },
                                {
                                    "KAT_NEV": "füzetborító",
                                    "MEGYS": "db",
                                    "(No column name)": "12579,8"
                                },
                                {
                                    "KAT_NEV": "füzettartó",
                                    "MEGYS": "db",
                                    "(No column name)": "159,25"
                                },
                                {
                                    "KAT_NEV": "füzettartó",
                                    "MEGYS": "db",
                                    "(No column name)": "169,14705882352942"
                                },
                                {
                                    "KAT_NEV": "füzettartó",
                                    "MEGYS": "db",
                                    "(No column name)": "215,22641509433961"
                                },
                                {
                                    "KAT_NEV": "gemkapocs",
                                    "MEGYS": "db",
                                    "(No column name)": "159,25"
                                },
                                {
                                    "KAT_NEV": "gemkapocs",
                                    "MEGYS": "db",
                                    "(No column name)": "273,219512195122"
                                },
                                {
                                    "KAT_NEV": "gémkapocs",
                                    "MEGYS": "csomag",
                                    "(No column name)": "262,48837209302326"
                                },
                                {
                                    "KAT_NEV": "gémkapocs",
                                    "MEGYS": "csomag",
                                    "(No column name)": "273,219512195122"
                                },
                                {
                                    "KAT_NEV": "genoterm",
                                    "MEGYS": "csomag",
                                    "(No column name)": "159,25"
                                },
                                {
                                    "KAT_NEV": "genotherm",
                                    "MEGYS": "csomag",
                                    "(No column name)": "159,25"
                                },
                                {
                                    "KAT_NEV": "genotherm",
                                    "MEGYS": "csomag",
                                    "(No column name)": "169,14705882352942"
                                },
                                {
                                    "KAT_NEV": "genotherm",
                                    "MEGYS": "db",
                                    "(No column name)": "273,219512195122"
                                },
                                {
                                    "KAT_NEV": "golyóstoll",
                                    "MEGYS": "db",
                                    "(No column name)": "159,25"
                                },
                                {
                                    "KAT_NEV": "golyóstoll",
                                    "MEGYS": "db",
                                    "(No column name)": "169,14705882352942"
                                },
                                {
                                    "KAT_NEV": "golyóstoll",
                                    "MEGYS": "db",
                                    "(No column name)": "215,22641509433961"
                                },
                                {
                                    "KAT_NEV": "golyóstoll",
                                    "MEGYS": "db",
                                    "(No column name)": "262,48837209302326"
                                },
                                {
                                    "KAT_NEV": "golyóstoll",
                                    "MEGYS": "db",
                                    "(No column name)": "273,219512195122"
                                },
                                {
                                    "KAT_NEV": "gumigyűrű",
                                    "MEGYS": "csomag",
                                    "(No column name)": "169,14705882352942"
                                },
                                {
                                    "KAT_NEV": "gyermek cipő",
                                    "MEGYS": "db",
                                    "(No column name)": "7716,428571428572"
                                },
                                {
                                    "KAT_NEV": "gyermek cipő",
                                    "MEGYS": "db",
                                    "(No column name)": "9160"
                                },
                                {
                                    "KAT_NEV": "gyermek cipő",
                                    "MEGYS": "db",
                                    "(No column name)": "12579,8"
                                },
                                {
                                    "KAT_NEV": "gyermek kabát",
                                    "MEGYS": "db",
                                    "(No column name)": "9160"
                                },
                                {
                                    "KAT_NEV": "gyermek nadrág",
                                    "MEGYS": "db",
                                    "(No column name)": "7716,428571428572"
                                },
                                {
                                    "KAT_NEV": "gyermek nadrág",
                                    "MEGYS": "db",
                                    "(No column name)": "9160"
                                },
                                {
                                    "KAT_NEV": "gyermek póló",
                                    "MEGYS": "db",
                                    "(No column name)": "7716,428571428572"
                                },
                                {
                                    "KAT_NEV": "gyorsfűző",
                                    "MEGYS": "db",
                                    "(No column name)": "159,25"
                                },
                                {
                                    "KAT_NEV": "gyorsfűző",
                                    "MEGYS": "db",
                                    "(No column name)": "262,48837209302326"
                                },
                                {
                                    "KAT_NEV": "gyorsfűző",
                                    "MEGYS": "db",
                                    "(No column name)": "273,219512195122"
                                },
                                {
                                    "KAT_NEV": "gyurma",
                                    "MEGYS": "csomag",
                                    "(No column name)": "169,14705882352942"
                                },
                                {
                                    "KAT_NEV": "gyurma",
                                    "MEGYS": "csomag",
                                    "(No column name)": "262,48837209302326"
                                },
                                {
                                    "KAT_NEV": "gyurma",
                                    "MEGYS": "db",
                                    "(No column name)": "215,22641509433961"
                                },
                                {
                                    "KAT_NEV": "gyurma",
                                    "MEGYS": "db",
                                    "(No column name)": "273,219512195122"
                                },
                                {
                                    "KAT_NEV": "gyűrűskönyv",
                                    "MEGYS": "db",
                                    "(No column name)": "159,25"
                                },
                                {
                                    "KAT_NEV": "gyűrűskönyv",
                                    "MEGYS": "db",
                                    "(No column name)": "169,14705882352942"
                                },
                                {
                                    "KAT_NEV": "gyűrűskönyv",
                                    "MEGYS": "db",
                                    "(No column name)": "215,22641509433961"
                                },
                                {
                                    "KAT_NEV": "hajgumi",
                                    "MEGYS": "db",
                                    "(No column name)": "273,219512195122"
                                },
                                {
                                    "KAT_NEV": "határidő napló",
                                    "MEGYS": "db",
                                    "(No column name)": "169,14705882352942"
                                },
                                {
                                    "KAT_NEV": "hegyező",
                                    "MEGYS": "db",
                                    "(No column name)": "215,22641509433961"
                                },
                                {
                                    "KAT_NEV": "hegyező",
                                    "MEGYS": "db",
                                    "(No column name)": "273,219512195122"
                                },
                                {
                                    "KAT_NEV": "hegyző",
                                    "MEGYS": "db",
                                    "(No column name)": "159,25"
                                },
                                {
                                    "KAT_NEV": "hegyző",
                                    "MEGYS": "db",
                                    "(No column name)": "169,14705882352942"
                                },
                                {
                                    "KAT_NEV": "hibajavító",
                                    "MEGYS": "db",
                                    "(No column name)": "159,25"
                                },
                                {
                                    "KAT_NEV": "hibajavító",
                                    "MEGYS": "db",
                                    "(No column name)": "169,14705882352942"
                                },
                                {
                                    "KAT_NEV": "hibajavító",
                                    "MEGYS": "db",
                                    "(No column name)": "215,22641509433961"
                                },
                                {
                                    "KAT_NEV": "hibajavító",
                                    "MEGYS": "db",
                                    "(No column name)": "262,48837209302326"
                                },
                                {
                                    "KAT_NEV": "hibajavító",
                                    "MEGYS": "db",
                                    "(No column name)": "273,219512195122"
                                },
                                {
                                    "KAT_NEV": "hűtőmágnes",
                                    "MEGYS": "db",
                                    "(No column name)": "159,25"
                                },
                                {
                                    "KAT_NEV": "hűtőmágnes",
                                    "MEGYS": "db",
                                    "(No column name)": "273,219512195122"
                                },
                                {
                                    "KAT_NEV": "indigó",
                                    "MEGYS": "db",
                                    "(No column name)": "262,48837209302326"
                                },
                                {
                                    "KAT_NEV": "írásvetítő fólia",
                                    "MEGYS": "db",
                                    "(No column name)": "273,219512195122"
                                },
                                {
                                    "KAT_NEV": "iratgyűjtő",
                                    "MEGYS": "db",
                                    "(No column name)": "215,22641509433961"
                                },
                                {
                                    "KAT_NEV": "iratgyűjtő",
                                    "MEGYS": "db",
                                    "(No column name)": "273,219512195122"
                                },
                                {
                                    "KAT_NEV": "iratrendező",
                                    "MEGYS": "db",
                                    "(No column name)": "169,14705882352942"
                                },
                                {
                                    "KAT_NEV": "iratrendező",
                                    "MEGYS": "db",
                                    "(No column name)": "262,48837209302326"
                                },
                                {
                                    "KAT_NEV": "iratsín",
                                    "MEGYS": "db",
                                    "(No column name)": "159,25"
                                },
                                {
                                    "KAT_NEV": "iratsín",
                                    "MEGYS": "db",
                                    "(No column name)": "215,22641509433961"
                                },
                                {
                                    "KAT_NEV": "irattartó",
                                    "MEGYS": "db",
                                    "(No column name)": "159,25"
                                },
                                {
                                    "KAT_NEV": "irattartó",
                                    "MEGYS": "db",
                                    "(No column name)": "273,219512195122"
                                },
                                {
                                    "KAT_NEV": "irodaszer",
                                    "MEGYS": "db",
                                    "(No column name)": "262,48837209302326"
                                },
                                {
                                    "KAT_NEV": "írólap",
                                    "MEGYS": "db",
                                    "(No column name)": "273,219512195122"
                                },
                                {
                                    "KAT_NEV": "ironbél",
                                    "MEGYS": "db",
                                    "(No column name)": "159,25"
                                },
                                {
                                    "KAT_NEV": "ironbél",
                                    "MEGYS": "db",
                                    "(No column name)": "215,22641509433961"
                                },
                                {
                                    "KAT_NEV": "ironbél",
                                    "MEGYS": "db",
                                    "(No column name)": "262,48837209302326"
                                },
                                {
                                    "KAT_NEV": "iskolaszer",
                                    "MEGYS": "csomag",
                                    "(No column name)": "159,25"
                                },
                                {
                                    "KAT_NEV": "iskolaszer",
                                    "MEGYS": "csomag",
                                    "(No column name)": "215,22641509433961"
                                },
                                {
                                    "KAT_NEV": "iskolaszer",
                                    "MEGYS": "csomag",
                                    "(No column name)": "262,48837209302326"
                                },
                                {
                                    "KAT_NEV": "iskolaszer",
                                    "MEGYS": "db",
                                    "(No column name)": "159,25"
                                },
                                {
                                    "KAT_NEV": "iskolaszer",
                                    "MEGYS": "db",
                                    "(No column name)": "169,14705882352942"
                                },
                                {
                                    "KAT_NEV": "iskolaszer",
                                    "MEGYS": "db",
                                    "(No column name)": "215,22641509433961"
                                },
                                {
                                    "KAT_NEV": "iskolaszer",
                                    "MEGYS": "db",
                                    "(No column name)": "262,48837209302326"
                                },
                                {
                                    "KAT_NEV": "iskolaszer",
                                    "MEGYS": "db",
                                    "(No column name)": "273,219512195122"
                                },
                                {
                                    "KAT_NEV": "játékautó",
                                    "MEGYS": "db",
                                    "(No column name)": "159,25"
                                },
                                {
                                    "KAT_NEV": "jelzőkréta",
                                    "MEGYS": "db",
                                    "(No column name)": "262,48837209302326"
                                },
                                {
                                    "KAT_NEV": "kapocskiszedő",
                                    "MEGYS": "db",
                                    "(No column name)": "273,219512195122"
                                },
                                {
                                    "KAT_NEV": "karton",
                                    "MEGYS": "ív",
                                    "(No column name)": "159,25"
                                },
                                {
                                    "KAT_NEV": "karton",
                                    "MEGYS": "ív",
                                    "(No column name)": "169,14705882352942"
                                },
                                {
                                    "KAT_NEV": "karton",
                                    "MEGYS": "ív",
                                    "(No column name)": "215,22641509433961"
                                },
                                {
                                    "KAT_NEV": "karton",
                                    "MEGYS": "ív",
                                    "(No column name)": "262,48837209302326"
                                },
                                {
                                    "KAT_NEV": "karton",
                                    "MEGYS": "ív",
                                    "(No column name)": "273,219512195122"
                                },
                                {
                                    "KAT_NEV": "kártya",
                                    "MEGYS": "db",
                                    "(No column name)": "215,22641509433961"
                                },
                                {
                                    "KAT_NEV": "képeslap",
                                    "MEGYS": "db",
                                    "(No column name)": "159,25"
                                },
                                {
                                    "KAT_NEV": "képeslap",
                                    "MEGYS": "db",
                                    "(No column name)": "169,14705882352942"
                                },
                                {
                                    "KAT_NEV": "képeslap",
                                    "MEGYS": "db",
                                    "(No column name)": "215,22641509433961"
                                },
                                {
                                    "KAT_NEV": "képeslap",
                                    "MEGYS": "db",
                                    "(No column name)": "262,48837209302326"
                                },
                                {
                                    "KAT_NEV": "képeslap",
                                    "MEGYS": "db",
                                    "(No column name)": "273,219512195122"
                                },
                                {
                                    "KAT_NEV": "képkirakó",
                                    "MEGYS": "db",
                                    "(No column name)": "159,25"
                                },
                                {
                                    "KAT_NEV": "kosztüm",
                                    "MEGYS": "db",
                                    "(No column name)": "7716,428571428572"
                                },
                                {
                                    "KAT_NEV": "kosztüm",
                                    "MEGYS": "db",
                                    "(No column name)": "12579,8"
                                },
                                {
                                    "KAT_NEV": "könyv",
                                    "MEGYS": "db",
                                    "(No column name)": "159,25"
                                },
                                {
                                    "KAT_NEV": "könyv",
                                    "MEGYS": "db",
                                    "(No column name)": "169,14705882352942"
                                },
                                {
                                    "KAT_NEV": "könyv",
                                    "MEGYS": "db",
                                    "(No column name)": "215,22641509433961"
                                },
                                {
                                    "KAT_NEV": "könyv",
                                    "MEGYS": "db",
                                    "(No column name)": "262,48837209302326"
                                },
                                {
                                    "KAT_NEV": "könyv",
                                    "MEGYS": "db",
                                    "(No column name)": "273,219512195122"
                                },
                                {
                                    "KAT_NEV": "körző",
                                    "MEGYS": "db",
                                    "(No column name)": "215,22641509433961"
                                },
                                {
                                    "KAT_NEV": "körző",
                                    "MEGYS": "db",
                                    "(No column name)": "262,48837209302326"
                                },
                                {
                                    "KAT_NEV": "körző",
                                    "MEGYS": "db",
                                    "(No column name)": "273,219512195122"
                                },
                                {
                                    "KAT_NEV": "kreatív",
                                    "MEGYS": "ív",
                                    "(No column name)": "262,48837209302326"
                                },
                                {
                                    "KAT_NEV": "kreatív",
                                    "MEGYS": "Ív",
                                    "(No column name)": "273,219512195122"
                                },
                                {
                                    "KAT_NEV": "kulcstartó",
                                    "MEGYS": "db",
                                    "(No column name)": "169,14705882352942"
                                },
                                {
                                    "KAT_NEV": "kulcstartó",
                                    "MEGYS": "db",
                                    "(No column name)": "273,219512195122"
                                },
                                {
                                    "KAT_NEV": "labda",
                                    "MEGYS": "db",
                                    "(No column name)": "159,25"
                                },
                                {
                                    "KAT_NEV": "labda",
                                    "MEGYS": "db",
                                    "(No column name)": "273,219512195122"
                                },
                                {
                                    "KAT_NEV": "levélpapír",
                                    "MEGYS": "csomag",
                                    "(No column name)": "215,22641509433961"
                                },
                                {
                                    "KAT_NEV": "levélpapír",
                                    "MEGYS": "db",
                                    "(No column name)": "159,25"
                                },
                                {
                                    "KAT_NEV": "levélpapír",
                                    "MEGYS": "db",
                                    "(No column name)": "215,22641509433961"
                                },
                                {
                                    "KAT_NEV": "lufi",
                                    "MEGYS": "db",
                                    "(No column name)": "159,25"
                                },
                                {
                                    "KAT_NEV": "lufi",
                                    "MEGYS": "db",
                                    "(No column name)": "215,22641509433961"
                                },
                                {
                                    "KAT_NEV": "lyukasztó",
                                    "MEGYS": "db",
                                    "(No column name)": "159,25"
                                },
                                {
                                    "KAT_NEV": "lyukasztó",
                                    "MEGYS": "db",
                                    "(No column name)": "169,14705882352942"
                                },
                                {
                                    "KAT_NEV": "mappa",
                                    "MEGYS": "db",
                                    "(No column name)": "159,25"
                                },
                                {
                                    "KAT_NEV": "mappa",
                                    "MEGYS": "db",
                                    "(No column name)": "169,14705882352942"
                                },
                                {
                                    "KAT_NEV": "mappa",
                                    "MEGYS": "db",
                                    "(No column name)": "215,22641509433961"
                                },
                                {
                                    "KAT_NEV": "mappa",
                                    "MEGYS": "db",
                                    "(No column name)": "273,219512195122"
                                },
                                {
                                    "KAT_NEV": "matrica",
                                    "MEGYS": "db",
                                    "(No column name)": "159,25"
                                },
                                {
                                    "KAT_NEV": "matrica",
                                    "MEGYS": "db",
                                    "(No column name)": "169,14705882352942"
                                },
                                {
                                    "KAT_NEV": "matrica",
                                    "MEGYS": "db",
                                    "(No column name)": "215,22641509433961"
                                },
                                {
                                    "KAT_NEV": "matrica",
                                    "MEGYS": "db",
                                    "(No column name)": "262,48837209302326"
                                },
                                {
                                    "KAT_NEV": "matrica",
                                    "MEGYS": "db",
                                    "(No column name)": "273,219512195122"
                                },
                                {
                                    "KAT_NEV": "meghívó",
                                    "MEGYS": "db",
                                    "(No column name)": "169,14705882352942"
                                },
                                {
                                    "KAT_NEV": "meghívó",
                                    "MEGYS": "db",
                                    "(No column name)": "215,22641509433961"
                                },
                                {
                                    "KAT_NEV": "meghívó",
                                    "MEGYS": "db",
                                    "(No column name)": "262,48837209302326"
                                },
                                {
                                    "KAT_NEV": "miliméterpapír",
                                    "MEGYS": "db",
                                    "(No column name)": "215,22641509433961"
                                },
                                {
                                    "KAT_NEV": "munkafüzet",
                                    "MEGYS": "db",
                                    "(No column name)": "159,25"
                                },
                                {
                                    "KAT_NEV": "munkafüzet",
                                    "MEGYS": "db",
                                    "(No column name)": "169,14705882352942"
                                },
                                {
                                    "KAT_NEV": "munkafüzet",
                                    "MEGYS": "db",
                                    "(No column name)": "215,22641509433961"
                                },
                                {
                                    "KAT_NEV": "munkafüzet",
                                    "MEGYS": "db",
                                    "(No column name)": "262,48837209302326"
                                },
                                {
                                    "KAT_NEV": "munkafüzet",
                                    "MEGYS": "db",
                                    "(No column name)": "273,219512195122"
                                },
                                {
                                    "KAT_NEV": "műnyomó",
                                    "MEGYS": "ív",
                                    "(No column name)": "273,219512195122"
                                },
                                {
                                    "KAT_NEV": "naptár",
                                    "MEGYS": "db",
                                    "(No column name)": "273,219512195122"
                                },
                                {
                                    "KAT_NEV": "naptárhát",
                                    "MEGYS": "db",
                                    "(No column name)": "169,14705882352942"
                                },
                                {
                                    "KAT_NEV": "naptárhát",
                                    "MEGYS": "db",
                                    "(No column name)": "273,219512195122"
                                },
                                {
                                    "KAT_NEV": "névjegytartó",
                                    "MEGYS": "db",
                                    "(No column name)": "169,14705882352942"
                                },
                                {
                                    "KAT_NEV": "notesz",
                                    "MEGYS": "db",
                                    "(No column name)": "169,14705882352942"
                                },
                                {
                                    "KAT_NEV": "notesz",
                                    "MEGYS": "db",
                                    "(No column name)": "215,22641509433961"
                                },
                                {
                                    "KAT_NEV": "notesz",
                                    "MEGYS": "db",
                                    "(No column name)": "262,48837209302326"
                                },
                                {
                                    "KAT_NEV": "női kabát",
                                    "MEGYS": "db",
                                    "(No column name)": "9160"
                                },
                                {
                                    "KAT_NEV": "női nadrág",
                                    "MEGYS": "db",
                                    "(No column name)": "12579,8"
                                },
                                {
                                    "KAT_NEV": "ofszet",
                                    "MEGYS": "ív",
                                    "(No column name)": "159,25"
                                },
                                {
                                    "KAT_NEV": "oklevél",
                                    "MEGYS": "db",
                                    "(No column name)": "169,14705882352942"
                                },
                                {
                                    "KAT_NEV": "olló",
                                    "MEGYS": "db",
                                    "(No column name)": "159,25"
                                },
                                {
                                    "KAT_NEV": "olló",
                                    "MEGYS": "db",
                                    "(No column name)": "262,48837209302326"
                                },
                                {
                                    "KAT_NEV": "olló",
                                    "MEGYS": "db",
                                    "(No column name)": "273,219512195122"
                                },
                                {
                                    "KAT_NEV": "öntapadó",
                                    "MEGYS": "db",
                                    "(No column name)": "273,219512195122"
                                },
                                {
                                    "KAT_NEV": "öntapadó",
                                    "MEGYS": "doboz",
                                    "(No column name)": "262,48837209302326"
                                },
                                {
                                    "KAT_NEV": "papízsebkendő",
                                    "MEGYS": "csomag",
                                    "(No column name)": "273,219512195122"
                                },
                                {
                                    "KAT_NEV": "pausz",
                                    "MEGYS": "ív",
                                    "(No column name)": "273,219512195122"
                                },
                                {
                                    "KAT_NEV": "pénztárbizonylat",
                                    "MEGYS": "db",
                                    "(No column name)": "159,25"
                                },
                                {
                                    "KAT_NEV": "pénztárbizonylat",
                                    "MEGYS": "db",
                                    "(No column name)": "215,22641509433961"
                                },
                                {
                                    "KAT_NEV": "pénztárgépszalag",
                                    "MEGYS": "db",
                                    "(No column name)": "169,14705882352942"
                                },
                                {
                                    "KAT_NEV": "pénztárgépszalag",
                                    "MEGYS": "db",
                                    "(No column name)": "215,22641509433961"
                                },
                                {
                                    "KAT_NEV": "pixiron",
                                    "MEGYS": "db",
                                    "(No column name)": "159,25"
                                },
                                {
                                    "KAT_NEV": "pixiron",
                                    "MEGYS": "db",
                                    "(No column name)": "169,14705882352942"
                                },
                                {
                                    "KAT_NEV": "pixiron",
                                    "MEGYS": "db",
                                    "(No column name)": "262,48837209302326"
                                },
                                {
                                    "KAT_NEV": "pixiron",
                                    "MEGYS": "db",
                                    "(No column name)": "273,219512195122"
                                },
                                {
                                    "KAT_NEV": "plüss",
                                    "MEGYS": "db",
                                    "(No column name)": "159,25"
                                },
                                {
                                    "KAT_NEV": "plüss",
                                    "MEGYS": "db",
                                    "(No column name)": "169,14705882352942"
                                },
                                {
                                    "KAT_NEV": "plüss",
                                    "MEGYS": "db",
                                    "(No column name)": "262,48837209302326"
                                },
                                {
                                    "KAT_NEV": "post-it",
                                    "MEGYS": "db",
                                    "(No column name)": "159,25"
                                },
                                {
                                    "KAT_NEV": "post-it",
                                    "MEGYS": "db",
                                    "(No column name)": "273,219512195122"
                                },
                                {
                                    "KAT_NEV": "radír",
                                    "MEGYS": "db",
                                    "(No column name)": "159,25"
                                },
                                {
                                    "KAT_NEV": "radír",
                                    "MEGYS": "db",
                                    "(No column name)": "169,14705882352942"
                                },
                                {
                                    "KAT_NEV": "radír",
                                    "MEGYS": "db",
                                    "(No column name)": "215,22641509433961"
                                },
                                {
                                    "KAT_NEV": "radír",
                                    "MEGYS": "db",
                                    "(No column name)": "273,219512195122"
                                },
                                {
                                    "KAT_NEV": "radírtoll",
                                    "MEGYS": "db",
                                    "(No column name)": "159,25"
                                },
                                {
                                    "KAT_NEV": "radírtoll",
                                    "MEGYS": "db",
                                    "(No column name)": "262,48837209302326"
                                },
                                {
                                    "KAT_NEV": "ragasztó",
                                    "MEGYS": "db",
                                    "(No column name)": "159,25"
                                },
                                {
                                    "KAT_NEV": "ragasztó",
                                    "MEGYS": "db",
                                    "(No column name)": "169,14705882352942"
                                },
                                {
                                    "KAT_NEV": "ragasztó",
                                    "MEGYS": "db",
                                    "(No column name)": "215,22641509433961"
                                },
                                {
                                    "KAT_NEV": "ragasztó",
                                    "MEGYS": "db",
                                    "(No column name)": "262,48837209302326"
                                },
                                {
                                    "KAT_NEV": "ragasztó",
                                    "MEGYS": "db",
                                    "(No column name)": "273,219512195122"
                                },
                                {
                                    "KAT_NEV": "ragasztószalag",
                                    "MEGYS": "db",
                                    "(No column name)": "159,25"
                                },
                                {
                                    "KAT_NEV": "ragasztószalag",
                                    "MEGYS": "db",
                                    "(No column name)": "169,14705882352942"
                                },
                                {
                                    "KAT_NEV": "ragasztószalag",
                                    "MEGYS": "db",
                                    "(No column name)": "215,22641509433961"
                                },
                                {
                                    "KAT_NEV": "rágógumi",
                                    "MEGYS": "csomag",
                                    "(No column name)": "169,14705882352942"
                                },
                                {
                                    "KAT_NEV": "rajzlap",
                                    "MEGYS": "csomag",
                                    "(No column name)": "169,14705882352942"
                                },
                                {
                                    "KAT_NEV": "rajzlap",
                                    "MEGYS": "csomag",
                                    "(No column name)": "262,48837209302326"
                                },
                                {
                                    "KAT_NEV": "rajzszeg",
                                    "MEGYS": "csomag",
                                    "(No column name)": "273,219512195122"
                                },
                                {
                                    "KAT_NEV": "rajzszeg",
                                    "MEGYS": "db",
                                    "(No column name)": "215,22641509433961"
                                },
                                {
                                    "KAT_NEV": "regiszteres füzet",
                                    "MEGYS": "db",
                                    "(No column name)": "169,14705882352942"
                                },
                                {
                                    "KAT_NEV": "regiszteres füzet",
                                    "MEGYS": "db",
                                    "(No column name)": "262,48837209302326"
                                },
                                {
                                    "KAT_NEV": "sál",
                                    "MEGYS": "db",
                                    "(No column name)": "9160"
                                },
                                {
                                    "KAT_NEV": "spirál",
                                    "MEGYS": "db",
                                    "(No column name)": "169,14705882352942"
                                },
                                {
                                    "KAT_NEV": "strandlabda",
                                    "MEGYS": "db",
                                    "(No column name)": "273,219512195122"
                                },
                                {
                                    "KAT_NEV": "szalvéta",
                                    "MEGYS": "csomag",
                                    "(No column name)": "159,25"
                                },
                                {
                                    "KAT_NEV": "szalvéta",
                                    "MEGYS": "csomag",
                                    "(No column name)": "169,14705882352942"
                                },
                                {
                                    "KAT_NEV": "szalvéta",
                                    "MEGYS": "csomag",
                                    "(No column name)": "215,22641509433961"
                                },
                                {
                                    "KAT_NEV": "szalvéta",
                                    "MEGYS": "csomag",
                                    "(No column name)": "262,48837209302326"
                                },
                                {
                                    "KAT_NEV": "szalvéta",
                                    "MEGYS": "csomag",
                                    "(No column name)": "273,219512195122"
                                },
                                {
                                    "KAT_NEV": "számológép",
                                    "MEGYS": "db",
                                    "(No column name)": "215,22641509433961"
                                },
                                {
                                    "KAT_NEV": "számológép",
                                    "MEGYS": "db",
                                    "(No column name)": "262,48837209302326"
                                },
                                {
                                    "KAT_NEV": "szemetes",
                                    "MEGYS": "csomag",
                                    "(No column name)": "159,25"
                                },
                                {
                                    "KAT_NEV": "színes",
                                    "MEGYS": "db",
                                    "(No column name)": "159,25"
                                },
                                {
                                    "KAT_NEV": "színes",
                                    "MEGYS": "db",
                                    "(No column name)": "273,219512195122"
                                },
                                {
                                    "KAT_NEV": "szögmérő",
                                    "MEGYS": "db",
                                    "(No column name)": "169,14705882352942"
                                },
                                {
                                    "KAT_NEV": "szögmérő",
                                    "MEGYS": "db",
                                    "(No column name)": "215,22641509433961"
                                },
                                {
                                    "KAT_NEV": "szövegkiemelő",
                                    "MEGYS": "csomag",
                                    "(No column name)": "215,22641509433961"
                                },
                                {
                                    "KAT_NEV": "szövegkiemelő",
                                    "MEGYS": "db",
                                    "(No column name)": "159,25"
                                },
                                {
                                    "KAT_NEV": "szövegkiemelő",
                                    "MEGYS": "db",
                                    "(No column name)": "169,14705882352942"
                                },
                                {
                                    "KAT_NEV": "szövegkiemelő",
                                    "MEGYS": "db",
                                    "(No column name)": "262,48837209302326"
                                },
                                {
                                    "KAT_NEV": "szövegkiemelő",
                                    "MEGYS": "db",
                                    "(No column name)": "273,219512195122"
                                },
                                {
                                    "KAT_NEV": "táblafilc",
                                    "MEGYS": "csomag",
                                    "(No column name)": "169,14705882352942"
                                },
                                {
                                    "KAT_NEV": "tapétavágó",
                                    "MEGYS": "db",
                                    "(No column name)": "215,22641509433961"
                                },
                                {
                                    "KAT_NEV": "tempera",
                                    "MEGYS": "db",
                                    "(No column name)": "273,219512195122"
                                },
                                {
                                    "KAT_NEV": "térképtű",
                                    "MEGYS": "csomag",
                                    "(No column name)": "215,22641509433961"
                                },
                                {
                                    "KAT_NEV": "tintapatron",
                                    "MEGYS": "csomag",
                                    "(No column name)": "159,25"
                                },
                                {
                                    "KAT_NEV": "tintapatron",
                                    "MEGYS": "db",
                                    "(No column name)": "159,25"
                                },
                                {
                                    "KAT_NEV": "tintapatron",
                                    "MEGYS": "db",
                                    "(No column name)": "169,14705882352942"
                                },
                                {
                                    "KAT_NEV": "toll",
                                    "MEGYS": "db",
                                    "(No column name)": "169,14705882352942"
                                },
                                {
                                    "KAT_NEV": "toll",
                                    "MEGYS": "db",
                                    "(No column name)": "262,48837209302326"
                                },
                                {
                                    "KAT_NEV": "tollbetét",
                                    "MEGYS": "db",
                                    "(No column name)": "159,25"
                                },
                                {
                                    "KAT_NEV": "tollbetét",
                                    "MEGYS": "db",
                                    "(No column name)": "169,14705882352942"
                                },
                                {
                                    "KAT_NEV": "tollbetét",
                                    "MEGYS": "db",
                                    "(No column name)": "215,22641509433961"
                                },
                                {
                                    "KAT_NEV": "tollbetét",
                                    "MEGYS": "db",
                                    "(No column name)": "262,48837209302326"
                                },
                                {
                                    "KAT_NEV": "tollbetét",
                                    "MEGYS": "db",
                                    "(No column name)": "273,219512195122"
                                },
                                {
                                    "KAT_NEV": "tolltartó",
                                    "MEGYS": "csomag",
                                    "(No column name)": "273,219512195122"
                                },
                                {
                                    "KAT_NEV": "tolltartó",
                                    "MEGYS": "db",
                                    "(No column name)": "159,25"
                                },
                                {
                                    "KAT_NEV": "tolltartó",
                                    "MEGYS": "db",
                                    "(No column name)": "169,14705882352942"
                                },
                                {
                                    "KAT_NEV": "tolltartó",
                                    "MEGYS": "db",
                                    "(No column name)": "262,48837209302326"
                                },
                                {
                                    "KAT_NEV": "toner",
                                    "MEGYS": "db",
                                    "(No column name)": "273,219512195122"
                                },
                                {
                                    "KAT_NEV": "töltőtoll",
                                    "MEGYS": "üveg",
                                    "(No column name)": "262,48837209302326"
                                },
                                {
                                    "KAT_NEV": "tűzőgép",
                                    "MEGYS": "db",
                                    "(No column name)": "215,22641509433961"
                                },
                                {
                                    "KAT_NEV": "tűzőgép",
                                    "MEGYS": "db",
                                    "(No column name)": "262,48837209302326"
                                },
                                {
                                    "KAT_NEV": "tűzőgép",
                                    "MEGYS": "db",
                                    "(No column name)": "273,219512195122"
                                },
                                {
                                    "KAT_NEV": "tűzőkapocs",
                                    "MEGYS": "csomag",
                                    "(No column name)": "159,25"
                                },
                                {
                                    "KAT_NEV": "tűzőkapocs",
                                    "MEGYS": "csomag",
                                    "(No column name)": "169,14705882352942"
                                },
                                {
                                    "KAT_NEV": "vízfesték",
                                    "MEGYS": "db",
                                    "(No column name)": "159,25"
                                },
                                {
                                    "KAT_NEV": "vízfesték",
                                    "MEGYS": "db",
                                    "(No column name)": "215,22641509433961"
                                },
                                {
                                    "KAT_NEV": "vonalzó",
                                    "MEGYS": "db",
                                    "(No column name)": "159,25"
                                },
                                {
                                    "KAT_NEV": "vonalzó",
                                    "MEGYS": "db",
                                    "(No column name)": "169,14705882352942"
                                },
                                {
                                    "KAT_NEV": "vonalzó",
                                    "MEGYS": "db",
                                    "(No column name)": "215,22641509433961"
                                },
                                {
                                    "KAT_NEV": "vonalzó",
                                    "MEGYS": "db",
                                    "(No column name)": "273,219512195122"
                                },
                                {
                                    "KAT_NEV": "zászló",
                                    "MEGYS": "db",
                                    "(No column name)": "262,48837209302326"
                                },
                                {
                                    "KAT_NEV": "zseléstoll",
                                    "MEGYS": "csomag",
                                    "(No column name)": "159,25"
                                },
                                {
                                    "KAT_NEV": "zseléstoll",
                                    "MEGYS": "db",
                                    "(No column name)": "159,25"
                                },
                                {
                                    "KAT_NEV": "zseléstoll",
                                    "MEGYS": "db",
                                    "(No column name)": "169,14705882352942"
                                }
                            ]
                        },
                        "text/html": [
                            "<table>",
                            "<tr><th>KAT_NEV</th><th>MEGYS</th><th>(No column name)</th><th>(No column name)</th></tr>",
                            "<tr><td>ajándék tárgy</td><td>db</td><td>3</td><td>169,14705882352942</td></tr>",
                            "<tr><td>ajándék tárgy</td><td>db</td><td>3</td><td>262,48837209302326</td></tr>",
                            "<tr><td>ajándék tasak</td><td>db</td><td>20</td><td>159,25</td></tr>",
                            "<tr><td>ajándék tasak</td><td>db</td><td>20</td><td>169,14705882352942</td></tr>",
                            "<tr><td>ajándék tasak</td><td>db</td><td>20</td><td>215,22641509433961</td></tr>",
                            "<tr><td>ajándék tasak</td><td>db</td><td>20</td><td>273,219512195122</td></tr>",
                            "<tr><td>ajándék tasak</td><td>tekercs</td><td>20</td><td>159,25</td></tr>",
                            "<tr><td>álarc</td><td>db</td><td>3</td><td>159,25</td></tr>",
                            "<tr><td>álarc</td><td>db</td><td>3</td><td>273,219512195122</td></tr>",
                            "<tr><td>alkalmi</td><td>db</td><td>3</td><td>7716,428571428572</td></tr>",
                            "<tr><td>alkalmi</td><td>db</td><td>3</td><td>12345</td></tr>",
                            "<tr><td>alufólia</td><td>db</td><td>2</td><td>169,14705882352942</td></tr>",
                            "<tr><td>alufólia</td><td>db</td><td>2</td><td>215,22641509433961</td></tr>",
                            "<tr><td>árazószalag</td><td>db</td><td>1</td><td>169,14705882352942</td></tr>",
                            "<tr><td>átírótömb</td><td>db</td><td>1</td><td>273,219512195122</td></tr>",
                            "<tr><td>beíró</td><td>db</td><td>1</td><td>262,48837209302326</td></tr>",
                            "<tr><td>beírókönyv</td><td>db</td><td>2</td><td>262,48837209302326</td></tr>",
                            "<tr><td>beírókönyv</td><td>db</td><td>2</td><td>273,219512195122</td></tr>",
                            "<tr><td>bélyegző</td><td>db</td><td>4</td><td>159,25</td></tr>",
                            "<tr><td>bélyegző</td><td>db</td><td>4</td><td>215,22641509433961</td></tr>",
                            "<tr><td>bélyegző</td><td>db</td><td>4</td><td>273,219512195122</td></tr>",
                            "<tr><td>bélyegzőfesték</td><td>db</td><td>1</td><td>169,14705882352942</td></tr>",
                            "<tr><td>boríték</td><td>db</td><td>7</td><td>159,25</td></tr>",
                            "<tr><td>boríték</td><td>db</td><td>7</td><td>169,14705882352942</td></tr>",
                            "<tr><td>boríték</td><td>db</td><td>7</td><td>215,22641509433961</td></tr>",
                            "<tr><td>boríték</td><td>db</td><td>7</td><td>262,48837209302326</td></tr>",
                            "<tr><td>boríték</td><td>db</td><td>7</td><td>273,219512195122</td></tr>",
                            "<tr><td>cd tok</td><td>db</td><td>1</td><td>273,219512195122</td></tr>",
                            "<tr><td>celofán</td><td>csomag</td><td>2</td><td>273,219512195122</td></tr>",
                            "<tr><td>celofán</td><td>db</td><td>2</td><td>273,219512195122</td></tr>",
                            "<tr><td>ceruza</td><td>db</td><td>19</td><td>159,25</td></tr>",
                            "<tr><td>ceruza</td><td>db</td><td>19</td><td>169,14705882352942</td></tr>",
                            "<tr><td>ceruza</td><td>db</td><td>19</td><td>215,22641509433961</td></tr>",
                            "<tr><td>ceruza</td><td>db</td><td>19</td><td>262,48837209302326</td></tr>",
                            "<tr><td>ceruza</td><td>db</td><td>19</td><td>273,219512195122</td></tr>",
                            "<tr><td>címke</td><td>db</td><td>3</td><td>159,25</td></tr>",
                            "<tr><td>címke</td><td>db</td><td>3</td><td>169,14705882352942</td></tr>",
                            "<tr><td>color copy</td><td>csomag</td><td>5</td><td>262,48837209302326</td></tr>",
                            "<tr><td>color copy</td><td>Ív</td><td>5</td><td>169,14705882352942</td></tr>",
                            "<tr><td>color copy</td><td>ív</td><td>5</td><td>215,22641509433961</td></tr>",
                            "<tr><td>color copy</td><td>ív</td><td>5</td><td>262,48837209302326</td></tr>",
                            "<tr><td>csomagoló</td><td>csomag</td><td>2</td><td>273,219512195122</td></tr>",
                            "<tr><td>csomagoló</td><td>db</td><td>2</td><td>159,25</td></tr>",
                            "<tr><td>csomagoló papír</td><td>db</td><td>7</td><td>159,25</td></tr>",
                            "<tr><td>csomagoló papír</td><td>db</td><td>7</td><td>169,14705882352942</td></tr>",
                            "<tr><td>csomagoló papír</td><td>db</td><td>7</td><td>215,22641509433961</td></tr>",
                            "<tr><td>csomagoló papír</td><td>db</td><td>7</td><td>262,48837209302326</td></tr>",
                            "<tr><td>csomagoló papír</td><td>ív</td><td>7</td><td>169,14705882352942</td></tr>",
                            "<tr><td>csomagoló papír</td><td>ív</td><td>7</td><td>262,48837209302326</td></tr>",
                            "<tr><td>dekor</td><td>db</td><td>4</td><td>159,25</td></tr>",
                            "<tr><td>dekor</td><td>db</td><td>4</td><td>215,22641509433961</td></tr>",
                            "<tr><td>dekor</td><td>db</td><td>4</td><td>262,48837209302326</td></tr>",
                            "<tr><td>dekor</td><td>db</td><td>4</td><td>273,219512195122</td></tr>",
                            "<tr><td>dipa</td><td>ív</td><td>1</td><td>169,14705882352942</td></tr>",
                            "<tr><td>díszdoboz</td><td>db</td><td>3</td><td>159,25</td></tr>",
                            "<tr><td>díszdoboz</td><td>db</td><td>3</td><td>169,14705882352942</td></tr>",
                            "<tr><td>díszdoboz</td><td>db</td><td>3</td><td>262,48837209302326</td></tr>",
                            "<tr><td>díszkötöző</td><td>db</td><td>5</td><td>215,22641509433961</td></tr>",
                            "<tr><td>díszkötöző</td><td>db</td><td>5</td><td>273,219512195122</td></tr>",
                            "<tr><td>dvd</td><td>db</td><td>1</td><td>169,14705882352942</td></tr>",
                            "<tr><td>ecset</td><td>db</td><td>7</td><td>159,25</td></tr>",
                            "<tr><td>ecset</td><td>db</td><td>7</td><td>169,14705882352942</td></tr>",
                            "<tr><td>ecset</td><td>db</td><td>7</td><td>215,22641509433961</td></tr>",
                            "<tr><td>ecset</td><td>db</td><td>7</td><td>262,48837209302326</td></tr>",
                            "<tr><td>ecset</td><td>db</td><td>7</td><td>273,219512195122</td></tr>",
                            "<tr><td>előlap</td><td>db</td><td>1</td><td>262,48837209302326</td></tr>",
                            "<tr><td>emlékkönyv</td><td>db</td><td>3</td><td>159,25</td></tr>",
                            "<tr><td>emlékkönyv</td><td>db</td><td>3</td><td>215,22641509433961</td></tr>",
                            "<tr><td>emléklap</td><td>db</td><td>1</td><td>159,25</td></tr>",
                            "<tr><td>fax papír</td><td>db</td><td>1</td><td>169,14705882352942</td></tr>",
                            "<tr><td>fehérnemű</td><td>db</td><td>7</td><td>7716,428571428572</td></tr>",
                            "<tr><td>fehérnemű</td><td>db</td><td>7</td><td>9160</td></tr>",
                            "<tr><td>fehérnemű</td><td>db</td><td>7</td><td>12345</td></tr>",
                            "<tr><td>fehérnemű</td><td>db</td><td>7</td><td>12579,8</td></tr>",
                            "<tr><td>fénymásoló papír</td><td>csomag</td><td>5</td><td>169,14705882352942</td></tr>",
                            "<tr><td>fénymásoló papír</td><td>csomag</td><td>5</td><td>215,22641509433961</td></tr>",
                            "<tr><td>fénymásoló papír</td><td>csomag</td><td>5</td><td>262,48837209302326</td></tr>",
                            "<tr><td>férfi ing</td><td>db</td><td>1</td><td>9160</td></tr>",
                            "<tr><td>férfi kabát</td><td>db</td><td>1</td><td>9160</td></tr>",
                            "<tr><td>férfi nadrág</td><td>db</td><td>2</td><td>7716,428571428572</td></tr>",
                            "<tr><td>férfi nadrág</td><td>db</td><td>2</td><td>9160</td></tr>",
                            "<tr><td>festékpatron</td><td>db</td><td>1</td><td>215,22641509433961</td></tr>",
                            "<tr><td>filctoll</td><td>csomag</td><td>13</td><td>169,14705882352942</td></tr>",
                            "<tr><td>filctoll</td><td>db</td><td>13</td><td>159,25</td></tr>",
                            "<tr><td>filctoll</td><td>db</td><td>13</td><td>169,14705882352942</td></tr>",
                            "<tr><td>filctoll</td><td>db</td><td>13</td><td>262,48837209302326</td></tr>",
                            "<tr><td>filctoll</td><td>db</td><td>13</td><td>273,219512195122</td></tr>",
                            "<tr><td>floppy</td><td>db</td><td>1</td><td>159,25</td></tr>",
                            "<tr><td>fólia</td><td>ív</td><td>3</td><td>169,14705882352942</td></tr>",
                            "<tr><td>fólia</td><td>ív</td><td>3</td><td>273,219512195122</td></tr>",
                            "<tr><td>fotópapír</td><td>db</td><td>1</td><td>169,14705882352942</td></tr>",
                            "<tr><td>füzet</td><td>db</td><td>11</td><td>159,25</td></tr>",
                            "<tr><td>füzet</td><td>db</td><td>11</td><td>169,14705882352942</td></tr>",
                            "<tr><td>füzet</td><td>db</td><td>11</td><td>215,22641509433961</td></tr>",
                            "<tr><td>füzet</td><td>db</td><td>11</td><td>262,48837209302326</td></tr>",
                            "<tr><td>füzet</td><td>db</td><td>11</td><td>273,219512195122</td></tr>",
                            "<tr><td>füzetborító</td><td>csomag</td><td>7</td><td>159,25</td></tr>",
                            "<tr><td>füzetborító</td><td>db</td><td>7</td><td>159,25</td></tr>",
                            "<tr><td>füzetborító</td><td>db</td><td>7</td><td>169,14705882352942</td></tr>",
                            "<tr><td>füzetborító</td><td>db</td><td>7</td><td>215,22641509433961</td></tr>",
                            "<tr><td>füzetborító</td><td>db</td><td>7</td><td>12579,8</td></tr>",
                            "<tr><td>füzettartó</td><td>db</td><td>4</td><td>159,25</td></tr>",
                            "<tr><td>füzettartó</td><td>db</td><td>4</td><td>169,14705882352942</td></tr>",
                            "<tr><td>füzettartó</td><td>db</td><td>4</td><td>215,22641509433961</td></tr>",
                            "<tr><td>gemkapocs</td><td>db</td><td>2</td><td>159,25</td></tr>",
                            "<tr><td>gemkapocs</td><td>db</td><td>2</td><td>273,219512195122</td></tr>",
                            "<tr><td>gémkapocs</td><td>csomag</td><td>2</td><td>262,48837209302326</td></tr>",
                            "<tr><td>gémkapocs</td><td>csomag</td><td>2</td><td>273,219512195122</td></tr>",
                            "<tr><td>genoterm</td><td>csomag</td><td>1</td><td>159,25</td></tr>",
                            "<tr><td>genotherm</td><td>csomag</td><td>3</td><td>159,25</td></tr>",
                            "<tr><td>genotherm</td><td>csomag</td><td>3</td><td>169,14705882352942</td></tr>",
                            "<tr><td>genotherm</td><td>db</td><td>3</td><td>273,219512195122</td></tr>",
                            "<tr><td>golyóstoll</td><td>db</td><td>26</td><td>159,25</td></tr>",
                            "<tr><td>golyóstoll</td><td>db</td><td>26</td><td>169,14705882352942</td></tr>",
                            "<tr><td>golyóstoll</td><td>db</td><td>26</td><td>215,22641509433961</td></tr>",
                            "<tr><td>golyóstoll</td><td>db</td><td>26</td><td>262,48837209302326</td></tr>",
                            "<tr><td>golyóstoll</td><td>db</td><td>26</td><td>273,219512195122</td></tr>",
                            "<tr><td>gumigyűrű</td><td>csomag</td><td>1</td><td>169,14705882352942</td></tr>",
                            "<tr><td>gyermek cipő</td><td>db</td><td>6</td><td>7716,428571428572</td></tr>",
                            "<tr><td>gyermek cipő</td><td>db</td><td>6</td><td>9160</td></tr>",
                            "<tr><td>gyermek cipő</td><td>db</td><td>6</td><td>12579,8</td></tr>",
                            "<tr><td>gyermek kabát</td><td>db</td><td>2</td><td>9160</td></tr>",
                            "<tr><td>gyermek nadrág</td><td>db</td><td>4</td><td>7716,428571428572</td></tr>",
                            "<tr><td>gyermek nadrág</td><td>db</td><td>4</td><td>9160</td></tr>",
                            "<tr><td>gyermek póló</td><td>db</td><td>2</td><td>7716,428571428572</td></tr>",
                            "<tr><td>gyorsfűző</td><td>db</td><td>3</td><td>159,25</td></tr>",
                            "<tr><td>gyorsfűző</td><td>db</td><td>3</td><td>262,48837209302326</td></tr>",
                            "<tr><td>gyorsfűző</td><td>db</td><td>3</td><td>273,219512195122</td></tr>",
                            "<tr><td>gyurma</td><td>csomag</td><td>4</td><td>169,14705882352942</td></tr>",
                            "<tr><td>gyurma</td><td>csomag</td><td>4</td><td>262,48837209302326</td></tr>",
                            "<tr><td>gyurma</td><td>db</td><td>4</td><td>215,22641509433961</td></tr>",
                            "<tr><td>gyurma</td><td>db</td><td>4</td><td>273,219512195122</td></tr>",
                            "<tr><td>gyűrűskönyv</td><td>db</td><td>5</td><td>159,25</td></tr>",
                            "<tr><td>gyűrűskönyv</td><td>db</td><td>5</td><td>169,14705882352942</td></tr>",
                            "<tr><td>gyűrűskönyv</td><td>db</td><td>5</td><td>215,22641509433961</td></tr>",
                            "<tr><td>hajgumi</td><td>db</td><td>1</td><td>273,219512195122</td></tr>",
                            "<tr><td>határidő napló</td><td>db</td><td>2</td><td>169,14705882352942</td></tr>",
                            "<tr><td>hegyező</td><td>db</td><td>4</td><td>215,22641509433961</td></tr>",
                            "<tr><td>hegyező</td><td>db</td><td>4</td><td>273,219512195122</td></tr>",
                            "<tr><td>hegyző</td><td>db</td><td>2</td><td>159,25</td></tr>",
                            "<tr><td>hegyző</td><td>db</td><td>2</td><td>169,14705882352942</td></tr>",
                            "<tr><td>hibajavító</td><td>db</td><td>7</td><td>159,25</td></tr>",
                            "<tr><td>hibajavító</td><td>db</td><td>7</td><td>169,14705882352942</td></tr>",
                            "<tr><td>hibajavító</td><td>db</td><td>7</td><td>215,22641509433961</td></tr>",
                            "<tr><td>hibajavító</td><td>db</td><td>7</td><td>262,48837209302326</td></tr>",
                            "<tr><td>hibajavító</td><td>db</td><td>7</td><td>273,219512195122</td></tr>",
                            "<tr><td>hűtőmágnes</td><td>db</td><td>2</td><td>159,25</td></tr>",
                            "<tr><td>hűtőmágnes</td><td>db</td><td>2</td><td>273,219512195122</td></tr>",
                            "<tr><td>indigó</td><td>db</td><td>2</td><td>262,48837209302326</td></tr>",
                            "<tr><td>írásvetítő fólia</td><td>db</td><td>1</td><td>273,219512195122</td></tr>",
                            "<tr><td>iratgyűjtő</td><td>db</td><td>3</td><td>215,22641509433961</td></tr>",
                            "<tr><td>iratgyűjtő</td><td>db</td><td>3</td><td>273,219512195122</td></tr>",
                            "<tr><td>iratrendező</td><td>db</td><td>2</td><td>169,14705882352942</td></tr>",
                            "<tr><td>iratrendező</td><td>db</td><td>2</td><td>262,48837209302326</td></tr>",
                            "<tr><td>iratsín</td><td>db</td><td>2</td><td>159,25</td></tr>",
                            "<tr><td>iratsín</td><td>db</td><td>2</td><td>215,22641509433961</td></tr>",
                            "<tr><td>irattartó</td><td>db</td><td>2</td><td>159,25</td></tr>",
                            "<tr><td>irattartó</td><td>db</td><td>2</td><td>273,219512195122</td></tr>",
                            "<tr><td>irodaszer</td><td>db</td><td>1</td><td>262,48837209302326</td></tr>",
                            "<tr><td>írólap</td><td>db</td><td>2</td><td>273,219512195122</td></tr>",
                            "<tr><td>ironbél</td><td>db</td><td>5</td><td>159,25</td></tr>",
                            "<tr><td>ironbél</td><td>db</td><td>5</td><td>215,22641509433961</td></tr>",
                            "<tr><td>ironbél</td><td>db</td><td>5</td><td>262,48837209302326</td></tr>",
                            "<tr><td>iskolaszer</td><td>csomag</td><td>24</td><td>159,25</td></tr>",
                            "<tr><td>iskolaszer</td><td>csomag</td><td>24</td><td>215,22641509433961</td></tr>",
                            "<tr><td>iskolaszer</td><td>csomag</td><td>24</td><td>262,48837209302326</td></tr>",
                            "<tr><td>iskolaszer</td><td>db</td><td>24</td><td>159,25</td></tr>",
                            "<tr><td>iskolaszer</td><td>db</td><td>24</td><td>169,14705882352942</td></tr>",
                            "<tr><td>iskolaszer</td><td>db</td><td>24</td><td>215,22641509433961</td></tr>",
                            "<tr><td>iskolaszer</td><td>db</td><td>24</td><td>262,48837209302326</td></tr>",
                            "<tr><td>iskolaszer</td><td>db</td><td>24</td><td>273,219512195122</td></tr>",
                            "<tr><td>játékautó</td><td>db</td><td>4</td><td>159,25</td></tr>",
                            "<tr><td>jelzőkréta</td><td>db</td><td>1</td><td>262,48837209302326</td></tr>",
                            "<tr><td>kapocskiszedő</td><td>db</td><td>1</td><td>273,219512195122</td></tr>",
                            "<tr><td>karton</td><td>ív</td><td>6</td><td>159,25</td></tr>",
                            "<tr><td>karton</td><td>ív</td><td>6</td><td>169,14705882352942</td></tr>",
                            "<tr><td>karton</td><td>ív</td><td>6</td><td>215,22641509433961</td></tr>",
                            "<tr><td>karton</td><td>ív</td><td>6</td><td>262,48837209302326</td></tr>",
                            "<tr><td>karton</td><td>ív</td><td>6</td><td>273,219512195122</td></tr>",
                            "<tr><td>kártya</td><td>db</td><td>1</td><td>215,22641509433961</td></tr>",
                            "<tr><td>képeslap</td><td>db</td><td>16</td><td>159,25</td></tr>",
                            "<tr><td>képeslap</td><td>db</td><td>16</td><td>169,14705882352942</td></tr>",
                            "<tr><td>képeslap</td><td>db</td><td>16</td><td>215,22641509433961</td></tr>",
                            "<tr><td>képeslap</td><td>db</td><td>16</td><td>262,48837209302326</td></tr>",
                            "<tr><td>képeslap</td><td>db</td><td>16</td><td>273,219512195122</td></tr>",
                            "<tr><td>képkirakó</td><td>db</td><td>1</td><td>159,25</td></tr>",
                            "<tr><td>kosztüm</td><td>db</td><td>2</td><td>7716,428571428572</td></tr>",
                            "<tr><td>kosztüm</td><td>db</td><td>2</td><td>12579,8</td></tr>",
                            "<tr><td>könyv</td><td>db</td><td>15</td><td>159,25</td></tr>",
                            "<tr><td>könyv</td><td>db</td><td>15</td><td>169,14705882352942</td></tr>",
                            "<tr><td>könyv</td><td>db</td><td>15</td><td>215,22641509433961</td></tr>",
                            "<tr><td>könyv</td><td>db</td><td>15</td><td>262,48837209302326</td></tr>",
                            "<tr><td>könyv</td><td>db</td><td>15</td><td>273,219512195122</td></tr>",
                            "<tr><td>körző</td><td>db</td><td>3</td><td>215,22641509433961</td></tr>",
                            "<tr><td>körző</td><td>db</td><td>3</td><td>262,48837209302326</td></tr>",
                            "<tr><td>körző</td><td>db</td><td>3</td><td>273,219512195122</td></tr>",
                            "<tr><td>kreatív</td><td>ív</td><td>2</td><td>262,48837209302326</td></tr>",
                            "<tr><td>kreatív</td><td>Ív</td><td>2</td><td>273,219512195122</td></tr>",
                            "<tr><td>kulcstartó</td><td>db</td><td>7</td><td>169,14705882352942</td></tr>",
                            "<tr><td>kulcstartó</td><td>db</td><td>7</td><td>273,219512195122</td></tr>",
                            "<tr><td>labda</td><td>db</td><td>2</td><td>159,25</td></tr>",
                            "<tr><td>labda</td><td>db</td><td>2</td><td>273,219512195122</td></tr>",
                            "<tr><td>levélpapír</td><td>csomag</td><td>7</td><td>215,22641509433961</td></tr>",
                            "<tr><td>levélpapír</td><td>db</td><td>7</td><td>159,25</td></tr>",
                            "<tr><td>levélpapír</td><td>db</td><td>7</td><td>215,22641509433961</td></tr>",
                            "<tr><td>lufi</td><td>db</td><td>2</td><td>159,25</td></tr>",
                            "<tr><td>lufi</td><td>db</td><td>2</td><td>215,22641509433961</td></tr>",
                            "<tr><td>lyukasztó</td><td>db</td><td>2</td><td>159,25</td></tr>",
                            "<tr><td>lyukasztó</td><td>db</td><td>2</td><td>169,14705882352942</td></tr>",
                            "<tr><td>mappa</td><td>db</td><td>9</td><td>159,25</td></tr>",
                            "<tr><td>mappa</td><td>db</td><td>9</td><td>169,14705882352942</td></tr>",
                            "<tr><td>mappa</td><td>db</td><td>9</td><td>215,22641509433961</td></tr>",
                            "<tr><td>mappa</td><td>db</td><td>9</td><td>273,219512195122</td></tr>",
                            "<tr><td>matrica</td><td>db</td><td>10</td><td>159,25</td></tr>",
                            "<tr><td>matrica</td><td>db</td><td>10</td><td>169,14705882352942</td></tr>",
                            "<tr><td>matrica</td><td>db</td><td>10</td><td>215,22641509433961</td></tr>",
                            "<tr><td>matrica</td><td>db</td><td>10</td><td>262,48837209302326</td></tr>",
                            "<tr><td>matrica</td><td>db</td><td>10</td><td>273,219512195122</td></tr>",
                            "<tr><td>meghívó</td><td>db</td><td>4</td><td>169,14705882352942</td></tr>",
                            "<tr><td>meghívó</td><td>db</td><td>4</td><td>215,22641509433961</td></tr>",
                            "<tr><td>meghívó</td><td>db</td><td>4</td><td>262,48837209302326</td></tr>",
                            "<tr><td>miliméterpapír</td><td>db</td><td>1</td><td>215,22641509433961</td></tr>",
                            "<tr><td>munkafüzet</td><td>db</td><td>9</td><td>159,25</td></tr>",
                            "<tr><td>munkafüzet</td><td>db</td><td>9</td><td>169,14705882352942</td></tr>",
                            "<tr><td>munkafüzet</td><td>db</td><td>9</td><td>215,22641509433961</td></tr>",
                            "<tr><td>munkafüzet</td><td>db</td><td>9</td><td>262,48837209302326</td></tr>",
                            "<tr><td>munkafüzet</td><td>db</td><td>9</td><td>273,219512195122</td></tr>",
                            "<tr><td>műnyomó</td><td>ív</td><td>1</td><td>273,219512195122</td></tr>",
                            "<tr><td>naptár</td><td>db</td><td>1</td><td>273,219512195122</td></tr>",
                            "<tr><td>naptárhát</td><td>db</td><td>2</td><td>169,14705882352942</td></tr>",
                            "<tr><td>naptárhát</td><td>db</td><td>2</td><td>273,219512195122</td></tr>",
                            "<tr><td>névjegytartó</td><td>db</td><td>1</td><td>169,14705882352942</td></tr>",
                            "<tr><td>notesz</td><td>db</td><td>5</td><td>169,14705882352942</td></tr>",
                            "<tr><td>notesz</td><td>db</td><td>5</td><td>215,22641509433961</td></tr>",
                            "<tr><td>notesz</td><td>db</td><td>5</td><td>262,48837209302326</td></tr>",
                            "<tr><td>női kabát</td><td>db</td><td>1</td><td>9160</td></tr>",
                            "<tr><td>női nadrág</td><td>db</td><td>1</td><td>12579,8</td></tr>",
                            "<tr><td>ofszet</td><td>ív</td><td>1</td><td>159,25</td></tr>",
                            "<tr><td>oklevél</td><td>db</td><td>2</td><td>169,14705882352942</td></tr>",
                            "<tr><td>olló</td><td>db</td><td>3</td><td>159,25</td></tr>",
                            "<tr><td>olló</td><td>db</td><td>3</td><td>262,48837209302326</td></tr>",
                            "<tr><td>olló</td><td>db</td><td>3</td><td>273,219512195122</td></tr>",
                            "<tr><td>öntapadó</td><td>db</td><td>2</td><td>273,219512195122</td></tr>",
                            "<tr><td>öntapadó</td><td>doboz</td><td>2</td><td>262,48837209302326</td></tr>",
                            "<tr><td>papízsebkendő</td><td>csomag</td><td>1</td><td>273,219512195122</td></tr>",
                            "<tr><td>pausz</td><td>ív</td><td>1</td><td>273,219512195122</td></tr>",
                            "<tr><td>pénztárbizonylat</td><td>db</td><td>2</td><td>159,25</td></tr>",
                            "<tr><td>pénztárbizonylat</td><td>db</td><td>2</td><td>215,22641509433961</td></tr>",
                            "<tr><td>pénztárgépszalag</td><td>db</td><td>2</td><td>169,14705882352942</td></tr>",
                            "<tr><td>pénztárgépszalag</td><td>db</td><td>2</td><td>215,22641509433961</td></tr>",
                            "<tr><td>pixiron</td><td>db</td><td>9</td><td>159,25</td></tr>",
                            "<tr><td>pixiron</td><td>db</td><td>9</td><td>169,14705882352942</td></tr>",
                            "<tr><td>pixiron</td><td>db</td><td>9</td><td>262,48837209302326</td></tr>",
                            "<tr><td>pixiron</td><td>db</td><td>9</td><td>273,219512195122</td></tr>",
                            "<tr><td>plüss</td><td>db</td><td>3</td><td>159,25</td></tr>",
                            "<tr><td>plüss</td><td>db</td><td>3</td><td>169,14705882352942</td></tr>",
                            "<tr><td>plüss</td><td>db</td><td>3</td><td>262,48837209302326</td></tr>",
                            "<tr><td>post-it</td><td>db</td><td>2</td><td>159,25</td></tr>",
                            "<tr><td>post-it</td><td>db</td><td>2</td><td>273,219512195122</td></tr>",
                            "<tr><td>radír</td><td>db</td><td>7</td><td>159,25</td></tr>",
                            "<tr><td>radír</td><td>db</td><td>7</td><td>169,14705882352942</td></tr>",
                            "<tr><td>radír</td><td>db</td><td>7</td><td>215,22641509433961</td></tr>",
                            "<tr><td>radír</td><td>db</td><td>7</td><td>273,219512195122</td></tr>",
                            "<tr><td>radírtoll</td><td>db</td><td>2</td><td>159,25</td></tr>",
                            "<tr><td>radírtoll</td><td>db</td><td>2</td><td>262,48837209302326</td></tr>",
                            "<tr><td>ragasztó</td><td>db</td><td>10</td><td>159,25</td></tr>",
                            "<tr><td>ragasztó</td><td>db</td><td>10</td><td>169,14705882352942</td></tr>",
                            "<tr><td>ragasztó</td><td>db</td><td>10</td><td>215,22641509433961</td></tr>",
                            "<tr><td>ragasztó</td><td>db</td><td>10</td><td>262,48837209302326</td></tr>",
                            "<tr><td>ragasztó</td><td>db</td><td>10</td><td>273,219512195122</td></tr>",
                            "<tr><td>ragasztószalag</td><td>db</td><td>4</td><td>159,25</td></tr>",
                            "<tr><td>ragasztószalag</td><td>db</td><td>4</td><td>169,14705882352942</td></tr>",
                            "<tr><td>ragasztószalag</td><td>db</td><td>4</td><td>215,22641509433961</td></tr>",
                            "<tr><td>rágógumi</td><td>csomag</td><td>1</td><td>169,14705882352942</td></tr>",
                            "<tr><td>rajzlap</td><td>csomag</td><td>2</td><td>169,14705882352942</td></tr>",
                            "<tr><td>rajzlap</td><td>csomag</td><td>2</td><td>262,48837209302326</td></tr>",
                            "<tr><td>rajzszeg</td><td>csomag</td><td>2</td><td>273,219512195122</td></tr>",
                            "<tr><td>rajzszeg</td><td>db</td><td>2</td><td>215,22641509433961</td></tr>",
                            "<tr><td>regiszteres füzet</td><td>db</td><td>2</td><td>169,14705882352942</td></tr>",
                            "<tr><td>regiszteres füzet</td><td>db</td><td>2</td><td>262,48837209302326</td></tr>",
                            "<tr><td>sál</td><td>db</td><td>1</td><td>9160</td></tr>",
                            "<tr><td>spirál</td><td>db</td><td>1</td><td>169,14705882352942</td></tr>",
                            "<tr><td>strandlabda</td><td>db</td><td>1</td><td>273,219512195122</td></tr>",
                            "<tr><td>szalvéta</td><td>csomag</td><td>6</td><td>159,25</td></tr>",
                            "<tr><td>szalvéta</td><td>csomag</td><td>6</td><td>169,14705882352942</td></tr>",
                            "<tr><td>szalvéta</td><td>csomag</td><td>6</td><td>215,22641509433961</td></tr>",
                            "<tr><td>szalvéta</td><td>csomag</td><td>6</td><td>262,48837209302326</td></tr>",
                            "<tr><td>szalvéta</td><td>csomag</td><td>6</td><td>273,219512195122</td></tr>",
                            "<tr><td>számológép</td><td>db</td><td>2</td><td>215,22641509433961</td></tr>",
                            "<tr><td>számológép</td><td>db</td><td>2</td><td>262,48837209302326</td></tr>",
                            "<tr><td>szemetes</td><td>csomag</td><td>1</td><td>159,25</td></tr>",
                            "<tr><td>színes</td><td>db</td><td>2</td><td>159,25</td></tr>",
                            "<tr><td>színes</td><td>db</td><td>2</td><td>273,219512195122</td></tr>",
                            "<tr><td>szögmérő</td><td>db</td><td>3</td><td>169,14705882352942</td></tr>",
                            "<tr><td>szögmérő</td><td>db</td><td>3</td><td>215,22641509433961</td></tr>",
                            "<tr><td>szövegkiemelő</td><td>csomag</td><td>5</td><td>215,22641509433961</td></tr>",
                            "<tr><td>szövegkiemelő</td><td>db</td><td>5</td><td>159,25</td></tr>",
                            "<tr><td>szövegkiemelő</td><td>db</td><td>5</td><td>169,14705882352942</td></tr>",
                            "<tr><td>szövegkiemelő</td><td>db</td><td>5</td><td>262,48837209302326</td></tr>",
                            "<tr><td>szövegkiemelő</td><td>db</td><td>5</td><td>273,219512195122</td></tr>",
                            "<tr><td>táblafilc</td><td>csomag</td><td>1</td><td>169,14705882352942</td></tr>",
                            "<tr><td>tapétavágó</td><td>db</td><td>1</td><td>215,22641509433961</td></tr>",
                            "<tr><td>tempera</td><td>db</td><td>2</td><td>273,219512195122</td></tr>",
                            "<tr><td>térképtű</td><td>csomag</td><td>1</td><td>215,22641509433961</td></tr>",
                            "<tr><td>tintapatron</td><td>csomag</td><td>3</td><td>159,25</td></tr>",
                            "<tr><td>tintapatron</td><td>db</td><td>3</td><td>159,25</td></tr>",
                            "<tr><td>tintapatron</td><td>db</td><td>3</td><td>169,14705882352942</td></tr>",
                            "<tr><td>toll</td><td>db</td><td>2</td><td>169,14705882352942</td></tr>",
                            "<tr><td>toll</td><td>db</td><td>2</td><td>262,48837209302326</td></tr>",
                            "<tr><td>tollbetét</td><td>db</td><td>18</td><td>159,25</td></tr>",
                            "<tr><td>tollbetét</td><td>db</td><td>18</td><td>169,14705882352942</td></tr>",
                            "<tr><td>tollbetét</td><td>db</td><td>18</td><td>215,22641509433961</td></tr>",
                            "<tr><td>tollbetét</td><td>db</td><td>18</td><td>262,48837209302326</td></tr>",
                            "<tr><td>tollbetét</td><td>db</td><td>18</td><td>273,219512195122</td></tr>",
                            "<tr><td>tolltartó</td><td>csomag</td><td>7</td><td>273,219512195122</td></tr>",
                            "<tr><td>tolltartó</td><td>db</td><td>7</td><td>159,25</td></tr>",
                            "<tr><td>tolltartó</td><td>db</td><td>7</td><td>169,14705882352942</td></tr>",
                            "<tr><td>tolltartó</td><td>db</td><td>7</td><td>262,48837209302326</td></tr>",
                            "<tr><td>toner</td><td>db</td><td>1</td><td>273,219512195122</td></tr>",
                            "<tr><td>töltőtoll</td><td>üveg</td><td>1</td><td>262,48837209302326</td></tr>",
                            "<tr><td>tűzőgép</td><td>db</td><td>6</td><td>215,22641509433961</td></tr>",
                            "<tr><td>tűzőgép</td><td>db</td><td>6</td><td>262,48837209302326</td></tr>",
                            "<tr><td>tűzőgép</td><td>db</td><td>6</td><td>273,219512195122</td></tr>",
                            "<tr><td>tűzőkapocs</td><td>csomag</td><td>2</td><td>159,25</td></tr>",
                            "<tr><td>tűzőkapocs</td><td>csomag</td><td>2</td><td>169,14705882352942</td></tr>",
                            "<tr><td>vízfesték</td><td>db</td><td>4</td><td>159,25</td></tr>",
                            "<tr><td>vízfesték</td><td>db</td><td>4</td><td>215,22641509433961</td></tr>",
                            "<tr><td>vonalzó</td><td>db</td><td>6</td><td>159,25</td></tr>",
                            "<tr><td>vonalzó</td><td>db</td><td>6</td><td>169,14705882352942</td></tr>",
                            "<tr><td>vonalzó</td><td>db</td><td>6</td><td>215,22641509433961</td></tr>",
                            "<tr><td>vonalzó</td><td>db</td><td>6</td><td>273,219512195122</td></tr>",
                            "<tr><td>zászló</td><td>db</td><td>1</td><td>262,48837209302326</td></tr>",
                            "<tr><td>zseléstoll</td><td>csomag</td><td>4</td><td>159,25</td></tr>",
                            "<tr><td>zseléstoll</td><td>db</td><td>4</td><td>159,25</td></tr>",
                            "<tr><td>zseléstoll</td><td>db</td><td>4</td><td>169,14705882352942</td></tr>",
                            "</table>"
                        ]
                    }
                }
            ],
            "execution_count": 27
        },
        {
            "cell_type": "markdown",
            "source": [
                "8. <span style=\"font-weight: 600; color: rgb(36, 41, 47); font-family: -apple-system, BlinkMacSystemFont, &quot;Segoe UI&quot;, Helvetica, Arial, sans-serif, &quot;Apple Color Emoji&quot;, &quot;Segoe UI Emoji&quot;; font-size: 16px;\">Készítsünk listát a rendelési tételekről. Az egyes rendelési tételeket termékenként soroljuk be 4 osztályba a rendelés mennyisége alapján. Jelenítsük meg ezt az információt is egy új oszlopban, az oszlop neve legyen 'Mennyiségi kategória'.</span>\n",
                "\n",
                "1. A lista csak a 100 Ft feletti egységárú rendelési tételeket vegye figyelembe!"
            ],
            "metadata": {
                "azdata_cell_guid": "27a3d3dc-eafb-4a5e-b103-9f465b9eda8f"
            },
            "attachments": {}
        },
        {
            "cell_type": "code",
            "source": [
                ""
            ],
            "metadata": {
                "azdata_cell_guid": "f09edb3f-649b-4a96-958e-9e12774ae8b7",
                "language": "sql"
            },
            "outputs": [],
            "execution_count": null
        },
        {
            "cell_type": "markdown",
            "source": [
                "9. <span style=\"font-weight: 600; color: rgb(36, 41, 47); font-family: -apple-system, BlinkMacSystemFont, &quot;Segoe UI&quot;, Helvetica, Arial, sans-serif, &quot;Apple Color Emoji&quot;, &quot;Segoe UI Emoji&quot;; font-size: 16px;\">Listázzuk a termékek kódját, megnevezését, kategóriájának nevét, és listaárát.</span>\n",
                "\n",
                "1. A listát egészítsük ki két új oszloppal, amelyek a kategória legolcsóbb, illetve legdrágább termékének árát tartalmazzák.\n",
                "2. A két új oszlop létrehozásánál partíciókkal dolgozzunk!"
            ],
            "metadata": {
                "azdata_cell_guid": "f12a331a-0e26-4d3d-9c68-812316286577"
            },
            "attachments": {}
        },
        {
            "cell_type": "code",
            "source": [
                ""
            ],
            "metadata": {
                "azdata_cell_guid": "10a77fc9-e61a-46fc-a401-59720d82bc50",
                "language": "sql"
            },
            "outputs": [],
            "execution_count": null
        },
        {
            "cell_type": "markdown",
            "source": [
                "10. <span style=\"font-weight: 600; color: rgb(36, 41, 47); font-family: -apple-system, BlinkMacSystemFont, &quot;Segoe UI&quot;, Helvetica, Arial, sans-serif, &quot;Apple Color Emoji&quot;, &quot;Segoe UI Emoji&quot;; font-size: 16px;\">Készítsünk listát a rendelésekről. A lista legyen rendezve ügyfelenként (LOGIN), azon belül a rendelés dátuma szerint. A listához készítsünk sorszámozást is. A sorszám a következő formában jelenjen meg: sorszám_év_login. Pl: 1_2015_adam1</span>\n",
                "\n",
                "1. A számozás login-onként, azon belül rendelési évenként kezdődjön újra.\n",
                "2. A sorszám oszlop neve legyen Azonosító"
            ],
            "metadata": {
                "azdata_cell_guid": "9229e2b6-e200-4499-b95b-2d0222149831"
            },
            "attachments": {}
        },
        {
            "cell_type": "code",
            "source": [
                ""
            ],
            "metadata": {
                "azdata_cell_guid": "8b49ed67-28c6-4880-82a8-cd369e5bba99",
                "language": "sql"
            },
            "outputs": [],
            "execution_count": null
        },
        {
            "cell_type": "markdown",
            "source": [
                "11. <span style=\"color: rgb(36, 41, 47); font-family: -apple-system, BlinkMacSystemFont, &quot;Segoe UI&quot;, Helvetica, Arial, sans-serif, &quot;Apple Color Emoji&quot;, &quot;Segoe UI Emoji&quot;; font-size: 16px;\">Készítsünk listát a termékek adatairól listaár szerint növekvő sorrendben! A lista jelenítse meg két új oszlopban a sorrend szerint előző, illetve következő termék listaárát is a termék saját kategóriájában és raktárában!</span>\n",
                "\n",
                "1. Ahol nincs előző vagy következő érték, ott 0 jelenjen meg!\n",
                "2. Az oszlopokat nevezzük el értelemszerűen!"
            ],
            "metadata": {
                "azdata_cell_guid": "7f5fc7a7-3b6a-4d89-b292-490830afb0c6"
            },
            "attachments": {}
        },
        {
            "cell_type": "code",
            "source": [
                ""
            ],
            "metadata": {
                "azdata_cell_guid": "4a9ece40-f782-4c0d-92cd-9c21969067ed",
                "language": "sql"
            },
            "outputs": [],
            "execution_count": null
        },
        {
            "cell_type": "markdown",
            "source": [
                "12. <span style=\"color: rgb(36, 41, 47); font-family: -apple-system, BlinkMacSystemFont, &quot;Segoe UI&quot;, Helvetica, Arial, sans-serif, &quot;Apple Color Emoji&quot;, &quot;Segoe UI Emoji&quot;; font-size: 16px;\">Listázzuk a termékek kódját, nevét és listaárát listaár szerinti sorrendben!</span>\n",
                "\n",
                "1. Vegyünk fel egy új oszlopot Mozgóátlag néven, amely minden esetben az aktuális termék, az előző, és a következő termék átlagárát tartalmazza!\n",
                "2. A mozgóátlagot kerekítsük két tizedesre!"
            ],
            "metadata": {
                "azdata_cell_guid": "5a483c52-bb98-44bb-bd03-1146d4b0abfa"
            },
            "attachments": {}
        },
        {
            "cell_type": "code",
            "source": [
                ""
            ],
            "metadata": {
                "azdata_cell_guid": "dd6e89bd-08f9-4b18-8460-03c45b503df0",
                "language": "sql"
            },
            "outputs": [],
            "execution_count": null
        },
        {
            "cell_type": "markdown",
            "source": [
                "13. <span style=\"color: rgb(36, 41, 47); font-family: -apple-system, BlinkMacSystemFont, &quot;Segoe UI&quot;, Helvetica, Arial, sans-serif, &quot;Apple Color Emoji&quot;, &quot;Segoe UI Emoji&quot;; font-size: 16px;\">Készítsünk listát, amely a rendelések sorszámát és a rendelés értékét tartalmazza. A listát egészítsük ki egy új oszloppal, amely minden rendelés esetén addigi rendelések összegét tartalmazza (az aktuálisat is beleértve)!</span>\n",
                "\n",
                "1. A listát rendezzük sorszám szerint növekvő sorrendbe.\n",
                "2. A lista ne tartalmazzon duplikált sorokat!"
            ],
            "metadata": {
                "azdata_cell_guid": "85d5cb66-96c6-42de-99cf-85ab22d08548"
            },
            "attachments": {}
        },
        {
            "cell_type": "code",
            "source": [
                ""
            ],
            "metadata": {
                "azdata_cell_guid": "cb07d64b-0eaa-498b-b4d2-0b46971e95ce",
                "language": "sql"
            },
            "outputs": [],
            "execution_count": null
        },
        {
            "cell_type": "markdown",
            "source": [
                "14. <span style=\"color: rgb(36, 41, 47); font-family: -apple-system, BlinkMacSystemFont, &quot;Segoe UI&quot;, Helvetica, Arial, sans-serif, &quot;Apple Color Emoji&quot;, &quot;Segoe UI Emoji&quot;; font-size: 16px;\">Készítsünk listát a termékek kódjáról, nevéről, kategória azonosítójáról, raktár azonosítójáról és listaáráról, valamint a termék adott szempontok szerinti rangsorokban elfoglalt helyezéseiről. (Szempontonként külön oszlopban, a helyezéseknél növekvő sorrendet feltételezve). A szempontok a következők legyenek: listaár, kategória szerinti listaár, és raktárkód szerinti listaár.</span>\n",
                "\n",
                "1. Az oszlopokat nevezzük el értelemszerűen.\n",
                "2. A helyezések egyenlőség esetén \"sűrűn\" kövessék egymást.\n",
                "3. A lista legyen rendezett kategória azonosító, azon belül listaár szerint!"
            ],
            "metadata": {
                "azdata_cell_guid": "f95ad665-a807-4099-bf06-64ed974f866f"
            },
            "attachments": {}
        },
        {
            "cell_type": "code",
            "source": [
                ""
            ],
            "metadata": {
                "azdata_cell_guid": "74c7ec8a-ae4a-4d03-b1c4-e8f6bb1be12c",
                "language": "sql"
            },
            "outputs": [],
            "execution_count": null
        },
        {
            "cell_type": "markdown",
            "source": [
                "15. <span style=\"color: rgb(36, 41, 47); font-family: -apple-system, BlinkMacSystemFont, &quot;Segoe UI&quot;, Helvetica, Arial, sans-serif, &quot;Apple Color Emoji&quot;, &quot;Segoe UI Emoji&quot;; font-size: 16px;\">Készítsünk listát a rendelési tételekről, amely minden sor esetén göngyölítve tartalmazza az ügyfél adott rendelési tételig meglévő rendelési tételeinek összértékét!</span>\n",
                "\n",
                "1. Az új oszlop neve legyen Eddigi rendelési tételek összértéke!\n",
                "2. Az ügyfél neve is jelenjen meg!"
            ],
            "metadata": {
                "azdata_cell_guid": "93552388-ffec-49ff-99e5-ae8dc8072601"
            },
            "attachments": {}
        },
        {
            "cell_type": "code",
            "source": [
                ""
            ],
            "metadata": {
                "azdata_cell_guid": "0e7f547f-7d96-4611-b1c2-0fa84a581e79",
                "language": "sql"
            },
            "outputs": [],
            "execution_count": null
        }
    ]
}