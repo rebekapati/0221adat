{
    "metadata": {
        "kernelspec": {
            "name": "SQL",
            "display_name": "SQL",
            "language": "sql"
        },
        "language_info": {
            "name": "sql",
            "version": ""
        }
    },
    "nbformat_minor": 2,
    "nbformat": 4,
    "cells": [
        {
            "cell_type": "markdown",
            "source": [
                "1. Jelenítsük meg minden egyes szoba esetén, hogy hányszor foglalták le!\n",
                "    \n",
                "    - Csak a szoba azonosítója és a foglalások darabszáma jelenjen meg\n",
                "    - Azok a szobák is jelenjenek meg, ahol nem történt foglalás"
            ],
            "metadata": {
                "azdata_cell_guid": "d9c8aedd-2248-4888-949e-d6915c6a213c"
            },
            "attachments": {}
        },
        {
            "cell_type": "code",
            "source": [
                "SELECT sz.szoba_id,\r\n",
                "       COUNT(f.foglalas_pk) AS 'Foglalások száma'\r\n",
                "FROM szoba sz LEFT JOIN Foglalas f ON sz.szoba_id = f.szoba_fk\r\n",
                "GROUP BY sz.szoba_id\r\n",
                ""
            ],
            "metadata": {
                "azdata_cell_guid": "14d73d2f-ffcf-42a5-b84a-fd92b76cb0ae",
                "language": "sql"
            },
            "outputs": [],
            "execution_count": null
        },
        {
            "cell_type": "markdown",
            "source": [
                "2. <span style=\"color: rgb(0, 0, 0); font-family: &quot;Open Sans&quot;, sans-serif; font-size: 14.44px; background-color: rgb(255, 255, 255);\">Listázzuk azon szálláshelyek azonosítóját és nevét, amelyek a saját helyükön (HELY) a legtöbb csillaggal rendelkeznek!</span>"
            ],
            "metadata": {
                "azdata_cell_guid": "9ae863fc-b19f-436d-a782-72839645d26f"
            },
            "attachments": {}
        },
        {
            "cell_type": "code",
            "source": [
                "SELECT sz.SZALLAS_ID AS \"Azonosító\",\r\n",
                "       sz.SZALLAS_NEV AS \"Szállás neve\"\r\n",
                "FROM Szallashely sz\r\n",
                "WHERE sz.CSILLAGOK_SZAMA = (\r\n",
                "    SELECT MAX(szh.CSILLAGOK_SZAMA)\r\n",
                "    FROM Szallashely szh\r\n",
                "    WHERE sz.HELY = szh.HELY\r\n",
                ")\r\n",
                "ORDER BY sz.CSILLAGOK_SZAMA DESC;"
            ],
            "metadata": {
                "azdata_cell_guid": "dbad827c-2ec9-4efc-be79-e473687e892b",
                "language": "sql"
            },
            "outputs": [],
            "execution_count": null
        },
        {
            "cell_type": "markdown",
            "source": [
                "3. Készítsen lekérdezést, amely sorszámozza a vendégeket a foglalások száma alapján\n",
                "    \n",
                "    - A sorszám mellett jelenjen meg a vendég azonosítója, neve és a foglalások száma is\n",
                "    - A legtöbbet foglaló vendég kapja az egyes sorszámot\n",
                "    - Holtverseny esetén a számozás annyit ugorjon, ahány egyforma érték van"
            ],
            "metadata": {
                "azdata_cell_guid": "7677536e-071b-4aba-ba77-6416497ce8b7"
            },
            "attachments": {}
        },
        {
            "cell_type": "code",
            "source": [
                "SELECT\r\n",
                "    RANK() OVER (ORDER BY COUNT(f.foglalas_pk) DESC) AS \"Sorszám\",\r\n",
                "    v.usernev AS \"Azonosító\",\r\n",
                "    v.nev AS \"Név\",\r\n",
                "    COUNT(f.foglalas_pk) AS \"Foglalások száma\"\r\n",
                "FROM Vendeg v LEFT JOIN Foglalas f ON v.USERNEV = f.UGYFEL_FK\r\n",
                "GROUP BY v.usernev, v.nev\r\n",
                ""
            ],
            "metadata": {
                "azdata_cell_guid": "27109bba-9be8-4cc5-b7fd-8e71e1e7bf07",
                "language": "sql"
            },
            "outputs": [
                {
                    "output_type": "display_data",
                    "data": {
                        "text/html": "(196 rows affected)"
                    },
                    "metadata": {}
                },
                {
                    "output_type": "display_data",
                    "data": {
                        "text/html": "Total execution time: 00:00:00.064"
                    },
                    "metadata": {}
                },
                {
                    "output_type": "execute_result",
                    "metadata": {},
                    "execution_count": 11,
                    "data": {
                        "application/vnd.dataresource+json": {
                            "schema": {
                                "fields": [
                                    {
                                        "name": "Sorszám"
                                    },
                                    {
                                        "name": "Azonosító"
                                    },
                                    {
                                        "name": "Név"
                                    },
                                    {
                                        "name": "Foglalások száma"
                                    }
                                ]
                            },
                            "data": [
                                {
                                    "Sorszám": "1",
                                    "Azonosító": "andras41",
                                    "Név": "Komjáti András",
                                    "Foglalások száma": "13"
                                },
                                {
                                    "Sorszám": "1",
                                    "Azonosító": "ARONK",
                                    "Név": "Kelemen Áron",
                                    "Foglalások száma": "13"
                                },
                                {
                                    "Sorszám": "3",
                                    "Azonosító": "krisztian4",
                                    "Név": "Czérna Krisztián",
                                    "Foglalások száma": "12"
                                },
                                {
                                    "Sorszám": "3",
                                    "Azonosító": "peter4",
                                    "Név": "Bíró Péter",
                                    "Foglalások száma": "12"
                                },
                                {
                                    "Sorszám": "3",
                                    "Azonosító": "sara",
                                    "Név": "Farkas Sára",
                                    "Foglalások száma": "12"
                                },
                                {
                                    "Sorszám": "3",
                                    "Azonosító": "zoltan4",
                                    "Név": "Barna Zoltán",
                                    "Foglalások száma": "12"
                                },
                                {
                                    "Sorszám": "7",
                                    "Azonosító": "kata",
                                    "Név": "Gondos Katalin",
                                    "Foglalások száma": "10"
                                },
                                {
                                    "Sorszám": "7",
                                    "Azonosító": "akos",
                                    "Név": "Bíró Ákos",
                                    "Foglalások száma": "10"
                                },
                                {
                                    "Sorszám": "7",
                                    "Azonosító": "balazs2",
                                    "Név": "Szűcs Balázs",
                                    "Foglalások száma": "10"
                                },
                                {
                                    "Sorszám": "7",
                                    "Azonosító": "balint1",
                                    "Név": "Molnár Bálint",
                                    "Foglalások száma": "10"
                                },
                                {
                                    "Sorszám": "7",
                                    "Azonosító": "eszter2",
                                    "Név": "Balogh Eszter",
                                    "Foglalások száma": "10"
                                },
                                {
                                    "Sorszám": "12",
                                    "Azonosító": "dani",
                                    "Név": "Vörös Dániel",
                                    "Foglalások száma": "9"
                                },
                                {
                                    "Sorszám": "12",
                                    "Azonosító": "daniel",
                                    "Név": "Rácz Dániel",
                                    "Foglalások száma": "9"
                                },
                                {
                                    "Sorszám": "12",
                                    "Azonosító": "david",
                                    "Név": "Ambrus Dávid",
                                    "Foglalások száma": "9"
                                },
                                {
                                    "Sorszám": "12",
                                    "Azonosító": "BEATRIXK",
                                    "Név": "Kerényi Beatrix",
                                    "Foglalások száma": "9"
                                },
                                {
                                    "Sorszám": "12",
                                    "Azonosító": "bence",
                                    "Név": "Győrffy Bence",
                                    "Foglalások száma": "9"
                                },
                                {
                                    "Sorszám": "12",
                                    "Azonosító": "ANIKOS",
                                    "Név": "Simon Anikó",
                                    "Foglalások száma": "9"
                                },
                                {
                                    "Sorszám": "12",
                                    "Azonosító": "katalin",
                                    "Név": "Horváth Katalin",
                                    "Foglalások száma": "9"
                                },
                                {
                                    "Sorszám": "12",
                                    "Azonosító": "katka",
                                    "Név": "Kovács Katalin",
                                    "Foglalások száma": "9"
                                },
                                {
                                    "Sorszám": "12",
                                    "Azonosító": "norbert4",
                                    "Név": "Mile Norbert",
                                    "Foglalások száma": "9"
                                },
                                {
                                    "Sorszám": "12",
                                    "Azonosító": "szilvia1",
                                    "Név": "Tari Szilvia",
                                    "Foglalások száma": "9"
                                },
                                {
                                    "Sorszám": "12",
                                    "Azonosító": "TAMASF",
                                    "Név": "Fényes Tamás",
                                    "Foglalások száma": "9"
                                },
                                {
                                    "Sorszám": "23",
                                    "Azonosító": "tunde",
                                    "Név": "Turcsik Tünde",
                                    "Foglalások száma": "8"
                                },
                                {
                                    "Sorszám": "23",
                                    "Azonosító": "ROBERTI",
                                    "Név": "Iván Róbert",
                                    "Foglalások száma": "8"
                                },
                                {
                                    "Sorszám": "23",
                                    "Azonosító": "MATYASS",
                                    "Név": "Szilágyi Mátyás",
                                    "Foglalások száma": "8"
                                },
                                {
                                    "Sorszám": "23",
                                    "Azonosító": "krisztina",
                                    "Név": "Szedlár Krisztina",
                                    "Foglalások száma": "8"
                                },
                                {
                                    "Sorszám": "23",
                                    "Azonosító": "maria1",
                                    "Név": "Baráth Mária",
                                    "Foglalások száma": "8"
                                },
                                {
                                    "Sorszám": "23",
                                    "Azonosító": "fruzsina4",
                                    "Név": "Frank Fruzsina",
                                    "Foglalások száma": "8"
                                },
                                {
                                    "Sorszám": "23",
                                    "Azonosító": "GYORGYO",
                                    "Név": "Oroszi György",
                                    "Foglalások száma": "8"
                                },
                                {
                                    "Sorszám": "23",
                                    "Azonosító": "anett3",
                                    "Név": "Pivarcsi Anett",
                                    "Foglalások száma": "8"
                                },
                                {
                                    "Sorszám": "23",
                                    "Azonosító": "andras3",
                                    "Név": "Vígh András",
                                    "Foglalások száma": "8"
                                },
                                {
                                    "Sorszám": "23",
                                    "Azonosító": "bernadett2",
                                    "Név": "Kovács Bernadett",
                                    "Foglalások száma": "8"
                                },
                                {
                                    "Sorszám": "23",
                                    "Azonosító": "csongor3",
                                    "Név": "Nagymihály Csongor",
                                    "Foglalások száma": "8"
                                },
                                {
                                    "Sorszám": "34",
                                    "Azonosító": "daniel1",
                                    "Név": "Keszler Dániel",
                                    "Foglalások száma": "7"
                                },
                                {
                                    "Sorszám": "34",
                                    "Azonosító": "edit",
                                    "Név": "Bittmann Edit",
                                    "Foglalások száma": "7"
                                },
                                {
                                    "Sorszám": "34",
                                    "Azonosító": "emese",
                                    "Név": "Kuruc Emese",
                                    "Foglalások száma": "7"
                                },
                                {
                                    "Sorszám": "34",
                                    "Azonosító": "BERNADETTO",
                                    "Név": "Orbán Bernadett",
                                    "Foglalások száma": "7"
                                },
                                {
                                    "Sorszám": "34",
                                    "Azonosító": "bernadett1",
                                    "Név": "Simon Bernadett",
                                    "Foglalások száma": "7"
                                },
                                {
                                    "Sorszám": "34",
                                    "Azonosító": "alexandra",
                                    "Név": "Bagóczki Alexandra",
                                    "Foglalások száma": "7"
                                },
                                {
                                    "Sorszám": "34",
                                    "Azonosító": "andras21",
                                    "Név": "Molnár András",
                                    "Foglalások száma": "7"
                                },
                                {
                                    "Sorszám": "34",
                                    "Azonosító": "arpad2",
                                    "Név": "Ötvös Árpád",
                                    "Foglalások száma": "7"
                                },
                                {
                                    "Sorszám": "34",
                                    "Azonosító": "ARPADH",
                                    "Név": "Horváth Árpád",
                                    "Foglalások száma": "7"
                                },
                                {
                                    "Sorszám": "34",
                                    "Azonosító": "GYONGYIK",
                                    "Név": "Kornseé Gyöngyi",
                                    "Foglalások száma": "7"
                                },
                                {
                                    "Sorszám": "34",
                                    "Azonosító": "imre1",
                                    "Név": "Papp Imre",
                                    "Foglalások száma": "7"
                                },
                                {
                                    "Sorszám": "34",
                                    "Azonosító": "JANOSG",
                                    "Név": "Giliga János",
                                    "Foglalások száma": "7"
                                },
                                {
                                    "Sorszám": "34",
                                    "Azonosító": "JOZSEFG",
                                    "Név": "Gyuris József",
                                    "Foglalások száma": "7"
                                },
                                {
                                    "Sorszám": "34",
                                    "Azonosító": "kati",
                                    "Név": "Zatykó Katalin",
                                    "Foglalások száma": "7"
                                },
                                {
                                    "Sorszám": "34",
                                    "Azonosító": "marton",
                                    "Név": "Kalacsi Márton",
                                    "Foglalások száma": "7"
                                },
                                {
                                    "Sorszám": "34",
                                    "Azonosító": "nikoletta4",
                                    "Név": "Kő Nikoletta",
                                    "Foglalások száma": "7"
                                },
                                {
                                    "Sorszám": "34",
                                    "Azonosító": "norbert2",
                                    "Név": "Hegedűs Norbert",
                                    "Foglalások száma": "7"
                                },
                                {
                                    "Sorszám": "34",
                                    "Azonosító": "SZABOLCSM",
                                    "Név": "Miklós Szabolcs",
                                    "Foglalások száma": "7"
                                },
                                {
                                    "Sorszám": "34",
                                    "Azonosító": "SZILARDS",
                                    "Név": "Szalai Szilárd",
                                    "Foglalások száma": "7"
                                },
                                {
                                    "Sorszám": "34",
                                    "Azonosító": "vivien3",
                                    "Név": "Boros Vivien",
                                    "Foglalások száma": "7"
                                },
                                {
                                    "Sorszám": "54",
                                    "Azonosító": "veronika4",
                                    "Név": "Tankó Veronika",
                                    "Foglalások száma": "6"
                                },
                                {
                                    "Sorszám": "54",
                                    "Azonosító": "ZOLTANP",
                                    "Név": "Pintér Zoltán",
                                    "Foglalások száma": "6"
                                },
                                {
                                    "Sorszám": "54",
                                    "Azonosító": "ZSOLTJ",
                                    "Név": "Józsa Zsolt",
                                    "Foglalások száma": "6"
                                },
                                {
                                    "Sorszám": "54",
                                    "Azonosító": "ZSUZSAV",
                                    "Név": "Vajda Zsuzsa",
                                    "Foglalások száma": "6"
                                },
                                {
                                    "Sorszám": "54",
                                    "Azonosító": "tihamer",
                                    "Név": "Kazy Tihamér",
                                    "Foglalások száma": "6"
                                },
                                {
                                    "Sorszám": "54",
                                    "Azonosító": "peter3",
                                    "Név": "Szalai Péter",
                                    "Foglalások száma": "6"
                                },
                                {
                                    "Sorszám": "54",
                                    "Azonosító": "polla",
                                    "Név": "Palágyi Polla",
                                    "Foglalások száma": "6"
                                },
                                {
                                    "Sorszám": "54",
                                    "Azonosító": "RENATAK",
                                    "Név": "Kardos Renáta",
                                    "Foglalások száma": "6"
                                },
                                {
                                    "Sorszám": "54",
                                    "Azonosító": "MONIKAM",
                                    "Név": "Mohos Mónika",
                                    "Foglalások száma": "6"
                                },
                                {
                                    "Sorszám": "54",
                                    "Azonosító": "KRISZTIANM",
                                    "Név": "Mogyródi Krisztián",
                                    "Foglalások száma": "6"
                                },
                                {
                                    "Sorszám": "54",
                                    "Azonosító": "krisztina1",
                                    "Név": "Bori Krisztina",
                                    "Foglalások száma": "6"
                                },
                                {
                                    "Sorszám": "54",
                                    "Azonosító": "kriszti",
                                    "Név": "Horváth Krisztina",
                                    "Foglalások száma": "6"
                                },
                                {
                                    "Sorszám": "54",
                                    "Azonosító": "LASZLON",
                                    "Név": "Nagy László",
                                    "Foglalások száma": "6"
                                },
                                {
                                    "Sorszám": "54",
                                    "Azonosító": "lala",
                                    "Név": "Nagymihály Lajos",
                                    "Foglalások száma": "6"
                                },
                                {
                                    "Sorszám": "54",
                                    "Azonosító": "katalin4",
                                    "Név": "Kertész Katalin",
                                    "Foglalások száma": "6"
                                },
                                {
                                    "Sorszám": "54",
                                    "Azonosító": "gabor1",
                                    "Név": "Köves Gábor",
                                    "Foglalások száma": "6"
                                },
                                {
                                    "Sorszám": "54",
                                    "Azonosító": "gabriella1",
                                    "Név": "Nagy Gabriella",
                                    "Foglalások száma": "6"
                                },
                                {
                                    "Sorszám": "54",
                                    "Azonosító": "ARPADM",
                                    "Név": "Móricz Árpád",
                                    "Foglalások száma": "6"
                                },
                                {
                                    "Sorszám": "54",
                                    "Azonosító": "ANNAMARIAR",
                                    "Név": "Regős Annamária",
                                    "Foglalások száma": "6"
                                },
                                {
                                    "Sorszám": "54",
                                    "Azonosító": "aron2",
                                    "Név": "Jakab Áron",
                                    "Foglalások száma": "6"
                                },
                                {
                                    "Sorszám": "54",
                                    "Azonosító": "attila1",
                                    "Név": "Gulyás Attila",
                                    "Foglalások száma": "6"
                                },
                                {
                                    "Sorszám": "54",
                                    "Azonosító": "andrea",
                                    "Név": "Kiss Andrea",
                                    "Foglalások száma": "6"
                                },
                                {
                                    "Sorszám": "54",
                                    "Azonosító": "AGNESH",
                                    "Név": "Horváth Ágnes",
                                    "Foglalások száma": "6"
                                },
                                {
                                    "Sorszám": "54",
                                    "Azonosító": "adam4",
                                    "Név": "Bieniek Ádám",
                                    "Foglalások száma": "6"
                                },
                                {
                                    "Sorszám": "54",
                                    "Azonosító": "beata4",
                                    "Név": "Bagi Beáta",
                                    "Foglalások száma": "6"
                                },
                                {
                                    "Sorszám": "54",
                                    "Azonosító": "BENCEB",
                                    "Név": "Bajusz Bence",
                                    "Foglalások száma": "6"
                                },
                                {
                                    "Sorszám": "54",
                                    "Azonosító": "bertalan",
                                    "Név": "Csiger Bertalan",
                                    "Foglalások száma": "6"
                                },
                                {
                                    "Sorszám": "54",
                                    "Azonosító": "BEATRIXS",
                                    "Név": "Szekendi Beatrix",
                                    "Foglalások száma": "6"
                                },
                                {
                                    "Sorszám": "54",
                                    "Azonosító": "BELAF",
                                    "Név": "Farkas Béla",
                                    "Foglalások száma": "6"
                                },
                                {
                                    "Sorszám": "54",
                                    "Azonosító": "balazs3",
                                    "Név": "Bakódy Balázs",
                                    "Foglalások száma": "6"
                                },
                                {
                                    "Sorszám": "54",
                                    "Azonosító": "balazs1",
                                    "Név": "Bozsik Balázs",
                                    "Foglalások száma": "6"
                                },
                                {
                                    "Sorszám": "54",
                                    "Azonosító": "david1",
                                    "Név": "Sobják Dávid",
                                    "Foglalások száma": "6"
                                },
                                {
                                    "Sorszám": "54",
                                    "Azonosító": "denes",
                                    "Név": "Tömböly Dénes",
                                    "Foglalások száma": "6"
                                },
                                {
                                    "Sorszám": "87",
                                    "Azonosító": "dora3",
                                    "Név": "Sarodi Dóra",
                                    "Foglalások száma": "5"
                                },
                                {
                                    "Sorszám": "87",
                                    "Azonosító": "EVAV",
                                    "Név": "Viktor Éva",
                                    "Foglalások száma": "5"
                                },
                                {
                                    "Sorszám": "87",
                                    "Azonosító": "brigitta",
                                    "Név": "Székely Brigitta",
                                    "Foglalások száma": "5"
                                },
                                {
                                    "Sorszám": "87",
                                    "Azonosító": "brigitta3",
                                    "Név": "Pataki Brigitta",
                                    "Foglalások száma": "5"
                                },
                                {
                                    "Sorszám": "87",
                                    "Azonosító": "agnes",
                                    "Név": "Lengyel Ágnes",
                                    "Foglalások száma": "5"
                                },
                                {
                                    "Sorszám": "87",
                                    "Azonosító": "ANDRASE",
                                    "Név": "Erdei András",
                                    "Foglalások száma": "5"
                                },
                                {
                                    "Sorszám": "87",
                                    "Azonosító": "andi",
                                    "Név": "Maródi Andrea",
                                    "Foglalások száma": "5"
                                },
                                {
                                    "Sorszám": "87",
                                    "Azonosító": "andras2",
                                    "Név": "Tóth András",
                                    "Foglalások száma": "5"
                                },
                                {
                                    "Sorszám": "87",
                                    "Azonosító": "gusztav",
                                    "Név": "Bárci Gusztáv",
                                    "Foglalások száma": "5"
                                },
                                {
                                    "Sorszám": "87",
                                    "Azonosító": "julia",
                                    "Név": "Tóth Júlia",
                                    "Foglalások száma": "5"
                                },
                                {
                                    "Sorszám": "87",
                                    "Azonosító": "janos3",
                                    "Név": "Harangozó János",
                                    "Foglalások száma": "5"
                                },
                                {
                                    "Sorszám": "87",
                                    "Azonosító": "jozsef2",
                                    "Név": "Vajda József",
                                    "Foglalások száma": "5"
                                },
                                {
                                    "Sorszám": "87",
                                    "Azonosító": "laszlo2",
                                    "Név": "Móra László",
                                    "Foglalások száma": "5"
                                },
                                {
                                    "Sorszám": "87",
                                    "Azonosító": "mark",
                                    "Név": "Kispál Márk",
                                    "Foglalások száma": "5"
                                },
                                {
                                    "Sorszám": "87",
                                    "Azonosító": "KRISZTINAG",
                                    "Név": "Gyárfás Krisztina",
                                    "Foglalások száma": "5"
                                },
                                {
                                    "Sorszám": "87",
                                    "Azonosító": "MIHALYJ",
                                    "Név": "Juhász Mihály",
                                    "Foglalások száma": "5"
                                },
                                {
                                    "Sorszám": "87",
                                    "Azonosító": "norbert",
                                    "Név": "Szűcs Norbert",
                                    "Foglalások száma": "5"
                                },
                                {
                                    "Sorszám": "87",
                                    "Azonosító": "pal",
                                    "Név": "Barabás Pál",
                                    "Foglalások száma": "5"
                                },
                                {
                                    "Sorszám": "87",
                                    "Azonosító": "RENATAS",
                                    "Név": "Szirmai Renáta",
                                    "Foglalások száma": "5"
                                },
                                {
                                    "Sorszám": "87",
                                    "Azonosító": "PETERB",
                                    "Név": "Berendi Péter",
                                    "Foglalások száma": "5"
                                },
                                {
                                    "Sorszám": "87",
                                    "Azonosító": "reka4",
                                    "Név": "Szikszai Réka",
                                    "Foglalások száma": "5"
                                },
                                {
                                    "Sorszám": "87",
                                    "Azonosító": "sandor3",
                                    "Név": "Farkas Sándor",
                                    "Foglalások száma": "5"
                                },
                                {
                                    "Sorszám": "87",
                                    "Azonosító": "valentin",
                                    "Név": "Feró Valentin",
                                    "Foglalások száma": "5"
                                },
                                {
                                    "Sorszám": "87",
                                    "Azonosító": "timea2",
                                    "Név": "Dusha Tímea",
                                    "Foglalások száma": "5"
                                },
                                {
                                    "Sorszám": "87",
                                    "Azonosító": "SEBASTIANF",
                                    "Név": "Foltényi Sebastián",
                                    "Foglalások száma": "5"
                                },
                                {
                                    "Sorszám": "112",
                                    "Azonosító": "sebestyen",
                                    "Név": "Rab Sebestyén",
                                    "Foglalások száma": "4"
                                },
                                {
                                    "Sorszám": "112",
                                    "Azonosító": "tamas",
                                    "Név": "Antal Tamás",
                                    "Foglalások száma": "4"
                                },
                                {
                                    "Sorszám": "112",
                                    "Azonosító": "sandor4",
                                    "Név": "Nagy Sándor",
                                    "Foglalások száma": "4"
                                },
                                {
                                    "Sorszám": "112",
                                    "Azonosító": "sandor",
                                    "Név": "Karasz Sándor",
                                    "Foglalások száma": "4"
                                },
                                {
                                    "Sorszám": "112",
                                    "Azonosító": "roland",
                                    "Név": "Tóth Roland",
                                    "Foglalások száma": "4"
                                },
                                {
                                    "Sorszám": "112",
                                    "Azonosító": "roland1",
                                    "Név": "Ferencz Roland",
                                    "Foglalások száma": "4"
                                },
                                {
                                    "Sorszám": "112",
                                    "Azonosító": "robert2",
                                    "Név": "Patay Róbert",
                                    "Foglalások száma": "4"
                                },
                                {
                                    "Sorszám": "112",
                                    "Azonosító": "rajmond4",
                                    "Név": "Rácz Rajmond",
                                    "Foglalások száma": "4"
                                },
                                {
                                    "Sorszám": "112",
                                    "Azonosító": "zsolt1",
                                    "Név": "Pulai Zsolt",
                                    "Foglalások száma": "4"
                                },
                                {
                                    "Sorszám": "112",
                                    "Azonosító": "zsuzsa3",
                                    "Név": "Varsányi Zsuzsa",
                                    "Foglalások száma": "4"
                                },
                                {
                                    "Sorszám": "112",
                                    "Azonosító": "zsuzsanna",
                                    "Név": "Barta Zsuzsanna",
                                    "Foglalások száma": "4"
                                },
                                {
                                    "Sorszám": "112",
                                    "Azonosító": "VIKTORIAU",
                                    "Név": "Urbán Viktoria",
                                    "Foglalások száma": "4"
                                },
                                {
                                    "Sorszám": "112",
                                    "Azonosító": "peter1",
                                    "Név": "Kozma Péter",
                                    "Foglalások száma": "4"
                                },
                                {
                                    "Sorszám": "112",
                                    "Azonosító": "peter2",
                                    "Név": "Bozsó Péter",
                                    "Foglalások száma": "4"
                                },
                                {
                                    "Sorszám": "112",
                                    "Azonosító": "nikolett3",
                                    "Név": "Horváth Nikolett",
                                    "Foglalások száma": "4"
                                },
                                {
                                    "Sorszám": "112",
                                    "Azonosító": "NIKOLETTAT",
                                    "Név": "Tatár Nikoletta",
                                    "Foglalások száma": "4"
                                },
                                {
                                    "Sorszám": "112",
                                    "Azonosító": "julianna4",
                                    "Név": "Szabó Julianna",
                                    "Foglalások száma": "4"
                                },
                                {
                                    "Sorszám": "112",
                                    "Azonosító": "MARKH",
                                    "Név": "Horváth Márk",
                                    "Foglalások száma": "4"
                                },
                                {
                                    "Sorszám": "112",
                                    "Azonosító": "LASZLOA",
                                    "Név": "Antal László",
                                    "Foglalások száma": "4"
                                },
                                {
                                    "Sorszám": "112",
                                    "Azonosító": "JANOSP",
                                    "Név": "Pálinkás János",
                                    "Foglalások száma": "4"
                                },
                                {
                                    "Sorszám": "112",
                                    "Azonosító": "istvan1",
                                    "Név": "Vizi István",
                                    "Foglalások száma": "4"
                                },
                                {
                                    "Sorszám": "112",
                                    "Azonosító": "ilona3",
                                    "Név": "Bosnyák Ilona",
                                    "Foglalások száma": "4"
                                },
                                {
                                    "Sorszám": "112",
                                    "Azonosító": "eva2",
                                    "Név": "Perlinger Éva",
                                    "Foglalások száma": "4"
                                },
                                {
                                    "Sorszám": "112",
                                    "Azonosító": "georgij",
                                    "Név": "Nyíri Georgij",
                                    "Foglalások száma": "4"
                                },
                                {
                                    "Sorszám": "112",
                                    "Azonosító": "gabor4",
                                    "Név": "Telek Gábor",
                                    "Foglalások száma": "4"
                                },
                                {
                                    "Sorszám": "112",
                                    "Azonosító": "aniko4",
                                    "Név": "Böröcz Anikó",
                                    "Foglalások száma": "4"
                                },
                                {
                                    "Sorszám": "112",
                                    "Azonosító": "anita",
                                    "Név": "Hamvay-Kovács Anita",
                                    "Foglalások száma": "4"
                                },
                                {
                                    "Sorszám": "112",
                                    "Azonosító": "andrea4",
                                    "Név": "Neizer Andrea",
                                    "Foglalások száma": "4"
                                },
                                {
                                    "Sorszám": "112",
                                    "Azonosító": "ATTILAO",
                                    "Név": "Opra Attila",
                                    "Foglalások száma": "4"
                                },
                                {
                                    "Sorszám": "112",
                                    "Azonosító": "ferenc1",
                                    "Név": "Orosz Ferenc",
                                    "Foglalások száma": "4"
                                },
                                {
                                    "Sorszám": "112",
                                    "Azonosító": "ESZTERE",
                                    "Név": "Érsek Eszter",
                                    "Foglalások száma": "4"
                                },
                                {
                                    "Sorszám": "112",
                                    "Azonosító": "eszter",
                                    "Név": "Molnár Eszter",
                                    "Foglalások száma": "4"
                                },
                                {
                                    "Sorszám": "112",
                                    "Azonosító": "debora",
                                    "Név": "Barna Debóra",
                                    "Foglalások száma": "4"
                                },
                                {
                                    "Sorszám": "145",
                                    "Azonosító": "eszter4",
                                    "Név": "Fülöp Eszter",
                                    "Foglalások száma": "3"
                                },
                                {
                                    "Sorszám": "145",
                                    "Azonosító": "balint",
                                    "Név": "Horváth Bálint",
                                    "Foglalások száma": "3"
                                },
                                {
                                    "Sorszám": "145",
                                    "Azonosító": "ANDREAT",
                                    "Név": "Tornyos Andrea",
                                    "Foglalások száma": "3"
                                },
                                {
                                    "Sorszám": "145",
                                    "Azonosító": "aniko",
                                    "Név": "Tóth Anikó",
                                    "Foglalások száma": "3"
                                },
                                {
                                    "Sorszám": "145",
                                    "Azonosító": "attila4",
                                    "Név": "Baróti Attila",
                                    "Foglalások száma": "3"
                                },
                                {
                                    "Sorszám": "145",
                                    "Azonosító": "attila",
                                    "Név": "Csóti Attila",
                                    "Foglalások száma": "3"
                                },
                                {
                                    "Sorszám": "145",
                                    "Azonosító": "andras4",
                                    "Név": "Back András",
                                    "Foglalások száma": "3"
                                },
                                {
                                    "Sorszám": "145",
                                    "Azonosító": "agnes3",
                                    "Név": "Hartyánszky Ágnes",
                                    "Foglalások száma": "3"
                                },
                                {
                                    "Sorszám": "145",
                                    "Azonosító": "adam1",
                                    "Név": "Kiss Ádám",
                                    "Foglalások száma": "3"
                                },
                                {
                                    "Sorszám": "145",
                                    "Azonosító": "AGNESK",
                                    "Név": "Kovács Ágnes",
                                    "Foglalások száma": "3"
                                },
                                {
                                    "Sorszám": "145",
                                    "Azonosító": "aladar",
                                    "Név": "Dunai Aladár",
                                    "Foglalások száma": "3"
                                },
                                {
                                    "Sorszám": "145",
                                    "Azonosító": "istvan",
                                    "Név": "Soós István",
                                    "Foglalások száma": "3"
                                },
                                {
                                    "Sorszám": "145",
                                    "Azonosító": "henrik3",
                                    "Név": "Nádudvari Henrik",
                                    "Foglalások száma": "3"
                                },
                                {
                                    "Sorszám": "145",
                                    "Azonosító": "IBOLYAA",
                                    "Név": "Andor Ibolya",
                                    "Foglalások száma": "3"
                                },
                                {
                                    "Sorszám": "145",
                                    "Azonosító": "jozsef",
                                    "Név": "Gergely József",
                                    "Foglalások száma": "3"
                                },
                                {
                                    "Sorszám": "145",
                                    "Azonosító": "JUDITH",
                                    "Név": "Hídasi Judit",
                                    "Foglalások száma": "3"
                                },
                                {
                                    "Sorszám": "145",
                                    "Azonosító": "klaudia2",
                                    "Név": "Bakó Klaudia",
                                    "Foglalások száma": "3"
                                },
                                {
                                    "Sorszám": "145",
                                    "Azonosító": "kornel4",
                                    "Név": "Lukács Kornél",
                                    "Foglalások száma": "3"
                                },
                                {
                                    "Sorszám": "145",
                                    "Azonosító": "lajos",
                                    "Név": "Kiss Lajos",
                                    "Foglalások száma": "3"
                                },
                                {
                                    "Sorszám": "145",
                                    "Azonosító": "norbert5",
                                    "Név": "Béres Norbert",
                                    "Foglalások száma": "3"
                                },
                                {
                                    "Sorszám": "145",
                                    "Azonosító": "miklos2",
                                    "Név": "Gondos Miklós",
                                    "Foglalások száma": "3"
                                },
                                {
                                    "Sorszám": "145",
                                    "Azonosító": "MIKLOSB",
                                    "Név": "Balla Miklós",
                                    "Foglalások száma": "3"
                                },
                                {
                                    "Sorszám": "145",
                                    "Azonosító": "NANDORF",
                                    "Név": "Fő Nándor",
                                    "Foglalások száma": "3"
                                },
                                {
                                    "Sorszám": "145",
                                    "Azonosító": "MATEK",
                                    "Név": "Koza Máté",
                                    "Foglalások száma": "3"
                                },
                                {
                                    "Sorszám": "145",
                                    "Azonosító": "ZOLTANT",
                                    "Név": "Tóth Zoltán",
                                    "Foglalások száma": "3"
                                },
                                {
                                    "Sorszám": "145",
                                    "Azonosító": "zsuzsa",
                                    "Név": "Pusztai Zsuzsanna",
                                    "Foglalások száma": "3"
                                },
                                {
                                    "Sorszám": "145",
                                    "Azonosító": "roza2",
                                    "Név": "Bucskó Róza",
                                    "Foglalások száma": "3"
                                },
                                {
                                    "Sorszám": "172",
                                    "Azonosító": "ROBERTP",
                                    "Név": "Pásztor Róbert",
                                    "Foglalások száma": "2"
                                },
                                {
                                    "Sorszám": "172",
                                    "Azonosító": "tibor",
                                    "Név": "Gombos Tibor",
                                    "Foglalások száma": "2"
                                },
                                {
                                    "Sorszám": "172",
                                    "Azonosító": "tamara2",
                                    "Név": "Miklós Tamara",
                                    "Foglalások száma": "2"
                                },
                                {
                                    "Sorszám": "172",
                                    "Azonosító": "zsofi1",
                                    "Név": "Molnár Zsófi",
                                    "Foglalások száma": "2"
                                },
                                {
                                    "Sorszám": "172",
                                    "Azonosító": "VIKTORK",
                                    "Név": "Keresztúri Viktor",
                                    "Foglalások száma": "2"
                                },
                                {
                                    "Sorszám": "172",
                                    "Azonosító": "zoltan",
                                    "Név": "Fodor Zoltán",
                                    "Foglalások száma": "2"
                                },
                                {
                                    "Sorszám": "172",
                                    "Azonosító": "matyas2",
                                    "Név": "Botka Mátyás",
                                    "Foglalások száma": "2"
                                },
                                {
                                    "Sorszám": "172",
                                    "Azonosító": "kristof4",
                                    "Név": "Poprádi Kristóf",
                                    "Foglalások száma": "2"
                                },
                                {
                                    "Sorszám": "172",
                                    "Azonosító": "julia4",
                                    "Név": "Nagy Júlia",
                                    "Foglalások száma": "2"
                                },
                                {
                                    "Sorszám": "172",
                                    "Azonosító": "ISTVANV",
                                    "Név": "Varga István",
                                    "Foglalások száma": "2"
                                },
                                {
                                    "Sorszám": "172",
                                    "Azonosító": "imre",
                                    "Név": "Búza Imre",
                                    "Foglalások száma": "2"
                                },
                                {
                                    "Sorszám": "172",
                                    "Azonosító": "adam3",
                                    "Név": "Barkóci Ádám",
                                    "Foglalások száma": "2"
                                },
                                {
                                    "Sorszám": "172",
                                    "Azonosító": "annamaria1",
                                    "Név": "Szűcs Annamária",
                                    "Foglalások száma": "2"
                                },
                                {
                                    "Sorszám": "172",
                                    "Azonosító": "balint2",
                                    "Név": "Vukasinovity Bálint",
                                    "Foglalások száma": "2"
                                },
                                {
                                    "Sorszám": "172",
                                    "Azonosító": "balu",
                                    "Név": "Endresz Bálint",
                                    "Foglalások száma": "2"
                                },
                                {
                                    "Sorszám": "172",
                                    "Azonosító": "eva",
                                    "Név": "Enyedi Éva",
                                    "Foglalások száma": "2"
                                },
                                {
                                    "Sorszám": "188",
                                    "Azonosító": "david4",
                                    "Név": "Berta Dávid",
                                    "Foglalások száma": "1"
                                },
                                {
                                    "Sorszám": "188",
                                    "Azonosító": "ANDRASN",
                                    "Név": "Nagy András",
                                    "Foglalások száma": "1"
                                },
                                {
                                    "Sorszám": "188",
                                    "Azonosító": "andrea3",
                                    "Név": "Szomor Andrea",
                                    "Foglalások száma": "1"
                                },
                                {
                                    "Sorszám": "188",
                                    "Azonosító": "gabriella10",
                                    "Név": "Vida Gabriella",
                                    "Foglalások száma": "1"
                                },
                                {
                                    "Sorszám": "188",
                                    "Azonosító": "laszlo1",
                                    "Név": "Farkas László",
                                    "Foglalások száma": "1"
                                },
                                {
                                    "Sorszám": "188",
                                    "Azonosító": "szabolcs",
                                    "Név": "Bodor Szabolcs",
                                    "Foglalások száma": "1"
                                },
                                {
                                    "Sorszám": "188",
                                    "Azonosító": "tibor2",
                                    "Név": "Dániel Tibor",
                                    "Foglalások száma": "1"
                                },
                                {
                                    "Sorszám": "188",
                                    "Azonosító": "timea",
                                    "Név": "Papós Tímea",
                                    "Foglalások száma": "1"
                                },
                                {
                                    "Sorszám": "196",
                                    "Azonosító": "GABORS",
                                    "Név": "Szöllősi Gábor",
                                    "Foglalások száma": "0"
                                }
                            ]
                        },
                        "text/html": [
                            "<table>",
                            "<tr><th>Sorszám</th><th>Azonosító</th><th>Név</th><th>Foglalások száma</th></tr>",
                            "<tr><td>1</td><td>andras41</td><td>Komjáti András</td><td>13</td></tr>",
                            "<tr><td>1</td><td>ARONK</td><td>Kelemen Áron</td><td>13</td></tr>",
                            "<tr><td>3</td><td>krisztian4</td><td>Czérna Krisztián</td><td>12</td></tr>",
                            "<tr><td>3</td><td>peter4</td><td>Bíró Péter</td><td>12</td></tr>",
                            "<tr><td>3</td><td>sara</td><td>Farkas Sára</td><td>12</td></tr>",
                            "<tr><td>3</td><td>zoltan4</td><td>Barna Zoltán</td><td>12</td></tr>",
                            "<tr><td>7</td><td>kata</td><td>Gondos Katalin</td><td>10</td></tr>",
                            "<tr><td>7</td><td>akos</td><td>Bíró Ákos</td><td>10</td></tr>",
                            "<tr><td>7</td><td>balazs2</td><td>Szűcs Balázs</td><td>10</td></tr>",
                            "<tr><td>7</td><td>balint1</td><td>Molnár Bálint</td><td>10</td></tr>",
                            "<tr><td>7</td><td>eszter2</td><td>Balogh Eszter</td><td>10</td></tr>",
                            "<tr><td>12</td><td>dani</td><td>Vörös Dániel</td><td>9</td></tr>",
                            "<tr><td>12</td><td>daniel</td><td>Rácz Dániel</td><td>9</td></tr>",
                            "<tr><td>12</td><td>david</td><td>Ambrus Dávid</td><td>9</td></tr>",
                            "<tr><td>12</td><td>BEATRIXK</td><td>Kerényi Beatrix</td><td>9</td></tr>",
                            "<tr><td>12</td><td>bence</td><td>Győrffy Bence</td><td>9</td></tr>",
                            "<tr><td>12</td><td>ANIKOS</td><td>Simon Anikó</td><td>9</td></tr>",
                            "<tr><td>12</td><td>katalin</td><td>Horváth Katalin</td><td>9</td></tr>",
                            "<tr><td>12</td><td>katka</td><td>Kovács Katalin</td><td>9</td></tr>",
                            "<tr><td>12</td><td>norbert4</td><td>Mile Norbert</td><td>9</td></tr>",
                            "<tr><td>12</td><td>szilvia1</td><td>Tari Szilvia</td><td>9</td></tr>",
                            "<tr><td>12</td><td>TAMASF</td><td>Fényes Tamás</td><td>9</td></tr>",
                            "<tr><td>23</td><td>tunde</td><td>Turcsik Tünde</td><td>8</td></tr>",
                            "<tr><td>23</td><td>ROBERTI</td><td>Iván Róbert</td><td>8</td></tr>",
                            "<tr><td>23</td><td>MATYASS</td><td>Szilágyi Mátyás</td><td>8</td></tr>",
                            "<tr><td>23</td><td>krisztina</td><td>Szedlár Krisztina</td><td>8</td></tr>",
                            "<tr><td>23</td><td>maria1</td><td>Baráth Mária</td><td>8</td></tr>",
                            "<tr><td>23</td><td>fruzsina4</td><td>Frank Fruzsina</td><td>8</td></tr>",
                            "<tr><td>23</td><td>GYORGYO</td><td>Oroszi György</td><td>8</td></tr>",
                            "<tr><td>23</td><td>anett3</td><td>Pivarcsi Anett</td><td>8</td></tr>",
                            "<tr><td>23</td><td>andras3</td><td>Vígh András</td><td>8</td></tr>",
                            "<tr><td>23</td><td>bernadett2</td><td>Kovács Bernadett</td><td>8</td></tr>",
                            "<tr><td>23</td><td>csongor3</td><td>Nagymihály Csongor</td><td>8</td></tr>",
                            "<tr><td>34</td><td>daniel1</td><td>Keszler Dániel</td><td>7</td></tr>",
                            "<tr><td>34</td><td>edit</td><td>Bittmann Edit</td><td>7</td></tr>",
                            "<tr><td>34</td><td>emese</td><td>Kuruc Emese</td><td>7</td></tr>",
                            "<tr><td>34</td><td>BERNADETTO</td><td>Orbán Bernadett</td><td>7</td></tr>",
                            "<tr><td>34</td><td>bernadett1</td><td>Simon Bernadett</td><td>7</td></tr>",
                            "<tr><td>34</td><td>alexandra</td><td>Bagóczki Alexandra</td><td>7</td></tr>",
                            "<tr><td>34</td><td>andras21</td><td>Molnár András</td><td>7</td></tr>",
                            "<tr><td>34</td><td>arpad2</td><td>Ötvös Árpád</td><td>7</td></tr>",
                            "<tr><td>34</td><td>ARPADH</td><td>Horváth Árpád</td><td>7</td></tr>",
                            "<tr><td>34</td><td>GYONGYIK</td><td>Kornseé Gyöngyi</td><td>7</td></tr>",
                            "<tr><td>34</td><td>imre1</td><td>Papp Imre</td><td>7</td></tr>",
                            "<tr><td>34</td><td>JANOSG</td><td>Giliga János</td><td>7</td></tr>",
                            "<tr><td>34</td><td>JOZSEFG</td><td>Gyuris József</td><td>7</td></tr>",
                            "<tr><td>34</td><td>kati</td><td>Zatykó Katalin</td><td>7</td></tr>",
                            "<tr><td>34</td><td>marton</td><td>Kalacsi Márton</td><td>7</td></tr>",
                            "<tr><td>34</td><td>nikoletta4</td><td>Kő Nikoletta</td><td>7</td></tr>",
                            "<tr><td>34</td><td>norbert2</td><td>Hegedűs Norbert</td><td>7</td></tr>",
                            "<tr><td>34</td><td>SZABOLCSM</td><td>Miklós Szabolcs</td><td>7</td></tr>",
                            "<tr><td>34</td><td>SZILARDS</td><td>Szalai Szilárd</td><td>7</td></tr>",
                            "<tr><td>34</td><td>vivien3</td><td>Boros Vivien</td><td>7</td></tr>",
                            "<tr><td>54</td><td>veronika4</td><td>Tankó Veronika</td><td>6</td></tr>",
                            "<tr><td>54</td><td>ZOLTANP</td><td>Pintér Zoltán</td><td>6</td></tr>",
                            "<tr><td>54</td><td>ZSOLTJ</td><td>Józsa Zsolt</td><td>6</td></tr>",
                            "<tr><td>54</td><td>ZSUZSAV</td><td>Vajda Zsuzsa</td><td>6</td></tr>",
                            "<tr><td>54</td><td>tihamer</td><td>Kazy Tihamér</td><td>6</td></tr>",
                            "<tr><td>54</td><td>peter3</td><td>Szalai Péter</td><td>6</td></tr>",
                            "<tr><td>54</td><td>polla</td><td>Palágyi Polla</td><td>6</td></tr>",
                            "<tr><td>54</td><td>RENATAK</td><td>Kardos Renáta</td><td>6</td></tr>",
                            "<tr><td>54</td><td>MONIKAM</td><td>Mohos Mónika</td><td>6</td></tr>",
                            "<tr><td>54</td><td>KRISZTIANM</td><td>Mogyródi Krisztián</td><td>6</td></tr>",
                            "<tr><td>54</td><td>krisztina1</td><td>Bori Krisztina</td><td>6</td></tr>",
                            "<tr><td>54</td><td>kriszti</td><td>Horváth Krisztina</td><td>6</td></tr>",
                            "<tr><td>54</td><td>LASZLON</td><td>Nagy László</td><td>6</td></tr>",
                            "<tr><td>54</td><td>lala</td><td>Nagymihály Lajos</td><td>6</td></tr>",
                            "<tr><td>54</td><td>katalin4</td><td>Kertész Katalin</td><td>6</td></tr>",
                            "<tr><td>54</td><td>gabor1</td><td>Köves Gábor</td><td>6</td></tr>",
                            "<tr><td>54</td><td>gabriella1</td><td>Nagy Gabriella</td><td>6</td></tr>",
                            "<tr><td>54</td><td>ARPADM</td><td>Móricz Árpád</td><td>6</td></tr>",
                            "<tr><td>54</td><td>ANNAMARIAR</td><td>Regős Annamária</td><td>6</td></tr>",
                            "<tr><td>54</td><td>aron2</td><td>Jakab Áron</td><td>6</td></tr>",
                            "<tr><td>54</td><td>attila1</td><td>Gulyás Attila</td><td>6</td></tr>",
                            "<tr><td>54</td><td>andrea</td><td>Kiss Andrea</td><td>6</td></tr>",
                            "<tr><td>54</td><td>AGNESH</td><td>Horváth Ágnes</td><td>6</td></tr>",
                            "<tr><td>54</td><td>adam4</td><td>Bieniek Ádám</td><td>6</td></tr>",
                            "<tr><td>54</td><td>beata4</td><td>Bagi Beáta</td><td>6</td></tr>",
                            "<tr><td>54</td><td>BENCEB</td><td>Bajusz Bence</td><td>6</td></tr>",
                            "<tr><td>54</td><td>bertalan</td><td>Csiger Bertalan</td><td>6</td></tr>",
                            "<tr><td>54</td><td>BEATRIXS</td><td>Szekendi Beatrix</td><td>6</td></tr>",
                            "<tr><td>54</td><td>BELAF</td><td>Farkas Béla</td><td>6</td></tr>",
                            "<tr><td>54</td><td>balazs3</td><td>Bakódy Balázs</td><td>6</td></tr>",
                            "<tr><td>54</td><td>balazs1</td><td>Bozsik Balázs</td><td>6</td></tr>",
                            "<tr><td>54</td><td>david1</td><td>Sobják Dávid</td><td>6</td></tr>",
                            "<tr><td>54</td><td>denes</td><td>Tömböly Dénes</td><td>6</td></tr>",
                            "<tr><td>87</td><td>dora3</td><td>Sarodi Dóra</td><td>5</td></tr>",
                            "<tr><td>87</td><td>EVAV</td><td>Viktor Éva</td><td>5</td></tr>",
                            "<tr><td>87</td><td>brigitta</td><td>Székely Brigitta</td><td>5</td></tr>",
                            "<tr><td>87</td><td>brigitta3</td><td>Pataki Brigitta</td><td>5</td></tr>",
                            "<tr><td>87</td><td>agnes</td><td>Lengyel Ágnes</td><td>5</td></tr>",
                            "<tr><td>87</td><td>ANDRASE</td><td>Erdei András</td><td>5</td></tr>",
                            "<tr><td>87</td><td>andi</td><td>Maródi Andrea</td><td>5</td></tr>",
                            "<tr><td>87</td><td>andras2</td><td>Tóth András</td><td>5</td></tr>",
                            "<tr><td>87</td><td>gusztav</td><td>Bárci Gusztáv</td><td>5</td></tr>",
                            "<tr><td>87</td><td>julia</td><td>Tóth Júlia</td><td>5</td></tr>",
                            "<tr><td>87</td><td>janos3</td><td>Harangozó János</td><td>5</td></tr>",
                            "<tr><td>87</td><td>jozsef2</td><td>Vajda József</td><td>5</td></tr>",
                            "<tr><td>87</td><td>laszlo2</td><td>Móra László</td><td>5</td></tr>",
                            "<tr><td>87</td><td>mark</td><td>Kispál Márk</td><td>5</td></tr>",
                            "<tr><td>87</td><td>KRISZTINAG</td><td>Gyárfás Krisztina</td><td>5</td></tr>",
                            "<tr><td>87</td><td>MIHALYJ</td><td>Juhász Mihály</td><td>5</td></tr>",
                            "<tr><td>87</td><td>norbert</td><td>Szűcs Norbert</td><td>5</td></tr>",
                            "<tr><td>87</td><td>pal</td><td>Barabás Pál</td><td>5</td></tr>",
                            "<tr><td>87</td><td>RENATAS</td><td>Szirmai Renáta</td><td>5</td></tr>",
                            "<tr><td>87</td><td>PETERB</td><td>Berendi Péter</td><td>5</td></tr>",
                            "<tr><td>87</td><td>reka4</td><td>Szikszai Réka</td><td>5</td></tr>",
                            "<tr><td>87</td><td>sandor3</td><td>Farkas Sándor</td><td>5</td></tr>",
                            "<tr><td>87</td><td>valentin</td><td>Feró Valentin</td><td>5</td></tr>",
                            "<tr><td>87</td><td>timea2</td><td>Dusha Tímea</td><td>5</td></tr>",
                            "<tr><td>87</td><td>SEBASTIANF</td><td>Foltényi Sebastián</td><td>5</td></tr>",
                            "<tr><td>112</td><td>sebestyen</td><td>Rab Sebestyén</td><td>4</td></tr>",
                            "<tr><td>112</td><td>tamas</td><td>Antal Tamás</td><td>4</td></tr>",
                            "<tr><td>112</td><td>sandor4</td><td>Nagy Sándor</td><td>4</td></tr>",
                            "<tr><td>112</td><td>sandor</td><td>Karasz Sándor</td><td>4</td></tr>",
                            "<tr><td>112</td><td>roland</td><td>Tóth Roland</td><td>4</td></tr>",
                            "<tr><td>112</td><td>roland1</td><td>Ferencz Roland</td><td>4</td></tr>",
                            "<tr><td>112</td><td>robert2</td><td>Patay Róbert</td><td>4</td></tr>",
                            "<tr><td>112</td><td>rajmond4</td><td>Rácz Rajmond</td><td>4</td></tr>",
                            "<tr><td>112</td><td>zsolt1</td><td>Pulai Zsolt</td><td>4</td></tr>",
                            "<tr><td>112</td><td>zsuzsa3</td><td>Varsányi Zsuzsa</td><td>4</td></tr>",
                            "<tr><td>112</td><td>zsuzsanna</td><td>Barta Zsuzsanna</td><td>4</td></tr>",
                            "<tr><td>112</td><td>VIKTORIAU</td><td>Urbán Viktoria</td><td>4</td></tr>",
                            "<tr><td>112</td><td>peter1</td><td>Kozma Péter</td><td>4</td></tr>",
                            "<tr><td>112</td><td>peter2</td><td>Bozsó Péter</td><td>4</td></tr>",
                            "<tr><td>112</td><td>nikolett3</td><td>Horváth Nikolett</td><td>4</td></tr>",
                            "<tr><td>112</td><td>NIKOLETTAT</td><td>Tatár Nikoletta</td><td>4</td></tr>",
                            "<tr><td>112</td><td>julianna4</td><td>Szabó Julianna</td><td>4</td></tr>",
                            "<tr><td>112</td><td>MARKH</td><td>Horváth Márk</td><td>4</td></tr>",
                            "<tr><td>112</td><td>LASZLOA</td><td>Antal László</td><td>4</td></tr>",
                            "<tr><td>112</td><td>JANOSP</td><td>Pálinkás János</td><td>4</td></tr>",
                            "<tr><td>112</td><td>istvan1</td><td>Vizi István</td><td>4</td></tr>",
                            "<tr><td>112</td><td>ilona3</td><td>Bosnyák Ilona</td><td>4</td></tr>",
                            "<tr><td>112</td><td>eva2</td><td>Perlinger Éva</td><td>4</td></tr>",
                            "<tr><td>112</td><td>georgij</td><td>Nyíri Georgij</td><td>4</td></tr>",
                            "<tr><td>112</td><td>gabor4</td><td>Telek Gábor</td><td>4</td></tr>",
                            "<tr><td>112</td><td>aniko4</td><td>Böröcz Anikó</td><td>4</td></tr>",
                            "<tr><td>112</td><td>anita</td><td>Hamvay-Kovács Anita</td><td>4</td></tr>",
                            "<tr><td>112</td><td>andrea4</td><td>Neizer Andrea</td><td>4</td></tr>",
                            "<tr><td>112</td><td>ATTILAO</td><td>Opra Attila</td><td>4</td></tr>",
                            "<tr><td>112</td><td>ferenc1</td><td>Orosz Ferenc</td><td>4</td></tr>",
                            "<tr><td>112</td><td>ESZTERE</td><td>Érsek Eszter</td><td>4</td></tr>",
                            "<tr><td>112</td><td>eszter</td><td>Molnár Eszter</td><td>4</td></tr>",
                            "<tr><td>112</td><td>debora</td><td>Barna Debóra</td><td>4</td></tr>",
                            "<tr><td>145</td><td>eszter4</td><td>Fülöp Eszter</td><td>3</td></tr>",
                            "<tr><td>145</td><td>balint</td><td>Horváth Bálint</td><td>3</td></tr>",
                            "<tr><td>145</td><td>ANDREAT</td><td>Tornyos Andrea</td><td>3</td></tr>",
                            "<tr><td>145</td><td>aniko</td><td>Tóth Anikó</td><td>3</td></tr>",
                            "<tr><td>145</td><td>attila4</td><td>Baróti Attila</td><td>3</td></tr>",
                            "<tr><td>145</td><td>attila</td><td>Csóti Attila</td><td>3</td></tr>",
                            "<tr><td>145</td><td>andras4</td><td>Back András</td><td>3</td></tr>",
                            "<tr><td>145</td><td>agnes3</td><td>Hartyánszky Ágnes</td><td>3</td></tr>",
                            "<tr><td>145</td><td>adam1</td><td>Kiss Ádám</td><td>3</td></tr>",
                            "<tr><td>145</td><td>AGNESK</td><td>Kovács Ágnes</td><td>3</td></tr>",
                            "<tr><td>145</td><td>aladar</td><td>Dunai Aladár</td><td>3</td></tr>",
                            "<tr><td>145</td><td>istvan</td><td>Soós István</td><td>3</td></tr>",
                            "<tr><td>145</td><td>henrik3</td><td>Nádudvari Henrik</td><td>3</td></tr>",
                            "<tr><td>145</td><td>IBOLYAA</td><td>Andor Ibolya</td><td>3</td></tr>",
                            "<tr><td>145</td><td>jozsef</td><td>Gergely József</td><td>3</td></tr>",
                            "<tr><td>145</td><td>JUDITH</td><td>Hídasi Judit</td><td>3</td></tr>",
                            "<tr><td>145</td><td>klaudia2</td><td>Bakó Klaudia</td><td>3</td></tr>",
                            "<tr><td>145</td><td>kornel4</td><td>Lukács Kornél</td><td>3</td></tr>",
                            "<tr><td>145</td><td>lajos</td><td>Kiss Lajos</td><td>3</td></tr>",
                            "<tr><td>145</td><td>norbert5</td><td>Béres Norbert</td><td>3</td></tr>",
                            "<tr><td>145</td><td>miklos2</td><td>Gondos Miklós</td><td>3</td></tr>",
                            "<tr><td>145</td><td>MIKLOSB</td><td>Balla Miklós</td><td>3</td></tr>",
                            "<tr><td>145</td><td>NANDORF</td><td>Fő Nándor</td><td>3</td></tr>",
                            "<tr><td>145</td><td>MATEK</td><td>Koza Máté</td><td>3</td></tr>",
                            "<tr><td>145</td><td>ZOLTANT</td><td>Tóth Zoltán</td><td>3</td></tr>",
                            "<tr><td>145</td><td>zsuzsa</td><td>Pusztai Zsuzsanna</td><td>3</td></tr>",
                            "<tr><td>145</td><td>roza2</td><td>Bucskó Róza</td><td>3</td></tr>",
                            "<tr><td>172</td><td>ROBERTP</td><td>Pásztor Róbert</td><td>2</td></tr>",
                            "<tr><td>172</td><td>tibor</td><td>Gombos Tibor</td><td>2</td></tr>",
                            "<tr><td>172</td><td>tamara2</td><td>Miklós Tamara</td><td>2</td></tr>",
                            "<tr><td>172</td><td>zsofi1</td><td>Molnár Zsófi</td><td>2</td></tr>",
                            "<tr><td>172</td><td>VIKTORK</td><td>Keresztúri Viktor</td><td>2</td></tr>",
                            "<tr><td>172</td><td>zoltan</td><td>Fodor Zoltán</td><td>2</td></tr>",
                            "<tr><td>172</td><td>matyas2</td><td>Botka Mátyás</td><td>2</td></tr>",
                            "<tr><td>172</td><td>kristof4</td><td>Poprádi Kristóf</td><td>2</td></tr>",
                            "<tr><td>172</td><td>julia4</td><td>Nagy Júlia</td><td>2</td></tr>",
                            "<tr><td>172</td><td>ISTVANV</td><td>Varga István</td><td>2</td></tr>",
                            "<tr><td>172</td><td>imre</td><td>Búza Imre</td><td>2</td></tr>",
                            "<tr><td>172</td><td>adam3</td><td>Barkóci Ádám</td><td>2</td></tr>",
                            "<tr><td>172</td><td>annamaria1</td><td>Szűcs Annamária</td><td>2</td></tr>",
                            "<tr><td>172</td><td>balint2</td><td>Vukasinovity Bálint</td><td>2</td></tr>",
                            "<tr><td>172</td><td>balu</td><td>Endresz Bálint</td><td>2</td></tr>",
                            "<tr><td>172</td><td>eva</td><td>Enyedi Éva</td><td>2</td></tr>",
                            "<tr><td>188</td><td>david4</td><td>Berta Dávid</td><td>1</td></tr>",
                            "<tr><td>188</td><td>ANDRASN</td><td>Nagy András</td><td>1</td></tr>",
                            "<tr><td>188</td><td>andrea3</td><td>Szomor Andrea</td><td>1</td></tr>",
                            "<tr><td>188</td><td>gabriella10</td><td>Vida Gabriella</td><td>1</td></tr>",
                            "<tr><td>188</td><td>laszlo1</td><td>Farkas László</td><td>1</td></tr>",
                            "<tr><td>188</td><td>szabolcs</td><td>Bodor Szabolcs</td><td>1</td></tr>",
                            "<tr><td>188</td><td>tibor2</td><td>Dániel Tibor</td><td>1</td></tr>",
                            "<tr><td>188</td><td>timea</td><td>Papós Tímea</td><td>1</td></tr>",
                            "<tr><td>196</td><td>GABORS</td><td>Szöllősi Gábor</td><td>0</td></tr>",
                            "</table>"
                        ]
                    }
                }
            ],
            "execution_count": 11
        },
        {
            "cell_type": "markdown",
            "source": [
                "4."
            ],
            "metadata": {
                "azdata_cell_guid": "27ed2b18-20ce-4ddb-9f02-2fdcae7873a0"
            },
            "attachments": {}
        },
        {
            "cell_type": "code",
            "source": [
                ""
            ],
            "metadata": {
                "azdata_cell_guid": "c4bd7602-05c9-4a68-8a87-745823a25121",
                "language": "sql"
            },
            "outputs": [],
            "execution_count": null
        },
        {
            "cell_type": "markdown",
            "source": [
                "5."
            ],
            "metadata": {
                "azdata_cell_guid": "2c863f86-8f51-46ad-8355-0397fc73c7fa"
            },
            "attachments": {}
        },
        {
            "cell_type": "code",
            "source": [
                ""
            ],
            "metadata": {
                "azdata_cell_guid": "66a0f051-01e8-4d4d-8eb9-056ad428be50",
                "language": "sql"
            },
            "outputs": [],
            "execution_count": null
        }
    ]
}