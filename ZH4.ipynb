{
    "metadata": {
        "kernelspec": {
            "name": "SQL",
            "display_name": "SQL",
            "language": "sql"
        },
        "language_info": {
            "name": "sql",
            "version": ""
        }
    },
    "nbformat_minor": 2,
    "nbformat": 4,
    "cells": [
        {
            "cell_type": "markdown",
            "source": [
                "1. Jelenítsük meg minden egyes szoba esetén, hogy hányszor foglalták le!\n",
                "    \n",
                "    - Csak a szoba azonosítója és a foglalások darabszáma jelenjen meg\n",
                "    - Azok a szobák is jelenjenek meg, ahol nem történt foglalás"
            ],
            "metadata": {
                "azdata_cell_guid": "d9c8aedd-2248-4888-949e-d6915c6a213c"
            },
            "attachments": {}
        },
        {
            "cell_type": "code",
            "source": [
                "SELECT sz.szoba_id,\r\n",
                "       COUNT(f.foglalas_pk) AS 'Foglalások száma'\r\n",
                "FROM szoba sz LEFT JOIN Foglalas f ON sz.szoba_id = f.szoba_fk\r\n",
                "GROUP BY sz.szoba_id\r\n",
                ""
            ],
            "metadata": {
                "azdata_cell_guid": "14d73d2f-ffcf-42a5-b84a-fd92b76cb0ae",
                "language": "sql"
            },
            "outputs": [],
            "execution_count": 2
        },
        {
            "cell_type": "markdown",
            "source": [
                "2."
            ],
            "metadata": {
                "azdata_cell_guid": "9ae863fc-b19f-436d-a782-72839645d26f"
            },
            "attachments": {}
        },
        {
            "cell_type": "code",
            "source": [
                ""
            ],
            "metadata": {
                "azdata_cell_guid": "dbad827c-2ec9-4efc-be79-e473687e892b",
                "language": "sql"
            },
            "outputs": [],
            "execution_count": null
        },
        {
            "cell_type": "markdown",
            "source": [
                "3."
            ],
            "metadata": {
                "azdata_cell_guid": "7677536e-071b-4aba-ba77-6416497ce8b7"
            },
            "attachments": {}
        },
        {
            "cell_type": "code",
            "source": [
                ""
            ],
            "metadata": {
                "azdata_cell_guid": "27109bba-9be8-4cc5-b7fd-8e71e1e7bf07",
                "language": "sql"
            },
            "outputs": [],
            "execution_count": null
        },
        {
            "cell_type": "markdown",
            "source": [
                "4."
            ],
            "metadata": {
                "azdata_cell_guid": "27ed2b18-20ce-4ddb-9f02-2fdcae7873a0"
            },
            "attachments": {}
        },
        {
            "cell_type": "code",
            "source": [
                ""
            ],
            "metadata": {
                "azdata_cell_guid": "c4bd7602-05c9-4a68-8a87-745823a25121",
                "language": "sql"
            },
            "outputs": [],
            "execution_count": null
        },
        {
            "cell_type": "markdown",
            "source": [
                "5."
            ],
            "metadata": {
                "azdata_cell_guid": "2c863f86-8f51-46ad-8355-0397fc73c7fa"
            },
            "attachments": {}
        },
        {
            "cell_type": "code",
            "source": [
                ""
            ],
            "metadata": {
                "azdata_cell_guid": "66a0f051-01e8-4d4d-8eb9-056ad428be50",
                "language": "sql"
            },
            "outputs": [],
            "execution_count": null
        }
    ]
}