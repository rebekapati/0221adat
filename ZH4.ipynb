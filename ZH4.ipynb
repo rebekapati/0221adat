{
    "metadata": {
        "kernelspec": {
            "name": "SQL",
            "display_name": "SQL",
            "language": "sql"
        },
        "language_info": {
            "name": "sql",
            "version": ""
        }
    },
    "nbformat_minor": 2,
    "nbformat": 4,
    "cells": [
        {
            "cell_type": "markdown",
            "source": [
                "1. Jelenítsük meg minden egyes szoba esetén, hogy hányszor foglalták le!\n",
                "    \n",
                "    - Csak a szoba azonosítója és a foglalások darabszáma jelenjen meg\n",
                "    - Azok a szobák is jelenjenek meg, ahol nem történt foglalás"
            ],
            "metadata": {
                "azdata_cell_guid": "d9c8aedd-2248-4888-949e-d6915c6a213c"
            },
            "attachments": {}
        },
        {
            "cell_type": "code",
            "source": [
                "SELECT \r\n",
                "    sz.szoba_id AS 'Azonosító',\r\n",
                "    COUNT(f.foglalas_pk) AS 'Foglalások száma'\r\n",
                "FROM szoba sz LEFT JOIN Foglalas f ON sz.szoba_id = f.szoba_fk\r\n",
                "GROUP BY sz.szoba_id\r\n",
                "ORDER BY [Foglalások száma]\r\n",
                ""
            ],
            "metadata": {
                "azdata_cell_guid": "14d73d2f-ffcf-42a5-b84a-fd92b76cb0ae",
                "language": "sql"
            },
            "outputs": [],
            "execution_count": null
        },
        {
            "cell_type": "markdown",
            "source": [
                "2. <span style=\"color: rgb(0, 0, 0); font-family: &quot;Open Sans&quot;, sans-serif; font-size: 14.44px; background-color: rgb(255, 255, 255);\">Listázzuk azon szálláshelyek azonosítóját és nevét, amelyek a saját helyükön (HELY) a legtöbb csillaggal rendelkeznek!</span>"
            ],
            "metadata": {
                "azdata_cell_guid": "9ae863fc-b19f-436d-a782-72839645d26f"
            },
            "attachments": {}
        },
        {
            "cell_type": "code",
            "source": [
                "SELECT\r\n",
                "    sz.SZALLAS_ID AS \"Azonosító\",\r\n",
                "    sz.SZALLAS_NEV AS \"Szállás neve\"\r\n",
                "FROM Szallashely sz\r\n",
                "WHERE sz.CSILLAGOK_SZAMA = (\r\n",
                "    SELECT MAX(szh.CSILLAGOK_SZAMA)\r\n",
                "    FROM Szallashely szh\r\n",
                "    WHERE sz.HELY = szh.HELY\r\n",
                ")\r\n",
                "ORDER BY sz.CSILLAGOK_SZAMA DESC;"
            ],
            "metadata": {
                "azdata_cell_guid": "dbad827c-2ec9-4efc-be79-e473687e892b",
                "language": "sql"
            },
            "outputs": [],
            "execution_count": null
        },
        {
            "cell_type": "markdown",
            "source": [
                "3. Készítsen lekérdezést, amely sorszámozza a vendégeket a foglalások száma alapján\n",
                "    \n",
                "    - A sorszám mellett jelenjen meg a vendég azonosítója, neve és a foglalások száma is\n",
                "    - A legtöbbet foglaló vendég kapja az egyes sorszámot\n",
                "    - Holtverseny esetén a számozás annyit ugorjon, ahány egyforma érték van"
            ],
            "metadata": {
                "azdata_cell_guid": "7677536e-071b-4aba-ba77-6416497ce8b7"
            },
            "attachments": {}
        },
        {
            "cell_type": "code",
            "source": [
                "SELECT\r\n",
                "    RANK() OVER (ORDER BY COUNT(f.foglalas_pk) DESC) AS \"Sorszám\",\r\n",
                "    v.usernev AS \"Azonosító\",\r\n",
                "    v.nev AS \"Név\",\r\n",
                "    COUNT(f.foglalas_pk) AS \"Foglalások száma\"\r\n",
                "FROM Vendeg v LEFT JOIN Foglalas f ON v.USERNEV = f.UGYFEL_FK\r\n",
                "GROUP BY v.usernev, v.nev"
            ],
            "metadata": {
                "azdata_cell_guid": "27109bba-9be8-4cc5-b7fd-8e71e1e7bf07",
                "language": "sql"
            },
            "outputs": [],
            "execution_count": null
        },
        {
            "cell_type": "markdown",
            "source": [
                "4. Jelenítsük meg, hogy hány foglalás történt szobánként, naponta (METTOL), valamint szobánként, azon belül naponta \n",
                "    \n",
                "    - Szempontonként külön-külön számoljuk a foglalásokat\n",
                "    - A foglalások száma minden esetben legalább 2 legyen"
            ],
            "metadata": {
                "azdata_cell_guid": "27ed2b18-20ce-4ddb-9f02-2fdcae7873a0"
            },
            "attachments": {}
        },
        {
            "cell_type": "markdown",
            "source": [
                "5. Készítsünk ideiglenes táblát #MASKED\\_GUEST néven, ahol \n",
                "    \n",
                "    - a tábla felépítése megegyezik a vendég tábláéval, DE\n",
                "    - a vendégek nevének csak az első 2, és az utolsó 3 karaktere jelenjen meg, közötte X-ek legyenek!"
            ],
            "metadata": {
                "azdata_cell_guid": "2c863f86-8f51-46ad-8355-0397fc73c7fa"
            },
            "attachments": {}
        },
        {
            "cell_type": "code",
            "source": [
                "CREATE TABLE #MASKED_GUEST(\r\n",
                "    usernev nvarchar(20) PRIMARY KEY,\r\n",
                "    nev nvarchar(20) MASKED WITH (FUNCTION = 'partial(2, \"XXXX\", 3)'),\r\n",
                "    email nvarchar(60),\r\n",
                "    szaml_cim nvarchar(100),\r\n",
                "    szul_dat date,\r\n",
                ")"
            ],
            "metadata": {
                "azdata_cell_guid": "66a0f051-01e8-4d4d-8eb9-056ad428be50",
                "language": "sql"
            },
            "outputs": [],
            "execution_count": null
        },
        {
            "cell_type": "code",
            "source": [
                "SELECT * FROM Vendeg\r\n",
                ""
            ],
            "metadata": {
                "azdata_cell_guid": "4b6a7edc-df4b-4b19-93f4-830fb5e6f690",
                "language": "sql"
            },
            "outputs": [],
            "execution_count": null
        },
        {
            "cell_type": "markdown",
            "source": [
                "6\\. Valósítsa meg REDIS-ben a következő táblákat:\n",
                "\n",
                "- <span style=\"box-sizing: border-box; font-size: 0.9375rem;\">IRO(ID, nev, nemzetiseg)</span>\n",
                "- KONYV(ID, cim, mufaj, IRO\\_ID)\n",
                "\n",
                "Vigyen fel táblánként legalább 2-2 sornyi adatot!"
            ],
            "metadata": {
                "azdata_cell_guid": "76f3e329-3eb7-4b2c-87b4-671693f5aee2"
            },
            "attachments": {}
        },
        {
            "cell_type": "markdown",
            "source": [
                "HSET IRO:1 ID 1 nev \"Vámos Miklós\" nemzetiseg \"magyar\"\n",
                "\n",
                "HSET IRO:2 ID 2 nev \"Kepes András\" nemzetiseg \"magyar\"\n",
                "\n",
                "HSET KONYV:1 ID 1 cim \"Hattyúk dala\" mufaj \"regény\" IRO\\_ID 1\n",
                "\n",
                "HSET KONYV:2 ID 2 cim \"Igen\" mufaj \"elbeszélés\" IRO\\_ID 1\n",
                "\n",
                "HSET KONYV:3 ID 3 cim \"A boldog hülye és az okos depressziós\" mufaj \"elbeszélés\" IRO\\_ID 2\n",
                "\n",
                "HSET KONYV:4 ID 4 cim \"Világkép\" mufaj \"elbeszélés\" IRO\\_ID 2"
            ],
            "metadata": {
                "azdata_cell_guid": "f1e34ad7-8d96-4ee5-a336-fb48485ca74e"
            },
            "attachments": {}
        },
        {
            "cell_type": "markdown",
            "source": [
                "7. <span style=\"background-color: rgb(255, 255, 255); color: rgb(0, 0, 0); font-family: &quot;Open Sans&quot;, sans-serif; font-size: 14.44px;\">Cassandra CQL Shellben hozza létre a következő táblát:</span>\n",
                "\n",
                "STUDENT(ID, Nev, Teljesitett\\_felevek, Eredmenyek, Nyelvtudas)\n",
                "\n",
                "- Az ID legyen az elsődleges kulcs\n",
                "- A Teljesitett félévek legyen LIST, tartalma egész számok, pl: 1, 2, 3\n",
                "- Az Eredmenyek legyen MAP, tartalma, hogy melyik félévben mennyi volt az átlag, pl: 1: 3,00, 2: 4.55, 3: 4,10\n",
                "- A Nyelvtudas legyen SET, tartalma a nyelvek megnevezése\n",
                "\n",
                "Vigyen fel legalább 2 rekordot!"
            ],
            "metadata": {
                "azdata_cell_guid": "78e83c6c-da6e-4c01-9d8c-642f65406e71"
            },
            "attachments": {}
        },
        {
            "cell_type": "markdown",
            "source": [
                "8. <span style=\"background-color: rgb(255, 255, 255); color: rgb(0, 0, 0); font-family: &quot;Open Sans&quot;, sans-serif; font-size: 14.44px;\">A Neo4j Sandbox-ban vagy a Desktopban jelenítsük meg azon személyeket, akik egy filmben szerepeltek Tom Hanks-sel.</span>\n",
                "\n",
                "- Egy szereplő neve csak egyszer jelenjen meg\n",
                "- Tom Hanks ne legyen benne a listában"
            ],
            "metadata": {
                "azdata_cell_guid": "0db57154-c0e0-4488-a0c8-fa9de8f5d5b9"
            },
            "attachments": {}
        },
        {
            "cell_type": "markdown",
            "source": [
                "MATCH (p:Person {name: 'Tom Hanks'})-\\[:ACTED\\_IN\\]-\\>(movie:Movie)\\<-\\[:ACTED\\_IN\\]-(p2:Person)\n",
                "\n",
                "WHERE p.name \\<\\> p2.name\n",
                "\n",
                "RETURN DISTINCT p2.name AS Actor\n",
                "\n",
                "ORDER BY Actor;"
            ],
            "metadata": {
                "azdata_cell_guid": "56b74e47-ba2a-4944-a03a-c57c6271bb17"
            },
            "attachments": {}
        }
    ]
}